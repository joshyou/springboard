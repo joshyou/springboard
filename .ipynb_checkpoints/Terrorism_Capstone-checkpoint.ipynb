{
 "cells": [
  {
   "cell_type": "markdown",
   "metadata": {},
   "source": [
    "## Capstone Project 1\n",
    "\n",
    "**Predicting the outcome of terrorist attacks**"
   ]
  },
  {
   "cell_type": "markdown",
   "metadata": {},
   "source": [
    "## Data Cleaning"
   ]
  },
  {
   "cell_type": "code",
   "execution_count": 1,
   "metadata": {
    "collapsed": true
   },
   "outputs": [],
   "source": [
    "import pandas as pd\n",
    "import numpy as np"
   ]
  },
  {
   "cell_type": "markdown",
   "metadata": {},
   "source": [
    "First, I used Pandas to read in a dataframe from the CSV files (I split the dataset into two files in order to get past GitHub's 100MB file size limit), selecting the columns I am interested in. I used the missing value codes from the Guidebook to convert missing values to 'NaN'."
   ]
  },
  {
   "cell_type": "code",
   "execution_count": 2,
   "metadata": {},
   "outputs": [
    {
     "name": "stdout",
     "output_type": "stream",
     "text": [
      "0 eventid\n",
      "1 iyear\n",
      "2 imonth\n",
      "3 iday\n",
      "4 approxdate\n",
      "5 extended\n",
      "6 resolution\n",
      "7 country\n",
      "8 country_txt\n",
      "9 region\n",
      "10 region_txt\n",
      "11 provstate\n",
      "12 city\n",
      "13 latitude\n",
      "14 longitude\n",
      "15 specificity\n",
      "16 vicinity\n",
      "17 location\n",
      "18 summary\n",
      "19 crit1\n",
      "20 crit2\n",
      "21 crit3\n",
      "22 doubtterr\n",
      "23 alternative\n",
      "24 alternative_txt\n",
      "25 multiple\n",
      "26 success\n",
      "27 suicide\n",
      "28 attacktype1\n",
      "29 attacktype1_txt\n",
      "30 attacktype2\n",
      "31 attacktype2_txt\n",
      "32 attacktype3\n",
      "33 attacktype3_txt\n",
      "34 targtype1\n",
      "35 targtype1_txt\n",
      "36 targsubtype1\n",
      "37 targsubtype1_txt\n",
      "38 corp1\n",
      "39 target1\n",
      "40 natlty1\n",
      "41 natlty1_txt\n",
      "42 targtype2\n",
      "43 targtype2_txt\n",
      "44 targsubtype2\n",
      "45 targsubtype2_txt\n",
      "46 corp2\n",
      "47 target2\n",
      "48 natlty2\n",
      "49 natlty2_txt\n",
      "50 targtype3\n",
      "51 targtype3_txt\n",
      "52 targsubtype3\n",
      "53 targsubtype3_txt\n",
      "54 corp3\n",
      "55 target3\n",
      "56 natlty3\n",
      "57 natlty3_txt\n",
      "58 gname\n",
      "59 gsubname\n",
      "60 gname2\n",
      "61 gsubname2\n",
      "62 gname3\n",
      "63 gsubname3\n",
      "64 motive\n",
      "65 guncertain1\n",
      "66 guncertain2\n",
      "67 guncertain3\n",
      "68 individual\n",
      "69 nperps\n",
      "70 nperpcap\n",
      "71 claimed\n",
      "72 claimmode\n",
      "73 claimmode_txt\n",
      "74 claim2\n",
      "75 claimmode2\n",
      "76 claimmode2_txt\n",
      "77 claim3\n",
      "78 claimmode3\n",
      "79 claimmode3_txt\n",
      "80 compclaim\n",
      "81 weaptype1\n",
      "82 weaptype1_txt\n",
      "83 weapsubtype1\n",
      "84 weapsubtype1_txt\n",
      "85 weaptype2\n",
      "86 weaptype2_txt\n",
      "87 weapsubtype2\n",
      "88 weapsubtype2_txt\n",
      "89 weaptype3\n",
      "90 weaptype3_txt\n",
      "91 weapsubtype3\n",
      "92 weapsubtype3_txt\n",
      "93 weaptype4\n",
      "94 weaptype4_txt\n",
      "95 weapsubtype4\n",
      "96 weapsubtype4_txt\n",
      "97 weapdetail\n",
      "98 nkill\n",
      "99 nkillus\n",
      "100 nkillter\n",
      "101 nwound\n",
      "102 nwoundus\n",
      "103 nwoundte\n",
      "104 property\n",
      "105 propextent\n",
      "106 propextent_txt\n",
      "107 propvalue\n",
      "108 propcomment\n",
      "109 ishostkid\n",
      "110 nhostkid\n",
      "111 nhostkidus\n",
      "112 nhours\n",
      "113 ndays\n",
      "114 divert\n",
      "115 kidhijcountry\n",
      "116 ransom\n",
      "117 ransomamt\n",
      "118 ransomamtus\n",
      "119 ransompaid\n",
      "120 ransompaidus\n",
      "121 ransomnote\n",
      "122 hostkidoutcome\n",
      "123 hostkidoutcome_txt\n",
      "124 nreleased\n",
      "125 addnotes\n",
      "126 scite1\n",
      "127 scite2\n",
      "128 scite3\n",
      "129 dbsource\n",
      "130 INT_LOG\n",
      "131 INT_IDEO\n",
      "132 INT_MISC\n",
      "133 INT_ANY\n",
      "134 related\n"
     ]
    },
    {
     "name": "stderr",
     "output_type": "stream",
     "text": [
      "C:\\Users\\joshy\\Anaconda3\\lib\\site-packages\\IPython\\core\\interactiveshell.py:2698: DtypeWarning: Columns (4,6,31,33,53,61,62,63,76,79,90,92,94,96,114,115,121) have mixed types. Specify dtype option on import or set low_memory=False.\n",
      "  interactivity=interactivity, compiler=compiler, result=result)\n"
     ]
    }
   ],
   "source": [
    "df = pd.read_csv('global_terrorism1.csv', encoding = 'latin1')\n",
    "for i in range(len(list(df.columns))):\n",
    "    print(i, list(df.columns)[i])"
   ]
  },
  {
   "cell_type": "code",
   "execution_count": 3,
   "metadata": {
    "collapsed": true
   },
   "outputs": [],
   "source": [
    "col_indexes =  [1,2,9,13,14,19,20,21,26,27,28,30,32,34,42,50,68,81,85,89,93,98,101,104,105]\n",
    "\n",
    "terrorism_df1 = pd.read_csv('global_terrorism1.csv', encoding = 'latin1', usecols = col_indexes, \n",
    "                           na_values = {'attacktype1': 9, 'weaptype1': 13, 'targtype1': 20, 'property': -9, 'propextent':4})\n",
    "\n",
    "terrorism_df2 = pd.read_csv('global_terrorism2.csv', encoding = 'latin1', usecols = col_indexes, \n",
    "                           na_values = {'attacktype1': 9, 'weaptype1': 13, 'targtype1': 20, 'property': -9, 'propextent':4})\n",
    "\n",
    "terrorism_df = terrorism_df1.append(terrorism_df2)"
   ]
  },
  {
   "cell_type": "code",
   "execution_count": 4,
   "metadata": {},
   "outputs": [
    {
     "name": "stdout",
     "output_type": "stream",
     "text": [
      "<class 'pandas.core.frame.DataFrame'>\n",
      "Int64Index: 170350 entries, 0 to 59601\n",
      "Data columns (total 25 columns):\n",
      "iyear          170350 non-null int64\n",
      "imonth         170350 non-null int64\n",
      "region         170350 non-null int64\n",
      "latitude       165744 non-null float64\n",
      "longitude      165744 non-null float64\n",
      "crit1          170350 non-null int64\n",
      "crit2          170350 non-null int64\n",
      "crit3          170350 non-null int64\n",
      "success        170350 non-null int64\n",
      "suicide        170350 non-null int64\n",
      "attacktype1    163925 non-null float64\n",
      "attacktype2    5630 non-null float64\n",
      "attacktype3    374 non-null float64\n",
      "targtype1      165477 non-null float64\n",
      "targtype2      10018 non-null float64\n",
      "targtype3      1034 non-null float64\n",
      "individual     170350 non-null int64\n",
      "weaptype1      156498 non-null float64\n",
      "weaptype2      11843 non-null float64\n",
      "weaptype3      1660 non-null float64\n",
      "weaptype4      74 non-null float64\n",
      "nkill          160668 non-null float64\n",
      "nwound         155025 non-null float64\n",
      "property       150771 non-null float64\n",
      "propextent     41479 non-null float64\n",
      "dtypes: float64(16), int64(9)\n",
      "memory usage: 33.8 MB\n"
     ]
    }
   ],
   "source": [
    "terrorism_df.info()"
   ]
  },
  {
   "cell_type": "markdown",
   "metadata": {},
   "source": [
    "The dataframe has missing values for many columns. I exclude rows with missing values for some columns. Note that a few features, such as attack type, are represented by multiple columns (since an attack can be classified as multiple types, use multiple weapons, etc.). Because I'll convert all of these columns to dummy variables, I only need to filter by the first column - if 'attacktype1' is missing for a row, then 'attacktype2' and 'attacktype 3' will also be missing, and so on for the other columns. I also only filter for missing values in columns that I ended up using in my analysis."
   ]
  },
  {
   "cell_type": "code",
   "execution_count": 5,
   "metadata": {},
   "outputs": [
    {
     "name": "stdout",
     "output_type": "stream",
     "text": [
      "<class 'pandas.core.frame.DataFrame'>\n",
      "RangeIndex: 140928 entries, 0 to 140927\n",
      "Data columns (total 25 columns):\n",
      "iyear          140928 non-null int64\n",
      "imonth         140928 non-null int64\n",
      "region         140928 non-null int64\n",
      "latitude       140928 non-null float64\n",
      "longitude      140928 non-null float64\n",
      "crit1          140928 non-null int64\n",
      "crit2          140928 non-null int64\n",
      "crit3          140928 non-null int64\n",
      "success        140928 non-null int64\n",
      "suicide        140928 non-null int64\n",
      "attacktype1    140928 non-null float64\n",
      "attacktype2    4907 non-null float64\n",
      "attacktype3    337 non-null float64\n",
      "targtype1      140928 non-null float64\n",
      "targtype2      8843 non-null float64\n",
      "targtype3      890 non-null float64\n",
      "individual     140928 non-null int64\n",
      "weaptype1      140928 non-null float64\n",
      "weaptype2      10587 non-null float64\n",
      "weaptype3      1515 non-null float64\n",
      "weaptype4      63 non-null float64\n",
      "nkill          140928 non-null float64\n",
      "nwound         135589 non-null float64\n",
      "property       123859 non-null float64\n",
      "propextent     38040 non-null float64\n",
      "dtypes: float64(16), int64(9)\n",
      "memory usage: 26.9 MB\n"
     ]
    }
   ],
   "source": [
    "#Remove rows with missing values\n",
    "filter_cols = ['attacktype1', 'targtype1', 'weaptype1', 'nkill', 'latitude', 'longitude']\n",
    "\n",
    "cleaned_df = terrorism_df.dropna(axis = 0, how = 'any', subset = filter_cols)\n",
    "cleaned_df = cleaned_df.reset_index(drop=True)\n",
    "cleaned_df.info()"
   ]
  },
  {
   "cell_type": "markdown",
   "metadata": {},
   "source": [
    "Next, I convert the categorical, non-binary columns - region, attack type, weapon type, and target type - into dummy variables. For the features with multiple columns, such as attack type, a column representing one attack type has a value of 1 if 'attacktype1', 'attacktype2', or 'attacktype3' have a value corresponding to that type. For each feature, I leave out one value that I do not convert to a dummy column, as the last column for a set of dummy variables is redundant. In the case of weapon type and target type, there are codes corresponding to \"other\", so I leave out that value."
   ]
  },
  {
   "cell_type": "code",
   "execution_count": 6,
   "metadata": {
    "collapsed": true
   },
   "outputs": [],
   "source": [
    "region_dict = {1: 'North America', 2: 'Central America', 3: 'South America', 4: 'East Asia', 5: 'SE Asia', 6: 'South Asia', \n",
    "7: 'Central Asia', 8: 'West Europe',9: 'East Europe',10: 'ME and North Africa', \n",
    "11: 'Sub-Saharan Africa', 12: 'Oceania'}\n",
    "\n",
    "#leave one out\n",
    "for i in range(1,12):\n",
    "    cleaned_df[region_dict[i]] = (cleaned_df['region'] == i).astype(int)\n",
    "    \n",
    "type_dict = {1:'Assassination', 2:'Armed Assault',\n",
    "            3:'Bombing', 4:'Hijacking', 5:'Hostage (Barricade)',\n",
    "             6:'Kidnapping', 7:'Infrastructure', 8:'Unarmed Assault'}\n",
    "\n",
    "for i in range(1,8):\n",
    "    cleaned_df[type_dict[i]] = ((cleaned_df['attacktype1'] == i) | (cleaned_df['attacktype2'] == i)\n",
    "                                | (cleaned_df['attacktype3'] == i)).astype(int)\n",
    "    \n",
    "weapon_dict = {1:'Biological',2:'Chemical',3:'Radiological',\n",
    "            4:'Nuclear',5:'Firearms',6:'Explosives',\n",
    "            7:'Fake Weapon', 8:'Incendiary', 9:'Melee',\n",
    "            10:'Vehicle',11:'Sabotage Equipment', 12:'Other'}\n",
    "\n",
    "for i in range(1,12):\n",
    "    cleaned_df[weapon_dict[i]] = ((cleaned_df['weaptype1'] == i) | (cleaned_df['weaptype2'] == i) \n",
    "                                   | (cleaned_df['weaptype3'] == i) | (cleaned_df['weaptype4'] == i)).astype(int)\n",
    "    \n",
    "target_dict = {1:'Business', 2:'Government', 3:'Police',4:'Military',5:'Abortion',6:'Aviation',7:'Diplomatic',8:'Education',9:'FoodWater',10:'Media',\n",
    "              11:'Maritime', 12:'NGO',13:'Other',14:'Private',15:'Religious',16:'Telecommunication',\n",
    "              17:'Terrorists', 18:'Tourists', 19:'Transportation',21:'Utilities',22:'Violent Parties'}\n",
    "\n",
    "target_codes = [i for i in range(1,23) if i != 13 and i != 20]\n",
    "\n",
    "for i in target_codes:\n",
    "    cleaned_df[target_dict[i]] = ((cleaned_df['targtype1'] == i) | (cleaned_df['targtype2'] == i)\n",
    "                                | (cleaned_df['targtype3'] == i)).astype(int)"
   ]
  },
  {
   "cell_type": "markdown",
   "metadata": {},
   "source": [
    "Finally, I export the cleaned dataframe to a new CSV file."
   ]
  },
  {
   "cell_type": "code",
   "execution_count": 7,
   "metadata": {
    "collapsed": true
   },
   "outputs": [],
   "source": [
    "cleaned_df.to_csv('cleaned.csv')"
   ]
  },
  {
   "cell_type": "markdown",
   "metadata": {},
   "source": [
    "## Exploratory Data Analysis"
   ]
  },
  {
   "cell_type": "code",
   "execution_count": null,
   "metadata": {
    "collapsed": true
   },
   "outputs": [],
   "source": []
  }
 ],
 "metadata": {
  "kernelspec": {
   "display_name": "Python 3",
   "language": "python",
   "name": "python3"
  },
  "language_info": {
   "codemirror_mode": {
    "name": "ipython",
    "version": 3
   },
   "file_extension": ".py",
   "mimetype": "text/x-python",
   "name": "python",
   "nbconvert_exporter": "python",
   "pygments_lexer": "ipython3",
   "version": "3.6.3"
  }
 },
 "nbformat": 4,
 "nbformat_minor": 2
}
