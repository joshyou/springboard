{
 "cells": [
  {
   "cell_type": "markdown",
   "metadata": {
    "collapsed": true
   },
   "source": [
    "**Progress summary:**\n",
    "\n",
    "\n",
    "Revisited data cleaning and turned weapon type, target type, attack type into binary variables. This is more meaningful because some attacks have multiple values for these categories (multiple weapons used, etc). Additionally, they need to be binarized for SVM to treat them correctly (https://www.quora.com/How-can-l-apply-an-SVM-for-categorical-data). However, doing this did not appear to improve performance. \n",
    "\n",
    "**to do/questions:**\n",
    "    \n",
    "how to run SVC faster - is using a smaller training set reasonable\n",
    "\n",
    "reporting and interpreting results"
   ]
  },
  {
   "cell_type": "code",
   "execution_count": 2,
   "metadata": {
    "collapsed": true
   },
   "outputs": [],
   "source": [
    "import pandas as pd\n",
    "import numpy as np\n",
    "import matplotlib.pyplot as plt\n",
    "from sklearn.linear_model import LogisticRegression\n",
    "from sklearn.ensemble import RandomForestClassifier\n",
    "from sklearn.svm import SVC\n",
    "from sklearn.model_selection import train_test_split\n",
    "from sklearn.model_selection import KFold\n",
    "from sklearn.model_selection import GridSearchCV\n",
    "from sklearn.metrics import confusion_matrix\n",
    "from sklearn.metrics import classification_report\n",
    "from sklearn.metrics import accuracy_score\n",
    "from sklearn.metrics import make_scorer\n",
    "from sklearn.metrics import f1_score\n",
    "\n",
    "#does cross-validation and computes average score for the 5 folds\n",
    "def cv_score(clf, x, y, score_func=accuracy_score):\n",
    "    result = 0\n",
    "    nfold = 5\n",
    "    for train, test in KFold(nfold, random_state = 42).split(x): # split data into train/test groups, 5 times\n",
    "        clf.fit(x[train], y.iloc[train]) # fit\n",
    "        result += score_func(clf.predict(x[test]), y.iloc[test]) # evaluate score function on held-out data\n",
    "    return result / nfold # average"
   ]
  },
  {
   "cell_type": "code",
   "execution_count": 3,
   "metadata": {
    "collapsed": true
   },
   "outputs": [],
   "source": [
    "df = pd.read_csv('cleaned.csv')\n",
    "df['fatal'] = df['nkill'] > 0"
   ]
  },
  {
   "cell_type": "code",
   "execution_count": 12,
   "metadata": {},
   "outputs": [
    {
     "name": "stdout",
     "output_type": "stream",
     "text": [
      "<class 'numpy.ndarray'> <class 'pandas.core.series.Series'>\n"
     ]
    }
   ],
   "source": [
    "explanatory_vars = ['region','crit1','crit2','crit3','suicide','attacktype1','targtype1','individual','weaptype1', 'imonth']\n",
    "\n",
    "Xtrain, Xtest, ytrain, ytest = train_test_split(df[explanatory_vars].values, df['success'], random_state = 42, test_size = 0.2)\n",
    "\n",
    "Xtraining, Xholdout, ytraining, yholdout = train_test_split(Xtrain, ytrain, random_state = 42, test_size = 0.2)\n",
    "\n",
    "print(type(Xtrain), type(ytrain))"
   ]
  },
  {
   "cell_type": "markdown",
   "metadata": {},
   "source": [
    "Using logistic regression to predict success:"
   ]
  },
  {
   "cell_type": "code",
   "execution_count": 82,
   "metadata": {},
   "outputs": [
    {
     "name": "stdout",
     "output_type": "stream",
     "text": [
      "0.899305413687\n"
     ]
    }
   ],
   "source": [
    "Log_clf = LogisticRegression()\n",
    "\n",
    "#ytrain = ytrain.reset_index()\n",
    "\n",
    "print(cv_score(Log_clf, Xtrain, ytrain))"
   ]
  },
  {
   "cell_type": "code",
   "execution_count": 73,
   "metadata": {},
   "outputs": [
    {
     "name": "stdout",
     "output_type": "stream",
     "text": [
      "[[17591     0]\n",
      " [ 1989     0]]\n",
      "             precision    recall  f1-score   support\n",
      "\n",
      "          0       0.00      0.00      0.00      1989\n",
      "          1       0.90      1.00      0.95     17591\n",
      "\n",
      "avg / total       0.81      0.90      0.85     19580\n",
      "\n"
     ]
    },
    {
     "name": "stderr",
     "output_type": "stream",
     "text": [
      "C:\\Users\\joshy\\Anaconda3\\lib\\site-packages\\sklearn\\metrics\\classification.py:1135: UndefinedMetricWarning: Precision and F-score are ill-defined and being set to 0.0 in labels with no predicted samples.\n",
      "  'precision', 'predicted', average, warn_for)\n"
     ]
    }
   ],
   "source": [
    "Log_clf.fit(Xtraining, ytraining)\n",
    "print(confusion_matrix(yholdout, Log_clf.predict(Xholdout), labels = [1,0]))\n",
    "print(classification_report(yholdout, Log_clf.predict(Xholdout)))"
   ]
  },
  {
   "cell_type": "code",
   "execution_count": 22,
   "metadata": {},
   "outputs": [
    {
     "name": "stdout",
     "output_type": "stream",
     "text": [
      "19580 19580\n"
     ]
    }
   ],
   "source": [
    "print(len(Log_clf.predict(Xholdout)), np.sum(Log_clf.predict(Xholdout)))"
   ]
  },
  {
   "cell_type": "markdown",
   "metadata": {},
   "source": [
    "The logistic regression classifies every attack as a success. The accuracy score, and unweighted F1 score, are technically high but this doesn't seem very meaningful. Now I'll try regularization:"
   ]
  },
  {
   "cell_type": "code",
   "execution_count": 70,
   "metadata": {},
   "outputs": [
    {
     "name": "stdout",
     "output_type": "stream",
     "text": [
      "0.001\n",
      "[[17591     0]\n",
      " [ 1989     0]]\n",
      "0.1\n",
      "[[17591     0]\n",
      " [ 1989     0]]\n",
      "1\n",
      "[[17591     0]\n",
      " [ 1989     0]]\n",
      "10\n",
      "[[17591     0]\n",
      " [ 1989     0]]\n",
      "100\n",
      "[[17591     0]\n",
      " [ 1989     0]]\n"
     ]
    }
   ],
   "source": [
    "Cs = [0.001, 0.1, 1, 10, 100]\n",
    "\n",
    "for c in Cs:\n",
    "    reg_clf = LogisticRegression(C = c)\n",
    "    reg_clf.fit(Xtraining, ytraining)\n",
    "    print(c)\n",
    "    print(confusion_matrix(yholdout, reg_clf.predict(Xholdout), labels = [1,0]))\n",
    "\n",
    "#for every regularization parameter, still predicts everything as success"
   ]
  },
  {
   "cell_type": "markdown",
   "metadata": {},
   "source": [
    "The classifier still classifies everything as a success. Not sure how to tune logistic regression to try to predict negatives.\n",
    "\n",
    "Next, random forests:"
   ]
  },
  {
   "cell_type": "code",
   "execution_count": 106,
   "metadata": {},
   "outputs": [
    {
     "name": "stdout",
     "output_type": "stream",
     "text": [
      "[[17427   164]\n",
      " [ 1722   267]]\n",
      "0.948666303756\n"
     ]
    }
   ],
   "source": [
    "Rf_clf = RandomForestClassifier(random_state = 42)\n",
    "\n",
    "Rf_clf.fit(Xtraining, ytraining)\n",
    "\n",
    "print(confusion_matrix(yholdout, Rf_clf.predict(Xholdout),labels=[1,0]))\n",
    "\n",
    "print(f1_score(yholdout, Rf_clf.predict(Xholdout)))"
   ]
  },
  {
   "cell_type": "code",
   "execution_count": 83,
   "metadata": {},
   "outputs": [
    {
     "name": "stdout",
     "output_type": "stream",
     "text": [
      "             precision    recall  f1-score   support\n",
      "\n",
      "          0       0.60      0.13      0.22      1989\n",
      "          1       0.91      0.99      0.95     17591\n",
      "\n",
      "avg / total       0.88      0.90      0.87     19580\n",
      "\n",
      "<class 'str'>\n"
     ]
    }
   ],
   "source": [
    "print(classification_report(yholdout, Rf_clf.predict(Xholdout)))\n",
    "print(type(classification_report(yholdout, Rf_clf.predict(Xholdout))))"
   ]
  },
  {
   "cell_type": "markdown",
   "metadata": {},
   "source": [
    "The random forest predicts some failures, but the recall is still very low (0.13) for unsuccessful attacks."
   ]
  },
  {
   "cell_type": "code",
   "execution_count": 88,
   "metadata": {},
   "outputs": [
    {
     "name": "stdout",
     "output_type": "stream",
     "text": [
      "{'max_depth': 10, 'min_impurity_decrease': 1e-06}\n"
     ]
    }
   ],
   "source": [
    "param_grid = {'max_depth':[3,5,10,20,100], 'min_impurity_decrease':[1e-7,1e-6,1e-5, 1e-4, 1e-3, 1e-2]}\n",
    "scorer = make_scorer(f1_score)\n",
    "Rf_clf = RandomForestClassifier()\n",
    "Rf_clf_cv = GridSearchCV(Rf_clf, param_grid, cv = 5, scoring = scorer)\n",
    "Rf_clf_cv.fit(Xtrain, ytrain)\n",
    "\n",
    "print(Rf_clf_cv.best_params_)"
   ]
  },
  {
   "cell_type": "code",
   "execution_count": 90,
   "metadata": {},
   "outputs": [
    {
     "name": "stdout",
     "output_type": "stream",
     "text": [
      "             precision    recall  f1-score   support\n",
      "\n",
      "          0       0.68      0.12      0.20      9858\n",
      "          1       0.91      0.99      0.95     88042\n",
      "\n",
      "avg / total       0.89      0.91      0.87     97900\n",
      "\n"
     ]
    }
   ],
   "source": [
    "Rf_clf_tuned = RandomForestClassifier(max_depth = 10, min_impurity_decrease = 1e-6)\n",
    "\n",
    "Rf_clf_tuned.fit(Xtrain,ytrain)\n",
    "print(classification_report(ytrain, Rf_clf_tuned.predict(Xtrain)))"
   ]
  },
  {
   "cell_type": "markdown",
   "metadata": {},
   "source": [
    "Tuning does not make much of a difference.\n",
    "\n",
    "## Classifing fatality\n",
    "\n",
    "Moving to fatality rate, which is closer to 50/50 which makes interpreting metrics easier"
   ]
  },
  {
   "cell_type": "code",
   "execution_count": 16,
   "metadata": {},
   "outputs": [
    {
     "name": "stdout",
     "output_type": "stream",
     "text": [
      "0.453046348957\n"
     ]
    }
   ],
   "source": [
    "print(df['fatal'].sum()/df['fatal'].count())"
   ]
  },
  {
   "cell_type": "code",
   "execution_count": 17,
   "metadata": {},
   "outputs": [
    {
     "name": "stdout",
     "output_type": "stream",
     "text": [
      "0.738764044944\n"
     ]
    }
   ],
   "source": [
    "Xtrain_f, Xtest_f, ytrain_f, ytest_f = train_test_split(df[explanatory_vars].values, df['fatal'], random_state = 42, test_size = 0.2)\n",
    "\n",
    "Log_clf_f = LogisticRegression()\n",
    "\n",
    "print(cv_score(Log_clf_f, Xtrain_f, ytrain_f))"
   ]
  },
  {
   "cell_type": "markdown",
   "metadata": {},
   "source": [
    "average accuracy score of 0.7387 after cross-validation"
   ]
  },
  {
   "cell_type": "code",
   "execution_count": 20,
   "metadata": {},
   "outputs": [
    {
     "name": "stdout",
     "output_type": "stream",
     "text": [
      "             precision    recall  f1-score   support\n",
      "\n",
      "      False       0.74      0.82      0.77     53654\n",
      "       True       0.74      0.64      0.69     44246\n",
      "\n",
      "avg / total       0.74      0.74      0.74     97900\n",
      "\n",
      "0.739039836568\n"
     ]
    }
   ],
   "source": [
    "Log_clf_f = LogisticRegression()\n",
    "Log_clf_f.fit(Xtrain_f, ytrain_f)\n",
    "print(classification_report(ytrain_f, Log_clf_f.predict(Xtrain_f)))\n",
    "print(accuracy_score(ytrain_f, Log_clf_f.predict(Xtrain_f)))"
   ]
  },
  {
   "cell_type": "markdown",
   "metadata": {},
   "source": [
    "Accuracy score on training data (0.739) is approximately the same as average cross-validation score, so there is no overfitting even without regularization. F1-score is somewhat better for non-fatal attacks (0.77 vs 0.69)"
   ]
  },
  {
   "cell_type": "code",
   "execution_count": 21,
   "metadata": {},
   "outputs": [
    {
     "name": "stdout",
     "output_type": "stream",
     "text": [
      "0.760847803882\n"
     ]
    }
   ],
   "source": [
    "Rf_clf_f = RandomForestClassifier(random_state = 42)\n",
    "\n",
    "print(cv_score(Rf_clf_f, Xtrain_f, ytrain_f))"
   ]
  },
  {
   "cell_type": "code",
   "execution_count": 22,
   "metadata": {},
   "outputs": [
    {
     "name": "stdout",
     "output_type": "stream",
     "text": [
      "             precision    recall  f1-score   support\n",
      "\n",
      "      False       0.81      0.81      0.81     53654\n",
      "       True       0.77      0.78      0.77     44246\n",
      "\n",
      "avg / total       0.79      0.79      0.79     97900\n",
      "\n",
      "0.792042900919\n"
     ]
    }
   ],
   "source": [
    "print(classification_report(ytrain_f, Rf_clf_f.predict(Xtrain_f)))\n",
    "print(accuracy_score(ytrain_f, Rf_clf_f.predict(Xtrain_f)))"
   ]
  },
  {
   "cell_type": "markdown",
   "metadata": {},
   "source": [
    "Average cross-validated score (0.76) is only slightly worse than the accuracy on training data (0.792), so there is only a little overfitting."
   ]
  },
  {
   "cell_type": "code",
   "execution_count": 26,
   "metadata": {},
   "outputs": [
    {
     "name": "stdout",
     "output_type": "stream",
     "text": [
      "{'max_depth': 100, 'min_impurity_decrease': 1e-06}\n"
     ]
    }
   ],
   "source": [
    "param_grid = {'max_depth':[10,20,100,500,1000], 'min_impurity_decrease':[1e-9, 1e-8, 1e-7,1e-6,1e-5, 1e-4, 1e-3, 1e-2]}\n",
    "scorer = make_scorer(f1_score)\n",
    "Rf_clf_f = RandomForestClassifier()\n",
    "Rf_clf_fcv = GridSearchCV(Rf_clf_f, param_grid, cv = 5, scoring = scorer)\n",
    "Rf_clf_fcv.fit(Xtrain_f, ytrain_f)\n",
    "\n",
    "print(Rf_clf_fcv.best_params_)"
   ]
  },
  {
   "cell_type": "markdown",
   "metadata": {},
   "source": [
    "best params: max_depth 100, min_impurity_decrease 1e-06"
   ]
  },
  {
   "cell_type": "code",
   "execution_count": 27,
   "metadata": {},
   "outputs": [
    {
     "name": "stdout",
     "output_type": "stream",
     "text": [
      "0.766894790603\n"
     ]
    }
   ],
   "source": [
    "Rf_clf_f_tuned = RandomForestClassifier(max_depth = 100, min_impurity_decrease = 1e-06)\n",
    "\n",
    "Rf_clf_f_tuned.fit(Xtrain_f,ytrain_f)\n",
    "\n",
    "print(cv_score(Rf_clf_f_tuned, Xtrain_f, ytrain_f))"
   ]
  },
  {
   "cell_type": "markdown",
   "metadata": {},
   "source": [
    "Score after tuning is 0.767, which is a very small improvement over the untuned model."
   ]
  },
  {
   "cell_type": "markdown",
   "metadata": {},
   "source": [
    "Support vector machines:"
   ]
  },
  {
   "cell_type": "code",
   "execution_count": 108,
   "metadata": {},
   "outputs": [
    {
     "name": "stdout",
     "output_type": "stream",
     "text": [
      "0.763258426966\n"
     ]
    }
   ],
   "source": [
    "Sv_clf_f = SVC()\n",
    "\n",
    "Sv_clf_f.fit(Xtrain_f, ytrain_f)\n",
    "\n",
    "print(accuracy_score(ytrain_f, Sv_clf_f.predict(Xtrain_f)))\n",
    "#accuracy is 0.76326. This takes a long time (>10 minutes) to run"
   ]
  },
  {
   "cell_type": "code",
   "execution_count": null,
   "metadata": {
    "collapsed": true
   },
   "outputs": [],
   "source": [
    "from sklearn.svm import SVC\n",
    "\n",
    "Sv_clf_f = SVC()\n",
    "\n",
    "#this takes forever...\n",
    "print(cv_score(Sv_clf_f, Xtrain_f, ytrain_f))"
   ]
  },
  {
   "cell_type": "markdown",
   "metadata": {},
   "source": [
    "potential variables to add: country, target subtype, number of perpetrators, "
   ]
  },
  {
   "cell_type": "markdown",
   "metadata": {},
   "source": [
    "## After Binarization"
   ]
  },
  {
   "cell_type": "code",
   "execution_count": 4,
   "metadata": {
    "collapsed": true
   },
   "outputs": [],
   "source": [
    "df = pd.read_csv('cleaned.csv')\n",
    "df['fatal'] = df['nkill'] > 0"
   ]
  },
  {
   "cell_type": "code",
   "execution_count": 5,
   "metadata": {
    "collapsed": true
   },
   "outputs": [],
   "source": [
    "cols = list(df.columns.values)"
   ]
  },
  {
   "cell_type": "code",
   "execution_count": 6,
   "metadata": {},
   "outputs": [
    {
     "name": "stdout",
     "output_type": "stream",
     "text": [
      "['region', 'crit1', 'crit2', 'crit3', 'suicide', 'individual', 'North America', 'Central America', 'South America', 'East Asia', 'SE Asia', 'South Asia', 'Central Asia', 'West Europe', 'East Europe', 'ME and North Africa', 'Sub-Saharan Africa', 'Biological', 'Chemical', 'Radiological', 'Nuclear', 'Firearms', 'Explosives', 'Fake Weapon', 'Incendiary', 'Melee', 'Vehicle', 'Sabotage Equipment', 'Assassination', 'Armed Assault', 'Bombing', 'Hijacking', 'Hostage (Barricade)', 'Kidnapping', 'Infrastructure', 'Business', 'Government', 'Police', 'Military', 'Abortion', 'Aviation', 'Diplomatic', 'Education', 'FoodWater', 'Media', 'Maritime', 'NGO', 'Private', 'Religious', 'Telecommunication', 'Terrorists', 'Tourists', 'Transportation', 'Utilities', 'Violent Parties']\n"
     ]
    }
   ],
   "source": [
    "explanatory_vars = cols[2:6] + [cols[7]] + [cols[14]] + cols[23:72]\n",
    "\n",
    "print(explanatory_vars)"
   ]
  },
  {
   "cell_type": "code",
   "execution_count": 7,
   "metadata": {},
   "outputs": [],
   "source": [
    "Xtrain_f, Xtest_f, ytrain_f, ytest_f = train_test_split(df[explanatory_vars].values, df['fatal'], random_state = 42, test_size = 0.2)"
   ]
  },
  {
   "cell_type": "code",
   "execution_count": 8,
   "metadata": {},
   "outputs": [
    {
     "name": "stdout",
     "output_type": "stream",
     "text": [
      "0.766016343207\n"
     ]
    }
   ],
   "source": [
    "Log_clf_f = LogisticRegression()\n",
    "\n",
    "print(cv_score(Log_clf_f, Xtrain_f, ytrain_f))"
   ]
  },
  {
   "cell_type": "code",
   "execution_count": 12,
   "metadata": {},
   "outputs": [
    {
     "name": "stdout",
     "output_type": "stream",
     "text": [
      "0.750275791624\n",
      "0.76544433095\n",
      "0.766016343207\n",
      "0.766118488253\n",
      "0.766138917263\n",
      "0.766118488253\n"
     ]
    }
   ],
   "source": [
    "Cs = [0.001, 0.1, 1, 10, 100, 1000]\n",
    "\n",
    "for c in Cs:\n",
    "    reg_clf = LogisticRegression(C = c)\n",
    "    reg_clf.fit(Xtrain_f, ytrain_f)\n",
    "    print(cv_score(reg_clf, Xtrain_f, ytrain_f))"
   ]
  },
  {
   "cell_type": "code",
   "execution_count": 19,
   "metadata": {},
   "outputs": [
    {
     "name": "stdout",
     "output_type": "stream",
     "text": [
      "0.769397344229\n"
     ]
    }
   ],
   "source": [
    "Rf_clf_f = RandomForestClassifier(random_state = 42)\n",
    "\n",
    "print(cv_score(Rf_clf_f, Xtrain_f, ytrain_f))"
   ]
  },
  {
   "cell_type": "code",
   "execution_count": 20,
   "metadata": {},
   "outputs": [
    {
     "name": "stdout",
     "output_type": "stream",
     "text": [
      "0.784841675179\n"
     ]
    }
   ],
   "source": [
    "print(accuracy_score(ytrain_f, Rf_clf_f.predict(Xtrain_f)))"
   ]
  },
  {
   "cell_type": "code",
   "execution_count": 31,
   "metadata": {
    "collapsed": true
   },
   "outputs": [],
   "source": [
    "Xtrain_f, Xtest_f, ytrain_f, ytest_f = train_test_split(df[explanatory_vars].values, df['fatal'], random_state = 42, test_size = 0.7)"
   ]
  },
  {
   "cell_type": "code",
   "execution_count": 32,
   "metadata": {},
   "outputs": [
    {
     "name": "stdout",
     "output_type": "stream",
     "text": [
      "0.75841686642\n"
     ]
    }
   ],
   "source": [
    "Sv_clf_f = SVC(kernel = 'linear')\n",
    "\n",
    "Sv_clf_f.fit(Xtrain_f, ytrain_f)\n",
    "\n",
    "print(accuracy_score(ytrain_f, Sv_clf_f.predict(Xtrain_f)))"
   ]
  },
  {
   "cell_type": "markdown",
   "metadata": {},
   "source": [
    "Training on 30% of the data with a linear kernel, I get accuracy of 0.758 on the training data."
   ]
  },
  {
   "cell_type": "code",
   "execution_count": 33,
   "metadata": {},
   "outputs": [
    {
     "name": "stdout",
     "output_type": "stream",
     "text": [
      "0.759070603617\n"
     ]
    }
   ],
   "source": [
    "Sv_clf_f = SVC()\n",
    "\n",
    "Sv_clf_f.fit(Xtrain_f, ytrain_f)\n",
    "\n",
    "print(accuracy_score(ytrain_f, Sv_clf_f.predict(Xtrain_f)))"
   ]
  },
  {
   "cell_type": "markdown",
   "metadata": {},
   "source": [
    "With rbf kernel (sklearn default), accuracy is 0.759 on training data"
   ]
  },
  {
   "cell_type": "code",
   "execution_count": 35,
   "metadata": {},
   "outputs": [
    {
     "name": "stdout",
     "output_type": "stream",
     "text": [
      "0.757463648466\n"
     ]
    }
   ],
   "source": [
    "Sv_clf_f = SVC(kernel = 'linear')\n",
    "print(cv_score(Sv_clf_f, Xtrain_f, ytrain_f))"
   ]
  },
  {
   "cell_type": "markdown",
   "metadata": {},
   "source": [
    "Cross-validated score for a linear kernel is 0.7574, indicating low overfitting."
   ]
  },
  {
   "cell_type": "code",
   "execution_count": 1,
   "metadata": {
    "collapsed": true
   },
   "outputs": [],
   "source": [
    "from sklearn.decomposition import PCA"
   ]
  },
  {
   "cell_type": "code",
   "execution_count": 9,
   "metadata": {},
   "outputs": [
    {
     "data": {
      "text/plain": [
       "PCA(copy=True, iterated_power='auto', n_components=0.95, random_state=None,\n",
       "  svd_solver='auto', tol=0.0, whiten=False)"
      ]
     },
     "execution_count": 9,
     "metadata": {},
     "output_type": "execute_result"
    }
   ],
   "source": [
    "pca = PCA(0.95)\n",
    "#model.fit_transform(samples)\n",
    "pca.fit(Xtrain_f)"
   ]
  },
  {
   "cell_type": "code",
   "execution_count": 11,
   "metadata": {},
   "outputs": [
    {
     "name": "stdout",
     "output_type": "stream",
     "text": [
      "13\n"
     ]
    }
   ],
   "source": [
    "print(pca.n_components_)"
   ]
  },
  {
   "cell_type": "code",
   "execution_count": 12,
   "metadata": {},
   "outputs": [
    {
     "name": "stdout",
     "output_type": "stream",
     "text": [
      "0.735097037794\n"
     ]
    }
   ],
   "source": [
    "pca_Xtrain_f = pca.transform(Xtrain_f)\n",
    "\n",
    "Log_clf_f = LogisticRegression()\n",
    "print(cv_score(Log_clf_f, pca_Xtrain_f, ytrain_f))"
   ]
  },
  {
   "cell_type": "markdown",
   "metadata": {},
   "source": [
    "After PCA, cross-validated score went down to 0.735 (from 0.766 before PCA)"
   ]
  },
  {
   "cell_type": "code",
   "execution_count": 13,
   "metadata": {},
   "outputs": [
    {
     "name": "stdout",
     "output_type": "stream",
     "text": [
      "0.751756894791\n"
     ]
    }
   ],
   "source": [
    "Sv_clf_f = SVC()\n",
    "Sv_clf_f.fit(pca_Xtrain_f, ytrain_f)\n",
    "\n",
    "print(accuracy_score(ytrain_f, Sv_clf_f.predict(pca_Xtrain_f)))"
   ]
  },
  {
   "cell_type": "markdown",
   "metadata": {},
   "source": [
    "run time 20 min, accuracy on training data = 0.751756894791"
   ]
  },
  {
   "cell_type": "code",
   "execution_count": 15,
   "metadata": {},
   "outputs": [
    {
     "data": {
      "text/plain": [
       "LogisticRegression(C=1.0, class_weight=None, dual=False, fit_intercept=True,\n",
       "          intercept_scaling=1, max_iter=100, multi_class='ovr', n_jobs=1,\n",
       "          penalty='l2', random_state=None, solver='liblinear', tol=0.0001,\n",
       "          verbose=0, warm_start=False)"
      ]
     },
     "execution_count": 15,
     "metadata": {},
     "output_type": "execute_result"
    }
   ],
   "source": [
    "Log_clf_f = LogisticRegression()\n",
    "Log_clf_f.fit(Xtrain_f, ytrain_f)"
   ]
  },
  {
   "cell_type": "code",
   "execution_count": 20,
   "metadata": {},
   "outputs": [
    {
     "name": "stdout",
     "output_type": "stream",
     "text": [
      "<class 'numpy.ndarray'>\n",
      "<class 'pandas.core.series.Series'>\n",
      "<class 'numpy.ndarray'>\n"
     ]
    }
   ],
   "source": [
    "print(type(Log_clf_f.predict(Xtrain_f)))\n",
    "print(type(ytrain_f))\n",
    "print(type(Xtrain_f))"
   ]
  },
  {
   "cell_type": "code",
   "execution_count": 28,
   "metadata": {},
   "outputs": [
    {
     "name": "stdout",
     "output_type": "stream",
     "text": [
      "22920\n",
      "0.7658835546475996\n",
      "0.765883554648\n"
     ]
    }
   ],
   "source": [
    "wrong_idx = []\n",
    "predictions = Log_clf_f.predict(Xtrain_f)\n",
    "count = 0\n",
    "for i, v in ytrain_f.iteritems():\n",
    "    if v != predictions[count]:\n",
    "        wrong_idx.append(i)\n",
    "    count += 1\n",
    "print(len(wrong_idx))\n",
    "print(1 - len(wrong_idx)/len(ytrain_f))\n",
    "print(accuracy_score(ytrain_f, Log_clf_f.predict(Xtrain_f)))"
   ]
  },
  {
   "cell_type": "code",
   "execution_count": 31,
   "metadata": {},
   "outputs": [
    {
     "data": {
      "text/html": [
       "<div>\n",
       "<style>\n",
       "    .dataframe thead tr:only-child th {\n",
       "        text-align: right;\n",
       "    }\n",
       "\n",
       "    .dataframe thead th {\n",
       "        text-align: left;\n",
       "    }\n",
       "\n",
       "    .dataframe tbody tr th {\n",
       "        vertical-align: top;\n",
       "    }\n",
       "</style>\n",
       "<table border=\"1\" class=\"dataframe\">\n",
       "  <thead>\n",
       "    <tr style=\"text-align: right;\">\n",
       "      <th></th>\n",
       "      <th>iyear</th>\n",
       "      <th>imonth</th>\n",
       "      <th>region</th>\n",
       "      <th>crit1</th>\n",
       "      <th>crit2</th>\n",
       "      <th>crit3</th>\n",
       "      <th>success</th>\n",
       "      <th>suicide</th>\n",
       "      <th>attacktype1</th>\n",
       "      <th>attacktype2</th>\n",
       "      <th>...</th>\n",
       "      <th>Maritime</th>\n",
       "      <th>NGO</th>\n",
       "      <th>Private</th>\n",
       "      <th>Religious</th>\n",
       "      <th>Telecommunication</th>\n",
       "      <th>Terrorists</th>\n",
       "      <th>Tourists</th>\n",
       "      <th>Transportation</th>\n",
       "      <th>Utilities</th>\n",
       "      <th>Violent Parties</th>\n",
       "    </tr>\n",
       "  </thead>\n",
       "  <tbody>\n",
       "    <tr>\n",
       "      <th>count</th>\n",
       "      <td>22920.000000</td>\n",
       "      <td>22920.000000</td>\n",
       "      <td>22920.000000</td>\n",
       "      <td>22920.000000</td>\n",
       "      <td>22920.000000</td>\n",
       "      <td>22920.00000</td>\n",
       "      <td>22920.000000</td>\n",
       "      <td>22920.000000</td>\n",
       "      <td>22920.000000</td>\n",
       "      <td>678.000000</td>\n",
       "      <td>...</td>\n",
       "      <td>22920.000000</td>\n",
       "      <td>22920.000000</td>\n",
       "      <td>22920.000000</td>\n",
       "      <td>22920.000000</td>\n",
       "      <td>22920.000000</td>\n",
       "      <td>22920.000000</td>\n",
       "      <td>22920.000000</td>\n",
       "      <td>22920.000000</td>\n",
       "      <td>22920.000000</td>\n",
       "      <td>22920.000000</td>\n",
       "    </tr>\n",
       "    <tr>\n",
       "      <th>mean</th>\n",
       "      <td>2004.184250</td>\n",
       "      <td>6.563743</td>\n",
       "      <td>7.539136</td>\n",
       "      <td>0.987522</td>\n",
       "      <td>0.994546</td>\n",
       "      <td>0.84219</td>\n",
       "      <td>0.869590</td>\n",
       "      <td>0.006021</td>\n",
       "      <td>2.758639</td>\n",
       "      <td>3.710914</td>\n",
       "      <td>...</td>\n",
       "      <td>0.001920</td>\n",
       "      <td>0.004756</td>\n",
       "      <td>0.311780</td>\n",
       "      <td>0.022906</td>\n",
       "      <td>0.002836</td>\n",
       "      <td>0.017016</td>\n",
       "      <td>0.002836</td>\n",
       "      <td>0.047513</td>\n",
       "      <td>0.006850</td>\n",
       "      <td>0.009599</td>\n",
       "    </tr>\n",
       "    <tr>\n",
       "      <th>std</th>\n",
       "      <td>11.859712</td>\n",
       "      <td>3.346106</td>\n",
       "      <td>2.796585</td>\n",
       "      <td>0.111009</td>\n",
       "      <td>0.073649</td>\n",
       "      <td>0.36457</td>\n",
       "      <td>0.336761</td>\n",
       "      <td>0.077362</td>\n",
       "      <td>1.174596</td>\n",
       "      <td>2.275468</td>\n",
       "      <td>...</td>\n",
       "      <td>0.043773</td>\n",
       "      <td>0.068799</td>\n",
       "      <td>0.463231</td>\n",
       "      <td>0.149606</td>\n",
       "      <td>0.053179</td>\n",
       "      <td>0.129333</td>\n",
       "      <td>0.053179</td>\n",
       "      <td>0.212738</td>\n",
       "      <td>0.082482</td>\n",
       "      <td>0.097503</td>\n",
       "    </tr>\n",
       "    <tr>\n",
       "      <th>min</th>\n",
       "      <td>1970.000000</td>\n",
       "      <td>1.000000</td>\n",
       "      <td>1.000000</td>\n",
       "      <td>0.000000</td>\n",
       "      <td>0.000000</td>\n",
       "      <td>0.00000</td>\n",
       "      <td>0.000000</td>\n",
       "      <td>0.000000</td>\n",
       "      <td>1.000000</td>\n",
       "      <td>1.000000</td>\n",
       "      <td>...</td>\n",
       "      <td>0.000000</td>\n",
       "      <td>0.000000</td>\n",
       "      <td>0.000000</td>\n",
       "      <td>0.000000</td>\n",
       "      <td>0.000000</td>\n",
       "      <td>0.000000</td>\n",
       "      <td>0.000000</td>\n",
       "      <td>0.000000</td>\n",
       "      <td>0.000000</td>\n",
       "      <td>0.000000</td>\n",
       "    </tr>\n",
       "    <tr>\n",
       "      <th>25%</th>\n",
       "      <td>1992.000000</td>\n",
       "      <td>4.000000</td>\n",
       "      <td>6.000000</td>\n",
       "      <td>1.000000</td>\n",
       "      <td>1.000000</td>\n",
       "      <td>1.00000</td>\n",
       "      <td>1.000000</td>\n",
       "      <td>0.000000</td>\n",
       "      <td>2.000000</td>\n",
       "      <td>2.000000</td>\n",
       "      <td>...</td>\n",
       "      <td>0.000000</td>\n",
       "      <td>0.000000</td>\n",
       "      <td>0.000000</td>\n",
       "      <td>0.000000</td>\n",
       "      <td>0.000000</td>\n",
       "      <td>0.000000</td>\n",
       "      <td>0.000000</td>\n",
       "      <td>0.000000</td>\n",
       "      <td>0.000000</td>\n",
       "      <td>0.000000</td>\n",
       "    </tr>\n",
       "    <tr>\n",
       "      <th>50%</th>\n",
       "      <td>2010.000000</td>\n",
       "      <td>7.000000</td>\n",
       "      <td>8.000000</td>\n",
       "      <td>1.000000</td>\n",
       "      <td>1.000000</td>\n",
       "      <td>1.00000</td>\n",
       "      <td>1.000000</td>\n",
       "      <td>0.000000</td>\n",
       "      <td>3.000000</td>\n",
       "      <td>2.000000</td>\n",
       "      <td>...</td>\n",
       "      <td>0.000000</td>\n",
       "      <td>0.000000</td>\n",
       "      <td>0.000000</td>\n",
       "      <td>0.000000</td>\n",
       "      <td>0.000000</td>\n",
       "      <td>0.000000</td>\n",
       "      <td>0.000000</td>\n",
       "      <td>0.000000</td>\n",
       "      <td>0.000000</td>\n",
       "      <td>0.000000</td>\n",
       "    </tr>\n",
       "    <tr>\n",
       "      <th>75%</th>\n",
       "      <td>2014.000000</td>\n",
       "      <td>9.000000</td>\n",
       "      <td>10.000000</td>\n",
       "      <td>1.000000</td>\n",
       "      <td>1.000000</td>\n",
       "      <td>1.00000</td>\n",
       "      <td>1.000000</td>\n",
       "      <td>0.000000</td>\n",
       "      <td>3.000000</td>\n",
       "      <td>7.000000</td>\n",
       "      <td>...</td>\n",
       "      <td>0.000000</td>\n",
       "      <td>0.000000</td>\n",
       "      <td>1.000000</td>\n",
       "      <td>0.000000</td>\n",
       "      <td>0.000000</td>\n",
       "      <td>0.000000</td>\n",
       "      <td>0.000000</td>\n",
       "      <td>0.000000</td>\n",
       "      <td>0.000000</td>\n",
       "      <td>0.000000</td>\n",
       "    </tr>\n",
       "    <tr>\n",
       "      <th>max</th>\n",
       "      <td>2016.000000</td>\n",
       "      <td>12.000000</td>\n",
       "      <td>12.000000</td>\n",
       "      <td>1.000000</td>\n",
       "      <td>1.000000</td>\n",
       "      <td>1.00000</td>\n",
       "      <td>1.000000</td>\n",
       "      <td>1.000000</td>\n",
       "      <td>8.000000</td>\n",
       "      <td>8.000000</td>\n",
       "      <td>...</td>\n",
       "      <td>1.000000</td>\n",
       "      <td>1.000000</td>\n",
       "      <td>1.000000</td>\n",
       "      <td>1.000000</td>\n",
       "      <td>1.000000</td>\n",
       "      <td>1.000000</td>\n",
       "      <td>1.000000</td>\n",
       "      <td>1.000000</td>\n",
       "      <td>1.000000</td>\n",
       "      <td>1.000000</td>\n",
       "    </tr>\n",
       "  </tbody>\n",
       "</table>\n",
       "<p>8 rows × 72 columns</p>\n",
       "</div>"
      ],
      "text/plain": [
       "              iyear        imonth        region         crit1         crit2  \\\n",
       "count  22920.000000  22920.000000  22920.000000  22920.000000  22920.000000   \n",
       "mean    2004.184250      6.563743      7.539136      0.987522      0.994546   \n",
       "std       11.859712      3.346106      2.796585      0.111009      0.073649   \n",
       "min     1970.000000      1.000000      1.000000      0.000000      0.000000   \n",
       "25%     1992.000000      4.000000      6.000000      1.000000      1.000000   \n",
       "50%     2010.000000      7.000000      8.000000      1.000000      1.000000   \n",
       "75%     2014.000000      9.000000     10.000000      1.000000      1.000000   \n",
       "max     2016.000000     12.000000     12.000000      1.000000      1.000000   \n",
       "\n",
       "             crit3       success       suicide   attacktype1  attacktype2  \\\n",
       "count  22920.00000  22920.000000  22920.000000  22920.000000   678.000000   \n",
       "mean       0.84219      0.869590      0.006021      2.758639     3.710914   \n",
       "std        0.36457      0.336761      0.077362      1.174596     2.275468   \n",
       "min        0.00000      0.000000      0.000000      1.000000     1.000000   \n",
       "25%        1.00000      1.000000      0.000000      2.000000     2.000000   \n",
       "50%        1.00000      1.000000      0.000000      3.000000     2.000000   \n",
       "75%        1.00000      1.000000      0.000000      3.000000     7.000000   \n",
       "max        1.00000      1.000000      1.000000      8.000000     8.000000   \n",
       "\n",
       "            ...             Maritime           NGO       Private  \\\n",
       "count       ...         22920.000000  22920.000000  22920.000000   \n",
       "mean        ...             0.001920      0.004756      0.311780   \n",
       "std         ...             0.043773      0.068799      0.463231   \n",
       "min         ...             0.000000      0.000000      0.000000   \n",
       "25%         ...             0.000000      0.000000      0.000000   \n",
       "50%         ...             0.000000      0.000000      0.000000   \n",
       "75%         ...             0.000000      0.000000      1.000000   \n",
       "max         ...             1.000000      1.000000      1.000000   \n",
       "\n",
       "          Religious  Telecommunication    Terrorists      Tourists  \\\n",
       "count  22920.000000       22920.000000  22920.000000  22920.000000   \n",
       "mean       0.022906           0.002836      0.017016      0.002836   \n",
       "std        0.149606           0.053179      0.129333      0.053179   \n",
       "min        0.000000           0.000000      0.000000      0.000000   \n",
       "25%        0.000000           0.000000      0.000000      0.000000   \n",
       "50%        0.000000           0.000000      0.000000      0.000000   \n",
       "75%        0.000000           0.000000      0.000000      0.000000   \n",
       "max        1.000000           1.000000      1.000000      1.000000   \n",
       "\n",
       "       Transportation     Utilities  Violent Parties  \n",
       "count    22920.000000  22920.000000     22920.000000  \n",
       "mean         0.047513      0.006850         0.009599  \n",
       "std          0.212738      0.082482         0.097503  \n",
       "min          0.000000      0.000000         0.000000  \n",
       "25%          0.000000      0.000000         0.000000  \n",
       "50%          0.000000      0.000000         0.000000  \n",
       "75%          0.000000      0.000000         0.000000  \n",
       "max          1.000000      1.000000         1.000000  \n",
       "\n",
       "[8 rows x 72 columns]"
      ]
     },
     "execution_count": 31,
     "metadata": {},
     "output_type": "execute_result"
    }
   ],
   "source": [
    "wrong_df = df.iloc[wrong_idx]\n",
    "wrong_df.describe()"
   ]
  },
  {
   "cell_type": "code",
   "execution_count": 53,
   "metadata": {},
   "outputs": [
    {
     "data": {
      "image/png": "[encoded data removed]",
      "text/plain": [
       "<matplotlib.figure.Figure at 0x19cc277d470>"
      ]
     },
     "metadata": {},
     "output_type": "display_data"
    },
    {
     "data": {
      "image/png": "[encoded data removed]",
      "text/plain": [
       "<matplotlib.figure.Figure at 0x19cc286bac8>"
      ]
     },
     "metadata": {},
     "output_type": "display_data"
    }
   ],
   "source": [
    "import matplotlib.pyplot as plt\n",
    "\n",
    "wrong_region = wrong_df.groupby('region').size()/22920\n",
    "region = df.groupby('region').size()/122376\n",
    "\n",
    "_ = wrong_region.plot(kind='bar', rot = 70)\n",
    "plt.show()\n",
    "_ = region.plot(kind='bar', rot = 70)\n",
    "plt.show()"
   ]
  },
  {
   "cell_type": "markdown",
   "metadata": {},
   "source": [
    "Region 10 (ME and North Africa) is a a bit overrepresented."
   ]
  },
  {
   "cell_type": "code",
   "execution_count": 54,
   "metadata": {},
   "outputs": [
    {
     "data": {
      "image/png": "[encoded data removed]",
      "text/plain": [
       "<matplotlib.figure.Figure at 0x19cc28b8b70>"
      ]
     },
     "metadata": {},
     "output_type": "display_data"
    },
    {
     "data": {
      "image/png": "[encoded data removed]",
      "text/plain": [
       "<matplotlib.figure.Figure at 0x19ccb2ce588>"
      ]
     },
     "metadata": {},
     "output_type": "display_data"
    }
   ],
   "source": [
    "wrong_attacktype = wrong_df.groupby('attacktype1').size()/22920\n",
    "attacktype = df.groupby('attacktype1').size()/122376\n",
    "\n",
    "_ = wrong_attacktype.plot(kind='bar', rot = 70)\n",
    "plt.show()\n",
    "_ = attacktype.plot(kind='bar', rot = 70)\n",
    "plt.show()"
   ]
  },
  {
   "cell_type": "code",
   "execution_count": 51,
   "metadata": {},
   "outputs": [
    {
     "data": {
      "image/png": "[encoded data removed]",
      "text/plain": [
       "<matplotlib.figure.Figure at 0x19cc425b358>"
      ]
     },
     "metadata": {},
     "output_type": "display_data"
    },
    {
     "data": {
      "image/png": "[encoded data removed]",
      "text/plain": [
       "<matplotlib.figure.Figure at 0x19cbb4c8160>"
      ]
     },
     "metadata": {},
     "output_type": "display_data"
    }
   ],
   "source": [
    "wrong_targtype = wrong_df.groupby('targtype1').size()/22920\n",
    "targ_type = df.groupby('targtype1').size()/122376\n",
    "\n",
    "_ = wrong_targtype.plot(kind='bar', rot = 70)\n",
    "plt.show()\n",
    "_ = targ_type.plot(kind='bar', rot = 70)\n",
    "plt.show()"
   ]
  },
  {
   "cell_type": "markdown",
   "metadata": {},
   "source": [
    "\n"
   ]
  }
 ],
 "metadata": {
  "kernelspec": {
   "display_name": "Python 3",
   "language": "python",
   "name": "python3"
  },
  "language_info": {
   "codemirror_mode": {
    "name": "ipython",
    "version": 3
   },
   "file_extension": ".py",
   "mimetype": "text/x-python",
   "name": "python",
   "nbconvert_exporter": "python",
   "pygments_lexer": "ipython3",
   "version": "3.6.3"
  }
 },
 "nbformat": 4,
 "nbformat_minor": 2
}
