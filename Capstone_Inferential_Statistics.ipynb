{
 "cells": [
  {
   "cell_type": "code",
   "execution_count": 2,
   "metadata": {},
   "outputs": [],
   "source": [
    "import pandas as pd\n",
    "import numpy as np\n",
    "import matplotlib.pyplot as plt\n",
    "from scipy import stats\n",
    "\n",
    "df = pd.read_csv('cleaned.csv')"
   ]
  },
  {
   "cell_type": "markdown",
   "metadata": {},
   "source": [
    "From the codebook, the individual variable \"indicates whether or not the attack was carried out by an individual or several individuals not known to be affiliated with a group or organization.\" The null hypothesis is that the proportion of attacks conducted by unaffiliated individuals that succeed is the same as the proportion of attacks conducted by groups that are successful. The alternative hypothesis is that the proportion of successes is different between attacks by unaffiliated individuals and attacks by groups."
   ]
  },
  {
   "cell_type": "code",
   "execution_count": 11,
   "metadata": {},
   "outputs": [
    {
     "name": "stdout",
     "output_type": "stream",
     "text": [
      "0.792105263158 0.89944752287\n",
      "380 121996\n"
     ]
    }
   ],
   "source": [
    "#hypothesis test for success vs individual\n",
    "\n",
    "ind_n = df[df['individual'] == 1]['individual'].count()\n",
    "\n",
    "group_n = df[df['individual'] == 0]['individual'].count()\n",
    "\n",
    "ind_prop = sum(df[df['individual'] == 1].success)/ind_count\n",
    "\n",
    "group_prop = sum(df[df['individual'] == 0].success)/group_count\n",
    "\n",
    "print(ind_prop, group_prop)\n",
    "print(ind_n, group_n)"
   ]
  },
  {
   "cell_type": "markdown",
   "metadata": {},
   "source": [
    "Computing standard error of difference in proportions, using formula SE = $\\sqrt{p_{1}(1-p_{1})/n_{1} + p_{2}(1-p_{2})/n_{2}}$"
   ]
  },
  {
   "cell_type": "code",
   "execution_count": 12,
   "metadata": {},
   "outputs": [
    {
     "name": "stdout",
     "output_type": "stream",
     "text": [
      "0.0208349546912\n"
     ]
    }
   ],
   "source": [
    "SE_diff = ((ind_prop * (1 - ind_prop) / ind_n) + (group_prop * (1 - group_prop) / group_n))**0.5\n",
    "\n",
    "print(SE_diff)"
   ]
  },
  {
   "cell_type": "code",
   "execution_count": 21,
   "metadata": {},
   "outputs": [
    {
     "name": "stdout",
     "output_type": "stream",
     "text": [
      "[   301 109729]\n",
      "-6.93688926103 2.0041388723e-12\n"
     ]
    }
   ],
   "source": [
    "from statsmodels.stats.proportion import proportions_ztest\n",
    "\n",
    "successes = np.array([sum(df[df['individual'] == 1].success), sum(df[df['individual'] == 0].success)])\n",
    "n_obs = (ind_n, group_n)\n",
    "print(successes)\n",
    "\n",
    "z, p = proportions_ztest(successes, n_obs, alternative = 'smaller')\n",
    "print(z,p)"
   ]
  },
  {
   "cell_type": "markdown",
   "metadata": {},
   "source": [
    "With a small p-value, we conclude that there is a statistically significant difference between the proportion of individual terrorist attacks that are successful and the proportion of terrorist attacks conducted by organizations that are successful."
   ]
  },
  {
   "cell_type": "code",
   "execution_count": null,
   "metadata": {
    "collapsed": true
   },
   "outputs": [],
   "source": []
  }
 ],
 "metadata": {
  "kernelspec": {
   "display_name": "Python 3",
   "language": "python",
   "name": "python3"
  },
  "language_info": {
   "codemirror_mode": {
    "name": "ipython",
    "version": 3
   },
   "file_extension": ".py",
   "mimetype": "text/x-python",
   "name": "python",
   "nbconvert_exporter": "python",
   "pygments_lexer": "ipython3",
   "version": "3.6.3"
  }
 },
 "nbformat": 4,
 "nbformat_minor": 2
}
