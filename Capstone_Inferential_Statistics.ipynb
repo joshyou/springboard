{
 "cells": [
  {
   "cell_type": "markdown",
   "metadata": {
    "collapsed": true
   },
   "source": [
    "<b>Capstone Project 1 - Inferential Statistics</b>"
   ]
  },
  {
   "cell_type": "markdown",
   "metadata": {},
   "source": [
    "My capstone project will explore the relationship between the features of a terrorist attack and whether or not the attack is successful. In the data storytelling section, I found some interesting patterns in how the success rate of attacks varied by region, attack type, and whether the attack was carried out by an individual or group. In preparation for attempting to build a model to predict success rate, I will now look into whether some of these patterns are statistically significant. \n",
    "\n",
    "First, I will look at whether there is a difference in the success rate of attacks carried out by individuals compared to attacks carried out by groups. From the codebook, the individual variable \"indicates whether or not the attack was carried out by an individual or several individuals not known to be affiliated with a group or organization.\" The null hypothesis is that the proportion of attacks attempted by unaffiliated individuals that succeed is the same as the proportion of attacks attemped by groups that are successful. The alternative hypothesis is that the success rate for attacks attempt by unaffiliated individuals is smaller than the success rate for group attacks."
   ]
  },
  {
   "cell_type": "code",
   "execution_count": 2,
   "metadata": {
    "collapsed": true
   },
   "outputs": [],
   "source": [
    "import pandas as pd\n",
    "import numpy as np\n",
    "import matplotlib.pyplot as plt\n",
    "from scipy import stats\n",
    "\n",
    "df = pd.read_csv('cleaned.csv')"
   ]
  },
  {
   "cell_type": "code",
   "execution_count": 3,
   "metadata": {},
   "outputs": [
    {
     "name": "stdout",
     "output_type": "stream",
     "text": [
      "Success rate for individuals: 0.792105263158\n",
      "Success rate for groups: 0.89944752287\n",
      "Number of individual attacks: 380\n",
      "Number of group attacks: 121996\n"
     ]
    }
   ],
   "source": [
    "ind_n = df[df['individual'] == 1]['individual'].count()\n",
    "\n",
    "group_n = df[df['individual'] == 0]['individual'].count()\n",
    "\n",
    "ind_prop = sum(df[df['individual'] == 1].success)/ind_n\n",
    "\n",
    "group_prop = sum(df[df['individual'] == 0].success)/group_n\n",
    "\n",
    "print(\"Success rate for individuals: \" + str(ind_prop))\n",
    "print(\"Success rate for groups: \" + str(group_prop))\n",
    "print(\"Number of individual attacks:\", ind_n)\n",
    "print(\"Number of group attacks:\", group_n)"
   ]
  },
  {
   "cell_type": "code",
   "execution_count": 4,
   "metadata": {},
   "outputs": [
    {
     "name": "stdout",
     "output_type": "stream",
     "text": [
      "z: -6.93688926103 p-value: 2.0041388723e-12\n"
     ]
    }
   ],
   "source": [
    "from statsmodels.stats.proportion import proportions_ztest\n",
    "\n",
    "successes = np.array([sum(df[df['individual'] == 1].success), sum(df[df['individual'] == 0].success)])\n",
    "n_obs = (ind_n, group_n)\n",
    "\n",
    "z, p = proportions_ztest(successes, n_obs, alternative = 'smaller')\n",
    "print(\"z:\", z,\"p-value:\", p)"
   ]
  },
  {
   "cell_type": "markdown",
   "metadata": {},
   "source": [
    "With a small p-value, we conclude that there is a statistically significant difference between the proportion of individual terrorist attacks that are successful and the proportion of terrorist attacks conducted by organizations that are successful. This suggests that whether an attack is carried out by an individual or group may be a useful feature for predicting the success rate of an attack. \n",
    "\n",
    "Now I compute the standard error for the difference in proportions, using the formula SE = $\\sqrt{p_{1}(1-p_{1})/n_{1} + p_{2}(1-p_{2})/n_{2}}$. In addition, I compute the 95% confidence interval, using 1.96 as the z-value corresponding to 95% confidence."
   ]
  },
  {
   "cell_type": "code",
   "execution_count": 6,
   "metadata": {},
   "outputs": [
    {
     "name": "stdout",
     "output_type": "stream",
     "text": [
      "Standard error: 0.0208349546912\n",
      "95% Confidence Interval for difference in proportions: [0.066505748516912794, 0.14817877090650225]\n"
     ]
    }
   ],
   "source": [
    "SE_diff = ((ind_prop * (1 - ind_prop) / ind_n) + (group_prop * (1 - group_prop) / group_n))**0.5\n",
    "\n",
    "print(\"Standard error:\", SE_diff)\n",
    "\n",
    "CI_diff = [group_prop - ind_prop - 1.96 * SE_diff, group_prop - ind_prop + 1.96 * SE_diff]\n",
    "print(\"95% Confidence Interval for difference in proportions:\", CI_diff)"
   ]
  },
  {
   "cell_type": "markdown",
   "metadata": {},
   "source": [
    "Next, I will look at the relationship between region and success rate. First, let's review the plot of attack success rate by region:"
   ]
  },
  {
   "cell_type": "code",
   "execution_count": 5,
   "metadata": {},
   "outputs": [
    {
     "data": {
      "image/png": "[encoded data removed]",
      "text/plain": [
       "<matplotlib.figure.Figure at 0x1b0a1f1d940>"
      ]
     },
     "metadata": {},
     "output_type": "display_data"
    }
   ],
   "source": [
    "region_dict = {1: 'North America', 2: 'Central America', 3: 'South America', 4: 'East Asia', 5: 'SE Asia', 6: 'South Asia', \n",
    "7: 'Central Asia', 8: 'West Europe',9: 'East Europe',10: 'ME and North Africa', \n",
    "11: 'Sub-Saharan Africa', 12: 'Oceania'}\n",
    "\n",
    "df['region_name'] = df['region'].replace(region_dict)\n",
    "\n",
    "region_success_counts = df.groupby(['region_name'])['success'].sum()\n",
    "region_counts = df.groupby(['region_name'])['success'].count()\n",
    "region_success_ratio = region_success_counts.divide(region_counts)\n",
    "region_success_ratio = region_success_ratio.sort_values()\n",
    "\n",
    "_ = region_success_ratio.plot(kind='bar', rot = 70)\n",
    "_ = plt.xlabel('Region')\n",
    "_ = plt.ylabel('Attack Success Rate')\n",
    "plt.margins(0.04)\n",
    "plt.show()"
   ]
  },
  {
   "cell_type": "markdown",
   "metadata": {},
   "source": [
    "I will now test whether there is a relationship between an attack's region and its success rate. Because I am testing the relationship between an observed proportion with the dependent variable being multiple categories, a chi-square test for independence is appropriate. I will test the null hypothesis that the success rate does not differ by region, with the alternative hypothesis that success rates are not the same for every region."
   ]
  },
  {
   "cell_type": "code",
   "execution_count": 6,
   "metadata": {},
   "outputs": [
    {
     "name": "stdout",
     "output_type": "stream",
     "text": [
      "[[2459, 529], [6732, 292], [13640, 1105], [555, 113], [8096, 882], [27580, 2987], [412, 48], [10510, 2007], [2958, 538], [27804, 3155], [9086, 665], [198, 25]]\n"
     ]
    }
   ],
   "source": [
    "#collect observed success and failures for each region\n",
    "observations = []\n",
    "\n",
    "for i in range(1,13):\n",
    "    success_count = df[df['region'] == i]['success'].sum()\n",
    "    failure_count = df[df['region'] == i]['success'].count() - success_count\n",
    "    counts = [success_count, failure_count]\n",
    "    observations.append(counts)\n",
    "    \n",
    "print(observations)"
   ]
  },
  {
   "cell_type": "code",
   "execution_count": 7,
   "metadata": {},
   "outputs": [
    {
     "name": "stdout",
     "output_type": "stream",
     "text": [
      "Chi-squared: 1322.97759923 p: 4.96042586643e-277\n"
     ]
    }
   ],
   "source": [
    "from scipy.stats import chi2_contingency\n",
    "\n",
    "chi2, p, dof, expected = stats.chi2_contingency(observations)\n",
    "print(\"Chi-squared:\", chi2, \"p:\", p)"
   ]
  },
  {
   "cell_type": "markdown",
   "metadata": {},
   "source": [
    "Because the p-value is very small, we can reject the null hypothesis and conclude the region does affect the success rate. This makes it a feature of interest in our analysis. However, this test does not necessarily tell us anything about the success rate of specific regions, just that some regions have different success rates than others. "
   ]
  },
  {
   "cell_type": "markdown",
   "metadata": {},
   "source": [
    "Central America has the highest attack success rate of any region. I will compare the null hypothesis that attacks in Central America have the same success rate as attacks elsewhere with the alternative hypothesis that the success rate in Central America is greater than the success rate elsewhere."
   ]
  },
  {
   "cell_type": "code",
   "execution_count": 8,
   "metadata": {},
   "outputs": [
    {
     "name": "stdout",
     "output_type": "stream",
     "text": [
      "Success rate in Central America: 0.958428246014\n",
      "Success rate outside Central America: 0.895502462029\n"
     ]
    }
   ],
   "source": [
    "df['Central_America'] = df['region'] == 2\n",
    "central_n = df[df['Central_America'] == True]['success'].count()\n",
    "non_central_n = df[df['Central_America'] == False]['success'].count()\n",
    "\n",
    "central_prop = df[df['Central_America'] == True]['success'].sum()/central_n\n",
    "non_central_prop = df[df['Central_America'] == False]['success'].sum()/non_central_n\n",
    "\n",
    "print(\"Success rate in Central America:\",central_prop)\n",
    "print(\"Success rate outside Central America:\", non_central_prop)"
   ]
  },
  {
   "cell_type": "code",
   "execution_count": 9,
   "metadata": {},
   "outputs": [
    {
     "name": "stdout",
     "output_type": "stream",
     "text": [
      "z: 17.0005465992 p-value: 4.0678887249e-65\n"
     ]
    }
   ],
   "source": [
    "successes = np.array([sum(df[df['Central_America'] == True].success), sum(df[df['Central_America'] == False].success)])\n",
    "n_obs = (central_n, non_central_n)\n",
    "z, p = proportions_ztest(successes, n_obs, alternative = 'larger')\n",
    "print(\"z:\", z,\"p-value:\", p)"
   ]
  },
  {
   "cell_type": "markdown",
   "metadata": {},
   "source": [
    "95.8% of attacks in Central America are successful, compared to 89.55% of attacks in the rest of the world. The p-value is extremely small, so we can safely reject the null hypothesis. \n",
    "\n",
    "South Asia has a success rate that is closer to the average. This region (which includes Afghanistan, Pakistan, and India) is populous and sees a high number of terrorist attacks. Since the rate is closer to average, I will use a two-sided test, and test the null hypothesis that attacks in South Asia have the same success rate as attacks elsewhere against the alternative hypothesis that the success rate in South Asia is different than the success rate elsewhere. "
   ]
  },
  {
   "cell_type": "code",
   "execution_count": 10,
   "metadata": {},
   "outputs": [
    {
     "name": "stdout",
     "output_type": "stream",
     "text": [
      "Success rate in South Asia: 0.902280236857\n",
      "Success rate outside South Asia: 0.89806010304\n"
     ]
    }
   ],
   "source": [
    "df['S_Asia'] = df['region'] == 6\n",
    "sa_n = df[df['S_Asia'] == True]['success'].count()\n",
    "non_sa_n = df[df['S_Asia'] == False]['success'].count()\n",
    "\n",
    "sa_prop = df[df['S_Asia'] == True]['success'].sum()/sa_n\n",
    "non_sa_prop = df[df['S_Asia'] == False]['success'].sum()/non_sa_n\n",
    "\n",
    "print(\"Success rate in South Asia:\",sa_prop)\n",
    "print(\"Success rate outside South Asia:\", non_sa_prop)"
   ]
  },
  {
   "cell_type": "code",
   "execution_count": 11,
   "metadata": {},
   "outputs": [
    {
     "name": "stdout",
     "output_type": "stream",
     "text": [
      "z: 2.12189892756 p-value: 0.0338462265353\n"
     ]
    }
   ],
   "source": [
    "successes = np.array([sum(df[df['S_Asia'] == True].success), sum(df[df['S_Asia'] == False].success)])\n",
    "n_obs = (sa_n, non_sa_n)\n",
    "z, p = proportions_ztest(successes, n_obs)\n",
    "print(\"z:\", z,\"p-value:\", p)"
   ]
  },
  {
   "cell_type": "markdown",
   "metadata": {},
   "source": [
    "This p-value is fairly small, but since I have tested multiple hypotheses with the same data set, it may be advisable to use a Bonferroni correction. If we use a 5% significance level, then across the 7 hypotheses in this analysis, the p-value threshold for each test would be 0.0071. This would mean that I fail the reject the null hypothesis that attacks in South Asia have the same success rate as other attacks.  \n",
    "\n",
    "I will now turn to the relationship between attack type and success rate. Let's review the plot of success rate by attack type:"
   ]
  },
  {
   "cell_type": "code",
   "execution_count": 12,
   "metadata": {},
   "outputs": [
    {
     "data": {
      "image/png": "[encoded data removed]",
      "text/plain": [
       "<matplotlib.figure.Figure at 0x1b0a22519b0>"
      ]
     },
     "metadata": {},
     "output_type": "display_data"
    }
   ],
   "source": [
    "type_dict = {1:'Assassination', 2:'Armed Assault',\n",
    "            3:'Bombing', 4:'Hijacking', 5:'Hostage (Barricade)',\n",
    "             6:'Kidnapping', 7:'Infrastructure', 8:'Unarmed Assault'}\n",
    "\n",
    "df['typename1'] = df['attacktype1'].replace(type_dict)\n",
    "\n",
    "type_counts = df.groupby(['typename1'])['success'].count()\n",
    "type_success_counts = df.groupby(['typename1'])['success'].sum()\n",
    "type_success_ratio = type_success_counts.divide(type_counts)\n",
    "\n",
    "type_success_ratio = type_success_ratio.sort_values()\n",
    "\n",
    "_ = type_success_ratio.plot(kind='bar', rot = 70)\n",
    "_ = plt.xlabel('Attack type')\n",
    "_ = plt.ylabel('Attack Success Rate')\n",
    "plt.show()"
   ]
  },
  {
   "cell_type": "markdown",
   "metadata": {},
   "source": [
    "As before, a chi-square test for independence is appropriate for testing the null hypothesis that success rate is independent of attack type against the alternative hypothesis that attack type affects the success rate."
   ]
  },
  {
   "cell_type": "code",
   "execution_count": 13,
   "metadata": {},
   "outputs": [
    {
     "name": "stdout",
     "output_type": "stream",
     "text": [
      "Chi-squared: 4719.43154845 p: 0.0\n"
     ]
    }
   ],
   "source": [
    "#collect observed success and failures for each attack type\n",
    "type_obs = []\n",
    "\n",
    "for i in range(1,9):\n",
    "    success_count = df[df['attacktype1'] == i]['success'].sum()\n",
    "    failure_count = df[df['attacktype1'] == i]['success'].count() - success_count\n",
    "    counts = [success_count, failure_count]\n",
    "    type_obs.append(counts)\n",
    "    \n",
    "chi2, p, dof, expected = stats.chi2_contingency(type_obs)\n",
    "print(\"Chi-squared:\", chi2, \"p:\", p)"
   ]
  },
  {
   "cell_type": "markdown",
   "metadata": {},
   "source": [
    "This p-value is very small, so we can reject the null hypothesis that success rate is independent of attack type, making this another feature of interest in our analysis."
   ]
  },
  {
   "cell_type": "markdown",
   "metadata": {},
   "source": [
    "Because assassinations have the lowest success rate, and because they are one of the most salient and consequential types of attacks, I will now test the null hypothesis that assassination has the same success rate as other types of attacks, compared with the alternative hypothesis that assassinations have a lower success rate than other types of attacks:"
   ]
  },
  {
   "cell_type": "code",
   "execution_count": 14,
   "metadata": {},
   "outputs": [
    {
     "name": "stdout",
     "output_type": "stream",
     "text": [
      "Success rate for assassinations: 0.753296440527\n",
      "Success rate for non-assassinations: 0.918924437762\n"
     ]
    }
   ],
   "source": [
    "df['Assassination'] = df['attacktype1'] == 1\n",
    "assassin_n = df[df['Assassination'] == True]['success'].count()\n",
    "non_assassin_n = df[df['Assassination'] == False]['success'].count()\n",
    "\n",
    "assassin_prop = df[df['Assassination'] == True]['success'].sum()/assassin_n\n",
    "non_assassin_prop = df[df['Assassination'] == False]['success'].sum()/non_assassin_n\n",
    "\n",
    "print(\"Success rate for assassinations:\",assassin_prop)\n",
    "print(\"Success rate for non-assassinations:\", non_assassin_prop)"
   ]
  },
  {
   "cell_type": "code",
   "execution_count": 15,
   "metadata": {},
   "outputs": [
    {
     "name": "stdout",
     "output_type": "stream",
     "text": [
      "z: -62.4274637302 p-value: 0.0\n"
     ]
    }
   ],
   "source": [
    "successes = np.array([sum(df[df['Assassination'] == True].success), sum(df[df['Assassination'] == False].success)])\n",
    "n_obs = (assassin_n, non_assassin_n)\n",
    "z, p = proportions_ztest(successes, n_obs, alternative = 'smaller')\n",
    "print(\"z:\", z,\"p-value:\", p)"
   ]
  },
  {
   "cell_type": "markdown",
   "metadata": {},
   "source": [
    "This p-value is extremely small, so we can reject the null hypothesis. Hijackings appear to have a success rate that is lower than average, but that is closer to the average than assassinations. Hijackings are also a type of attack that are of high interest to the public and to safety officials. I will next evaluate the null hypothesis that hijackings have the same success rate as other attacks, compared with the alternative hypothesis that hijackings have a different success rate from non-hijacking attacks. "
   ]
  },
  {
   "cell_type": "code",
   "execution_count": 16,
   "metadata": {},
   "outputs": [
    {
     "name": "stdout",
     "output_type": "stream",
     "text": [
      "Success rate for hijackings : 0.866492146597\n",
      "Success rate for non-hijackings: 0.899216354903\n"
     ]
    }
   ],
   "source": [
    "df['Hijack'] = df['attacktype1'] == 4\n",
    "hijack_n =  df[df['Hijack'] == True]['success'].count()\n",
    "non_hijack_n = df[df['Hijack'] == False]['success'].count()\n",
    "\n",
    "hijack_prop = df[df['Hijack'] == True]['success'].sum()/hijack_n\n",
    "non_hijack_prop = df[df['Hijack'] == False]['success'].sum()/non_hijack_n\n",
    "\n",
    "print(\"Success rate for hijackings :\", hijack_prop)\n",
    "print(\"Success rate for non-hijackings:\", non_hijack_prop)"
   ]
  },
  {
   "cell_type": "code",
   "execution_count": 17,
   "metadata": {},
   "outputs": [
    {
     "name": "stdout",
     "output_type": "stream",
     "text": [
      "z: -2.12031067418 p-value: 0.0339798540805\n"
     ]
    }
   ],
   "source": [
    "successes = np.array([sum(df[df['Hijack'] == True].success), sum(df[df['Hijack'] == False].success)])\n",
    "n_obs = (hijack_n, non_hijack_n)\n",
    "z, p = proportions_ztest(successes, n_obs)\n",
    "print(\"z:\", z,\"p-value:\", p)"
   ]
  },
  {
   "cell_type": "markdown",
   "metadata": {},
   "source": [
    "Again, this p-value is fairly small, but after applying the Bonferroni correction, I fail the reject the null hypothesis that hijackings have the same success rate as other attacks.  "
   ]
  }
 ],
 "metadata": {
  "kernelspec": {
   "display_name": "Python 3",
   "language": "python",
   "name": "python3"
  },
  "language_info": {
   "codemirror_mode": {
    "name": "ipython",
    "version": 3
   },
   "file_extension": ".py",
   "mimetype": "text/x-python",
   "name": "python",
   "nbconvert_exporter": "python",
   "pygments_lexer": "ipython3",
   "version": "3.6.3"
  }
 },
 "nbformat": 4,
 "nbformat_minor": 2
}
