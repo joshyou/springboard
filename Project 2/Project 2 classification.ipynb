{
 "cells": [
  {
   "cell_type": "code",
   "execution_count": 1,
   "metadata": {
    "collapsed": true
   },
   "outputs": [],
   "source": [
    "import pandas as pd\n",
    "import numpy as np\n",
    "\n",
    "from sklearn.linear_model import LogisticRegression\n",
    "from sklearn.ensemble import RandomForestClassifier\n",
    "from sklearn.model_selection import train_test_split\n",
    "from sklearn.metrics import accuracy_score\n",
    "from sklearn.model_selection import KFold\n",
    "from sklearn.metrics import classification_report"
   ]
  },
  {
   "cell_type": "code",
   "execution_count": 2,
   "metadata": {
    "collapsed": true
   },
   "outputs": [],
   "source": [
    "def cv_score(clf, x, y, score_func=accuracy_score):\n",
    "    result = 0\n",
    "    nfold = 5\n",
    "    for train, test in KFold(nfold, random_state = 42).split(x): # split data into train/test groups, 5 times\n",
    "        clf.fit(x[train], y.iloc[train]) # fit\n",
    "        result += score_func(clf.predict(x[test]), y.iloc[test]) # evaluate score function on held-out data\n",
    "    return result / nfold # average"
   ]
  },
  {
   "cell_type": "code",
   "execution_count": 3,
   "metadata": {
    "collapsed": true
   },
   "outputs": [],
   "source": [
    "df = pd.read_csv('clustered.csv')"
   ]
  },
  {
   "cell_type": "code",
   "execution_count": 4,
   "metadata": {},
   "outputs": [
    {
     "name": "stdout",
     "output_type": "stream",
     "text": [
      "['gender', 'CC16_331_1', 'CC16_331_2', 'CC16_331_3', 'CC16_331_7', 'milstat_1', 'milstat_2', 'milstat_3', 'milstat_4', 'CC16_351K', 'faminc', 'CC16_334a', 'CC16_334b', 'CC16_334d', 'pew_bornagain', 'CC16_334c', 'CC16_333d', 'CC16_333b', 'CC16_333a', 'CC16_332a', 'CC16_332d', 'CC16_332e', 'CC16_333c', 'CC16_332c', 'CC16_332f', 'CC16_351I', 'CC16_332b', 'child18', 'CC16_351B', 'CC16_351E', 'CC16_327', 'CC16_351G', 'CC16_351F', 'CC16_330a', 'CC16_351H', 'CC16_330e', 'CC16_330b', 'CC16_330d', 'CC16_335', 'hispanic', 'investor', 'trans', 'votereg_post', 'CC16_414_1', 'CC16_414_2', 'CC16_414_3', 'CC16_414_4', 'CC16_414_5', 'CC16_414_6', 'CC16_417a_1', 'CC16_417a_2', 'CC16_417a_3', 'CC16_417a_4', 'CC16_417a_5', 'edloan', 'CC16_418a', 'voted', 'age', 'CC16_422d_Disagree', 'CC16_422d_Neutral', 'CC16_422c_Disagree', 'CC16_422c_Neutral', 'CC16_422f_Disagree', 'CC16_422f_Neutral', 'CC16_422e_Disagree', 'CC16_422e_Neutral', 'CC16_426_1_Increase', 'CC16_426_1_Maintain', 'CC16_426_2_Increase', 'CC16_426_2_Maintain', 'CC16_426_3_Increase', 'CC16_426_3_Maintain', 'CC16_426_5_Increase', 'CC16_426_5_Maintain', 'CC16_426_4_Increase', 'CC16_426_4_Maintain', 'veteran', 'family_vet', 'race_Black', 'race_Middle Eastern', 'race_Mixed', 'race_Native American', 'race_Other', 'race_White', 'college', 'Party_Independent', 'Party_Republican', 'relig_Atheist', 'relig_Buddhist', 'relig_Eastern or Greek Orthodox', 'relig_Hindu', 'relig_Jewish', 'relig_Mormon', 'relig_Muslim', 'relig_Nothing in particular', 'relig_Protestant', 'relig_Roman Catholic', 'relig_Something else', 'straight', 'immigrant', 'union_member', 'pres_Johnson', 'pres_McMullin', 'pres_None', 'pres_Other', 'pres_Stein', 'pres_Trump', 'employ_Homemaker', 'employ_Other', 'employ_Part-time', 'employ_Permanently disabled', 'employ_Retired', 'employ_Student', 'employ_Temporarily laid off', 'employ_Unemployed', 'mar_Domestic partnership', 'mar_Married', 'mar_Separated', 'mar_Single', 'mar_Widowed', 'religimp_Not too important', 'religimp_Somewhat important', 'religimp_Very important']\n"
     ]
    }
   ],
   "source": [
    "variables = [col for col in df.columns if (col != 'four_cluster_label' and col != 'Unnamed: 0')]\n",
    "             \n",
    "print(variables)"
   ]
  },
  {
   "cell_type": "code",
   "execution_count": 5,
   "metadata": {
    "collapsed": true
   },
   "outputs": [],
   "source": [
    "Xtrain, Xtest, ytrain, ytest = train_test_split(df[variables].values, df['four_cluster_label'], random_state = 42, test_size = 0.2)"
   ]
  },
  {
   "cell_type": "code",
   "execution_count": 6,
   "metadata": {},
   "outputs": [
    {
     "data": {
      "text/plain": [
       "0.88834921084628926"
      ]
     },
     "execution_count": 6,
     "metadata": {},
     "output_type": "execute_result"
    }
   ],
   "source": [
    "rf_clf = RandomForestClassifier(random_state = 42, class_weight = 'balanced')\n",
    "cv_score(rf_clf, Xtrain, ytrain)"
   ]
  },
  {
   "cell_type": "code",
   "execution_count": 7,
   "metadata": {},
   "outputs": [
    {
     "name": "stdout",
     "output_type": "stream",
     "text": [
      "             precision    recall  f1-score   support\n",
      "\n",
      "          0       1.00      1.00      1.00      6789\n",
      "          1       1.00      1.00      1.00     11323\n",
      "          2       1.00      1.00      1.00      9349\n",
      "          3       1.00      1.00      1.00     11043\n",
      "\n",
      "avg / total       1.00      1.00      1.00     38504\n",
      "\n"
     ]
    }
   ],
   "source": [
    "rf_clf = RandomForestClassifier(class_weight = 'balanced', random_state = 42)\n",
    "\n",
    "rf_clf.fit(Xtrain, ytrain)\n",
    "print(classification_report(ytrain, rf_clf.predict(Xtrain)))"
   ]
  },
  {
   "cell_type": "markdown",
   "metadata": {},
   "source": [
    "damn overfitting!"
   ]
  },
  {
   "cell_type": "code",
   "execution_count": 8,
   "metadata": {
    "collapsed": true
   },
   "outputs": [],
   "source": [
    "from sklearn.model_selection import GridSearchCV"
   ]
  },
  {
   "cell_type": "code",
   "execution_count": 9,
   "metadata": {},
   "outputs": [
    {
     "name": "stdout",
     "output_type": "stream",
     "text": [
      "{'max_depth': 100, 'min_impurity_decrease': 0.0001}\n"
     ]
    }
   ],
   "source": [
    "param_grid = {'max_depth':[10,20,100,500], 'min_impurity_decrease':[1e-7,1e-6,1e-5, 1e-4, 1e-3, 1e-2]}\n",
    "rf_clf = RandomForestClassifier(class_weight = 'balanced', random_state = 42)\n",
    "rf_clf_cv = GridSearchCV(rf_clf, param_grid, cv = 5)\n",
    "rf_clf_cv.fit(Xtrain, ytrain)\n",
    "\n",
    "print(rf_clf_cv.best_params_)"
   ]
  },
  {
   "cell_type": "code",
   "execution_count": 13,
   "metadata": {},
   "outputs": [
    {
     "data": {
      "text/plain": [
       "0.89040106108668637"
      ]
     },
     "execution_count": 13,
     "metadata": {},
     "output_type": "execute_result"
    }
   ],
   "source": [
    "rf_clf = RandomForestClassifier(class_weight = 'balanced', random_state = 42, max_depth = 100, min_impurity_decrease = 0.0001)\n",
    "\n",
    "cv_score(rf_clf, Xtrain, ytrain)"
   ]
  },
  {
   "cell_type": "markdown",
   "metadata": {},
   "source": [
    "CV score is slightly better after tuning. Narrowing down the grid search:"
   ]
  },
  {
   "cell_type": "code",
   "execution_count": 15,
   "metadata": {},
   "outputs": [
    {
     "name": "stdout",
     "output_type": "stream",
     "text": [
      "{'max_depth': 50, 'min_impurity_decrease': 0.0001}\n"
     ]
    }
   ],
   "source": [
    "param_grid = {'max_depth':[50,100,150,200], 'min_impurity_decrease':[1e-5,5e-4,1e-4,5e-3,1e-3]}\n",
    "rf_clf = RandomForestClassifier(class_weight = 'balanced', random_state = 42)\n",
    "rf_clf_cv = GridSearchCV(rf_clf, param_grid, cv = 5)\n",
    "rf_clf_cv.fit(Xtrain, ytrain)\n",
    "\n",
    "print(rf_clf_cv.best_params_)"
   ]
  },
  {
   "cell_type": "code",
   "execution_count": 16,
   "metadata": {},
   "outputs": [
    {
     "data": {
      "text/plain": [
       "0.89040106108668637"
      ]
     },
     "execution_count": 16,
     "metadata": {},
     "output_type": "execute_result"
    }
   ],
   "source": [
    "rf_clf = RandomForestClassifier(class_weight = 'balanced', random_state = 42, max_depth = 50, min_impurity_decrease = 0.0001)\n",
    "\n",
    "cv_score(rf_clf, Xtrain, ytrain)"
   ]
  },
  {
   "cell_type": "markdown",
   "metadata": {},
   "source": [
    "Looks like max depth 50 and max depth 100 are tied."
   ]
  },
  {
   "cell_type": "code",
   "execution_count": 14,
   "metadata": {},
   "outputs": [
    {
     "name": "stdout",
     "output_type": "stream",
     "text": [
      "             precision    recall  f1-score   support\n",
      "\n",
      "          0       0.85      0.93      0.89      6789\n",
      "          1       0.96      0.93      0.95     11323\n",
      "          2       0.88      0.90      0.89      9349\n",
      "          3       0.96      0.92      0.94     11043\n",
      "\n",
      "avg / total       0.92      0.92      0.92     38504\n",
      "\n"
     ]
    }
   ],
   "source": [
    "rf_clf = RandomForestClassifier(class_weight = 'balanced', random_state = 42, max_depth = 100, min_impurity_decrease = 0.0001)\n",
    "\n",
    "rf_clf.fit(Xtrain, ytrain)\n",
    "print(classification_report(ytrain, rf_clf.predict(Xtrain)))"
   ]
  },
  {
   "cell_type": "markdown",
   "metadata": {},
   "source": [
    "Recall is in the 90s for all four classes. Precision between 0.85 and 0.96. Overall classifier is pretty good."
   ]
  },
  {
   "cell_type": "code",
   "execution_count": 17,
   "metadata": {},
   "outputs": [
    {
     "data": {
      "text/plain": [
       "[('pres_Trump', 0.096115933978131188),\n",
       " ('CC16_426_4_Increase', 0.062585514638449219),\n",
       " ('CC16_351I', 0.059975141613776352),\n",
       " ('CC16_426_3_Increase', 0.049960428933316564),\n",
       " ('CC16_426_5_Increase', 0.047319607826018933),\n",
       " ('CC16_333a', 0.042830284616385841),\n",
       " ('CC16_426_2_Maintain', 0.03831421756056607),\n",
       " ('CC16_333d', 0.033359403576747174),\n",
       " ('CC16_426_4_Maintain', 0.032103157221335166),\n",
       " ('CC16_332c', 0.029438673036061451),\n",
       " ('CC16_351K', 0.025064578823635865),\n",
       " ('CC16_426_2_Increase', 0.024296039754639894),\n",
       " ('CC16_332d', 0.023860372254666435),\n",
       " ('CC16_426_3_Maintain', 0.023002863574235304),\n",
       " ('CC16_426_5_Maintain', 0.022966501094107476),\n",
       " ('CC16_422d_Disagree', 0.02237878852590278),\n",
       " ('CC16_332e', 0.021835659581422757),\n",
       " ('CC16_332b', 0.02036824531908572),\n",
       " ('CC16_330d', 0.019423866594703222),\n",
       " ('CC16_333c', 0.018774839327500591),\n",
       " ('CC16_333b', 0.014265906181209121),\n",
       " ('pres_None', 0.013887778327782993),\n",
       " ('CC16_335', 0.013812551215843637),\n",
       " ('voted', 0.013229528343572414),\n",
       " ('CC16_331_1', 0.013113232149947912),\n",
       " ('CC16_332a', 0.012834635628672023),\n",
       " ('CC16_331_7', 0.012801577438980966),\n",
       " ('CC16_331_3', 0.012450820470975571),\n",
       " ('CC16_334a', 0.01235315546408732),\n",
       " ('CC16_417a_4', 0.0093515937269270689),\n",
       " ('age', 0.0089227503441195351),\n",
       " ('CC16_426_1_Increase', 0.0087065640170777316),\n",
       " ('CC16_327', 0.0072232493863949709),\n",
       " ('CC16_330e', 0.0070828640830389918),\n",
       " ('CC16_426_1_Maintain', 0.0061670667390870317),\n",
       " ('CC16_330a', 0.0060957018811951414),\n",
       " ('CC16_331_2', 0.0059073412138809251),\n",
       " ('religimp_Very important', 0.0055115476843489893),\n",
       " ('Party_Republican', 0.0054345854535585297),\n",
       " ('CC16_351B', 0.0049774607147536221),\n",
       " ('CC16_334c', 0.0045268178924047098),\n",
       " ('CC16_414_6', 0.0044784281841764254),\n",
       " ('CC16_414_2', 0.0043340473211731312),\n",
       " ('faminc', 0.0041114761868691089),\n",
       " ('CC16_422f_Neutral', 0.0039629308227137937),\n",
       " ('relig_Protestant', 0.0035670710765439801),\n",
       " ('CC16_422f_Disagree', 0.0034128569771871642),\n",
       " ('pew_bornagain', 0.0033870812737960667),\n",
       " ('CC16_332f', 0.0030244945448242885),\n",
       " ('CC16_414_3', 0.0028208623348297953),\n",
       " ('CC16_422d_Neutral', 0.0026461702769835652),\n",
       " ('votereg_post', 0.0024699230329554107),\n",
       " ('investor', 0.0024146572678537797),\n",
       " ('college', 0.0022654587439196682),\n",
       " ('gender', 0.0021671120383366868),\n",
       " ('CC16_414_5', 0.0021355117714168459),\n",
       " ('CC16_422e_Disagree', 0.0020252033528762813),\n",
       " ('race_Black', 0.0015066302473665022),\n",
       " ('CC16_330b', 0.0014482450047715253),\n",
       " ('milstat_4', 0.0014389608204515452),\n",
       " ('relig_Nothing in particular', 0.0013583478779575573),\n",
       " ('CC16_351F', 0.001324580229502479),\n",
       " ('CC16_351G', 0.0012786613790781228),\n",
       " ('CC16_334d', 0.001274471796753988),\n",
       " ('race_White', 0.0012669446691423391),\n",
       " ('relig_Atheist', 0.0012050757701215871),\n",
       " ('mar_Single', 0.0011071512512897317),\n",
       " ('CC16_414_1', 0.0010685721299195897),\n",
       " ('CC16_422e_Neutral', 0.0010558641560587132),\n",
       " ('CC16_422c_Neutral', 0.001044422666523645),\n",
       " ('Party_Independent', 0.0010046703302790303),\n",
       " ('child18', 0.00098743247239010544),\n",
       " ('family_vet', 0.00090548641657853973),\n",
       " ('religimp_Somewhat important', 0.00087062302101647128),\n",
       " ('mar_Married', 0.00083531603070644814),\n",
       " ('religimp_Not too important', 0.00083078977874955059),\n",
       " ('immigrant', 0.00073293603896083315),\n",
       " ('CC16_351H', 0.00071912631138601035),\n",
       " ('veteran', 0.00071280279289551596),\n",
       " ('edloan', 0.00070263038715925245),\n",
       " ('union_member', 0.00068376837607789643),\n",
       " ('CC16_414_4', 0.00067573245405216085),\n",
       " ('employ_Part-time', 0.00066941891818550416),\n",
       " ('milstat_3', 0.00066193294127559464),\n",
       " ('relig_Roman Catholic', 0.00059597052595817071),\n",
       " ('CC16_417a_2', 0.00056676981860599317),\n",
       " ('pres_Johnson', 0.00055357774457866357),\n",
       " ('CC16_334b', 0.00054015213733417389),\n",
       " ('employ_Homemaker', 0.00052456817247170033),\n",
       " ('CC16_417a_1', 0.00051267754935497743),\n",
       " ('hispanic', 0.00050490763237508499),\n",
       " ('CC16_417a_5', 0.0004821322071829742),\n",
       " ('employ_Retired', 0.00047482071980744811),\n",
       " ('straight', 0.0004505142652667535),\n",
       " ('employ_Permanently disabled', 0.00043731985837790633),\n",
       " ('employ_Unemployed', 0.00038934097794666626),\n",
       " ('CC16_422c_Disagree', 0.00036828364455677971),\n",
       " ('CC16_418a', 0.00036793531392354667),\n",
       " ('employ_Student', 0.00036290456374957637),\n",
       " ('CC16_351E', 0.00035094643607024928),\n",
       " ('milstat_2', 0.00029584319180982123),\n",
       " ('relig_Something else', 0.00028964038853832708),\n",
       " ('pres_Stein', 0.00028803012457088414),\n",
       " ('employ_Other', 0.00028360750473408641),\n",
       " ('relig_Jewish', 0.0002750928085043647),\n",
       " ('pres_Other', 0.00023981812211370333),\n",
       " ('relig_Mormon', 0.00022209507887559232),\n",
       " ('mar_Separated', 0.00019565810475831853),\n",
       " ('mar_Widowed', 0.00017926772512629475),\n",
       " ('CC16_417a_3', 0.00016741107921592024),\n",
       " ('mar_Domestic partnership', 0.00014695206907122806),\n",
       " ('race_Other', 0.00013354299038761873),\n",
       " ('trans', 0.00010769556323604056),\n",
       " ('relig_Buddhist', 9.0352223789053212e-05),\n",
       " ('employ_Temporarily laid off', 7.8749096386455798e-05),\n",
       " ('relig_Muslim', 6.4431193664030932e-05),\n",
       " ('milstat_1', 6.0843994643082585e-05),\n",
       " ('pres_McMullin', 5.0577498715454818e-05),\n",
       " ('relig_Eastern or Greek Orthodox', 4.0945227188849461e-05),\n",
       " ('relig_Hindu', 3.4906853751180565e-05),\n",
       " ('race_Native American', 2.5825428449918177e-05),\n",
       " ('race_Mixed', 2.1166481255696749e-05),\n",
       " ('race_Middle Eastern', 0.0)]"
      ]
     },
     "execution_count": 17,
     "metadata": {},
     "output_type": "execute_result"
    }
   ],
   "source": [
    "feature_importances = list(rf_clf.feature_importances_)\n",
    "\n",
    "ranked = []\n",
    "for var in zip(variables, feature_importances):\n",
    "    ranked.append(var)\n",
    "    \n",
    "ranked = sorted(ranked, key = lambda x: x[1], reverse = True)\n",
    "ranked"
   ]
  },
  {
   "cell_type": "markdown",
   "metadata": {},
   "source": [
    "CC16_351I is repeal ACA (should add this to EDA)\n",
    "\n",
    "CC16_426_4 is spending on law enforcement\n",
    "\n",
    "CC16_426_3 is spending on education (for state legislatures)\n",
    "\n",
    "CC16_426_5 is spending on infrastructure spending\n",
    "\n",
    "CC16_333a is power to regulate CO2"
   ]
  }
 ],
 "metadata": {
  "kernelspec": {
   "display_name": "Python 3",
   "language": "python",
   "name": "python3"
  },
  "language_info": {
   "codemirror_mode": {
    "name": "ipython",
    "version": 3
   },
   "file_extension": ".py",
   "mimetype": "text/x-python",
   "name": "python",
   "nbconvert_exporter": "python",
   "pygments_lexer": "ipython3",
   "version": "3.6.3"
  }
 },
 "nbformat": 4,
 "nbformat_minor": 2
}
