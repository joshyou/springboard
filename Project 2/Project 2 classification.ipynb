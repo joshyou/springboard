{
 "cells": [
  {
   "cell_type": "code",
   "execution_count": 9,
   "metadata": {
    "collapsed": true
   },
   "outputs": [],
   "source": [
    "import pandas as pd\n",
    "import numpy as np\n",
    "\n",
    "from sklearn.linear_model import LogisticRegression\n",
    "from sklearn.ensemble import RandomForestClassifier\n",
    "from sklearn.model_selection import train_test_split\n",
    "from sklearn.metrics import accuracy_score\n",
    "from sklearn.model_selection import KFold\n",
    "from sklearn.metrics import classification_report"
   ]
  },
  {
   "cell_type": "code",
   "execution_count": 2,
   "metadata": {
    "collapsed": true
   },
   "outputs": [],
   "source": [
    "def cv_score(clf, x, y, score_func=accuracy_score):\n",
    "    result = 0\n",
    "    nfold = 5\n",
    "    for train, test in KFold(nfold, random_state = 42).split(x): # split data into train/test groups, 5 times\n",
    "        clf.fit(x[train], y.iloc[train]) # fit\n",
    "        result += score_func(clf.predict(x[test]), y.iloc[test]) # evaluate score function on held-out data\n",
    "    return result / nfold # average"
   ]
  },
  {
   "cell_type": "code",
   "execution_count": 4,
   "metadata": {
    "collapsed": true
   },
   "outputs": [],
   "source": [
    "df = pd.read_csv('clustered.csv')"
   ]
  },
  {
   "cell_type": "code",
   "execution_count": 8,
   "metadata": {},
   "outputs": [
    {
     "name": "stdout",
     "output_type": "stream",
     "text": [
      "['gender', 'CC16_331_1', 'CC16_331_2', 'CC16_331_3', 'CC16_331_7', 'milstat_1', 'milstat_2', 'milstat_3', 'milstat_4', 'CC16_351K', 'faminc', 'CC16_334a', 'CC16_334b', 'CC16_334d', 'pew_bornagain', 'CC16_334c', 'CC16_333d', 'CC16_333b', 'CC16_333a', 'CC16_332a', 'CC16_332d', 'CC16_332e', 'CC16_333c', 'CC16_332c', 'CC16_332f', 'CC16_351I', 'CC16_332b', 'child18', 'CC16_351B', 'CC16_351E', 'CC16_327', 'CC16_351G', 'CC16_351F', 'CC16_330a', 'CC16_351H', 'CC16_330e', 'CC16_330b', 'CC16_330d', 'CC16_335', 'hispanic', 'investor', 'trans', 'votereg_post', 'CC16_414_1', 'CC16_414_2', 'CC16_414_3', 'CC16_414_4', 'CC16_414_5', 'CC16_414_6', 'CC16_417a_1', 'CC16_417a_2', 'CC16_417a_3', 'CC16_417a_4', 'CC16_417a_5', 'edloan', 'CC16_418a', 'voted', 'age', 'CC16_422d_Disagree', 'CC16_422d_Neutral', 'CC16_422c_Disagree', 'CC16_422c_Neutral', 'CC16_422f_Disagree', 'CC16_422f_Neutral', 'CC16_422e_Disagree', 'CC16_422e_Neutral', 'CC16_426_1_Increase', 'CC16_426_1_Maintain', 'CC16_426_2_Increase', 'CC16_426_2_Maintain', 'CC16_426_3_Increase', 'CC16_426_3_Maintain', 'CC16_426_5_Increase', 'CC16_426_5_Maintain', 'CC16_426_4_Increase', 'CC16_426_4_Maintain', 'veteran', 'family_vet', 'race_Black', 'race_Middle Eastern', 'race_Mixed', 'race_Native American', 'race_Other', 'race_White', 'college', 'Party_Independent', 'Party_Republican', 'relig_Atheist', 'relig_Buddhist', 'relig_Eastern or Greek Orthodox', 'relig_Hindu', 'relig_Jewish', 'relig_Mormon', 'relig_Muslim', 'relig_Nothing in particular', 'relig_Protestant', 'relig_Roman Catholic', 'relig_Something else', 'straight', 'immigrant', 'union_member', 'pres_Johnson', 'pres_McMullin', 'pres_None', 'pres_Other', 'pres_Stein', 'pres_Trump', 'employ_Homemaker', 'employ_Other', 'employ_Part-time', 'employ_Permanently disabled', 'employ_Retired', 'employ_Student', 'employ_Temporarily laid off', 'employ_Unemployed', 'mar_Domestic partnership', 'mar_Married', 'mar_Separated', 'mar_Single', 'mar_Widowed', 'religimp_Not too important', 'religimp_Somewhat important', 'religimp_Very important']\n"
     ]
    }
   ],
   "source": [
    "variables = [col for col in df.columns if (col != 'four_cluster_label' and col != 'Unnamed: 0')]\n",
    "             \n",
    "print(variables)"
   ]
  },
  {
   "cell_type": "code",
   "execution_count": 10,
   "metadata": {
    "collapsed": true
   },
   "outputs": [],
   "source": [
    "Xtrain, Xtest, ytrain, ytest = train_test_split(df[variables].values, df['four_cluster_label'], random_state = 42, test_size = 0.2)"
   ]
  },
  {
   "cell_type": "code",
   "execution_count": 11,
   "metadata": {},
   "outputs": [
    {
     "data": {
      "text/plain": [
       "0.88834921084628926"
      ]
     },
     "execution_count": 11,
     "metadata": {},
     "output_type": "execute_result"
    }
   ],
   "source": [
    "rf_clf = RandomForestClassifier(random_state = 42, class_weight = 'balanced')\n",
    "cv_score(rf_clf, Xtrain, ytrain)"
   ]
  },
  {
   "cell_type": "code",
   "execution_count": 12,
   "metadata": {},
   "outputs": [
    {
     "name": "stdout",
     "output_type": "stream",
     "text": [
      "             precision    recall  f1-score   support\n",
      "\n",
      "          0       1.00      1.00      1.00      6789\n",
      "          1       1.00      1.00      1.00     11323\n",
      "          2       1.00      1.00      1.00      9349\n",
      "          3       1.00      1.00      1.00     11043\n",
      "\n",
      "avg / total       1.00      1.00      1.00     38504\n",
      "\n"
     ]
    }
   ],
   "source": [
    "rf_clf = RandomForestClassifier(class_weight = 'balanced', random_state = 42)\n",
    "\n",
    "rf_clf.fit(Xtrain, ytrain)\n",
    "print(classification_report(ytrain, rf_clf.predict(Xtrain)))"
   ]
  },
  {
   "cell_type": "markdown",
   "metadata": {},
   "source": [
    "damn overfitting!"
   ]
  },
  {
   "cell_type": "code",
   "execution_count": 14,
   "metadata": {},
   "outputs": [
    {
     "data": {
      "text/plain": [
       "[('pres_Trump', 0.060176709664620687),\n",
       " ('CC16_351I', 0.05784089690354359),\n",
       " ('CC16_426_4_Increase', 0.055287113917492324),\n",
       " ('CC16_426_5_Increase', 0.046933198773469367),\n",
       " ('CC16_426_3_Increase', 0.035106716257637546),\n",
       " ('CC16_333a', 0.031600996615693114),\n",
       " ('CC16_332c', 0.028180691571850519),\n",
       " ('CC16_333d', 0.027263229037199133),\n",
       " ('CC16_426_2_Increase', 0.02584564960978401),\n",
       " ('CC16_426_4_Maintain', 0.025736640877372086),\n",
       " ('CC16_426_2_Maintain', 0.02060175156917014),\n",
       " ('CC16_426_3_Maintain', 0.020537828627936322),\n",
       " ('CC16_330d', 0.020090015168719517),\n",
       " ('CC16_332e', 0.019488369778445192),\n",
       " ('CC16_332d', 0.018534443584809848),\n",
       " ('CC16_351K', 0.018443363343905162),\n",
       " ('age', 0.018436027354864958),\n",
       " ('CC16_422d_Disagree', 0.017811307753732832),\n",
       " ('CC16_426_5_Maintain', 0.016041232024652026),\n",
       " ('CC16_333b', 0.015374843731018847),\n",
       " ('CC16_335', 0.014370402598153743),\n",
       " ('CC16_333c', 0.014237345974437363),\n",
       " ('voted', 0.013952261832539514),\n",
       " ('CC16_331_1', 0.013042176802694363),\n",
       " ('CC16_331_3', 0.012808049533869315),\n",
       " ('faminc', 0.012752209822768725),\n",
       " ('CC16_332b', 0.011193672519093072),\n",
       " ('CC16_334a', 0.010715304397868958),\n",
       " ('CC16_332a', 0.0098959507290547651),\n",
       " ('CC16_331_7', 0.0093653745930468001),\n",
       " ('religimp_Very important', 0.0093549444829467213),\n",
       " ('CC16_422f_Disagree', 0.0092528584823719454),\n",
       " ('CC16_351B', 0.0092100351085967497),\n",
       " ('CC16_334c', 0.0085004704884453653),\n",
       " ('CC16_330e', 0.0082689524475530619),\n",
       " ('CC16_331_2', 0.0082016465466783536),\n",
       " ('Party_Republican', 0.0079424402370372391),\n",
       " ('CC16_426_1_Maintain', 0.0077936156686472958),\n",
       " ('CC16_327', 0.0077646936139297174),\n",
       " ('CC16_426_1_Increase', 0.0076915846463971038),\n",
       " ('CC16_414_6', 0.0075025799531133917),\n",
       " ('CC16_417a_4', 0.0072837579235088962),\n",
       " ('pres_None', 0.0069288047526543817),\n",
       " ('pew_bornagain', 0.0065768315744785281),\n",
       " ('CC16_414_5', 0.0057961559437764119),\n",
       " ('CC16_414_2', 0.0057506199362662731),\n",
       " ('CC16_330a', 0.0055546120275083051),\n",
       " ('CC16_414_3', 0.0051977328973991099),\n",
       " ('investor', 0.0051412642304098279),\n",
       " ('CC16_422e_Disagree', 0.0050023366366304632),\n",
       " ('gender', 0.0049636748618431068),\n",
       " ('college', 0.0049360243455049422),\n",
       " ('CC16_422f_Neutral', 0.0048705564424725385),\n",
       " ('relig_Protestant', 0.0047191856430227712),\n",
       " ('CC16_330b', 0.0044515074444541848),\n",
       " ('family_vet', 0.0039312830887944916),\n",
       " ('race_White', 0.0038918433096707923),\n",
       " ('child18', 0.0038355579172419129),\n",
       " ('CC16_422d_Neutral', 0.003766324658869614),\n",
       " ('mar_Married', 0.0037443301082956634),\n",
       " ('CC16_351G', 0.0037341906154564749),\n",
       " ('mar_Single', 0.0036410265572309462),\n",
       " ('milstat_4', 0.0035845444640111904),\n",
       " ('Party_Independent', 0.0035630504587114394),\n",
       " ('CC16_351H', 0.003483438346410646),\n",
       " ('relig_Nothing in particular', 0.0032963142467059879),\n",
       " ('religimp_Somewhat important', 0.0032889768491901491),\n",
       " ('CC16_351F', 0.0032865329993301334),\n",
       " ('CC16_422e_Neutral', 0.0032448610474017452),\n",
       " ('CC16_414_1', 0.0030871998941775715),\n",
       " ('edloan', 0.0030293076124335702),\n",
       " ('relig_Roman Catholic', 0.0029790048276683335),\n",
       " ('CC16_334d', 0.0028843686999284069),\n",
       " ('union_member', 0.0028083064161026003),\n",
       " ('votereg_post', 0.0027802295426719429),\n",
       " ('CC16_351E', 0.0027462849730871966),\n",
       " ('CC16_414_4', 0.002624195674273144),\n",
       " ('CC16_332f', 0.0025239028793022185),\n",
       " ('religimp_Not too important', 0.0025152789538907274),\n",
       " ('employ_Retired', 0.0025051790184804782),\n",
       " ('race_Black', 0.002497637918459568),\n",
       " ('CC16_417a_2', 0.0024147698561693804),\n",
       " ('CC16_417a_1', 0.0024066321223172524),\n",
       " ('CC16_422c_Neutral', 0.0023235947921308418),\n",
       " ('CC16_334b', 0.0022798513343282459),\n",
       " ('milstat_3', 0.0021223880025689995),\n",
       " ('employ_Part-time', 0.0019664422849094902),\n",
       " ('hispanic', 0.0019644994831452449),\n",
       " ('veteran', 0.0018900571671062304),\n",
       " ('immigrant', 0.0018814144625502176),\n",
       " ('employ_Homemaker', 0.0018405068227263029),\n",
       " ('relig_Atheist', 0.0018280549240938394),\n",
       " ('CC16_417a_5', 0.0018190797758229405),\n",
       " ('straight', 0.0016716589098649988),\n",
       " ('employ_Permanently disabled', 0.0014497999249940352),\n",
       " ('employ_Unemployed', 0.0014127447558930175),\n",
       " ('relig_Something else', 0.0013517528735883921),\n",
       " ('pres_Johnson', 0.0013411964121353643),\n",
       " ('milstat_2', 0.00125982703851306),\n",
       " ('mar_Widowed', 0.0012030211579211413),\n",
       " ('mar_Domestic partnership', 0.0010004657562594312),\n",
       " ('employ_Student', 0.0010002126036484228),\n",
       " ('CC16_417a_3', 0.00095827384922200364),\n",
       " ('CC16_422c_Disagree', 0.00094173469258016992),\n",
       " ('pres_Other', 0.00087601176370298724),\n",
       " ('relig_Jewish', 0.00083179301604079602),\n",
       " ('race_Mixed', 0.00071529140012749066),\n",
       " ('CC16_418a', 0.00070084499826344267),\n",
       " ('pres_Stein', 0.00062703790215698323),\n",
       " ('mar_Separated', 0.00055525927523716314),\n",
       " ('trans', 0.00049510361894918573),\n",
       " ('employ_Other', 0.00049508539439809939),\n",
       " ('relig_Mormon', 0.00044807878101388109),\n",
       " ('relig_Buddhist', 0.000412985428967823),\n",
       " ('race_Other', 0.00031827287888183101),\n",
       " ('relig_Muslim', 0.00028361962676642591),\n",
       " ('milstat_1', 0.00023670668174097272),\n",
       " ('race_Native American', 0.0002345819240750832),\n",
       " ('employ_Temporarily laid off', 0.00021510622937577538),\n",
       " ('relig_Eastern or Greek Orthodox', 0.00020217765518324289),\n",
       " ('pres_McMullin', 0.00019128063971814824),\n",
       " ('relig_Hindu', 0.00017172043306095606),\n",
       " ('race_Middle Eastern', 6.723096696319176e-05)]"
      ]
     },
     "execution_count": 14,
     "metadata": {},
     "output_type": "execute_result"
    }
   ],
   "source": [
    "feature_importances = list(rf_clf.feature_importances_)\n",
    "\n",
    "ranked = []\n",
    "for var in zip(variables, feature_importances):\n",
    "    ranked.append(var)\n",
    "    \n",
    "ranked = sorted(ranked, key = lambda x: x[1], reverse = True)\n",
    "ranked"
   ]
  }
 ],
 "metadata": {
  "kernelspec": {
   "display_name": "Python 3",
   "language": "python",
   "name": "python3"
  },
  "language_info": {
   "codemirror_mode": {
    "name": "ipython",
    "version": 3
   },
   "file_extension": ".py",
   "mimetype": "text/x-python",
   "name": "python",
   "nbconvert_exporter": "python",
   "pygments_lexer": "ipython3",
   "version": "3.6.3"
  }
 },
 "nbformat": 4,
 "nbformat_minor": 2
}
