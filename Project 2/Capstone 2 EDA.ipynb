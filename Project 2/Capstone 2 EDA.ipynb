{
 "cells": [
  {
   "cell_type": "code",
   "execution_count": 10,
   "metadata": {
    "collapsed": true
   },
   "outputs": [],
   "source": [
    "import pandas as pd\n",
    "import matplotlib.pyplot as plt\n",
    "\n",
    "df = pd.read_csv('cleaned.csv')"
   ]
  },
  {
   "cell_type": "code",
   "execution_count": 9,
   "metadata": {},
   "outputs": [
    {
     "data": {
      "text/html": [
       "<div>\n",
       "<style>\n",
       "    .dataframe thead tr:only-child th {\n",
       "        text-align: right;\n",
       "    }\n",
       "\n",
       "    .dataframe thead th {\n",
       "        text-align: left;\n",
       "    }\n",
       "\n",
       "    .dataframe tbody tr th {\n",
       "        vertical-align: top;\n",
       "    }\n",
       "</style>\n",
       "<table border=\"1\" class=\"dataframe\">\n",
       "  <thead>\n",
       "    <tr style=\"text-align: right;\">\n",
       "      <th></th>\n",
       "      <th>views</th>\n",
       "      <th>orders</th>\n",
       "    </tr>\n",
       "  </thead>\n",
       "  <tbody>\n",
       "    <tr>\n",
       "      <th>0</th>\n",
       "      <td>23</td>\n",
       "      <td>123</td>\n",
       "    </tr>\n",
       "    <tr>\n",
       "      <th>1</th>\n",
       "      <td>135</td>\n",
       "      <td>500</td>\n",
       "    </tr>\n",
       "    <tr>\n",
       "      <th>2</th>\n",
       "      <td>3</td>\n",
       "      <td>1</td>\n",
       "    </tr>\n",
       "  </tbody>\n",
       "</table>\n",
       "</div>"
      ],
      "text/plain": [
       "   views  orders\n",
       "0     23     123\n",
       "1    135     500\n",
       "2      3       1"
      ]
     },
     "execution_count": 9,
     "metadata": {},
     "output_type": "execute_result"
    }
   ],
   "source": [
    "df.head()"
   ]
  },
  {
   "cell_type": "code",
   "execution_count": 3,
   "metadata": {},
   "outputs": [
    {
     "name": "stdout",
     "output_type": "stream",
     "text": [
      "CC16_327\n",
      "CC16_330a\n",
      "CC16_330b\n",
      "CC16_330d\n",
      "CC16_330e\n",
      "CC16_331_1\n",
      "CC16_331_2\n",
      "CC16_331_3\n",
      "CC16_331_7\n",
      "CC16_332a\n",
      "CC16_332b\n",
      "CC16_332c\n",
      "CC16_332d\n",
      "CC16_332e\n",
      "CC16_332f\n",
      "CC16_333a\n",
      "CC16_333b\n",
      "CC16_333c\n",
      "CC16_333d\n",
      "CC16_334a\n",
      "CC16_334b\n",
      "CC16_334c\n",
      "CC16_334d\n",
      "CC16_335\n",
      "CC16_351B\n",
      "CC16_351E\n",
      "CC16_351F\n",
      "CC16_351G\n",
      "CC16_351H\n",
      "CC16_351I\n",
      "CC16_351K\n",
      "CC16_410a\n",
      "CC16_414_1\n",
      "CC16_414_2\n",
      "CC16_414_3\n",
      "CC16_414_4\n",
      "CC16_414_5\n",
      "CC16_414_6\n",
      "CC16_417a_1\n",
      "CC16_417a_2\n",
      "CC16_417a_3\n",
      "CC16_417a_4\n",
      "CC16_417a_5\n",
      "CC16_418a\n",
      "CC16_421a\n",
      "CC16_422c\n",
      "CC16_422d\n",
      "CC16_422e\n",
      "CC16_422f\n",
      "CC16_426_1\n",
      "CC16_426_2\n",
      "CC16_426_3\n",
      "CC16_426_4\n",
      "CC16_426_5\n",
      "Unnamed: 0\n",
      "age\n",
      "child18\n",
      "edloan\n",
      "educ\n",
      "employ\n",
      "faminc\n",
      "faminc_int\n",
      "gender\n",
      "hispanic\n",
      "ideo5\n",
      "immstat\n",
      "inputstate\n",
      "inputstate_post\n",
      "investor\n",
      "marstat\n",
      "milstat_1\n",
      "ownhome\n",
      "pew_bornagain\n",
      "pew_religimp\n",
      "pid3\n",
      "race\n",
      "religpew\n",
      "sexuality\n",
      "tookpost\n",
      "trans\n",
      "union\n",
      "unionhh\n",
      "voted\n",
      "votereg_post\n"
     ]
    }
   ],
   "source": [
    "for col in df.columns.sort_values():\n",
    "    print(col)"
   ]
  },
  {
   "cell_type": "markdown",
   "metadata": {},
   "source": [
    "to do: clean more columns, convert to numerical (like survey questions, education)"
   ]
  },
  {
   "cell_type": "markdown",
   "metadata": {},
   "source": [
    "Let's explore some basic distributions:"
   ]
  },
  {
   "cell_type": "code",
   "execution_count": 15,
   "metadata": {},
   "outputs": [
    {
     "data": {
      "image/png": "[encoded data removed]",
      "text/plain": [
       "<matplotlib.figure.Figure at 0x266f49245c0>"
      ]
     },
     "metadata": {},
     "output_type": "display_data"
    }
   ],
   "source": [
    "_ = df['age'].plot(kind = 'hist', bins = 20)\n",
    "_ = plt.title(\"Distribution of age among survey respondents\")\n",
    "plt.show()"
   ]
  },
  {
   "cell_type": "code",
   "execution_count": 29,
   "metadata": {},
   "outputs": [
    {
     "data": {
      "text/plain": [
       "count    48125.000000\n",
       "mean        52.448623\n",
       "std         16.138152\n",
       "min         20.000000\n",
       "25%         38.000000\n",
       "50%         54.000000\n",
       "75%         65.000000\n",
       "max         97.000000\n",
       "Name: age, dtype: float64"
      ]
     },
     "execution_count": 29,
     "metadata": {},
     "output_type": "execute_result"
    }
   ],
   "source": [
    "df['age'].describe()"
   ]
  },
  {
   "cell_type": "markdown",
   "metadata": {},
   "source": [
    "Median age is 54, mean is 52. Distribution appears to be possibly bimodal. "
   ]
  },
  {
   "cell_type": "code",
   "execution_count": 31,
   "metadata": {},
   "outputs": [
    {
     "data": {
      "image/png": "[encoded data removed]",
      "text/plain": [
       "<matplotlib.figure.Figure at 0x266f459a400>"
      ]
     },
     "metadata": {},
     "output_type": "display_data"
    }
   ],
   "source": [
    "_ = df['faminc_int'].plot(kind = 'hist', bins = 20)\n",
    "_ = plt.title(\"Distribution of family income among survey respondents\")\n",
    "plt.show()"
   ]
  },
  {
   "cell_type": "markdown",
   "metadata": {},
   "source": [
    "pretty right skewed"
   ]
  },
  {
   "cell_type": "code",
   "execution_count": 43,
   "metadata": {},
   "outputs": [
    {
     "data": {
      "image/png": "[encoded data removed]",
      "text/plain": [
       "<matplotlib.figure.Figure at 0x266808a26d8>"
      ]
     },
     "metadata": {},
     "output_type": "display_data"
    }
   ],
   "source": [
    "religions = df.groupby(['religpew']).size().sort_values(ascending = False) / df.shape[0]\n",
    "_ = religions.plot(kind= 'bar', rot = 70)\n",
    "_ = plt.title(\"Respondents by religion\")\n",
    "plt.show()"
   ]
  },
  {
   "cell_type": "markdown",
   "metadata": {},
   "source": [
    "Break down things by party ID, vote? double bar charts, stacked histograms, etc."
   ]
  },
  {
   "cell_type": "code",
   "execution_count": 15,
   "metadata": {},
   "outputs": [
    {
     "data": {
      "image/png": "[encoded data removed]",
      "text/plain": [
       "<matplotlib.figure.Figure at 0x2b0ebbd6a20>"
      ]
     },
     "metadata": {},
     "output_type": "display_data"
    }
   ],
   "source": [
    "#df.loc[df['CC16_410a'] == 'Donald Trump (Republican)'].groupby(['race', 'CC16_410a']).size()\n",
    "\n",
    "Trump_race = df.loc[df['CC16_410a'] == 'Donald Trump (Republican)'].groupby(['race']).size()\n",
    "\n",
    "Clinton_race = df.loc[df['CC16_410a'] == 'Hillary Clinton (Democrat)'].groupby(['race']).size()\n",
    "\n",
    "race_ratio = Trump_race / (Trump_race + Clinton_race)\n",
    "\n",
    "race_ratio.sort_values(inplace = True)\n",
    "\n",
    "_ = race_ratio.plot(kind= 'bar', rot = 70)\n",
    "_ = plt.title(\"Trump's share of two-party vote by race\")\n",
    "plt.show()"
   ]
  },
  {
   "cell_type": "code",
   "execution_count": 48,
   "metadata": {},
   "outputs": [],
   "source": [
    "race_pres = df.loc[(df['CC16_410a'] == 'Donald Trump (Republican)') \n",
    "       | (df['CC16_410a'] == 'Hillary Clinton (Democrat)')].groupby(['race', 'CC16_410a']).size()\n",
    "\n",
    "total = df.loc[(df['CC16_410a'] == 'Donald Trump (Republican)') \n",
    "       | (df['CC16_410a'] == 'Hillary Clinton (Democrat)')].groupby(['race']).size()\n",
    "\n",
    "race_ratio = race_pres / total"
   ]
  },
  {
   "cell_type": "code",
   "execution_count": 49,
   "metadata": {},
   "outputs": [
    {
     "data": {
      "text/plain": [
       "race             CC16_410a                 \n",
       "Asian            Donald Trump (Republican)     0.283168\n",
       "                 Hillary Clinton (Democrat)    0.716832\n",
       "Black            Donald Trump (Republican)     0.068898\n",
       "                 Hillary Clinton (Democrat)    0.931102\n",
       "Hispanic         Donald Trump (Republican)     0.304187\n",
       "                 Hillary Clinton (Democrat)    0.695813\n",
       "Middle Eastern   Donald Trump (Republican)     0.283333\n",
       "                 Hillary Clinton (Democrat)    0.716667\n",
       "Mixed            Donald Trump (Republican)     0.327957\n",
       "                 Hillary Clinton (Democrat)    0.672043\n",
       "Native American  Donald Trump (Republican)     0.594771\n",
       "                 Hillary Clinton (Democrat)    0.405229\n",
       "Other            Donald Trump (Republican)     0.680851\n",
       "                 Hillary Clinton (Democrat)    0.319149\n",
       "White            Donald Trump (Republican)     0.521829\n",
       "                 Hillary Clinton (Democrat)    0.478171\n",
       "dtype: float64"
      ]
     },
     "execution_count": 49,
     "metadata": {},
     "output_type": "execute_result"
    }
   ],
   "source": [
    "race_ratio"
   ]
  },
  {
   "cell_type": "code",
   "execution_count": 50,
   "metadata": {},
   "outputs": [
    {
     "data": {
      "text/html": [
       "<div>\n",
       "<style>\n",
       "    .dataframe thead tr:only-child th {\n",
       "        text-align: right;\n",
       "    }\n",
       "\n",
       "    .dataframe thead th {\n",
       "        text-align: left;\n",
       "    }\n",
       "\n",
       "    .dataframe tbody tr th {\n",
       "        vertical-align: top;\n",
       "    }\n",
       "</style>\n",
       "<table border=\"1\" class=\"dataframe\">\n",
       "  <thead>\n",
       "    <tr style=\"text-align: right;\">\n",
       "      <th></th>\n",
       "      <th></th>\n",
       "      <th>0</th>\n",
       "    </tr>\n",
       "    <tr>\n",
       "      <th>race</th>\n",
       "      <th>CC16_410a</th>\n",
       "      <th></th>\n",
       "    </tr>\n",
       "  </thead>\n",
       "  <tbody>\n",
       "    <tr>\n",
       "      <th rowspan=\"2\" valign=\"top\">Asian</th>\n",
       "      <th>Donald Trump (Republican)</th>\n",
       "      <td>0.283168</td>\n",
       "    </tr>\n",
       "    <tr>\n",
       "      <th>Hillary Clinton (Democrat)</th>\n",
       "      <td>0.716832</td>\n",
       "    </tr>\n",
       "    <tr>\n",
       "      <th rowspan=\"2\" valign=\"top\">Black</th>\n",
       "      <th>Donald Trump (Republican)</th>\n",
       "      <td>0.068898</td>\n",
       "    </tr>\n",
       "    <tr>\n",
       "      <th>Hillary Clinton (Democrat)</th>\n",
       "      <td>0.931102</td>\n",
       "    </tr>\n",
       "    <tr>\n",
       "      <th rowspan=\"2\" valign=\"top\">Hispanic</th>\n",
       "      <th>Donald Trump (Republican)</th>\n",
       "      <td>0.304187</td>\n",
       "    </tr>\n",
       "    <tr>\n",
       "      <th>Hillary Clinton (Democrat)</th>\n",
       "      <td>0.695813</td>\n",
       "    </tr>\n",
       "    <tr>\n",
       "      <th rowspan=\"2\" valign=\"top\">Middle Eastern</th>\n",
       "      <th>Donald Trump (Republican)</th>\n",
       "      <td>0.283333</td>\n",
       "    </tr>\n",
       "    <tr>\n",
       "      <th>Hillary Clinton (Democrat)</th>\n",
       "      <td>0.716667</td>\n",
       "    </tr>\n",
       "    <tr>\n",
       "      <th rowspan=\"2\" valign=\"top\">Mixed</th>\n",
       "      <th>Donald Trump (Republican)</th>\n",
       "      <td>0.327957</td>\n",
       "    </tr>\n",
       "    <tr>\n",
       "      <th>Hillary Clinton (Democrat)</th>\n",
       "      <td>0.672043</td>\n",
       "    </tr>\n",
       "    <tr>\n",
       "      <th rowspan=\"2\" valign=\"top\">Native American</th>\n",
       "      <th>Donald Trump (Republican)</th>\n",
       "      <td>0.594771</td>\n",
       "    </tr>\n",
       "    <tr>\n",
       "      <th>Hillary Clinton (Democrat)</th>\n",
       "      <td>0.405229</td>\n",
       "    </tr>\n",
       "    <tr>\n",
       "      <th rowspan=\"2\" valign=\"top\">Other</th>\n",
       "      <th>Donald Trump (Republican)</th>\n",
       "      <td>0.680851</td>\n",
       "    </tr>\n",
       "    <tr>\n",
       "      <th>Hillary Clinton (Democrat)</th>\n",
       "      <td>0.319149</td>\n",
       "    </tr>\n",
       "    <tr>\n",
       "      <th rowspan=\"2\" valign=\"top\">White</th>\n",
       "      <th>Donald Trump (Republican)</th>\n",
       "      <td>0.521829</td>\n",
       "    </tr>\n",
       "    <tr>\n",
       "      <th>Hillary Clinton (Democrat)</th>\n",
       "      <td>0.478171</td>\n",
       "    </tr>\n",
       "  </tbody>\n",
       "</table>\n",
       "</div>"
      ],
      "text/plain": [
       "                                                   0\n",
       "race            CC16_410a                           \n",
       "Asian           Donald Trump (Republican)   0.283168\n",
       "                Hillary Clinton (Democrat)  0.716832\n",
       "Black           Donald Trump (Republican)   0.068898\n",
       "                Hillary Clinton (Democrat)  0.931102\n",
       "Hispanic        Donald Trump (Republican)   0.304187\n",
       "                Hillary Clinton (Democrat)  0.695813\n",
       "Middle Eastern  Donald Trump (Republican)   0.283333\n",
       "                Hillary Clinton (Democrat)  0.716667\n",
       "Mixed           Donald Trump (Republican)   0.327957\n",
       "                Hillary Clinton (Democrat)  0.672043\n",
       "Native American Donald Trump (Republican)   0.594771\n",
       "                Hillary Clinton (Democrat)  0.405229\n",
       "Other           Donald Trump (Republican)   0.680851\n",
       "                Hillary Clinton (Democrat)  0.319149\n",
       "White           Donald Trump (Republican)   0.521829\n",
       "                Hillary Clinton (Democrat)  0.478171"
      ]
     },
     "execution_count": 50,
     "metadata": {},
     "output_type": "execute_result"
    }
   ],
   "source": [
    "race_ratio = race_ratio.to_frame()\n",
    "\n",
    "race_ratio"
   ]
  },
  {
   "cell_type": "code",
   "execution_count": null,
   "metadata": {},
   "outputs": [],
   "source": [
    "race_ratio = race_ratio.reset_index(level=[0,1])\n",
    "race_ratio"
   ]
  },
  {
   "cell_type": "code",
   "execution_count": 55,
   "metadata": {},
   "outputs": [
    {
     "data": {
      "text/html": [
       "<div>\n",
       "<style>\n",
       "    .dataframe thead tr:only-child th {\n",
       "        text-align: right;\n",
       "    }\n",
       "\n",
       "    .dataframe thead th {\n",
       "        text-align: left;\n",
       "    }\n",
       "\n",
       "    .dataframe tbody tr th {\n",
       "        vertical-align: top;\n",
       "    }\n",
       "</style>\n",
       "<table border=\"1\" class=\"dataframe\">\n",
       "  <thead>\n",
       "    <tr style=\"text-align: right;\">\n",
       "      <th>CC16_410a</th>\n",
       "      <th>Donald Trump (Republican)</th>\n",
       "      <th>Hillary Clinton (Democrat)</th>\n",
       "    </tr>\n",
       "    <tr>\n",
       "      <th>race</th>\n",
       "      <th></th>\n",
       "      <th></th>\n",
       "    </tr>\n",
       "  </thead>\n",
       "  <tbody>\n",
       "    <tr>\n",
       "      <th>Asian</th>\n",
       "      <td>0.283168</td>\n",
       "      <td>0.716832</td>\n",
       "    </tr>\n",
       "    <tr>\n",
       "      <th>Black</th>\n",
       "      <td>0.068898</td>\n",
       "      <td>0.931102</td>\n",
       "    </tr>\n",
       "    <tr>\n",
       "      <th>Hispanic</th>\n",
       "      <td>0.304187</td>\n",
       "      <td>0.695813</td>\n",
       "    </tr>\n",
       "    <tr>\n",
       "      <th>Middle Eastern</th>\n",
       "      <td>0.283333</td>\n",
       "      <td>0.716667</td>\n",
       "    </tr>\n",
       "    <tr>\n",
       "      <th>Mixed</th>\n",
       "      <td>0.327957</td>\n",
       "      <td>0.672043</td>\n",
       "    </tr>\n",
       "    <tr>\n",
       "      <th>Native American</th>\n",
       "      <td>0.594771</td>\n",
       "      <td>0.405229</td>\n",
       "    </tr>\n",
       "    <tr>\n",
       "      <th>Other</th>\n",
       "      <td>0.680851</td>\n",
       "      <td>0.319149</td>\n",
       "    </tr>\n",
       "    <tr>\n",
       "      <th>White</th>\n",
       "      <td>0.521829</td>\n",
       "      <td>0.478171</td>\n",
       "    </tr>\n",
       "  </tbody>\n",
       "</table>\n",
       "</div>"
      ],
      "text/plain": [
       "CC16_410a        Donald Trump (Republican)  Hillary Clinton (Democrat)\n",
       "race                                                                  \n",
       "Asian                             0.283168                    0.716832\n",
       "Black                             0.068898                    0.931102\n",
       "Hispanic                          0.304187                    0.695813\n",
       "Middle Eastern                    0.283333                    0.716667\n",
       "Mixed                             0.327957                    0.672043\n",
       "Native American                   0.594771                    0.405229\n",
       "Other                             0.680851                    0.319149\n",
       "White                             0.521829                    0.478171"
      ]
     },
     "execution_count": 55,
     "metadata": {},
     "output_type": "execute_result"
    }
   ],
   "source": [
    "race_ratio = race_ratio.pivot(index ='race', columns = 'CC16_410a', values = 0)\n",
    "\n",
    "race_ratio"
   ]
  },
  {
   "cell_type": "code",
   "execution_count": 59,
   "metadata": {},
   "outputs": [
    {
     "data": {
      "image/png": "[encoded data removed]",
      "text/plain": [
       "<matplotlib.figure.Figure at 0x2431f3c6710>"
      ]
     },
     "metadata": {},
     "output_type": "display_data"
    }
   ],
   "source": [
    "_ = race_ratio.plot(kind = 'bar', rot = 70, color = ['r','b'])\n",
    "_ = plt.title('Two-party vote by race')\n",
    "plt.show()"
   ]
  },
  {
   "cell_type": "code",
   "execution_count": 25,
   "metadata": {
    "collapsed": true
   },
   "outputs": [],
   "source": [
    "total = df.loc[(df['CC16_410a'] == 'Donald Trump (Republican)') \n",
    "       | (df['CC16_410a'] == 'Hillary Clinton (Democrat)')].groupby(['race']).size()"
   ]
  }
 ],
 "metadata": {
  "kernelspec": {
   "display_name": "Python 3",
   "language": "python",
   "name": "python3"
  },
  "language_info": {
   "codemirror_mode": {
    "name": "ipython",
    "version": 3
   },
   "file_extension": ".py",
   "mimetype": "text/x-python",
   "name": "python",
   "nbconvert_exporter": "python",
   "pygments_lexer": "ipython3",
   "version": "3.6.3"
  }
 },
 "nbformat": 4,
 "nbformat_minor": 2
}
