{
 "cells": [
  {
   "cell_type": "code",
   "execution_count": 17,
   "metadata": {
    "collapsed": true
   },
   "outputs": [],
   "source": [
    "import seaborn as sns\n",
    "import pandas as pd\n",
    "import matplotlib.pyplot as plt\n",
    "import numpy as np"
   ]
  },
  {
   "cell_type": "code",
   "execution_count": 3,
   "metadata": {
    "collapsed": true
   },
   "outputs": [],
   "source": [
    "df = pd.read_csv('cleaned.csv')"
   ]
  },
  {
   "cell_type": "code",
   "execution_count": 4,
   "metadata": {},
   "outputs": [
    {
     "name": "stdout",
     "output_type": "stream",
     "text": [
      "Unnamed: 0\n",
      "tookpost\n",
      "gender\n",
      "legalstatus\n",
      "borderpatrol\n",
      "legalstatusHS\n",
      "deport\n",
      "milstat_1\n",
      "milstat_2\n",
      "milstat_3\n",
      "milstat_4\n",
      "minwage12\n",
      "faminc\n",
      "mandatorymin\n",
      "bodycamera\n",
      "threestrikes\n",
      "pew_bornagain\n",
      "increasepolice\n",
      "cleanair\n",
      "fuelefficiency\n",
      "EPACO2\n",
      "abortionchoice\n",
      "abortioncoverage\n",
      "federalabortion\n",
      "renewables\n",
      "abortion20wks\n",
      "repealACA\n",
      "banmostabortion\n",
      "child18\n",
      "TPP\n",
      "NCLB\n",
      "primary\n",
      "Iransanctions\n",
      "infraspending\n",
      "backgroundcheck\n",
      "medicarereform\n",
      "concealedcarry\n",
      "gunregistry\n",
      "banassault\n",
      "gaymarriage\n",
      "hispanic\n",
      "investor\n",
      "trans\n",
      "votereg_post\n",
      "militaryoil\n",
      "militaryterror\n",
      "militarycivilwar\n",
      "militarydemocracy\n",
      "militaryally\n",
      "militaryUN\n",
      "polmeeting\n",
      "polsign\n",
      "campaignwork\n",
      "campaigndonate\n",
      "donateblood\n",
      "edloan\n",
      "runoffice\n",
      "Obama\n",
      "Romney\n",
      "age\n",
      "whiteadvantage_Disagree\n",
      "whiteadvantage_Neutral\n",
      "angryracism_Disagree\n",
      "angryracism_Neutral\n",
      "racismrare_Disagree\n",
      "racismrare_Neutral\n",
      "fearrace_Disagree\n",
      "fearrace_Neutral\n",
      "statewelfare_Increase\n",
      "statewelfare_Maintain\n",
      "statehealthcare_Increase\n",
      "statehealthcare_Maintain\n",
      "stateedu_Increase\n",
      "stateedu_Maintain\n",
      "stateinfra_Increase\n",
      "stateinfra_Maintain\n",
      "stateLE_Increase\n",
      "stateLE_Maintain\n",
      "veteran\n",
      "family_vet\n",
      "race_Black\n",
      "race_Middle Eastern\n",
      "race_Mixed\n",
      "race_Native American\n",
      "race_Other\n",
      "race_White\n",
      "college\n",
      "Party_Independent\n",
      "Party_Republican\n",
      "relig_Atheist\n",
      "relig_Buddhist\n",
      "relig_Eastern or Greek Orthodox\n",
      "relig_Hindu\n",
      "relig_Jewish\n",
      "relig_Mormon\n",
      "relig_Muslim\n",
      "relig_Nothing in particular\n",
      "relig_Protestant\n",
      "relig_Roman Catholic\n",
      "relig_Something else\n",
      "straight\n",
      "immigrant\n",
      "union_member\n",
      "pres_Johnson\n",
      "pres_McMullin\n",
      "pres_None\n",
      "pres_Other\n",
      "pres_Stein\n",
      "pres_Trump\n",
      "employ_Homemaker\n",
      "employ_Other\n",
      "employ_Part-time\n",
      "employ_Permanently disabled\n",
      "employ_Retired\n",
      "employ_Student\n",
      "employ_Temporarily laid off\n",
      "employ_Unemployed\n",
      "mar_Domestic partnership\n",
      "mar_Married\n",
      "mar_Separated\n",
      "mar_Single\n",
      "mar_Widowed\n",
      "religimp_Not too important\n",
      "religimp_Somewhat important\n",
      "religimp_Very important\n"
     ]
    }
   ],
   "source": [
    "for col in df.columns:\n",
    "    print(col)"
   ]
  },
  {
   "cell_type": "code",
   "execution_count": 5,
   "metadata": {
    "collapsed": true
   },
   "outputs": [],
   "source": [
    "import random\n",
    "\n",
    "def jitter(x):\n",
    "    shift = random.uniform(-0.05,0.05)\n",
    "    return x + shift"
   ]
  },
  {
   "cell_type": "code",
   "execution_count": null,
   "metadata": {
    "collapsed": true
   },
   "outputs": [],
   "source": [
    "df1 = df\n",
    "\n",
    "#for i in df.index:\n",
    "    #if i % 100 == 0:\n",
    "      #  print(i)\n",
    "    #df1.iloc[i]['abortionchoice'] = jitter(df.iloc[i]['abortionchoice'])\n",
    "    #df1.iloc[i]['abortioncoverage'] = jitter(df.iloc[i]['abortioncoverage'])"
   ]
  },
  {
   "cell_type": "code",
   "execution_count": 23,
   "metadata": {},
   "outputs": [],
   "source": [
    "choice = df['abortionchoice'].values"
   ]
  },
  {
   "cell_type": "code",
   "execution_count": 26,
   "metadata": {},
   "outputs": [],
   "source": [
    "choice = list(map(jitter, df['abortionchoice'].values))\n",
    "coverage = list(map(jitter, df['abortioncoverage'].values))"
   ]
  },
  {
   "cell_type": "code",
   "execution_count": 36,
   "metadata": {
    "collapsed": true
   },
   "outputs": [],
   "source": [
    "df1 = df"
   ]
  },
  {
   "cell_type": "code",
   "execution_count": 37,
   "metadata": {},
   "outputs": [],
   "source": [
    "df1['abortionchoice'] = pd.Series(choice)\n",
    "df1['abortioncoverage'] = pd.Series(coverage)"
   ]
  },
  {
   "cell_type": "code",
   "execution_count": 38,
   "metadata": {
    "collapsed": true
   },
   "outputs": [],
   "source": [
    "df1 = df1.sample(100)"
   ]
  },
  {
   "cell_type": "code",
   "execution_count": 39,
   "metadata": {},
   "outputs": [
    {
     "data": {
      "image/png": "[encoded data removed]",
      "text/plain": [
       "<matplotlib.figure.Figure at 0x20f9571d518>"
      ]
     },
     "metadata": {},
     "output_type": "display_data"
    }
   ],
   "source": [
    "_ = sns.pairplot(x_vars=[\"abortionchoice\"], y_vars=[\"abortioncoverage\"], data=df1, size=7)\n",
    "plt.show()"
   ]
  }
 ],
 "metadata": {
  "kernelspec": {
   "display_name": "Python 3",
   "language": "python",
   "name": "python3"
  },
  "language_info": {
   "codemirror_mode": {
    "name": "ipython",
    "version": 3
   },
   "file_extension": ".py",
   "mimetype": "text/x-python",
   "name": "python",
   "nbconvert_exporter": "python",
   "pygments_lexer": "ipython3",
   "version": "3.6.3"
  }
 },
 "nbformat": 4,
 "nbformat_minor": 2
}
