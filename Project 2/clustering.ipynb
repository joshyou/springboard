{
 "cells": [
  {
   "cell_type": "code",
   "execution_count": 12,
   "metadata": {
    "collapsed": true
   },
   "outputs": [],
   "source": [
    "import pandas as pd \n",
    "import numpy as np\n",
    "import matplotlib.pyplot as plt"
   ]
  },
  {
   "cell_type": "code",
   "execution_count": 2,
   "metadata": {
    "collapsed": true
   },
   "outputs": [],
   "source": [
    "df = pd.read_csv('cleaned.csv')\n"
   ]
  },
  {
   "cell_type": "code",
   "execution_count": 3,
   "metadata": {},
   "outputs": [
    {
     "name": "stdout",
     "output_type": "stream",
     "text": [
      "<class 'pandas.core.frame.DataFrame'>\n",
      "RangeIndex: 48130 entries, 0 to 48129\n",
      "Columns: 137 entries, Unnamed: 0 to religimp_Very important\n",
      "dtypes: float64(35), int64(102)\n",
      "memory usage: 50.3 MB\n"
     ]
    }
   ],
   "source": [
    "df.info()"
   ]
  },
  {
   "cell_type": "code",
   "execution_count": 4,
   "metadata": {},
   "outputs": [
    {
     "name": "stdout",
     "output_type": "stream",
     "text": [
      "Unnamed: 0\n",
      "tookpost\n",
      "gender\n",
      "CC16_331_1\n",
      "CC16_331_2\n",
      "CC16_331_3\n",
      "CC16_331_7\n",
      "CC16_351K\n",
      "faminc\n",
      "CC16_334a\n",
      "CC16_334b\n",
      "CC16_334d\n",
      "pew_bornagain\n",
      "CC16_334c\n",
      "CC16_333d\n",
      "CC16_333b\n",
      "CC16_333a\n",
      "CC16_332a\n",
      "CC16_332d\n",
      "CC16_332e\n",
      "CC16_333c\n",
      "CC16_332c\n",
      "CC16_332f\n",
      "CC16_351I\n",
      "CC16_332b\n",
      "child18\n",
      "CC16_351B\n",
      "CC16_351E\n",
      "CC16_327\n",
      "CC16_351G\n",
      "CC16_351F\n",
      "CC16_330a\n",
      "CC16_351H\n",
      "CC16_330e\n",
      "CC16_330b\n",
      "CC16_330d\n",
      "CC16_335\n",
      "hispanic\n",
      "investor\n",
      "trans\n",
      "votereg_post\n",
      "CC16_414_1\n",
      "CC16_414_2\n",
      "CC16_414_3\n",
      "CC16_414_4\n",
      "CC16_414_5\n",
      "CC16_414_6\n",
      "CC16_417a_1\n",
      "CC16_417a_2\n",
      "CC16_417a_3\n",
      "CC16_417a_4\n",
      "CC16_417a_5\n",
      "edloan\n",
      "CC16_418a\n",
      "voted\n",
      "age\n",
      "CC16_422d_Agree\n",
      "CC16_422d_Disagree\n",
      "CC16_422d_Neutral\n",
      "CC16_422c_Agree\n",
      "CC16_422c_Disagree\n",
      "CC16_422c_Neutral\n",
      "CC16_422f_Agree\n",
      "CC16_422f_Disagree\n",
      "CC16_422f_Neutral\n",
      "CC16_422e_Agree\n",
      "CC16_422e_Disagree\n",
      "CC16_422e_Neutral\n",
      "CC16_426_1_Decrease\n",
      "CC16_426_1_Increase\n",
      "CC16_426_1_Maintain\n",
      "CC16_426_2_Decrease\n",
      "CC16_426_2_Increase\n",
      "CC16_426_2_Maintain\n",
      "CC16_426_3_Decrease\n",
      "CC16_426_3_Increase\n",
      "CC16_426_3_Maintain\n",
      "CC16_426_5_Decrease\n",
      "CC16_426_5_Increase\n",
      "CC16_426_5_Maintain\n",
      "CC16_426_4_Decrease\n",
      "CC16_426_4_Increase\n",
      "CC16_426_4_Maintain\n",
      "veteran\n",
      "family_vet\n",
      "race_Asian\n",
      "race_Black\n",
      "race_Middle Eastern\n",
      "race_Mixed\n",
      "race_Native American\n",
      "race_Other\n",
      "race_White\n",
      "college\n",
      "Party_Democrat\n",
      "Party_Independent\n",
      "Party_Republican\n",
      "relig_Agnostic\n",
      "relig_Atheist\n",
      "relig_Buddhist\n",
      "relig_Eastern or Greek Orthodox\n",
      "relig_Hindu\n",
      "relig_Jewish\n",
      "relig_Mormon\n",
      "relig_Muslim\n",
      "relig_Nothing in particular\n",
      "relig_Protestant\n",
      "relig_Roman Catholic\n",
      "relig_Something else\n",
      "straight\n",
      "immigrant\n",
      "union_member\n",
      "pres_Clinton\n",
      "pres_Johnson\n",
      "pres_McMullin\n",
      "pres_None\n",
      "pres_Other\n",
      "pres_Stein\n",
      "pres_Trump\n",
      "employ_Full-time\n",
      "employ_Homemaker\n",
      "employ_Other\n",
      "employ_Part-time\n",
      "employ_Permanently disabled\n",
      "employ_Retired\n",
      "employ_Student\n",
      "employ_Temporarily laid off\n",
      "employ_Unemployed\n",
      "mar_Divorced\n",
      "mar_Domestic partnership\n",
      "mar_Married\n",
      "mar_Separated\n",
      "mar_Single\n",
      "mar_Widowed\n",
      "religimp_Not at all important\n",
      "religimp_Not too important\n",
      "religimp_Somewhat important\n",
      "religimp_Very important\n"
     ]
    }
   ],
   "source": [
    "for col in df.columns:\n",
    "    print(col)"
   ]
  },
  {
   "cell_type": "code",
   "execution_count": 5,
   "metadata": {},
   "outputs": [
    {
     "name": "stdout",
     "output_type": "stream",
     "text": [
      "Unnamed: 0 [    0     4     5 ..., 64445 64447 64453]\n",
      "tookpost [1]\n",
      "gender [0 1]\n",
      "CC16_331_1 [0 1]\n",
      "CC16_331_2 [1 0]\n",
      "CC16_331_3 [0 1]\n",
      "CC16_331_7 [1 0]\n",
      "CC16_351K [ 1.  0.]\n",
      "faminc [  54999.   64999.    5000.   24999.   34999.   44999.   14999.  109999.\n",
      "   74999.   89999.  500000.  150000.  174999.  134999.  424999.  224999.\n",
      "  299999.]\n",
      "CC16_334a [ 1.  0.]\n",
      "CC16_334b [ 1.  0.]\n",
      "CC16_334d [ 1.  0.]\n",
      "pew_bornagain [ 0.  1.]\n",
      "CC16_334c [ 0.  1.]\n",
      "CC16_333d [ 0.  1.]\n",
      "CC16_333b [ 0.  1.]\n",
      "CC16_333a [ 0.  1.]\n",
      "CC16_332a [ 1.  0.]\n",
      "CC16_332d [ 0.  1.]\n",
      "CC16_332e [ 0.  1.]\n",
      "CC16_333c [ 0.  1.]\n",
      "CC16_332c [ 1.  0.]\n",
      "CC16_332f [ 0.  1.]\n",
      "CC16_351I [ 1.  0.]\n",
      "CC16_332b [ 0.  1.]\n",
      "child18 [ 0.  1.]\n",
      "CC16_351B [ 1.  0.]\n",
      "CC16_351E [ 1.  0.]\n",
      "CC16_327 [ 0.  1.]\n",
      "CC16_351G [ 1.  0.]\n",
      "CC16_351F [ 0.  1.]\n",
      "CC16_330a [ 1.  0.]\n",
      "CC16_351H [ 0.  1.]\n",
      "CC16_330e [ 0.  1.]\n",
      "CC16_330b [ 0.  1.]\n",
      "CC16_330d [ 0.  1.]\n",
      "CC16_335 [ 1.  0.]\n",
      "hispanic [ 0.  1.]\n",
      "investor [ 0.  1.]\n",
      "trans [0 1]\n",
      "votereg_post [ 1.  0.]\n",
      "CC16_414_1 [0 1]\n",
      "CC16_414_2 [1 0]\n",
      "CC16_414_3 [1 0]\n",
      "CC16_414_4 [0 1]\n",
      "CC16_414_5 [1 0]\n",
      "CC16_414_6 [1 0]\n",
      "CC16_417a_1 [0 1]\n",
      "CC16_417a_2 [0 1]\n",
      "CC16_417a_3 [0 1]\n",
      "CC16_417a_4 [0 1]\n",
      "CC16_417a_5 [0 1]\n",
      "edloan [ 0.  1.]\n",
      "CC16_418a [ 0.  1.]\n",
      "voted [1 0]\n",
      "age [49 36 55 56 61 33 42 30 39 57 60 73 28 47 78 62 37 58 40 51 64 34 24 59 54\n",
      " 27 53 76 69 79 84 74 43 41 52 72 48 26 38 65 44 63 35 32 81 82 70 67 31 21\n",
      " 71 68 77 80 29 50 45 22 23 66 83 75 86 91 85 87 46 25 93 88 90 94 89 95 20\n",
      " 97 92 96]\n",
      "CC16_422d_Agree [0 1]\n",
      "CC16_422d_Disagree [0 1]\n",
      "CC16_422d_Neutral [1 0]\n",
      "CC16_422c_Agree [1 0]\n",
      "CC16_422c_Disagree [0 1]\n",
      "CC16_422c_Neutral [0 1]\n",
      "CC16_422f_Agree [0 1]\n",
      "CC16_422f_Disagree [0 1]\n",
      "CC16_422f_Neutral [1 0]\n",
      "CC16_422e_Agree [0 1]\n",
      "CC16_422e_Disagree [1 0]\n",
      "CC16_422e_Neutral [0 1]\n",
      "CC16_426_1_Decrease [1 0]\n",
      "CC16_426_1_Increase [0 1]\n",
      "CC16_426_1_Maintain [0 1]\n",
      "CC16_426_2_Decrease [0 1]\n",
      "CC16_426_2_Increase [1 0]\n",
      "CC16_426_2_Maintain [0 1]\n",
      "CC16_426_3_Decrease [1 0]\n",
      "CC16_426_3_Increase [0 1]\n",
      "CC16_426_3_Maintain [0 1]\n",
      "CC16_426_5_Decrease [1 0]\n",
      "CC16_426_5_Increase [0 1]\n",
      "CC16_426_5_Maintain [0 1]\n",
      "CC16_426_4_Decrease [0 1]\n",
      "CC16_426_4_Increase [0 1]\n",
      "CC16_426_4_Maintain [1 0]\n",
      "veteran [0 1]\n",
      "family_vet [1 0]\n",
      "race_Asian [0 1]\n",
      "race_Black [0 1]\n",
      "race_Middle Eastern [0 1]\n",
      "race_Mixed [0 1]\n",
      "race_Native American [0 1]\n",
      "race_Other [0 1]\n",
      "race_White [1 0]\n",
      "college [0 1]\n",
      "Party_Democrat [0 1]\n",
      "Party_Independent [0 1]\n",
      "Party_Republican [1 0]\n",
      "relig_Agnostic [0 1]\n",
      "relig_Atheist [0 1]\n",
      "relig_Buddhist [0 1]\n",
      "relig_Eastern or Greek Orthodox [0 1]\n",
      "relig_Hindu [0 1]\n",
      "relig_Jewish [0 1]\n",
      "relig_Mormon [0 1]\n",
      "relig_Muslim [0 1]\n",
      "relig_Nothing in particular [1 0]\n",
      "relig_Protestant [0 1]\n",
      "relig_Roman Catholic [0 1]\n",
      "relig_Something else [0 1]\n",
      "straight [1 0]\n",
      "immigrant [0 1]\n",
      "union_member [0 1]\n",
      "pres_Clinton [0 1]\n",
      "pres_Johnson [0 1]\n",
      "pres_McMullin [0 1]\n",
      "pres_None [0 1]\n",
      "pres_Other [0 1]\n",
      "pres_Stein [0 1]\n",
      "pres_Trump [1 0]\n",
      "employ_Full-time [0 1]\n",
      "employ_Homemaker [1 0]\n",
      "employ_Other [0 1]\n",
      "employ_Part-time [0 1]\n",
      "employ_Permanently disabled [0 1]\n",
      "employ_Retired [0 1]\n",
      "employ_Student [0 1]\n",
      "employ_Temporarily laid off [0 1]\n",
      "employ_Unemployed [0 1]\n",
      "mar_Divorced [0 1]\n",
      "mar_Domestic partnership [0 1]\n",
      "mar_Married [1 0]\n",
      "mar_Separated [0 1]\n",
      "mar_Single [0 1]\n",
      "mar_Widowed [0 1]\n",
      "religimp_Not at all important [0 1]\n",
      "religimp_Not too important [0 1]\n",
      "religimp_Somewhat important [1 0]\n",
      "religimp_Very important [0 1]\n"
     ]
    }
   ],
   "source": [
    "for col in df.columns:\n",
    "    print (col, df[col].unique())"
   ]
  },
  {
   "cell_type": "code",
   "execution_count": 9,
   "metadata": {},
   "outputs": [],
   "source": [
    "#todrop = ['Unnamed: 0', 'tookpost']\n",
    "\n",
    "df = df.drop('tookpost', axis = 1)"
   ]
  },
  {
   "cell_type": "code",
   "execution_count": 10,
   "metadata": {},
   "outputs": [
    {
     "name": "stdout",
     "output_type": "stream",
     "text": [
      "gender [0 1]\n",
      "CC16_331_1 [0 1]\n",
      "CC16_331_2 [1 0]\n",
      "CC16_331_3 [0 1]\n",
      "CC16_331_7 [1 0]\n",
      "CC16_351K [ 1.  0.]\n",
      "faminc [  54999.   64999.    5000.   24999.   34999.   44999.   14999.  109999.\n",
      "   74999.   89999.  500000.  150000.  174999.  134999.  424999.  224999.\n",
      "  299999.]\n",
      "CC16_334a [ 1.  0.]\n",
      "CC16_334b [ 1.  0.]\n",
      "CC16_334d [ 1.  0.]\n",
      "pew_bornagain [ 0.  1.]\n",
      "CC16_334c [ 0.  1.]\n",
      "CC16_333d [ 0.  1.]\n",
      "CC16_333b [ 0.  1.]\n",
      "CC16_333a [ 0.  1.]\n",
      "CC16_332a [ 1.  0.]\n",
      "CC16_332d [ 0.  1.]\n",
      "CC16_332e [ 0.  1.]\n",
      "CC16_333c [ 0.  1.]\n",
      "CC16_332c [ 1.  0.]\n",
      "CC16_332f [ 0.  1.]\n",
      "CC16_351I [ 1.  0.]\n",
      "CC16_332b [ 0.  1.]\n",
      "child18 [ 0.  1.]\n",
      "CC16_351B [ 1.  0.]\n",
      "CC16_351E [ 1.  0.]\n",
      "CC16_327 [ 0.  1.]\n",
      "CC16_351G [ 1.  0.]\n",
      "CC16_351F [ 0.  1.]\n",
      "CC16_330a [ 1.  0.]\n",
      "CC16_351H [ 0.  1.]\n",
      "CC16_330e [ 0.  1.]\n",
      "CC16_330b [ 0.  1.]\n",
      "CC16_330d [ 0.  1.]\n",
      "CC16_335 [ 1.  0.]\n",
      "hispanic [ 0.  1.]\n",
      "investor [ 0.  1.]\n",
      "trans [0 1]\n",
      "votereg_post [ 1.  0.]\n",
      "CC16_414_1 [0 1]\n",
      "CC16_414_2 [1 0]\n",
      "CC16_414_3 [1 0]\n",
      "CC16_414_4 [0 1]\n",
      "CC16_414_5 [1 0]\n",
      "CC16_414_6 [1 0]\n",
      "CC16_417a_1 [0 1]\n",
      "CC16_417a_2 [0 1]\n",
      "CC16_417a_3 [0 1]\n",
      "CC16_417a_4 [0 1]\n",
      "CC16_417a_5 [0 1]\n",
      "edloan [ 0.  1.]\n",
      "CC16_418a [ 0.  1.]\n",
      "voted [1 0]\n",
      "age [49 36 55 56 61 33 42 30 39 57 60 73 28 47 78 62 37 58 40 51 64 34 24 59 54\n",
      " 27 53 76 69 79 84 74 43 41 52 72 48 26 38 65 44 63 35 32 81 82 70 67 31 21\n",
      " 71 68 77 80 29 50 45 22 23 66 83 75 86 91 85 87 46 25 93 88 90 94 89 95 20\n",
      " 97 92 96]\n",
      "CC16_422d_Agree [0 1]\n",
      "CC16_422d_Disagree [0 1]\n",
      "CC16_422d_Neutral [1 0]\n",
      "CC16_422c_Agree [1 0]\n",
      "CC16_422c_Disagree [0 1]\n",
      "CC16_422c_Neutral [0 1]\n",
      "CC16_422f_Agree [0 1]\n",
      "CC16_422f_Disagree [0 1]\n",
      "CC16_422f_Neutral [1 0]\n",
      "CC16_422e_Agree [0 1]\n",
      "CC16_422e_Disagree [1 0]\n",
      "CC16_422e_Neutral [0 1]\n",
      "CC16_426_1_Decrease [1 0]\n",
      "CC16_426_1_Increase [0 1]\n",
      "CC16_426_1_Maintain [0 1]\n",
      "CC16_426_2_Decrease [0 1]\n",
      "CC16_426_2_Increase [1 0]\n",
      "CC16_426_2_Maintain [0 1]\n",
      "CC16_426_3_Decrease [1 0]\n",
      "CC16_426_3_Increase [0 1]\n",
      "CC16_426_3_Maintain [0 1]\n",
      "CC16_426_5_Decrease [1 0]\n",
      "CC16_426_5_Increase [0 1]\n",
      "CC16_426_5_Maintain [0 1]\n",
      "CC16_426_4_Decrease [0 1]\n",
      "CC16_426_4_Increase [0 1]\n",
      "CC16_426_4_Maintain [1 0]\n",
      "veteran [0 1]\n",
      "family_vet [1 0]\n",
      "race_Asian [0 1]\n",
      "race_Black [0 1]\n",
      "race_Middle Eastern [0 1]\n",
      "race_Mixed [0 1]\n",
      "race_Native American [0 1]\n",
      "race_Other [0 1]\n",
      "race_White [1 0]\n",
      "college [0 1]\n",
      "Party_Democrat [0 1]\n",
      "Party_Independent [0 1]\n",
      "Party_Republican [1 0]\n",
      "relig_Agnostic [0 1]\n",
      "relig_Atheist [0 1]\n",
      "relig_Buddhist [0 1]\n",
      "relig_Eastern or Greek Orthodox [0 1]\n",
      "relig_Hindu [0 1]\n",
      "relig_Jewish [0 1]\n",
      "relig_Mormon [0 1]\n",
      "relig_Muslim [0 1]\n",
      "relig_Nothing in particular [1 0]\n",
      "relig_Protestant [0 1]\n",
      "relig_Roman Catholic [0 1]\n",
      "relig_Something else [0 1]\n",
      "straight [1 0]\n",
      "immigrant [0 1]\n",
      "union_member [0 1]\n",
      "pres_Clinton [0 1]\n",
      "pres_Johnson [0 1]\n",
      "pres_McMullin [0 1]\n",
      "pres_None [0 1]\n",
      "pres_Other [0 1]\n",
      "pres_Stein [0 1]\n",
      "pres_Trump [1 0]\n",
      "employ_Full-time [0 1]\n",
      "employ_Homemaker [1 0]\n",
      "employ_Other [0 1]\n",
      "employ_Part-time [0 1]\n",
      "employ_Permanently disabled [0 1]\n",
      "employ_Retired [0 1]\n",
      "employ_Student [0 1]\n",
      "employ_Temporarily laid off [0 1]\n",
      "employ_Unemployed [0 1]\n",
      "mar_Divorced [0 1]\n",
      "mar_Domestic partnership [0 1]\n",
      "mar_Married [1 0]\n",
      "mar_Separated [0 1]\n",
      "mar_Single [0 1]\n",
      "mar_Widowed [0 1]\n",
      "religimp_Not at all important [0 1]\n",
      "religimp_Not too important [0 1]\n",
      "religimp_Somewhat important [1 0]\n",
      "religimp_Very important [0 1]\n"
     ]
    }
   ],
   "source": [
    "for col in df.columns:\n",
    "    print (col, df[col].unique())"
   ]
  },
  {
   "cell_type": "code",
   "execution_count": 11,
   "metadata": {
    "collapsed": true
   },
   "outputs": [],
   "source": [
    "from sklearn.cluster import KMeans"
   ]
  },
  {
   "cell_type": "code",
   "execution_count": 14,
   "metadata": {},
   "outputs": [
    {
     "data": {
      "image/png": "[encoded data removed]",
      "text/plain": [
       "<matplotlib.figure.Figure at 0x1dd2d232940>"
      ]
     },
     "metadata": {},
     "output_type": "display_data"
    }
   ],
   "source": [
    "SS = []\n",
    "for k in range(2,11):\n",
    "    kmeans_cluster = KMeans(n_clusters = k, random_state=42).fit(df)\n",
    "    SS.append(kmeans_cluster.inertia_)\n",
    "\n",
    "plt.scatter(range(2,11), SS)\n",
    "plt.xlabel(\"Number of clusters\")\n",
    "plt.ylabel(\"Sum of squares error\")\n",
    "plt.show()"
   ]
  },
  {
   "cell_type": "code",
   "execution_count": 18,
   "metadata": {
    "collapsed": true
   },
   "outputs": [],
   "source": [
    "two = KMeans(n_clusters = 2, random_state=42).fit(df)"
   ]
  },
  {
   "cell_type": "code",
   "execution_count": 21,
   "metadata": {},
   "outputs": [],
   "source": [
    "labels = two.labels_"
   ]
  },
  {
   "cell_type": "code",
   "execution_count": 24,
   "metadata": {},
   "outputs": [
    {
     "name": "stdout",
     "output_type": "stream",
     "text": [
      "8934\n"
     ]
    }
   ],
   "source": [
    "print(sum(labels))"
   ]
  },
  {
   "cell_type": "code",
   "execution_count": 27,
   "metadata": {
    "collapsed": true
   },
   "outputs": [],
   "source": [
    "from collections import Counter"
   ]
  },
  {
   "cell_type": "code",
   "execution_count": 28,
   "metadata": {
    "collapsed": true
   },
   "outputs": [],
   "source": [
    "six = KMeans(n_clusters = 6, random_state=42).fit(df)"
   ]
  },
  {
   "cell_type": "code",
   "execution_count": 29,
   "metadata": {},
   "outputs": [
    {
     "data": {
      "text/plain": [
       "Counter({0: 4450, 1: 16969, 2: 1015, 3: 14304, 4: 11121, 5: 271})"
      ]
     },
     "execution_count": 29,
     "metadata": {},
     "output_type": "execute_result"
    }
   ],
   "source": [
    "Counter(six.labels_)"
   ]
  },
  {
   "cell_type": "code",
   "execution_count": 30,
   "metadata": {},
   "outputs": [
    {
     "data": {
      "text/plain": [
       "Counter({0: 14623, 1: 27771, 2: 625, 3: 5111})"
      ]
     },
     "execution_count": 30,
     "metadata": {},
     "output_type": "execute_result"
    }
   ],
   "source": [
    "four = KMeans(n_clusters = 4, random_state=42).fit(df)\n",
    "Counter(four.labels_)"
   ]
  },
  {
   "cell_type": "code",
   "execution_count": 33,
   "metadata": {},
   "outputs": [],
   "source": [
    "df1 = pd.DataFrame(four.labels_, columns = ['four_cluster_label'])\n",
    "\n",
    "df = pd.concat([df, df1], axis = 1)"
   ]
  },
  {
   "cell_type": "code",
   "execution_count": 36,
   "metadata": {},
   "outputs": [
    {
     "data": {
      "text/plain": [
       "four_cluster_label  pres_Clinton\n",
       "0                   0                7997\n",
       "                    1                6626\n",
       "1                   0               16800\n",
       "                    1               10971\n",
       "2                   0                 290\n",
       "                    1                 335\n",
       "3                   0                2581\n",
       "                    1                2530\n",
       "dtype: int64"
      ]
     },
     "execution_count": 36,
     "metadata": {},
     "output_type": "execute_result"
    }
   ],
   "source": [
    "df.groupby(['four_cluster_label', 'pres_Clinton']).size()"
   ]
  },
  {
   "cell_type": "markdown",
   "metadata": {},
   "source": [
    "uhh"
   ]
  }
 ],
 "metadata": {
  "kernelspec": {
   "display_name": "Python 3",
   "language": "python",
   "name": "python3"
  },
  "language_info": {
   "codemirror_mode": {
    "name": "ipython",
    "version": 3
   },
   "file_extension": ".py",
   "mimetype": "text/x-python",
   "name": "python",
   "nbconvert_exporter": "python",
   "pygments_lexer": "ipython3",
   "version": "3.6.3"
  }
 },
 "nbformat": 4,
 "nbformat_minor": 2
}
