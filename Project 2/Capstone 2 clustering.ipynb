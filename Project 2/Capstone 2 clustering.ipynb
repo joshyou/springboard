{
 "cells": [
  {
   "cell_type": "code",
   "execution_count": 1,
   "metadata": {
    "collapsed": true
   },
   "outputs": [],
   "source": [
    "import pandas as pd \n",
    "import numpy as np\n",
    "import matplotlib.pyplot as plt"
   ]
  },
  {
   "cell_type": "code",
   "execution_count": 2,
   "metadata": {
    "collapsed": true
   },
   "outputs": [],
   "source": [
    "df = pd.read_csv('cleaned.csv')"
   ]
  },
  {
   "cell_type": "code",
   "execution_count": 3,
   "metadata": {},
   "outputs": [
    {
     "name": "stdout",
     "output_type": "stream",
     "text": [
      "Unnamed: 0\n",
      "gender\n",
      "legalstatus\n",
      "borderpatrol\n",
      "legalstatusHS\n",
      "deport\n",
      "minwage12\n",
      "faminc\n",
      "mandatorymin\n",
      "bodycamera\n",
      "threestrikes\n",
      "pew_bornagain\n",
      "increasepolice\n",
      "cleanair\n",
      "fuelefficiency\n",
      "EPACO2\n",
      "abortionchoice\n",
      "abortioncoverage\n",
      "federalabortion\n",
      "renewables\n",
      "abortion20wks\n",
      "repealACA\n",
      "banmostabortion\n",
      "child18\n",
      "TPP\n",
      "NCLB\n",
      "primary\n",
      "Iransanctions\n",
      "infraspending\n",
      "backgroundcheck\n",
      "medicarereform\n",
      "concealedcarry\n",
      "gunregistry\n",
      "banassault\n",
      "gaymarriage\n",
      "hispanic\n",
      "investor\n",
      "trans\n",
      "votereg_post\n",
      "militaryoil\n",
      "militaryterror\n",
      "militarycivilwar\n",
      "militarydemocracy\n",
      "militaryally\n",
      "militaryUN\n",
      "polmeeting\n",
      "polsign\n",
      "campaignwork\n",
      "campaigndonate\n",
      "donateblood\n",
      "edloan\n",
      "runoffice\n",
      "Obama\n",
      "Romney\n",
      "age\n",
      "whiteadvantage_Disagree\n",
      "whiteadvantage_Neutral\n",
      "angryracism_Disagree\n",
      "angryracism_Neutral\n",
      "racismrare_Disagree\n",
      "racismrare_Neutral\n",
      "fearrace_Disagree\n",
      "fearrace_Neutral\n",
      "statewelfare_Increase\n",
      "statewelfare_Maintain\n",
      "statehealthcare_Increase\n",
      "statehealthcare_Maintain\n",
      "stateedu_Increase\n",
      "stateedu_Maintain\n",
      "stateinfra_Increase\n",
      "stateinfra_Maintain\n",
      "stateLE_Increase\n",
      "stateLE_Maintain\n",
      "veteran\n",
      "family_vet\n",
      "race_Black\n",
      "race_Middle Eastern\n",
      "race_Mixed\n",
      "race_Native American\n",
      "race_Other\n",
      "race_White\n",
      "college\n",
      "Party_Independent\n",
      "Party_Republican\n",
      "ideo_Liberal\n",
      "ideo_Moderate or Not sure\n",
      "ideo_Very conservative\n",
      "ideo_Very liberal\n",
      "relig_Atheist\n",
      "relig_Buddhist\n",
      "relig_Eastern or Greek Orthodox\n",
      "relig_Hindu\n",
      "relig_Jewish\n",
      "relig_Mormon\n",
      "relig_Muslim\n",
      "relig_Nothing in particular\n",
      "relig_Protestant\n",
      "relig_Roman Catholic\n",
      "relig_Something else\n",
      "straight\n",
      "immigrant\n",
      "union_member\n",
      "pres_Johnson\n",
      "pres_McMullin\n",
      "pres_None\n",
      "pres_Other\n",
      "pres_Stein\n",
      "pres_Trump\n",
      "employ_Homemaker\n",
      "employ_Other\n",
      "employ_Part-time\n",
      "employ_Permanently disabled\n",
      "employ_Retired\n",
      "employ_Student\n",
      "employ_Temporarily laid off\n",
      "employ_Unemployed\n",
      "mar_Domestic partnership\n",
      "mar_Married\n",
      "mar_Separated\n",
      "mar_Single\n",
      "mar_Widowed\n",
      "religimp_Not too important\n",
      "religimp_Somewhat important\n",
      "religimp_Very important\n",
      "state0\n",
      "state1\n",
      "state2\n",
      "state3\n",
      "state4\n",
      "state5\n"
     ]
    }
   ],
   "source": [
    "for col in df.columns:\n",
    "    print(col)"
   ]
  },
  {
   "cell_type": "code",
   "execution_count": 4,
   "metadata": {},
   "outputs": [
    {
     "name": "stdout",
     "output_type": "stream",
     "text": [
      "Unnamed: 0 [    0     4     5 ..., 64445 64447 64453]\n",
      "gender [0 1]\n",
      "legalstatus [0 1]\n",
      "borderpatrol [1 0]\n",
      "legalstatusHS [0 1]\n",
      "deport [1 0]\n",
      "minwage12 [ 1.  0.]\n",
      "faminc [  54999.   64999.    5000.   24999.   34999.   44999.   14999.  109999.\n",
      "   74999.   89999.  500000.  150000.  174999.  134999.  424999.  224999.\n",
      "  299999.]\n",
      "mandatorymin [ 1.  0.]\n",
      "bodycamera [ 1.  0.]\n",
      "threestrikes [ 1.  0.]\n",
      "pew_bornagain [ 0.  1.]\n",
      "increasepolice [ 0.  1.]\n",
      "cleanair [ 0.  1.]\n",
      "fuelefficiency [ 0.  1.]\n",
      "EPACO2 [ 0.  1.]\n",
      "abortionchoice [ 1.  0.]\n",
      "abortioncoverage [ 0.  1.]\n",
      "federalabortion [ 0.  1.]\n",
      "renewables [ 0.  1.]\n",
      "abortion20wks [ 1.  0.]\n",
      "repealACA [ 1.  0.]\n",
      "banmostabortion [ 0.  1.]\n",
      "child18 [ 0.  1.]\n",
      "TPP [ 1.  0.]\n",
      "NCLB [ 1.  0.]\n",
      "primary [ 0.  1.]\n",
      "Iransanctions [ 1.  0.]\n",
      "infraspending [ 0.  1.]\n",
      "backgroundcheck [ 1.  0.]\n",
      "medicarereform [ 0.  1.]\n",
      "concealedcarry [ 0.  1.]\n",
      "gunregistry [ 0.  1.]\n",
      "banassault [ 0.  1.]\n",
      "gaymarriage [ 1.  0.]\n",
      "hispanic [ 0.  1.]\n",
      "investor [ 0.  1.]\n",
      "trans [0 1]\n",
      "votereg_post [ 1.  0.]\n",
      "militaryoil [0 1]\n",
      "militaryterror [1 0]\n",
      "militarycivilwar [1 0]\n",
      "militarydemocracy [0 1]\n",
      "militaryally [1 0]\n",
      "militaryUN [1 0]\n",
      "polmeeting [0 1]\n",
      "polsign [0 1]\n",
      "campaignwork [0 1]\n",
      "campaigndonate [0 1]\n",
      "donateblood [0 1]\n",
      "edloan [ 0.  1.]\n",
      "runoffice [ 0.  1.]\n",
      "Obama [0 1]\n",
      "Romney [0 1]\n",
      "age [49 36 55 56 61 33 42 30 39 57 60 73 28 47 78 62 37 58 40 51 64 34 24 59 54\n",
      " 27 53 76 69 79 84 74 43 41 52 72 48 26 38 65 44 63 35 32 81 82 70 67 31 21\n",
      " 71 68 77 80 29 50 45 22 23 66 83 75 86 91 85 87 46 25 93 88 90 94 89 95 20\n",
      " 97 92 96]\n",
      "whiteadvantage_Disagree [0 1]\n",
      "whiteadvantage_Neutral [1 0]\n",
      "angryracism_Disagree [0 1]\n",
      "angryracism_Neutral [0 1]\n",
      "racismrare_Disagree [0 1]\n",
      "racismrare_Neutral [1 0]\n",
      "fearrace_Disagree [1 0]\n",
      "fearrace_Neutral [0 1]\n",
      "statewelfare_Increase [0 1]\n",
      "statewelfare_Maintain [0 1]\n",
      "statehealthcare_Increase [1 0]\n",
      "statehealthcare_Maintain [0 1]\n",
      "stateedu_Increase [0 1]\n",
      "stateedu_Maintain [0 1]\n",
      "stateinfra_Increase [0 1]\n",
      "stateinfra_Maintain [0 1]\n",
      "stateLE_Increase [0 1]\n",
      "stateLE_Maintain [1 0]\n",
      "veteran [0 1]\n",
      "family_vet [1 0]\n",
      "race_Black [0 1]\n",
      "race_Middle Eastern [0 1]\n",
      "race_Mixed [0 1]\n",
      "race_Native American [0 1]\n",
      "race_Other [0 1]\n",
      "race_White [1 0]\n",
      "college [0 1]\n",
      "Party_Independent [0 1]\n",
      "Party_Republican [1 0]\n",
      "ideo_Liberal [0 1]\n",
      "ideo_Moderate or Not sure [1 0]\n",
      "ideo_Very conservative [0 1]\n",
      "ideo_Very liberal [0 1]\n",
      "relig_Atheist [0 1]\n",
      "relig_Buddhist [0 1]\n",
      "relig_Eastern or Greek Orthodox [0 1]\n",
      "relig_Hindu [0 1]\n",
      "relig_Jewish [0 1]\n",
      "relig_Mormon [0 1]\n",
      "relig_Muslim [0 1]\n",
      "relig_Nothing in particular [1 0]\n",
      "relig_Protestant [0 1]\n",
      "relig_Roman Catholic [0 1]\n",
      "relig_Something else [0 1]\n",
      "straight [1 0]\n",
      "immigrant [0 1]\n",
      "union_member [0 1]\n",
      "pres_Johnson [0 1]\n",
      "pres_McMullin [0 1]\n",
      "pres_None [0 1]\n",
      "pres_Other [0 1]\n",
      "pres_Stein [0 1]\n",
      "pres_Trump [1 0]\n",
      "employ_Homemaker [1 0]\n",
      "employ_Other [0 1]\n",
      "employ_Part-time [0 1]\n",
      "employ_Permanently disabled [0 1]\n",
      "employ_Retired [0 1]\n",
      "employ_Student [0 1]\n",
      "employ_Temporarily laid off [0 1]\n",
      "employ_Unemployed [0 1]\n",
      "mar_Domestic partnership [0 1]\n",
      "mar_Married [1 0]\n",
      "mar_Separated [0 1]\n",
      "mar_Single [0 1]\n",
      "mar_Widowed [0 1]\n",
      "religimp_Not too important [0 1]\n",
      "religimp_Somewhat important [1 0]\n",
      "religimp_Very important [0 1]\n",
      "state0 [0 1]\n",
      "state1 [1 0]\n",
      "state2 [1 0]\n",
      "state3 [1 0]\n",
      "state4 [0 1]\n",
      "state5 [1 0]\n"
     ]
    }
   ],
   "source": [
    "for col in df.columns:\n",
    "    print (col, df[col].unique())"
   ]
  },
  {
   "cell_type": "code",
   "execution_count": 5,
   "metadata": {
    "collapsed": true
   },
   "outputs": [],
   "source": [
    "#todrop = ['Unnamed: 0', 'tookpost']\n",
    "\n",
    "#df = df.drop('tookpost', axis = 1)\n",
    "df = df.drop('Unnamed: 0', axis = 1)"
   ]
  },
  {
   "cell_type": "code",
   "execution_count": 6,
   "metadata": {},
   "outputs": [
    {
     "data": {
      "text/plain": [
       "['EPACO2',\n",
       " 'Iransanctions',\n",
       " 'NCLB',\n",
       " 'Obama',\n",
       " 'Party_Independent',\n",
       " 'Party_Republican',\n",
       " 'Romney',\n",
       " 'TPP',\n",
       " 'abortion20wks',\n",
       " 'abortionchoice',\n",
       " 'abortioncoverage',\n",
       " 'age',\n",
       " 'angryracism_Disagree',\n",
       " 'angryracism_Neutral',\n",
       " 'backgroundcheck',\n",
       " 'banassault',\n",
       " 'banmostabortion',\n",
       " 'bodycamera',\n",
       " 'borderpatrol',\n",
       " 'campaigndonate',\n",
       " 'campaignwork',\n",
       " 'child18',\n",
       " 'cleanair',\n",
       " 'college',\n",
       " 'concealedcarry',\n",
       " 'deport',\n",
       " 'donateblood',\n",
       " 'edloan',\n",
       " 'employ_Homemaker',\n",
       " 'employ_Other',\n",
       " 'employ_Part-time',\n",
       " 'employ_Permanently disabled',\n",
       " 'employ_Retired',\n",
       " 'employ_Student',\n",
       " 'employ_Temporarily laid off',\n",
       " 'employ_Unemployed',\n",
       " 'family_vet',\n",
       " 'faminc',\n",
       " 'fearrace_Disagree',\n",
       " 'fearrace_Neutral',\n",
       " 'federalabortion',\n",
       " 'fuelefficiency',\n",
       " 'gaymarriage',\n",
       " 'gender',\n",
       " 'gunregistry',\n",
       " 'hispanic',\n",
       " 'ideo_Liberal',\n",
       " 'ideo_Moderate or Not sure',\n",
       " 'ideo_Very conservative',\n",
       " 'ideo_Very liberal',\n",
       " 'immigrant',\n",
       " 'increasepolice',\n",
       " 'infraspending',\n",
       " 'investor',\n",
       " 'legalstatus',\n",
       " 'legalstatusHS',\n",
       " 'mandatorymin',\n",
       " 'mar_Domestic partnership',\n",
       " 'mar_Married',\n",
       " 'mar_Separated',\n",
       " 'mar_Single',\n",
       " 'mar_Widowed',\n",
       " 'medicarereform',\n",
       " 'militaryUN',\n",
       " 'militaryally',\n",
       " 'militarycivilwar',\n",
       " 'militarydemocracy',\n",
       " 'militaryoil',\n",
       " 'militaryterror',\n",
       " 'minwage12',\n",
       " 'pew_bornagain',\n",
       " 'polmeeting',\n",
       " 'polsign',\n",
       " 'pres_Johnson',\n",
       " 'pres_McMullin',\n",
       " 'pres_None',\n",
       " 'pres_Other',\n",
       " 'pres_Stein',\n",
       " 'pres_Trump',\n",
       " 'primary',\n",
       " 'race_Black',\n",
       " 'race_Middle Eastern',\n",
       " 'race_Mixed',\n",
       " 'race_Native American',\n",
       " 'race_Other',\n",
       " 'race_White',\n",
       " 'racismrare_Disagree',\n",
       " 'racismrare_Neutral',\n",
       " 'relig_Atheist',\n",
       " 'relig_Buddhist',\n",
       " 'relig_Eastern or Greek Orthodox',\n",
       " 'relig_Hindu',\n",
       " 'relig_Jewish',\n",
       " 'relig_Mormon',\n",
       " 'relig_Muslim',\n",
       " 'relig_Nothing in particular',\n",
       " 'relig_Protestant',\n",
       " 'relig_Roman Catholic',\n",
       " 'relig_Something else',\n",
       " 'religimp_Not too important',\n",
       " 'religimp_Somewhat important',\n",
       " 'religimp_Very important',\n",
       " 'renewables',\n",
       " 'repealACA',\n",
       " 'runoffice',\n",
       " 'state0',\n",
       " 'state1',\n",
       " 'state2',\n",
       " 'state3',\n",
       " 'state4',\n",
       " 'state5',\n",
       " 'stateLE_Increase',\n",
       " 'stateLE_Maintain',\n",
       " 'stateedu_Increase',\n",
       " 'stateedu_Maintain',\n",
       " 'statehealthcare_Increase',\n",
       " 'statehealthcare_Maintain',\n",
       " 'stateinfra_Increase',\n",
       " 'stateinfra_Maintain',\n",
       " 'statewelfare_Increase',\n",
       " 'statewelfare_Maintain',\n",
       " 'straight',\n",
       " 'threestrikes',\n",
       " 'trans',\n",
       " 'union_member',\n",
       " 'veteran',\n",
       " 'votereg_post',\n",
       " 'whiteadvantage_Disagree',\n",
       " 'whiteadvantage_Neutral']"
      ]
     },
     "execution_count": 6,
     "metadata": {},
     "output_type": "execute_result"
    }
   ],
   "source": [
    "alphcolumns = sorted(df.columns)\n",
    "alphcolumns"
   ]
  },
  {
   "cell_type": "markdown",
   "metadata": {},
   "source": [
    "**Correlations between variables**\n",
    "\n",
    "Having highly correlated features can lead to bias in unsupervised learning. If two features approximately describe the same underlying fact, then that fact gets over-weighted."
   ]
  },
  {
   "cell_type": "code",
   "execution_count": 7,
   "metadata": {},
   "outputs": [
    {
     "data": {
      "text/plain": [
       "[(-0.87219633982856171, 'stateinfra_Increase', 'stateinfra_Maintain'),\n",
       " (-0.83678062604966252, 'stateLE_Increase', 'stateLE_Maintain'),\n",
       " (-0.80423387894154985, 'stateedu_Increase', 'stateedu_Maintain'),\n",
       " (-0.7342313236222936, 'statehealthcare_Increase', 'statehealthcare_Maintain'),\n",
       " (-0.69957150772091559, 'fearrace_Disagree', 'fearrace_Neutral'),\n",
       " (0.68255760845275237, 'Romney', 'pres_Trump'),\n",
       " (-0.68217557668427631, 'votereg_post', 'pres_None'),\n",
       " (0.65375379613148521, 'abortioncoverage', 'federalabortion'),\n",
       " (0.62388544705402493, 'age', 'employ_Retired'),\n",
       " (-0.6131454148109835, 'Obama', 'Romney'),\n",
       " (-0.60190865178567088, 'mar_Married', 'mar_Single'),\n",
       " (0.58670870673534248, 'cleanair', 'EPACO2'),\n",
       " (0.58552698728963903, 'cleanair', 'renewables'),\n",
       " (-0.58486537301152575, 'racismrare_Disagree', 'racismrare_Neutral'),\n",
       " (-0.56516925458502032, 'race_Black', 'race_White'),\n",
       " (0.55869046797915767, 'repealACA', 'pres_Trump'),\n",
       " (-0.55689224043759211, 'repealACA', 'Obama'),\n",
       " (0.55410584514169436, 'Party_Republican', 'pres_Trump'),\n",
       " (0.53876737328566637, 'EPACO2', 'renewables'),\n",
       " (0.52660316062420354, 'Romney', 'Party_Republican'),\n",
       " (0.52454116946999929, 'repealACA', 'Romney'),\n",
       " (-0.51826626714870339, 'abortionchoice', 'abortioncoverage'),\n",
       " (-0.51808072395798643, 'abortionchoice', 'federalabortion'),\n",
       " (-0.51321206100562755, 'EPACO2', 'Romney'),\n",
       " (-0.50133477379908753, 'Obama', 'pres_Trump'),\n",
       " (0.4974038257285156, 'pew_bornagain', 'religimp_Very important'),\n",
       " (0.49433021643572722, 'fuelefficiency', 'EPACO2'),\n",
       " (0.49425176572419444, 'statehealthcare_Increase', 'stateedu_Increase'),\n",
       " (-0.49327750073248039, 'EPACO2', 'pres_Trump'),\n",
       " (-0.49118921285180273, 'legalstatus', 'deport'),\n",
       " (0.48480816786389919, 'pew_bornagain', 'relig_Protestant'),\n",
       " (-0.48159235209608747, 'minwage12', 'Romney'),\n",
       " (0.48127834370110645, 'fuelefficiency', 'renewables'),\n",
       " (0.47874496876222777, 'whiteadvantage_Disagree', 'pres_Trump'),\n",
       " (-0.47835077468806914, 'cleanair', 'pres_Trump'),\n",
       " (0.47527513902607332, 'abortionchoice', 'gaymarriage'),\n",
       " (-0.47379606289756321, 'cleanair', 'Romney'),\n",
       " (0.46395847786862904, 'legalstatus', 'legalstatusHS'),\n",
       " (0.46071412932776806, 'minwage12', 'EPACO2'),\n",
       " (-0.45842678721572105, 'concealedcarry', 'banassault')]"
      ]
     },
     "execution_count": 7,
     "metadata": {},
     "output_type": "execute_result"
    }
   ],
   "source": [
    "from scipy.stats.stats import pearsonr   \n",
    "\n",
    "columns = df.columns\n",
    "\n",
    "correlations = []\n",
    "pairs = []\n",
    "for col1 in columns:\n",
    "    for col2 in columns:\n",
    "        #avoid matching columns with themselves, and getting duplicate pairs\n",
    "        if (col1 != col2) and ((col2, col1) not in pairs):\n",
    "            correlations.append((pearsonr(df[col1], df[col2])[0], col1, col2))\n",
    "            pairs.append((col1, col2))\n",
    "            \n",
    "correlations = sorted(correlations, key = lambda x: abs(x[0]), reverse = True)\n",
    "correlations[:40]"
   ]
  },
  {
   "cell_type": "markdown",
   "metadata": {},
   "source": [
    "The most highly correlated variables are dummy variables generated from the same original question. If we exclude correlations involving dummy variables, abortioncoverage (allow employers to decline abortion coverage) and federalabortion (ban federal spending on abortion) are highly correlated. cleanair and EPACO2 and renewables are also highly correlated\n",
    "\n",
    "abortionchoice (always allow abortion as a matter of choice) is also pretty correlated with abortioncoverage and federalabortion\n",
    "\n",
    "Among the environmental policy questions, I will keep EPACO2 and drop the other two.\n",
    "\n",
    "I'll take a closer look at the abortion questions:"
   ]
  },
  {
   "cell_type": "code",
   "execution_count": 8,
   "metadata": {},
   "outputs": [
    {
     "data": {
      "text/plain": [
       "[(0.65375379613148521, 'abortioncoverage', 'federalabortion'),\n",
       " (0.65375379613148521, 'federalabortion', 'abortioncoverage'),\n",
       " (-0.51826626714870339, 'abortionchoice', 'abortioncoverage'),\n",
       " (-0.51826626714870339, 'abortioncoverage', 'abortionchoice'),\n",
       " (-0.51808072395798643, 'abortionchoice', 'federalabortion'),\n",
       " (-0.51808072395798643, 'federalabortion', 'abortionchoice'),\n",
       " (-0.43503523320853815, 'abortionchoice', 'banmostabortion'),\n",
       " (-0.43503523320853815, 'banmostabortion', 'abortionchoice'),\n",
       " (0.42898611985568424, 'federalabortion', 'abortion20wks'),\n",
       " (0.42898611985568424, 'abortion20wks', 'federalabortion'),\n",
       " (0.40929909538431886, 'abortioncoverage', 'abortion20wks'),\n",
       " (0.40929909538431886, 'abortion20wks', 'abortioncoverage'),\n",
       " (-0.40321196097306189, 'abortionchoice', 'abortion20wks'),\n",
       " (-0.40321196097306189, 'abortion20wks', 'abortionchoice'),\n",
       " (0.33532178047482192, 'federalabortion', 'banmostabortion'),\n",
       " (0.33532178047482192, 'banmostabortion', 'federalabortion'),\n",
       " (0.33403260291351117, 'abortion20wks', 'banmostabortion'),\n",
       " (0.33403260291351117, 'banmostabortion', 'abortion20wks'),\n",
       " (0.301322472948999, 'abortioncoverage', 'banmostabortion'),\n",
       " (0.301322472948999, 'banmostabortion', 'abortioncoverage')]"
      ]
     },
     "execution_count": 8,
     "metadata": {},
     "output_type": "execute_result"
    }
   ],
   "source": [
    "abortion_corr = []\n",
    "\n",
    "for col1 in columns:\n",
    "    for col2 in columns:\n",
    "        #only get abortion columns\n",
    "        if (col1 != col2) and ('abortion' in col1) and ('abortion' in col2):\n",
    "            abortion_corr.append((pearsonr(df[col1], df[col2])[0], col1, col2))\n",
    "            \n",
    "abortion_corr = sorted(abortion_corr, key = lambda x: abs(x[0]), reverse = True)\n",
    "abortion_corr"
   ]
  },
  {
   "cell_type": "markdown",
   "metadata": {},
   "source": [
    "Some of the abortion questions are not that highly correlated, somewhat surprisingly. For example, banmostabortion - ban abortion except in cases of rape, incest, or danger to mother, and abortion20wks - ban abortion after 20 weeks of pregnancy, have a correlation coefficient of 0.33.\n",
    "\n",
    "Federalabortion is more highly correlated with the other abortion questions than abortioncoverage is. So I will drop that one."
   ]
  },
  {
   "cell_type": "code",
   "execution_count": 9,
   "metadata": {
    "collapsed": true
   },
   "outputs": [],
   "source": [
    "todrop = ['cleanair', 'renewables', 'federalabortion']\n",
    "df = df.drop(todrop, axis = 1)"
   ]
  },
  {
   "cell_type": "code",
   "execution_count": 10,
   "metadata": {},
   "outputs": [
    {
     "data": {
      "text/plain": [
       "[(0.49425176572419444, 'statehealthcare_Increase', 'stateedu_Increase'),\n",
       " (0.49425176572419444, 'stateedu_Increase', 'statehealthcare_Increase'),\n",
       " (0.42976596269948647, 'statewelfare_Increase', 'statehealthcare_Increase'),\n",
       " (0.42976596269948647, 'statehealthcare_Increase', 'statewelfare_Increase'),\n",
       " (-0.35972709138389514, 'statehealthcare_Increase', 'stateedu_Maintain'),\n",
       " (-0.35972709138389514, 'stateedu_Maintain', 'statehealthcare_Increase'),\n",
       " (0.35873218408121227, 'statehealthcare_Maintain', 'stateedu_Maintain'),\n",
       " (0.35873218408121227, 'stateedu_Maintain', 'statehealthcare_Maintain'),\n",
       " (-0.34612367709291836, 'state0', 'state1'),\n",
       " (-0.34612367709291836, 'state1', 'state0'),\n",
       " (-0.30862493983419165, 'statehealthcare_Maintain', 'stateedu_Increase'),\n",
       " (-0.30862493983419165, 'stateedu_Increase', 'statehealthcare_Maintain'),\n",
       " (-0.30441499815317563, 'statewelfare_Increase', 'statehealthcare_Maintain'),\n",
       " (-0.30441499815317563, 'statehealthcare_Maintain', 'statewelfare_Increase'),\n",
       " (0.29382666214112979, 'statewelfare_Increase', 'stateedu_Increase'),\n",
       " (0.29382666214112979, 'stateedu_Increase', 'statewelfare_Increase'),\n",
       " (0.27066630759116928, 'stateedu_Increase', 'stateinfra_Increase'),\n",
       " (0.27066630759116928, 'stateinfra_Increase', 'stateedu_Increase'),\n",
       " (-0.25796890018051122, 'state3', 'state5'),\n",
       " (-0.25796890018051122, 'state5', 'state3')]"
      ]
     },
     "execution_count": 10,
     "metadata": {},
     "output_type": "execute_result"
    }
   ],
   "source": [
    "state_correlations = []\n",
    "\n",
    "for col1 in columns:\n",
    "    for col2 in columns:\n",
    "        #only get state columns where first six characters aren't identical\n",
    "        if (col1[:6] != col2[:6]) and ('state' in col1) and ('state' in col2):\n",
    "            state_correlations.append((pearsonr(df[col1], df[col2])[0], col1, col2))\n",
    "            \n",
    "state_correlations = sorted(state_correlations, key = lambda x: abs(x[0]), reverse = True)\n",
    "state_correlations[:20]"
   ]
  },
  {
   "cell_type": "markdown",
   "metadata": {},
   "source": [
    "while these correlations might not be that high compared to the others, I did notice that when choosing k = 4, there appeared to be a pattern among two clusters in terms of whether they chose \"increase\" or \"maintain\" on the state spending questions. This seemed to be a major factor that divided these two clusters, and this felt fairly spurious and exaggerated by the large number of questions about state legislature spending.\n",
    "\n",
    "I will drop statehealthcare, stateinfra, and stateLE on the grounds that other questions already cover healthcare policy (repeal ACA), infrastructure policy (infraspending - which indicates support for the Highway and Transportation Funding Act), and police spending (increasepolice, which asks whether they support increasing the number of police by 10 percent)."
   ]
  },
  {
   "cell_type": "code",
   "execution_count": 11,
   "metadata": {
    "collapsed": true
   },
   "outputs": [],
   "source": [
    "todrop = [col for col in df.columns if (\"stateinfra\" in col) or (\"statehealthcare\" in col) or (\"stateLE\" in col)]\n",
    "df = df.drop(todrop, axis = 1)"
   ]
  },
  {
   "cell_type": "code",
   "execution_count": 12,
   "metadata": {
    "collapsed": true
   },
   "outputs": [],
   "source": [
    "from sklearn.preprocessing import MinMaxScaler\n",
    "\n",
    "x = df.values\n",
    "min_max_scaler = MinMaxScaler()\n",
    "x = min_max_scaler.fit_transform(x)"
   ]
  },
  {
   "cell_type": "code",
   "execution_count": 13,
   "metadata": {},
   "outputs": [
    {
     "data": {
      "text/html": [
       "<div>\n",
       "<style>\n",
       "    .dataframe thead tr:only-child th {\n",
       "        text-align: right;\n",
       "    }\n",
       "\n",
       "    .dataframe thead th {\n",
       "        text-align: left;\n",
       "    }\n",
       "\n",
       "    .dataframe tbody tr th {\n",
       "        vertical-align: top;\n",
       "    }\n",
       "</style>\n",
       "<table border=\"1\" class=\"dataframe\">\n",
       "  <thead>\n",
       "    <tr style=\"text-align: right;\">\n",
       "      <th></th>\n",
       "      <th>gender</th>\n",
       "      <th>legalstatus</th>\n",
       "      <th>borderpatrol</th>\n",
       "      <th>legalstatusHS</th>\n",
       "      <th>deport</th>\n",
       "      <th>minwage12</th>\n",
       "      <th>faminc</th>\n",
       "      <th>mandatorymin</th>\n",
       "      <th>bodycamera</th>\n",
       "      <th>threestrikes</th>\n",
       "      <th>...</th>\n",
       "      <th>mar_Widowed</th>\n",
       "      <th>religimp_Not too important</th>\n",
       "      <th>religimp_Somewhat important</th>\n",
       "      <th>religimp_Very important</th>\n",
       "      <th>state0</th>\n",
       "      <th>state1</th>\n",
       "      <th>state2</th>\n",
       "      <th>state3</th>\n",
       "      <th>state4</th>\n",
       "      <th>state5</th>\n",
       "    </tr>\n",
       "  </thead>\n",
       "  <tbody>\n",
       "    <tr>\n",
       "      <th>0</th>\n",
       "      <td>0.0</td>\n",
       "      <td>0.0</td>\n",
       "      <td>1.0</td>\n",
       "      <td>0.0</td>\n",
       "      <td>1.0</td>\n",
       "      <td>1.0</td>\n",
       "      <td>0.101008</td>\n",
       "      <td>1.0</td>\n",
       "      <td>1.0</td>\n",
       "      <td>1.0</td>\n",
       "      <td>...</td>\n",
       "      <td>0.0</td>\n",
       "      <td>0.0</td>\n",
       "      <td>1.0</td>\n",
       "      <td>0.0</td>\n",
       "      <td>0.0</td>\n",
       "      <td>1.0</td>\n",
       "      <td>1.0</td>\n",
       "      <td>1.0</td>\n",
       "      <td>0.0</td>\n",
       "      <td>1.0</td>\n",
       "    </tr>\n",
       "    <tr>\n",
       "      <th>1</th>\n",
       "      <td>0.0</td>\n",
       "      <td>1.0</td>\n",
       "      <td>0.0</td>\n",
       "      <td>1.0</td>\n",
       "      <td>0.0</td>\n",
       "      <td>1.0</td>\n",
       "      <td>0.121210</td>\n",
       "      <td>1.0</td>\n",
       "      <td>1.0</td>\n",
       "      <td>1.0</td>\n",
       "      <td>...</td>\n",
       "      <td>0.0</td>\n",
       "      <td>0.0</td>\n",
       "      <td>0.0</td>\n",
       "      <td>0.0</td>\n",
       "      <td>0.0</td>\n",
       "      <td>0.0</td>\n",
       "      <td>0.0</td>\n",
       "      <td>1.0</td>\n",
       "      <td>0.0</td>\n",
       "      <td>1.0</td>\n",
       "    </tr>\n",
       "    <tr>\n",
       "      <th>2</th>\n",
       "      <td>0.0</td>\n",
       "      <td>1.0</td>\n",
       "      <td>1.0</td>\n",
       "      <td>0.0</td>\n",
       "      <td>1.0</td>\n",
       "      <td>1.0</td>\n",
       "      <td>0.000000</td>\n",
       "      <td>1.0</td>\n",
       "      <td>1.0</td>\n",
       "      <td>1.0</td>\n",
       "      <td>...</td>\n",
       "      <td>1.0</td>\n",
       "      <td>0.0</td>\n",
       "      <td>0.0</td>\n",
       "      <td>1.0</td>\n",
       "      <td>0.0</td>\n",
       "      <td>0.0</td>\n",
       "      <td>0.0</td>\n",
       "      <td>0.0</td>\n",
       "      <td>0.0</td>\n",
       "      <td>0.0</td>\n",
       "    </tr>\n",
       "    <tr>\n",
       "      <th>3</th>\n",
       "      <td>1.0</td>\n",
       "      <td>0.0</td>\n",
       "      <td>1.0</td>\n",
       "      <td>0.0</td>\n",
       "      <td>1.0</td>\n",
       "      <td>1.0</td>\n",
       "      <td>0.040402</td>\n",
       "      <td>1.0</td>\n",
       "      <td>1.0</td>\n",
       "      <td>1.0</td>\n",
       "      <td>...</td>\n",
       "      <td>0.0</td>\n",
       "      <td>0.0</td>\n",
       "      <td>0.0</td>\n",
       "      <td>1.0</td>\n",
       "      <td>1.0</td>\n",
       "      <td>0.0</td>\n",
       "      <td>1.0</td>\n",
       "      <td>0.0</td>\n",
       "      <td>1.0</td>\n",
       "      <td>1.0</td>\n",
       "    </tr>\n",
       "    <tr>\n",
       "      <th>4</th>\n",
       "      <td>1.0</td>\n",
       "      <td>0.0</td>\n",
       "      <td>1.0</td>\n",
       "      <td>0.0</td>\n",
       "      <td>1.0</td>\n",
       "      <td>0.0</td>\n",
       "      <td>0.060604</td>\n",
       "      <td>1.0</td>\n",
       "      <td>1.0</td>\n",
       "      <td>1.0</td>\n",
       "      <td>...</td>\n",
       "      <td>0.0</td>\n",
       "      <td>1.0</td>\n",
       "      <td>0.0</td>\n",
       "      <td>0.0</td>\n",
       "      <td>0.0</td>\n",
       "      <td>0.0</td>\n",
       "      <td>1.0</td>\n",
       "      <td>0.0</td>\n",
       "      <td>1.0</td>\n",
       "      <td>0.0</td>\n",
       "    </tr>\n",
       "  </tbody>\n",
       "</table>\n",
       "<p>5 rows × 120 columns</p>\n",
       "</div>"
      ],
      "text/plain": [
       "   gender  legalstatus  borderpatrol  legalstatusHS  deport  minwage12  \\\n",
       "0     0.0          0.0           1.0            0.0     1.0        1.0   \n",
       "1     0.0          1.0           0.0            1.0     0.0        1.0   \n",
       "2     0.0          1.0           1.0            0.0     1.0        1.0   \n",
       "3     1.0          0.0           1.0            0.0     1.0        1.0   \n",
       "4     1.0          0.0           1.0            0.0     1.0        0.0   \n",
       "\n",
       "     faminc  mandatorymin  bodycamera  threestrikes   ...    mar_Widowed  \\\n",
       "0  0.101008           1.0         1.0           1.0   ...            0.0   \n",
       "1  0.121210           1.0         1.0           1.0   ...            0.0   \n",
       "2  0.000000           1.0         1.0           1.0   ...            1.0   \n",
       "3  0.040402           1.0         1.0           1.0   ...            0.0   \n",
       "4  0.060604           1.0         1.0           1.0   ...            0.0   \n",
       "\n",
       "   religimp_Not too important  religimp_Somewhat important  \\\n",
       "0                         0.0                          1.0   \n",
       "1                         0.0                          0.0   \n",
       "2                         0.0                          0.0   \n",
       "3                         0.0                          0.0   \n",
       "4                         1.0                          0.0   \n",
       "\n",
       "   religimp_Very important  state0  state1  state2  state3  state4  state5  \n",
       "0                      0.0     0.0     1.0     1.0     1.0     0.0     1.0  \n",
       "1                      0.0     0.0     0.0     0.0     1.0     0.0     1.0  \n",
       "2                      1.0     0.0     0.0     0.0     0.0     0.0     0.0  \n",
       "3                      1.0     1.0     0.0     1.0     0.0     1.0     1.0  \n",
       "4                      0.0     0.0     0.0     1.0     0.0     1.0     0.0  \n",
       "\n",
       "[5 rows x 120 columns]"
      ]
     },
     "execution_count": 13,
     "metadata": {},
     "output_type": "execute_result"
    }
   ],
   "source": [
    "df_scaled = pd.DataFrame(x, columns = df.columns)\n",
    "df_scaled.head()"
   ]
  },
  {
   "cell_type": "code",
   "execution_count": 14,
   "metadata": {},
   "outputs": [
    {
     "name": "stdout",
     "output_type": "stream",
     "text": [
      "gender [ 0.  1.]\n",
      "legalstatus [ 0.  1.]\n",
      "borderpatrol [ 1.  0.]\n",
      "legalstatusHS [ 0.  1.]\n",
      "deport [ 1.  0.]\n",
      "minwage12 [ 1.  0.]\n",
      "faminc [ 0.10100808  0.1212101   0.          0.04040202  0.06060404  0.08080606\n",
      "  0.0202      0.21211919  0.14141212  0.17171515  1.          0.29292929\n",
      "  0.34343232  0.26262424  0.84848283  0.44444242  0.59595758]\n",
      "mandatorymin [ 1.  0.]\n",
      "bodycamera [ 1.  0.]\n",
      "threestrikes [ 1.  0.]\n",
      "pew_bornagain [ 0.  1.]\n",
      "increasepolice [ 0.  1.]\n",
      "fuelefficiency [ 0.  1.]\n",
      "EPACO2 [ 0.  1.]\n",
      "abortionchoice [ 1.  0.]\n",
      "abortioncoverage [ 0.  1.]\n",
      "abortion20wks [ 1.  0.]\n",
      "repealACA [ 1.  0.]\n",
      "banmostabortion [ 0.  1.]\n",
      "child18 [ 0.  1.]\n",
      "TPP [ 1.  0.]\n",
      "NCLB [ 1.  0.]\n",
      "primary [ 0.  1.]\n",
      "Iransanctions [ 1.  0.]\n",
      "infraspending [ 0.  1.]\n",
      "backgroundcheck [ 1.  0.]\n",
      "medicarereform [ 0.  1.]\n",
      "concealedcarry [ 0.  1.]\n",
      "gunregistry [ 0.  1.]\n",
      "banassault [ 0.  1.]\n",
      "gaymarriage [ 1.  0.]\n",
      "hispanic [ 0.  1.]\n",
      "investor [ 0.  1.]\n",
      "trans [ 0.  1.]\n",
      "votereg_post [ 1.  0.]\n",
      "militaryoil [ 0.  1.]\n",
      "militaryterror [ 1.  0.]\n",
      "militarycivilwar [ 1.  0.]\n",
      "militarydemocracy [ 0.  1.]\n",
      "militaryally [ 1.  0.]\n",
      "militaryUN [ 1.  0.]\n",
      "polmeeting [ 0.  1.]\n",
      "polsign [ 0.  1.]\n",
      "campaignwork [ 0.  1.]\n",
      "campaigndonate [ 0.  1.]\n",
      "donateblood [ 0.  1.]\n",
      "edloan [ 0.  1.]\n",
      "runoffice [ 0.  1.]\n",
      "Obama [ 0.  1.]\n",
      "Romney [ 0.  1.]\n",
      "age [ 0.37662338  0.20779221  0.45454545  0.46753247  0.53246753  0.16883117\n",
      "  0.28571429  0.12987013  0.24675325  0.48051948  0.51948052  0.68831169\n",
      "  0.1038961   0.35064935  0.75324675  0.54545455  0.22077922  0.49350649\n",
      "  0.25974026  0.4025974   0.57142857  0.18181818  0.05194805  0.50649351\n",
      "  0.44155844  0.09090909  0.42857143  0.72727273  0.63636364  0.76623377\n",
      "  0.83116883  0.7012987   0.2987013   0.27272727  0.41558442  0.67532468\n",
      "  0.36363636  0.07792208  0.23376623  0.58441558  0.31168831  0.55844156\n",
      "  0.19480519  0.15584416  0.79220779  0.80519481  0.64935065  0.61038961\n",
      "  0.14285714  0.01298701  0.66233766  0.62337662  0.74025974  0.77922078\n",
      "  0.11688312  0.38961039  0.32467532  0.02597403  0.03896104  0.5974026\n",
      "  0.81818182  0.71428571  0.85714286  0.92207792  0.84415584  0.87012987\n",
      "  0.33766234  0.06493506  0.94805195  0.88311688  0.90909091  0.96103896\n",
      "  0.8961039   0.97402597  0.          1.          0.93506494  0.98701299]\n",
      "whiteadvantage_Disagree [ 0.  1.]\n",
      "whiteadvantage_Neutral [ 1.  0.]\n",
      "angryracism_Disagree [ 0.  1.]\n",
      "angryracism_Neutral [ 0.  1.]\n",
      "racismrare_Disagree [ 0.  1.]\n",
      "racismrare_Neutral [ 1.  0.]\n",
      "fearrace_Disagree [ 1.  0.]\n",
      "fearrace_Neutral [ 0.  1.]\n",
      "statewelfare_Increase [ 0.  1.]\n",
      "statewelfare_Maintain [ 0.  1.]\n",
      "stateedu_Increase [ 0.  1.]\n",
      "stateedu_Maintain [ 0.  1.]\n",
      "veteran [ 0.  1.]\n",
      "family_vet [ 1.  0.]\n",
      "race_Black [ 0.  1.]\n",
      "race_Middle Eastern [ 0.  1.]\n",
      "race_Mixed [ 0.  1.]\n",
      "race_Native American [ 0.  1.]\n",
      "race_Other [ 0.  1.]\n",
      "race_White [ 1.  0.]\n",
      "college [ 0.  1.]\n",
      "Party_Independent [ 0.  1.]\n",
      "Party_Republican [ 1.  0.]\n",
      "ideo_Liberal [ 0.  1.]\n",
      "ideo_Moderate or Not sure [ 1.  0.]\n",
      "ideo_Very conservative [ 0.  1.]\n",
      "ideo_Very liberal [ 0.  1.]\n",
      "relig_Atheist [ 0.  1.]\n",
      "relig_Buddhist [ 0.  1.]\n",
      "relig_Eastern or Greek Orthodox [ 0.  1.]\n",
      "relig_Hindu [ 0.  1.]\n",
      "relig_Jewish [ 0.  1.]\n",
      "relig_Mormon [ 0.  1.]\n",
      "relig_Muslim [ 0.  1.]\n",
      "relig_Nothing in particular [ 1.  0.]\n",
      "relig_Protestant [ 0.  1.]\n",
      "relig_Roman Catholic [ 0.  1.]\n",
      "relig_Something else [ 0.  1.]\n",
      "straight [ 1.  0.]\n",
      "immigrant [ 0.  1.]\n",
      "union_member [ 0.  1.]\n",
      "pres_Johnson [ 0.  1.]\n",
      "pres_McMullin [ 0.  1.]\n",
      "pres_None [ 0.  1.]\n",
      "pres_Other [ 0.  1.]\n",
      "pres_Stein [ 0.  1.]\n",
      "pres_Trump [ 1.  0.]\n",
      "employ_Homemaker [ 1.  0.]\n",
      "employ_Other [ 0.  1.]\n",
      "employ_Part-time [ 0.  1.]\n",
      "employ_Permanently disabled [ 0.  1.]\n",
      "employ_Retired [ 0.  1.]\n",
      "employ_Student [ 0.  1.]\n",
      "employ_Temporarily laid off [ 0.  1.]\n",
      "employ_Unemployed [ 0.  1.]\n",
      "mar_Domestic partnership [ 0.  1.]\n",
      "mar_Married [ 1.  0.]\n",
      "mar_Separated [ 0.  1.]\n",
      "mar_Single [ 0.  1.]\n",
      "mar_Widowed [ 0.  1.]\n",
      "religimp_Not too important [ 0.  1.]\n",
      "religimp_Somewhat important [ 1.  0.]\n",
      "religimp_Very important [ 0.  1.]\n",
      "state0 [ 0.  1.]\n",
      "state1 [ 1.  0.]\n",
      "state2 [ 1.  0.]\n",
      "state3 [ 1.  0.]\n",
      "state4 [ 0.  1.]\n",
      "state5 [ 1.  0.]\n"
     ]
    }
   ],
   "source": [
    "for col in df_scaled.columns:\n",
    "    print (col, df_scaled[col].unique())"
   ]
  },
  {
   "cell_type": "code",
   "execution_count": 15,
   "metadata": {
    "collapsed": true
   },
   "outputs": [],
   "source": [
    "df = df_scaled"
   ]
  },
  {
   "cell_type": "code",
   "execution_count": 16,
   "metadata": {
    "collapsed": true
   },
   "outputs": [],
   "source": [
    "from sklearn.cluster import KMeans"
   ]
  },
  {
   "cell_type": "code",
   "execution_count": 18,
   "metadata": {},
   "outputs": [
    {
     "data": {
      "image/png": "[encoded data removed]",
      "text/plain": [
       "<matplotlib.figure.Figure at 0x20cfdee5e80>"
      ]
     },
     "metadata": {},
     "output_type": "display_data"
    }
   ],
   "source": [
    "SS = []\n",
    "for k in range(2,8):\n",
    "    kmeans_cluster = KMeans(n_clusters = k, random_state=42).fit(df)\n",
    "    SS.append(kmeans_cluster.inertia_)\n",
    "\n",
    "plt.scatter(range(2,8), SS)\n",
    "plt.xlabel(\"Number of clusters\")\n",
    "plt.ylabel(\"Sum of squares error\")\n",
    "plt.show()"
   ]
  },
  {
   "cell_type": "markdown",
   "metadata": {},
   "source": [
    "3 looks like it may be an \"elbow\"."
   ]
  },
  {
   "cell_type": "markdown",
   "metadata": {},
   "source": [
    "**Silhouette Scores**"
   ]
  },
  {
   "cell_type": "code",
   "execution_count": 35,
   "metadata": {},
   "outputs": [
    {
     "name": "stdout",
     "output_type": "stream",
     "text": [
      "Automatically created module for IPython interactive environment\n",
      "For n_clusters = 2 The average silhouette_score is : 0.108305054698\n",
      "For n_clusters = 3 The average silhouette_score is : 0.101409875779\n",
      "For n_clusters = 4 The average silhouette_score is : 0.093843294352\n",
      "For n_clusters = 5 The average silhouette_score is : 0.0884931801442\n",
      "For n_clusters = 6 The average silhouette_score is : 0.0544745113861\n",
      "For n_clusters = 7 The average silhouette_score is : 0.0490876142195\n"
     ]
    }
   ],
   "source": [
    "from __future__ import print_function\n",
    "\n",
    "from sklearn.datasets import make_blobs\n",
    "from sklearn.cluster import KMeans\n",
    "from sklearn.metrics import silhouette_samples, silhouette_score\n",
    "\n",
    "import matplotlib.pyplot as plt\n",
    "import matplotlib.cm as cm\n",
    "import numpy as np\n",
    "\n",
    "print(__doc__)\n",
    "\n",
    "range_n_clusters = [i for i in range(2,8)]\n",
    "\n",
    "for n_clusters in range_n_clusters:\n",
    "    # Create a subplot with 1 row and 2 columns\n",
    "    fig, (ax1, ax2) = plt.subplots(1, 2)\n",
    "    fig.set_size_inches(18, 7)\n",
    "\n",
    "    # The 1st subplot is the silhouette plot\n",
    "    # The silhouette coefficient can range from -1, 1 but in this example all\n",
    "    # lie within [-0.1, 1]\n",
    "    \n",
    "    ax1.set_xlim([-0.1, 1])\n",
    "    # The (n_clusters+1)*10 is for inserting blank space between silhouette\n",
    "    # plots of individual clusters, to demarcate them clearly.\n",
    "    ax1.set_ylim([0, len(df) + (n_clusters + 1) * 10])\n",
    "\n",
    "    # Initialize the clusterer with n_clusters value and a random generator\n",
    "    # seed of 10 for reproducibility.\n",
    "    clusterer = KMeans(n_clusters=n_clusters, random_state=42)\n",
    "    cluster_labels = clusterer.fit_predict(df)\n",
    "\n",
    "    # The silhouette_score gives the average value for all the samples.\n",
    "    # This gives a perspective into the density and separation of the formed\n",
    "    # clusters\n",
    "    silhouette_avg = silhouette_score(df, cluster_labels, sample_size = 1000)\n",
    "    print(\"For n_clusters =\", n_clusters,\n",
    "          \"The average silhouette_score is :\", silhouette_avg)"
   ]
  },
  {
   "cell_type": "markdown",
   "metadata": {},
   "source": [
    "2 clusters has the highest silhouette score. This is consistent with the conventional wisdom about the American people being divided into two political camps. The score goes down with the number of clusters. "
   ]
  },
  {
   "cell_type": "code",
   "execution_count": 19,
   "metadata": {
    "collapsed": true
   },
   "outputs": [],
   "source": [
    "from collections import Counter"
   ]
  },
  {
   "cell_type": "code",
   "execution_count": 20,
   "metadata": {},
   "outputs": [
    {
     "data": {
      "text/plain": [
       "Counter({0: 19589, 1: 28555})"
      ]
     },
     "execution_count": 20,
     "metadata": {},
     "output_type": "execute_result"
    }
   ],
   "source": [
    "two_clusters = KMeans(n_clusters = 2, random_state=42).fit(df)\n",
    "Counter(two_clusters.labels_)"
   ]
  },
  {
   "cell_type": "code",
   "execution_count": 21,
   "metadata": {
    "collapsed": true
   },
   "outputs": [],
   "source": [
    "df1 = pd.DataFrame(two_clusters.labels_, columns = ['two_cluster_label'])\n",
    "\n",
    "df = pd.concat([df, df1], axis = 1)"
   ]
  },
  {
   "cell_type": "code",
   "execution_count": 22,
   "metadata": {},
   "outputs": [
    {
     "data": {
      "text/plain": [
       "two_cluster_label  pres_Trump\n",
       "0                  0.0            4007\n",
       "                   1.0           15582\n",
       "1                  0.0           26935\n",
       "                   1.0            1620\n",
       "dtype: int64"
      ]
     },
     "execution_count": 22,
     "metadata": {},
     "output_type": "execute_result"
    }
   ],
   "source": [
    "df.groupby(['two_cluster_label', 'pres_Trump']).size()"
   ]
  },
  {
   "cell_type": "code",
   "execution_count": 24,
   "metadata": {
    "collapsed": true
   },
   "outputs": [],
   "source": [
    "EDA_df = pd.read_csv('EDA.csv')"
   ]
  },
  {
   "cell_type": "code",
   "execution_count": 25,
   "metadata": {
    "collapsed": true
   },
   "outputs": [],
   "source": [
    "EDA_df = pd.concat([df1, EDA_df], axis = 1)"
   ]
  },
  {
   "cell_type": "code",
   "execution_count": 26,
   "metadata": {},
   "outputs": [
    {
     "data": {
      "text/plain": [
       "two_cluster_label  presvote\n",
       "0                  Clinton       673\n",
       "                   Johnson       763\n",
       "                   McMullin      126\n",
       "                   None         1882\n",
       "                   Other         504\n",
       "                   Stein          59\n",
       "                   Trump       15582\n",
       "1                  Clinton     19794\n",
       "                   Johnson       935\n",
       "                   McMullin       33\n",
       "                   None         4852\n",
       "                   Other         529\n",
       "                   Stein         792\n",
       "                   Trump        1620\n",
       "dtype: int64"
      ]
     },
     "execution_count": 26,
     "metadata": {},
     "output_type": "execute_result"
    }
   ],
   "source": [
    "EDA_df.groupby(['two_cluster_label', 'presvote']).size()"
   ]
  },
  {
   "cell_type": "code",
   "execution_count": 27,
   "metadata": {
    "collapsed": true
   },
   "outputs": [],
   "source": [
    "four = KMeans(n_clusters = 4, random_state=42).fit(df)"
   ]
  },
  {
   "cell_type": "code",
   "execution_count": 28,
   "metadata": {
    "collapsed": true
   },
   "outputs": [],
   "source": [
    "df2 = pd.DataFrame(four.labels_, columns = ['four_cluster_label'])\n",
    "\n",
    "df = pd.concat([df, df2], axis = 1)"
   ]
  },
  {
   "cell_type": "code",
   "execution_count": 29,
   "metadata": {},
   "outputs": [
    {
     "data": {
      "text/plain": [
       "Counter({0: 10117, 1: 15209, 2: 9475, 3: 13343})"
      ]
     },
     "execution_count": 29,
     "metadata": {},
     "output_type": "execute_result"
    }
   ],
   "source": [
    "Counter(four.labels_)"
   ]
  },
  {
   "cell_type": "code",
   "execution_count": 30,
   "metadata": {
    "collapsed": true
   },
   "outputs": [],
   "source": [
    "EDA_df = pd.concat([df2, EDA_df], axis = 1)"
   ]
  },
  {
   "cell_type": "code",
   "execution_count": 31,
   "metadata": {},
   "outputs": [
    {
     "data": {
      "text/plain": [
       "four_cluster_label  presvote\n",
       "0                   Clinton       635\n",
       "                    Johnson       457\n",
       "                    McMullin       73\n",
       "                    None         1623\n",
       "                    Other         276\n",
       "                    Stein          49\n",
       "                    Trump        7004\n",
       "1                   Clinton      7825\n",
       "                    Johnson       759\n",
       "                    McMullin       26\n",
       "                    None         4542\n",
       "                    Other         356\n",
       "                    Stein         334\n",
       "                    Trump        1367\n",
       "2                   Clinton        33\n",
       "                    Johnson       297\n",
       "                    McMullin       53\n",
       "                    None          167\n",
       "                    Other         228\n",
       "                    Stein          10\n",
       "                    Trump        8687\n",
       "3                   Clinton     11974\n",
       "                    Johnson       185\n",
       "                    McMullin        7\n",
       "                    None          402\n",
       "                    Other         173\n",
       "                    Stein         458\n",
       "                    Trump         144\n",
       "dtype: int64"
      ]
     },
     "execution_count": 31,
     "metadata": {},
     "output_type": "execute_result"
    }
   ],
   "source": [
    "EDA_df.groupby(['four_cluster_label', 'presvote']).size()"
   ]
  },
  {
   "cell_type": "markdown",
   "metadata": {},
   "source": [
    "One cluster that is overwhelming Clinton, another overwhelmingly Trump, couple that are mixed."
   ]
  },
  {
   "cell_type": "code",
   "execution_count": 32,
   "metadata": {
    "collapsed": true
   },
   "outputs": [],
   "source": [
    "six = KMeans(n_clusters = 6, random_state=42).fit(df)\n",
    "\n",
    "df3 = pd.DataFrame(six.labels_, columns = ['six_cluster_label'])\n",
    "\n",
    "EDA_df = pd.concat([EDA_df, df3], axis = 1)"
   ]
  },
  {
   "cell_type": "code",
   "execution_count": 33,
   "metadata": {},
   "outputs": [
    {
     "data": {
      "text/plain": [
       "six_cluster_label  presvote\n",
       "0                  Clinton      617\n",
       "                   Johnson      444\n",
       "                   McMullin      73\n",
       "                   None        1529\n",
       "                   Other        274\n",
       "                   Stein         49\n",
       "                   Trump       6989\n",
       "1                  Clinton     5551\n",
       "                   Johnson       48\n",
       "                   McMullin       4\n",
       "                   None         203\n",
       "                   Other         99\n",
       "                   Stein        313\n",
       "                   Trump         61\n",
       "2                  Clinton     6423\n",
       "                   Johnson      137\n",
       "                   McMullin       3\n",
       "                   None         199\n",
       "                   Other         74\n",
       "                   Stein        145\n",
       "                   Trump         83\n",
       "3                  Clinton     2890\n",
       "                   Johnson      538\n",
       "                   McMullin      14\n",
       "                   None        3840\n",
       "                   Other        218\n",
       "                   Stein        232\n",
       "                   Trump        785\n",
       "4                  Clinton     4953\n",
       "                   Johnson      234\n",
       "                   McMullin      12\n",
       "                   None         798\n",
       "                   Other        140\n",
       "                   Stein        102\n",
       "                   Trump        597\n",
       "5                  Clinton       33\n",
       "                   Johnson      297\n",
       "                   McMullin      53\n",
       "                   None         165\n",
       "                   Other        228\n",
       "                   Stein         10\n",
       "                   Trump       8687\n",
       "dtype: int64"
      ]
     },
     "execution_count": 33,
     "metadata": {},
     "output_type": "execute_result"
    }
   ],
   "source": [
    "EDA_df.groupby(['six_cluster_label', 'presvote']).size()"
   ]
  },
  {
   "cell_type": "markdown",
   "metadata": {},
   "source": [
    "Three Dem clusters, three Trump clusters, all fairly partisan."
   ]
  },
  {
   "cell_type": "code",
   "execution_count": 36,
   "metadata": {},
   "outputs": [
    {
     "data": {
      "text/plain": [
       "five_cluster_label  presvote\n",
       "0                   Clinton      3094\n",
       "                    Johnson       558\n",
       "                    McMullin       14\n",
       "                    None         3818\n",
       "                    Other         227\n",
       "                    Stein         237\n",
       "                    Trump         828\n",
       "1                   Clinton       611\n",
       "                    Johnson       446\n",
       "                    McMullin       73\n",
       "                    None         1546\n",
       "                    Other         274\n",
       "                    Stein          49\n",
       "                    Trump        6992\n",
       "2                   Clinton        33\n",
       "                    Johnson       297\n",
       "                    McMullin       53\n",
       "                    None          165\n",
       "                    Other         228\n",
       "                    Stein          10\n",
       "                    Trump        8687\n",
       "3                   Clinton     11974\n",
       "                    Johnson       185\n",
       "                    McMullin        7\n",
       "                    None          402\n",
       "                    Other         173\n",
       "                    Stein         458\n",
       "                    Trump         144\n",
       "4                   Clinton      4755\n",
       "                    Johnson       212\n",
       "                    McMullin       12\n",
       "                    None          803\n",
       "                    Other         131\n",
       "                    Stein          97\n",
       "                    Trump         551\n",
       "dtype: int64"
      ]
     },
     "execution_count": 36,
     "metadata": {},
     "output_type": "execute_result"
    }
   ],
   "source": [
    "five = KMeans(n_clusters = 5, random_state=42).fit(df)\n",
    "\n",
    "df4 = pd.DataFrame(five.labels_, columns = ['five_cluster_label'])\n",
    "\n",
    "EDA_df = pd.concat([EDA_df, df4], axis = 1)\n",
    "\n",
    "EDA_df.groupby(['five_cluster_label', 'presvote']).size()"
   ]
  },
  {
   "cell_type": "code",
   "execution_count": 59,
   "metadata": {},
   "outputs": [
    {
     "data": {
      "text/plain": [
       "Counter({0: 8776, 1: 9991, 2: 9473, 3: 13343, 4: 6561})"
      ]
     },
     "execution_count": 59,
     "metadata": {},
     "output_type": "execute_result"
    }
   ],
   "source": [
    "Counter(five.labels_)"
   ]
  },
  {
   "cell_type": "markdown",
   "metadata": {},
   "source": [
    "Here there are two clusters that are mostly partisan (Democrat or Republican), and one (cluster 0) with a high number of non-voters."
   ]
  },
  {
   "cell_type": "code",
   "execution_count": 60,
   "metadata": {
    "collapsed": true
   },
   "outputs": [],
   "source": [
    "df = pd.concat([df, df4], axis = 1)"
   ]
  },
  {
   "cell_type": "markdown",
   "metadata": {},
   "source": [
    "## Two cluster analysis"
   ]
  },
  {
   "cell_type": "code",
   "execution_count": 37,
   "metadata": {},
   "outputs": [
    {
     "data": {
      "text/plain": [
       "two_cluster_label\n",
       "0    19589\n",
       "1    28555\n",
       "dtype: int64"
      ]
     },
     "execution_count": 37,
     "metadata": {},
     "output_type": "execute_result"
    }
   ],
   "source": [
    "EDA_df.groupby(['two_cluster_label']).size()"
   ]
  },
  {
   "cell_type": "code",
   "execution_count": 38,
   "metadata": {
    "collapsed": true
   },
   "outputs": [],
   "source": [
    "#function that plots the proportion of respondents voting for Trump or Clinton, grouped by answers to an inputted column\n",
    "def pres_plot(df, col, title = ' ', rotation = 70):\n",
    "    #Create dataframe showing proportion of respondents voting for either Trump or Clinton\n",
    "    pres_df = df.loc[(df['presvote'] == 'Trump') | (df['presvote'] == 'Clinton')].groupby([col, 'presvote']).size()\n",
    "    total = df.loc[(df['presvote'] == 'Trump') | (df['presvote'] == 'Clinton')].groupby([col]).size()\n",
    "    pres_df = pres_df / total\n",
    "    pres_df = pres_df.to_frame()\n",
    "    pres_df = pres_df.reset_index(level=[0,1])\n",
    "    pres_df = pres_df.pivot(index = col, columns = 'presvote', values = 0)\n",
    "    \n",
    "    pres_df = pres_df.sort_values('Trump')\n",
    "    _ = pres_df.plot(kind = 'bar', rot = rotation, color = ['b','r'], figsize = (7,5))\n",
    "    _ = plt.title(title)\n",
    "    _ = plt.ylim(0, 1.1)\n",
    "\n",
    "    plt.show()"
   ]
  },
  {
   "cell_type": "code",
   "execution_count": 41,
   "metadata": {},
   "outputs": [
    {
     "data": {
      "image/png": "[encoded data removed]",
      "text/plain": [
       "<matplotlib.figure.Figure at 0x20c84708dd8>"
      ]
     },
     "metadata": {},
     "output_type": "display_data"
    }
   ],
   "source": [
    "#exclude Other, McMullin, and Stein due to small number of responses\n",
    "major_df = EDA_df.loc[(EDA_df['presvote'] != 'Other') & (EDA_df['presvote'] != 'McMullin') & (EDA_df['presvote'] != 'Stein')]\n",
    "pres_df = major_df.groupby(['two_cluster_label', 'presvote']).size() / EDA_df.groupby(['two_cluster_label']).size()\n",
    "pres_df = pres_df.to_frame()\n",
    "pres_df = pres_df.reset_index(level=[0,1])\n",
    "pres_df = pres_df.pivot(index ='two_cluster_label', columns = 'presvote', values = 0)\n",
    "    \n",
    "_ = pres_df.plot(kind = 'bar', rot = 70, figsize = (6.5,4.5))\n",
    "_ = plt.title('Presidential vote by cluster')\n",
    "\n",
    "_ = plt.ylim(0, 1.1)\n",
    "\n",
    "plt.show()"
   ]
  },
  {
   "cell_type": "markdown",
   "metadata": {},
   "source": [
    "## Four cluster analysis"
   ]
  },
  {
   "cell_type": "code",
   "execution_count": 42,
   "metadata": {},
   "outputs": [
    {
     "data": {
      "text/plain": [
       "four_cluster_label\n",
       "0    10117\n",
       "1    15209\n",
       "2     9475\n",
       "3    13343\n",
       "dtype: int64"
      ]
     },
     "execution_count": 42,
     "metadata": {},
     "output_type": "execute_result"
    }
   ],
   "source": [
    "df.groupby(['four_cluster_label']).size()"
   ]
  },
  {
   "cell_type": "code",
   "execution_count": 43,
   "metadata": {},
   "outputs": [
    {
     "data": {
      "image/png": "[encoded data removed]",
      "text/plain": [
       "<matplotlib.figure.Figure at 0x20c84c09780>"
      ]
     },
     "metadata": {},
     "output_type": "display_data"
    }
   ],
   "source": [
    "pres_plot(EDA_df, 'four_cluster_label')"
   ]
  },
  {
   "cell_type": "code",
   "execution_count": 44,
   "metadata": {
    "collapsed": true
   },
   "outputs": [],
   "source": [
    "#function plotting how respondent's answers to a given column, grouped by how they voted for president\n",
    "def opinion_plot(groupcol, col, df, title = ''):\n",
    "    opinion_df = df.groupby([groupcol, col]).size() / df.groupby([groupcol]).size()\n",
    "\n",
    "    opinion_df = opinion_df.to_frame()\n",
    "    opinion_df = opinion_df.reset_index(level=[0,1])\n",
    "    opinion_df = opinion_df.pivot(index =groupcol, columns = col, values = 0)\n",
    "    #sort dataframe by proportion selecting the second option (1 or Favor)\n",
    "    #opinion_df = opinion_df.sort_values(1)\n",
    "    #add line showing overall response\n",
    "    opinion_df.loc['Total'] = [df.groupby([col]).size()[0]/df.shape[0], df.groupby([col]).size()[1]/df.shape[0]]\n",
    "    \n",
    "    _ = opinion_df.plot(kind = 'bar', rot = 70, figsize = (6.5,4.5))\n",
    "    _ = plt.title(title)\n",
    "    _ = plt.legend(['No', 'Yes'])\n",
    "    _ = plt.ylim(0, 1.1)\n",
    "\n",
    "    plt.show()"
   ]
  },
  {
   "cell_type": "code",
   "execution_count": 45,
   "metadata": {},
   "outputs": [
    {
     "data": {
      "image/png": "[encoded data removed]",
      "text/plain": [
       "<matplotlib.figure.Figure at 0x20c846f06a0>"
      ]
     },
     "metadata": {},
     "output_type": "display_data"
    }
   ],
   "source": [
    "#exclude Other, McMullin, and Stein due to small number of responses\n",
    "major_df = EDA_df.loc[(EDA_df['presvote'] != 'Other') & (EDA_df['presvote'] != 'McMullin') & (EDA_df['presvote'] != 'Stein')]\n",
    "pres_df = major_df.groupby(['four_cluster_label', 'presvote']).size() / EDA_df.groupby(['four_cluster_label']).size()\n",
    "pres_df = pres_df.to_frame()\n",
    "pres_df = pres_df.reset_index(level=[0,1])\n",
    "pres_df = pres_df.pivot(index ='four_cluster_label', columns = 'presvote', values = 0)\n",
    "    \n",
    "_ = pres_df.plot(kind = 'bar', rot = 70, figsize = (6.5,4.5))\n",
    "_ = plt.title('Presidential vote by cluster')\n",
    "\n",
    "_ = plt.ylim(0, 1.1)\n",
    "\n",
    "plt.show()"
   ]
  },
  {
   "cell_type": "markdown",
   "metadata": {},
   "source": [
    "Most non-voters are in cluster 1, which is still mostly Clinton voters."
   ]
  },
  {
   "cell_type": "markdown",
   "metadata": {},
   "source": [
    "what distinguishes 0 and 2 is the larger number of non-voters. 2 contains a smaller proportion of Trump voters and a larger proportion of non-voters."
   ]
  },
  {
   "cell_type": "code",
   "execution_count": 46,
   "metadata": {},
   "outputs": [
    {
     "name": "stdout",
     "output_type": "stream",
     "text": [
      "gender\n",
      "legalstatus\n",
      "borderpatrol\n",
      "legalstatusHS\n",
      "deport\n",
      "minwage12\n",
      "faminc\n",
      "mandatorymin\n",
      "bodycamera\n",
      "threestrikes\n",
      "pew_bornagain\n",
      "increasepolice\n",
      "fuelefficiency\n",
      "EPACO2\n",
      "abortionchoice\n",
      "abortioncoverage\n",
      "abortion20wks\n",
      "repealACA\n",
      "banmostabortion\n",
      "child18\n",
      "TPP\n",
      "NCLB\n",
      "primary\n",
      "Iransanctions\n",
      "infraspending\n",
      "backgroundcheck\n",
      "medicarereform\n",
      "concealedcarry\n",
      "gunregistry\n",
      "banassault\n",
      "gaymarriage\n",
      "hispanic\n",
      "investor\n",
      "trans\n",
      "votereg_post\n",
      "militaryoil\n",
      "militaryterror\n",
      "militarycivilwar\n",
      "militarydemocracy\n",
      "militaryally\n",
      "militaryUN\n",
      "polmeeting\n",
      "polsign\n",
      "campaignwork\n",
      "campaigndonate\n",
      "donateblood\n",
      "edloan\n",
      "runoffice\n",
      "Obama\n",
      "Romney\n",
      "age\n",
      "whiteadvantage_Disagree\n",
      "whiteadvantage_Neutral\n",
      "angryracism_Disagree\n",
      "angryracism_Neutral\n",
      "racismrare_Disagree\n",
      "racismrare_Neutral\n",
      "fearrace_Disagree\n",
      "fearrace_Neutral\n",
      "statewelfare_Increase\n",
      "statewelfare_Maintain\n",
      "stateedu_Increase\n",
      "stateedu_Maintain\n",
      "veteran\n",
      "family_vet\n",
      "race_Black\n",
      "race_Middle Eastern\n",
      "race_Mixed\n",
      "race_Native American\n",
      "race_Other\n",
      "race_White\n",
      "college\n",
      "Party_Independent\n",
      "Party_Republican\n",
      "ideo_Liberal\n",
      "ideo_Moderate or Not sure\n",
      "ideo_Very conservative\n",
      "ideo_Very liberal\n",
      "relig_Atheist\n",
      "relig_Buddhist\n",
      "relig_Eastern or Greek Orthodox\n",
      "relig_Hindu\n",
      "relig_Jewish\n",
      "relig_Mormon\n",
      "relig_Muslim\n",
      "relig_Nothing in particular\n",
      "relig_Protestant\n",
      "relig_Roman Catholic\n",
      "relig_Something else\n",
      "straight\n",
      "immigrant\n",
      "union_member\n",
      "pres_Johnson\n",
      "pres_McMullin\n",
      "pres_None\n",
      "pres_Other\n",
      "pres_Stein\n",
      "pres_Trump\n",
      "employ_Homemaker\n",
      "employ_Other\n",
      "employ_Part-time\n",
      "employ_Permanently disabled\n",
      "employ_Retired\n",
      "employ_Student\n",
      "employ_Temporarily laid off\n",
      "employ_Unemployed\n",
      "mar_Domestic partnership\n",
      "mar_Married\n",
      "mar_Separated\n",
      "mar_Single\n",
      "mar_Widowed\n",
      "religimp_Not too important\n",
      "religimp_Somewhat important\n",
      "religimp_Very important\n",
      "state0\n",
      "state1\n",
      "state2\n",
      "state3\n",
      "state4\n",
      "state5\n",
      "two_cluster_label\n",
      "four_cluster_label\n"
     ]
    }
   ],
   "source": [
    "for col in df.columns:\n",
    "    print(col)"
   ]
  },
  {
   "cell_type": "code",
   "execution_count": 47,
   "metadata": {
    "collapsed": true
   },
   "outputs": [],
   "source": [
    "df = df.drop(['two_cluster_label'], axis = 1)"
   ]
  },
  {
   "cell_type": "code",
   "execution_count": 61,
   "metadata": {
    "collapsed": true
   },
   "outputs": [],
   "source": [
    "df.to_csv('clustered.csv')"
   ]
  },
  {
   "cell_type": "code",
   "execution_count": 62,
   "metadata": {},
   "outputs": [
    {
     "name": "stdout",
     "output_type": "stream",
     "text": [
      "gender\n",
      "legalstatus\n",
      "borderpatrol\n",
      "legalstatusHS\n",
      "deport\n",
      "minwage12\n",
      "faminc\n",
      "mandatorymin\n",
      "bodycamera\n",
      "threestrikes\n",
      "pew_bornagain\n",
      "increasepolice\n",
      "fuelefficiency\n",
      "EPACO2\n",
      "abortionchoice\n",
      "abortioncoverage\n",
      "abortion20wks\n",
      "repealACA\n",
      "banmostabortion\n",
      "child18\n",
      "TPP\n",
      "NCLB\n",
      "primary\n",
      "Iransanctions\n",
      "infraspending\n",
      "backgroundcheck\n",
      "medicarereform\n",
      "concealedcarry\n",
      "gunregistry\n",
      "banassault\n",
      "gaymarriage\n",
      "hispanic\n",
      "investor\n",
      "trans\n",
      "votereg_post\n",
      "militaryoil\n",
      "militaryterror\n",
      "militarycivilwar\n",
      "militarydemocracy\n",
      "militaryally\n",
      "militaryUN\n",
      "polmeeting\n",
      "polsign\n",
      "campaignwork\n",
      "campaigndonate\n",
      "donateblood\n",
      "edloan\n",
      "runoffice\n",
      "Obama\n",
      "Romney\n",
      "age\n",
      "whiteadvantage_Disagree\n",
      "whiteadvantage_Neutral\n",
      "angryracism_Disagree\n",
      "angryracism_Neutral\n",
      "racismrare_Disagree\n",
      "racismrare_Neutral\n",
      "fearrace_Disagree\n",
      "fearrace_Neutral\n",
      "statewelfare_Increase\n",
      "statewelfare_Maintain\n",
      "stateedu_Increase\n",
      "stateedu_Maintain\n",
      "veteran\n",
      "family_vet\n",
      "race_Black\n",
      "race_Middle Eastern\n",
      "race_Mixed\n",
      "race_Native American\n",
      "race_Other\n",
      "race_White\n",
      "college\n",
      "Party_Independent\n",
      "Party_Republican\n",
      "ideo_Liberal\n",
      "ideo_Moderate or Not sure\n",
      "ideo_Very conservative\n",
      "ideo_Very liberal\n",
      "relig_Atheist\n",
      "relig_Buddhist\n",
      "relig_Eastern or Greek Orthodox\n",
      "relig_Hindu\n",
      "relig_Jewish\n",
      "relig_Mormon\n",
      "relig_Muslim\n",
      "relig_Nothing in particular\n",
      "relig_Protestant\n",
      "relig_Roman Catholic\n",
      "relig_Something else\n",
      "straight\n",
      "immigrant\n",
      "union_member\n",
      "pres_Johnson\n",
      "pres_McMullin\n",
      "pres_None\n",
      "pres_Other\n",
      "pres_Stein\n",
      "pres_Trump\n",
      "employ_Homemaker\n",
      "employ_Other\n",
      "employ_Part-time\n",
      "employ_Permanently disabled\n",
      "employ_Retired\n",
      "employ_Student\n",
      "employ_Temporarily laid off\n",
      "employ_Unemployed\n",
      "mar_Domestic partnership\n",
      "mar_Married\n",
      "mar_Separated\n",
      "mar_Single\n",
      "mar_Widowed\n",
      "religimp_Not too important\n",
      "religimp_Somewhat important\n",
      "religimp_Very important\n",
      "state0\n",
      "state1\n",
      "state2\n",
      "state3\n",
      "state4\n",
      "state5\n",
      "four_cluster_label\n",
      "five_cluster_label\n"
     ]
    }
   ],
   "source": [
    "for col in df.columns:\n",
    "    print(col)"
   ]
  },
  {
   "cell_type": "markdown",
   "metadata": {},
   "source": [
    "## PCA"
   ]
  },
  {
   "cell_type": "code",
   "execution_count": 56,
   "metadata": {
    "collapsed": true
   },
   "outputs": [],
   "source": [
    "from sklearn.decomposition import PCA\n",
    "\n",
    "#exclude cluster label when calculating principal components\n",
    "PCA_df = df.drop(['four_cluster_label'], axis = 1)\n",
    "model = PCA(n_components = 2)\n",
    "model.fit(PCA_df)\n",
    "transformed = model.transform(PCA_df)\n",
    "\n",
    "#PCA_five = KMeans(n_clusters = 5, random_state = 42).fit(transformed)"
   ]
  },
  {
   "cell_type": "code",
   "execution_count": 54,
   "metadata": {
    "collapsed": true
   },
   "outputs": [],
   "source": [
    "df_pca = pd.DataFrame({'Cluster_id':five.labels_,'x':transformed[:,0],'y':transformed[:,1]})"
   ]
  },
  {
   "cell_type": "code",
   "execution_count": 55,
   "metadata": {},
   "outputs": [
    {
     "data": {
      "text/html": [
       "<div>\n",
       "<style>\n",
       "    .dataframe thead tr:only-child th {\n",
       "        text-align: right;\n",
       "    }\n",
       "\n",
       "    .dataframe thead th {\n",
       "        text-align: left;\n",
       "    }\n",
       "\n",
       "    .dataframe tbody tr th {\n",
       "        vertical-align: top;\n",
       "    }\n",
       "</style>\n",
       "<table border=\"1\" class=\"dataframe\">\n",
       "  <thead>\n",
       "    <tr style=\"text-align: right;\">\n",
       "      <th></th>\n",
       "      <th>Cluster_id</th>\n",
       "      <th>x</th>\n",
       "      <th>y</th>\n",
       "    </tr>\n",
       "  </thead>\n",
       "  <tbody>\n",
       "    <tr>\n",
       "      <th>0</th>\n",
       "      <td>1</td>\n",
       "      <td>0.771330</td>\n",
       "      <td>0.634626</td>\n",
       "    </tr>\n",
       "    <tr>\n",
       "      <th>1</th>\n",
       "      <td>3</td>\n",
       "      <td>-1.769822</td>\n",
       "      <td>-1.058107</td>\n",
       "    </tr>\n",
       "    <tr>\n",
       "      <th>2</th>\n",
       "      <td>4</td>\n",
       "      <td>-0.569439</td>\n",
       "      <td>0.876722</td>\n",
       "    </tr>\n",
       "    <tr>\n",
       "      <th>3</th>\n",
       "      <td>2</td>\n",
       "      <td>2.442083</td>\n",
       "      <td>-0.161983</td>\n",
       "    </tr>\n",
       "    <tr>\n",
       "      <th>4</th>\n",
       "      <td>2</td>\n",
       "      <td>2.708112</td>\n",
       "      <td>-0.569277</td>\n",
       "    </tr>\n",
       "  </tbody>\n",
       "</table>\n",
       "</div>"
      ],
      "text/plain": [
       "   Cluster_id         x         y\n",
       "0           1  0.771330  0.634626\n",
       "1           3 -1.769822 -1.058107\n",
       "2           4 -0.569439  0.876722\n",
       "3           2  2.442083 -0.161983\n",
       "4           2  2.708112 -0.569277"
      ]
     },
     "execution_count": 55,
     "metadata": {},
     "output_type": "execute_result"
    }
   ],
   "source": [
    "df_pca.head()"
   ]
  },
  {
   "cell_type": "markdown",
   "metadata": {},
   "source": [
    "Clustering before PCA transformation (using the same cluster labels as before)"
   ]
  },
  {
   "cell_type": "code",
   "execution_count": 57,
   "metadata": {},
   "outputs": [
    {
     "data": {
      "image/png": "[encoded data removed]",
      "text/plain": [
       "<matplotlib.figure.Figure at 0x20c848817b8>"
      ]
     },
     "metadata": {},
     "output_type": "display_data"
    }
   ],
   "source": [
    "import seaborn as sns\n",
    "\n",
    "_ = sns.pairplot(x_vars=[\"x\"], y_vars=[\"y\"], data=df_pca, hue=\"Cluster_id\", size=7)\n",
    "plt.show()"
   ]
  },
  {
   "cell_type": "markdown",
   "metadata": {},
   "source": [
    "So what are these components anyway?"
   ]
  },
  {
   "cell_type": "code",
   "execution_count": 58,
   "metadata": {},
   "outputs": [
    {
     "data": {
      "text/plain": [
       "array([[  4.08945386e-02,  -1.83933694e-01,   1.72410312e-01,\n",
       "         -1.70966644e-01,   1.94975401e-01,  -1.87075131e-01,\n",
       "         -1.60894914e-03,  -1.24529747e-01,  -5.39313787e-02,\n",
       "          7.07824153e-02,   1.02700087e-01,   1.07557819e-01,\n",
       "         -1.49739375e-01,  -2.04849137e-01,  -1.96838134e-01,\n",
       "          2.06431495e-01,   1.57280653e-01,   2.36142164e-01,\n",
       "          1.29097036e-01,   5.05065058e-03,  -9.44730086e-02,\n",
       "         -9.47871472e-03,   7.18350581e-03,   6.27587704e-02,\n",
       "         -5.11088054e-02,  -7.13704191e-02,  -6.18773680e-02,\n",
       "          1.79138695e-01,   1.10674802e-01,  -1.75147272e-01,\n",
       "         -1.88967510e-01,  -1.58693165e-02,   9.14945974e-03,\n",
       "         -3.94792400e-03,   4.42404040e-03,   6.11566140e-02,\n",
       "          8.42477242e-02,  -4.49822200e-02,   7.04411793e-04,\n",
       "          2.31073088e-02,  -1.26526556e-01,  -9.49359864e-03,\n",
       "          1.24191255e-03,  -1.42990650e-02,  -2.88031066e-02,\n",
       "         -3.78088355e-03,  -4.26884738e-02,   4.86866427e-03,\n",
       "         -2.22539686e-01,   2.27408002e-01,   2.86940583e-02,\n",
       "          1.80054425e-01,   3.38369387e-02,   3.07016769e-02,\n",
       "          7.88337944e-02,  -1.57397802e-01,   5.11437059e-02,\n",
       "         -5.13173116e-02,   2.97751483e-02,  -1.11508456e-01,\n",
       "         -6.83976642e-02,  -1.53355585e-01,   8.96790619e-02,\n",
       "          3.66563642e-02,   2.85423132e-02,  -3.25337349e-02,\n",
       "         -4.78995194e-04,  -4.41620310e-03,   1.39992435e-03,\n",
       "          4.52668852e-03,   5.16301377e-02,  -5.37817657e-02,\n",
       "          1.94914050e-02,   1.67422881e-01,  -1.11817930e-01,\n",
       "         -2.23077275e-02,   6.92529875e-02,  -6.68931574e-02,\n",
       "         -3.92397836e-02,  -3.41806302e-03,   7.53727778e-04,\n",
       "         -1.02418248e-03,  -7.70546769e-03,   5.72650185e-03,\n",
       "         -1.27071998e-03,  -2.83884969e-02,   9.38285447e-02,\n",
       "          1.34377829e-02,  -5.90542193e-03,   3.74551276e-02,\n",
       "         -1.07073521e-02,  -1.09263901e-03,   2.21811306e-03,\n",
       "          1.26484623e-03,  -9.49883867e-03,   2.24991544e-03,\n",
       "         -8.48454497e-03,   2.41742148e-01,   6.02086221e-03,\n",
       "         -2.32781641e-04,  -4.31807666e-03,   4.05982738e-04,\n",
       "          2.84120471e-02,  -1.15631960e-02,  -9.72535519e-05,\n",
       "         -1.39960232e-03,  -1.05084863e-02,   6.82128395e-02,\n",
       "         -1.11971570e-03,  -5.64943441e-02,   4.76915774e-03,\n",
       "         -2.55498929e-02,   9.33586761e-03,   1.07746928e-01,\n",
       "          8.45735940e-03,  -3.09541369e-04,   1.39336978e-02,\n",
       "         -2.53189693e-02,   1.75685573e-02,   3.26193742e-03],\n",
       "       [ -1.86157486e-01,  -6.62404748e-02,  -6.00760180e-02,\n",
       "         -1.30215543e-01,   1.64392300e-02,   6.06841738e-02,\n",
       "         -3.92519664e-02,  -7.89578123e-02,   1.68181854e-02,\n",
       "          5.31655658e-02,   1.04988792e-02,   1.61152224e-02,\n",
       "          2.29520607e-02,   5.45737339e-02,  -2.73933106e-03,\n",
       "          9.44292175e-03,   8.05895975e-02,   7.16534020e-02,\n",
       "          9.02606331e-02,   5.60808595e-02,   1.48342152e-01,\n",
       "          7.15153006e-03,  -3.16760977e-01,  -3.89539611e-02,\n",
       "         -7.21233750e-02,   2.64301861e-02,  -3.71901073e-02,\n",
       "         -2.56404671e-02,  -3.02899963e-02,   4.17917294e-02,\n",
       "          2.41154652e-03,   4.60001794e-02,  -2.64533854e-01,\n",
       "         -1.75320548e-05,  -1.32816900e-01,  -5.11894003e-02,\n",
       "         -1.97471776e-01,  -2.06540164e-01,  -3.46928542e-02,\n",
       "         -2.15845089e-01,  -1.72427132e-01,  -1.06674274e-01,\n",
       "         -1.47240408e-01,  -6.52589422e-02,  -2.48681602e-01,\n",
       "         -3.93568694e-02,   1.36421606e-02,  -3.04897369e-02,\n",
       "         -1.22641529e-01,  -1.38990867e-01,  -7.97383565e-02,\n",
       "         -3.08207023e-02,   9.29120271e-02,  -1.16919089e-02,\n",
       "          2.86323132e-02,  -6.68943074e-02,   1.02854873e-01,\n",
       "         -1.25865777e-01,   1.01888080e-01,  -6.01198315e-02,\n",
       "          9.95050625e-02,  -6.16675668e-02,   8.85282108e-02,\n",
       "         -8.37939086e-02,  -9.21753885e-02,   4.23450401e-02,\n",
       "          2.68992143e-04,   6.44663356e-03,   5.88767363e-05,\n",
       "         -2.52883594e-03,  -1.08315941e-01,  -1.78383990e-01,\n",
       "          1.26694503e-01,  -7.98066379e-02,  -7.12967752e-02,\n",
       "          2.18707077e-01,  -3.38827267e-02,  -5.00669483e-02,\n",
       "         -3.23025027e-02,   1.75485232e-03,  -2.34266007e-04,\n",
       "          3.41214587e-03,  -1.45793496e-02,  -2.24103964e-03,\n",
       "          2.15103973e-03,   9.86915316e-02,  -5.22285659e-02,\n",
       "          1.52083238e-03,   1.13950636e-02,   1.09614693e-02,\n",
       "          4.46591796e-02,  -1.25806750e-01,   7.60099598e-03,\n",
       "         -5.16417350e-04,   2.21460779e-01,   1.92644061e-03,\n",
       "          9.41692739e-04,  -1.17684990e-01,   4.83515026e-02,\n",
       "         -2.74298671e-03,   2.75764116e-02,   2.46277774e-02,\n",
       "         -1.08631748e-01,   2.09070170e-02,   1.47975055e-03,\n",
       "          3.56373013e-02,   9.06996616e-03,  -1.53110513e-01,\n",
       "          6.87762091e-03,   1.16755459e-01,   3.71621703e-03,\n",
       "          8.99770732e-03,   4.79450083e-02,  -2.65265944e-02,\n",
       "          1.06313217e-02,   4.11192002e-03,  -8.53759034e-03,\n",
       "         -1.63267953e-02,   8.27952935e-03,  -1.86499384e-02]])"
      ]
     },
     "execution_count": 58,
     "metadata": {},
     "output_type": "execute_result"
    }
   ],
   "source": [
    "model.components_"
   ]
  }
 ],
 "metadata": {
  "kernelspec": {
   "display_name": "Python 3",
   "language": "python",
   "name": "python3"
  },
  "language_info": {
   "codemirror_mode": {
    "name": "ipython",
    "version": 3
   },
   "file_extension": ".py",
   "mimetype": "text/x-python",
   "name": "python",
   "nbconvert_exporter": "python",
   "pygments_lexer": "ipython3",
   "version": "3.6.3"
  }
 },
 "nbformat": 4,
 "nbformat_minor": 2
}
