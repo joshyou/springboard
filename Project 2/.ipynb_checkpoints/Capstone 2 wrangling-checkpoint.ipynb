{
 "cells": [
  {
   "cell_type": "markdown",
   "metadata": {
    "collapsed": true
   },
   "source": [
    "### Capstone Project 2 Data Cleaning/Wrangling"
   ]
  },
  {
   "cell_type": "code",
   "execution_count": 1,
   "metadata": {
    "collapsed": true
   },
   "outputs": [],
   "source": [
    "import pandas as pd\n",
    "import numpy as np"
   ]
  },
  {
   "cell_type": "markdown",
   "metadata": {},
   "source": [
    "First, I'll create a dataframe from the dataset, which is in three CSV files due to GitHub's file size limit. I specify latin1 encoding because there was at least one byte that could not be interpreted using utf-8. (Some) missing values are encoded with \"__NA__\" in this dataset."
   ]
  },
  {
   "cell_type": "code",
   "execution_count": 2,
   "metadata": {},
   "outputs": [
    {
     "name": "stderr",
     "output_type": "stream",
     "text": [
      "C:\\Users\\joshy\\Anaconda3\\lib\\site-packages\\IPython\\core\\interactiveshell.py:2698: DtypeWarning: Columns (50,51,52,53,54,55,79,119,254,262,270,271,274,286,296,298,300,302,304,306,308,310,314,316,318,322,326,328,332,333,370,410,411,412,413,414,415,452,458,460,462,494,535) have mixed types. Specify dtype option on import or set low_memory=False.\n",
      "  interactivity=interactivity, compiler=compiler, result=result)\n",
      "C:\\Users\\joshy\\Anaconda3\\lib\\site-packages\\IPython\\core\\interactiveshell.py:2698: DtypeWarning: Columns (46,47,48,49,50,51,52,53,54,55,79,134,135,136,137,138,139,140,141,142,143,144,145,146,147,148,164,165,166,167,168,169,170,199,200,201,203,228,239,240,242,243,254,262,264,270,271,274,278,279,286,296,298,300,302,304,306,308,310,312,314,316,317,318,320,322,324,326,328,330,332,334,370,406,407,408,409,410,411,412,413,414,415,443,450,452,458,460,520,535) have mixed types. Specify dtype option on import or set low_memory=False.\n",
      "  interactivity=interactivity, compiler=compiler, result=result)\n",
      "C:\\Users\\joshy\\Anaconda3\\lib\\site-packages\\IPython\\core\\interactiveshell.py:2698: DtypeWarning: Columns (46,47,48,49,50,51,52,53,54,55,79,119,254,258,260,262,264,268,270,271,272,274,300,302,304,305,306,308,309,310,312,313,314,315,316,317,318,319,322,326,328,330,331,332,333,334,363,364,365,367,368,370,371,373,374,375,376,377,378,379,380,381,382,383,385,386,388,389,390,391,393,394,396,397,398,399,400,401,402,403,404,405,406,407,408,409,410,411,412,413,414,415,416,417,419,420,422,423,424,425,426,427,428,429,430,431,432,433,434,435,436,437,438,439,440,441,442,443,444,445,446,447,448,449,450,451,452,453,454,455,456,457,458,459,460,461,462,464,465,466,467,468,469,470,471,472,473,474,475,476,477,478,479,480,481,482,483,484,485,486,487,488,489,490,491,492,493,494,498,499,500,501,502,503,504,505,506,507,508,509,510,511,512,513,514,515,516,517,518,519,520,521,522,523,524,525,526,527,528,529,530,531,532,533,534,535,536,537,538,539,540,541,542,543,544,545,546,547,559,560) have mixed types. Specify dtype option on import or set low_memory=False.\n",
      "  interactivity=interactivity, compiler=compiler, result=result)\n"
     ]
    }
   ],
   "source": [
    "df1 = pd.read_csv('CCES2016.csv', encoding = 'latin1', index_col = 'V101', na_values = ['__NA__'])\n",
    "df2 = pd.read_csv('CCES2.csv', encoding = 'latin1', index_col = 'V101', na_values = ['__NA__'])\n",
    "df3 = pd.read_csv('CCES3.csv', encoding = 'latin1', index_col = 'V101', na_values = ['__NA__'])\n",
    "\n",
    "#'utf-8' codec can't decode byte 0xe1 in position 5: unexpected end of data\n",
    "\n",
    "df = df1.append(df2)\n",
    "df = df.append(df3)\n",
    "\n",
    "df = df.reset_index()"
   ]
  },
  {
   "cell_type": "code",
   "execution_count": 3,
   "metadata": {
    "scrolled": true
   },
   "outputs": [
    {
     "data": {
      "text/html": [
       "<div>\n",
       "<style>\n",
       "    .dataframe thead tr:only-child th {\n",
       "        text-align: right;\n",
       "    }\n",
       "\n",
       "    .dataframe thead th {\n",
       "        text-align: left;\n",
       "    }\n",
       "\n",
       "    .dataframe tbody tr th {\n",
       "        vertical-align: top;\n",
       "    }\n",
       "</style>\n",
       "<table border=\"1\" class=\"dataframe\">\n",
       "  <thead>\n",
       "    <tr style=\"text-align: right;\">\n",
       "      <th></th>\n",
       "      <th>V101</th>\n",
       "      <th>commonweight_vv</th>\n",
       "      <th>commonweight_vv_post</th>\n",
       "      <th>commonweight_vv_lgbt</th>\n",
       "      <th>commonweight</th>\n",
       "      <th>commonweight_post</th>\n",
       "      <th>tookpost</th>\n",
       "      <th>lookupzip</th>\n",
       "      <th>inputstate</th>\n",
       "      <th>cdid113</th>\n",
       "      <th>...</th>\n",
       "      <th>CL_E2016PPEP</th>\n",
       "      <th>CL_E2016PPVM</th>\n",
       "      <th>CL_E2016PEP</th>\n",
       "      <th>CL_E2016PVM</th>\n",
       "      <th>starttime_pre</th>\n",
       "      <th>endtime_pre</th>\n",
       "      <th>starttime_post</th>\n",
       "      <th>endtime_post</th>\n",
       "      <th>dma</th>\n",
       "      <th>dmaname</th>\n",
       "    </tr>\n",
       "  </thead>\n",
       "  <tbody>\n",
       "    <tr>\n",
       "      <th>0</th>\n",
       "      <td>222168628</td>\n",
       "      <td>1.344214</td>\n",
       "      <td>1.042267</td>\n",
       "      <td>1.195346</td>\n",
       "      <td>0.944967</td>\n",
       "      <td>0.730450</td>\n",
       "      <td>Yes</td>\n",
       "      <td>3442</td>\n",
       "      <td>New Hampshire</td>\n",
       "      <td>2</td>\n",
       "      <td>...</td>\n",
       "      <td>NaN</td>\n",
       "      <td>NaN</td>\n",
       "      <td>NaN</td>\n",
       "      <td>NaN</td>\n",
       "      <td>05:44.9</td>\n",
       "      <td>36:38.8</td>\n",
       "      <td>24:32.9</td>\n",
       "      <td>40:18.8</td>\n",
       "      <td>NaN</td>\n",
       "      <td>NaN</td>\n",
       "    </tr>\n",
       "    <tr>\n",
       "      <th>1</th>\n",
       "      <td>273691199</td>\n",
       "      <td>1.182352</td>\n",
       "      <td>1.280103</td>\n",
       "      <td>1.280565</td>\n",
       "      <td>0.767256</td>\n",
       "      <td>0.892838</td>\n",
       "      <td>Yes</td>\n",
       "      <td>70118</td>\n",
       "      <td>Louisiana</td>\n",
       "      <td>2</td>\n",
       "      <td>...</td>\n",
       "      <td>NaN</td>\n",
       "      <td>NaN</td>\n",
       "      <td>NaN</td>\n",
       "      <td>NaN</td>\n",
       "      <td>54:58.5</td>\n",
       "      <td>20:41.7</td>\n",
       "      <td>02:55.1</td>\n",
       "      <td>09:26.9</td>\n",
       "      <td>622.0</td>\n",
       "      <td>NEW ORLEANS</td>\n",
       "    </tr>\n",
       "    <tr>\n",
       "      <th>2</th>\n",
       "      <td>284214415</td>\n",
       "      <td>0.217396</td>\n",
       "      <td>NaN</td>\n",
       "      <td>0.248930</td>\n",
       "      <td>0.090604</td>\n",
       "      <td>0.000000</td>\n",
       "      <td>No</td>\n",
       "      <td>63851</td>\n",
       "      <td>Missouri</td>\n",
       "      <td>8</td>\n",
       "      <td>...</td>\n",
       "      <td>NaN</td>\n",
       "      <td>NaN</td>\n",
       "      <td>NaN</td>\n",
       "      <td>NaN</td>\n",
       "      <td>54:12.8</td>\n",
       "      <td>24:44.8</td>\n",
       "      <td>NaN</td>\n",
       "      <td>NaN</td>\n",
       "      <td>632.0</td>\n",
       "      <td>PADUCAH-CAPE GIRARD-HARSBG</td>\n",
       "    </tr>\n",
       "    <tr>\n",
       "      <th>3</th>\n",
       "      <td>287557695</td>\n",
       "      <td>0.532320</td>\n",
       "      <td>NaN</td>\n",
       "      <td>0.928750</td>\n",
       "      <td>0.142583</td>\n",
       "      <td>0.000000</td>\n",
       "      <td>No</td>\n",
       "      <td>36703</td>\n",
       "      <td>Alabama</td>\n",
       "      <td>7</td>\n",
       "      <td>...</td>\n",
       "      <td>NaN</td>\n",
       "      <td>NaN</td>\n",
       "      <td>NaN</td>\n",
       "      <td>NaN</td>\n",
       "      <td>06:21.3</td>\n",
       "      <td>26:00.1</td>\n",
       "      <td>NaN</td>\n",
       "      <td>NaN</td>\n",
       "      <td>698.0</td>\n",
       "      <td>MONTGOMERY-SELMA</td>\n",
       "    </tr>\n",
       "    <tr>\n",
       "      <th>4</th>\n",
       "      <td>290387662</td>\n",
       "      <td>1.261106</td>\n",
       "      <td>1.092519</td>\n",
       "      <td>1.161894</td>\n",
       "      <td>1.206498</td>\n",
       "      <td>1.019007</td>\n",
       "      <td>Yes</td>\n",
       "      <td>80526</td>\n",
       "      <td>Colorado</td>\n",
       "      <td>2</td>\n",
       "      <td>...</td>\n",
       "      <td>NaN</td>\n",
       "      <td>NaN</td>\n",
       "      <td>NaN</td>\n",
       "      <td>NaN</td>\n",
       "      <td>56:31.1</td>\n",
       "      <td>14:12.2</td>\n",
       "      <td>09:28.0</td>\n",
       "      <td>21:05.9</td>\n",
       "      <td>751.0</td>\n",
       "      <td>DENVER</td>\n",
       "    </tr>\n",
       "  </tbody>\n",
       "</table>\n",
       "<p>5 rows × 563 columns</p>\n",
       "</div>"
      ],
      "text/plain": [
       "        V101  commonweight_vv  commonweight_vv_post  commonweight_vv_lgbt  \\\n",
       "0  222168628         1.344214              1.042267              1.195346   \n",
       "1  273691199         1.182352              1.280103              1.280565   \n",
       "2  284214415         0.217396                   NaN              0.248930   \n",
       "3  287557695         0.532320                   NaN              0.928750   \n",
       "4  290387662         1.261106              1.092519              1.161894   \n",
       "\n",
       "   commonweight  commonweight_post tookpost  lookupzip     inputstate  \\\n",
       "0      0.944967           0.730450      Yes       3442  New Hampshire   \n",
       "1      0.767256           0.892838      Yes      70118      Louisiana   \n",
       "2      0.090604           0.000000       No      63851       Missouri   \n",
       "3      0.142583           0.000000       No      36703        Alabama   \n",
       "4      1.206498           1.019007      Yes      80526       Colorado   \n",
       "\n",
       "   cdid113             ...              CL_E2016PPEP  CL_E2016PPVM  \\\n",
       "0        2             ...                       NaN           NaN   \n",
       "1        2             ...                       NaN           NaN   \n",
       "2        8             ...                       NaN           NaN   \n",
       "3        7             ...                       NaN           NaN   \n",
       "4        2             ...                       NaN           NaN   \n",
       "\n",
       "  CL_E2016PEP CL_E2016PVM starttime_pre endtime_pre starttime_post  \\\n",
       "0         NaN         NaN       05:44.9     36:38.8        24:32.9   \n",
       "1         NaN         NaN       54:58.5     20:41.7        02:55.1   \n",
       "2         NaN         NaN       54:12.8     24:44.8            NaN   \n",
       "3         NaN         NaN       06:21.3     26:00.1            NaN   \n",
       "4         NaN         NaN       56:31.1     14:12.2        09:28.0   \n",
       "\n",
       "  endtime_post    dma                     dmaname  \n",
       "0      40:18.8    NaN                         NaN  \n",
       "1      09:26.9  622.0                 NEW ORLEANS  \n",
       "2          NaN  632.0  PADUCAH-CAPE GIRARD-HARSBG  \n",
       "3          NaN  698.0            MONTGOMERY-SELMA  \n",
       "4      21:05.9  751.0                      DENVER  \n",
       "\n",
       "[5 rows x 563 columns]"
      ]
     },
     "execution_count": 3,
     "metadata": {},
     "output_type": "execute_result"
    }
   ],
   "source": [
    "df.head()"
   ]
  },
  {
   "cell_type": "markdown",
   "metadata": {},
   "source": [
    "The birth year (\"birthyr\") column is missing in the CSV file containing the 2016 CCES data, for some reason. Fortunately, I was able to find this column in another spreadsheet that showed the cumulative CCES results from 2006 to 2017, which uses the same case ID index. The cumuative16.csv file contains the rows from that spreadsheet for the 2016 survey."
   ]
  },
  {
   "cell_type": "code",
   "execution_count": 4,
   "metadata": {},
   "outputs": [
    {
     "data": {
      "text/html": [
       "<div>\n",
       "<style>\n",
       "    .dataframe thead tr:only-child th {\n",
       "        text-align: right;\n",
       "    }\n",
       "\n",
       "    .dataframe thead th {\n",
       "        text-align: left;\n",
       "    }\n",
       "\n",
       "    .dataframe tbody tr th {\n",
       "        vertical-align: top;\n",
       "    }\n",
       "</style>\n",
       "<table border=\"1\" class=\"dataframe\">\n",
       "  <thead>\n",
       "    <tr style=\"text-align: right;\">\n",
       "      <th></th>\n",
       "      <th>case_id</th>\n",
       "      <th>birthyr</th>\n",
       "    </tr>\n",
       "  </thead>\n",
       "  <tbody>\n",
       "    <tr>\n",
       "      <th>0</th>\n",
       "      <td>222168628</td>\n",
       "      <td>1969</td>\n",
       "    </tr>\n",
       "    <tr>\n",
       "      <th>1</th>\n",
       "      <td>273691199</td>\n",
       "      <td>1994</td>\n",
       "    </tr>\n",
       "    <tr>\n",
       "      <th>2</th>\n",
       "      <td>284214415</td>\n",
       "      <td>1964</td>\n",
       "    </tr>\n",
       "    <tr>\n",
       "      <th>3</th>\n",
       "      <td>287557695</td>\n",
       "      <td>1988</td>\n",
       "    </tr>\n",
       "    <tr>\n",
       "      <th>4</th>\n",
       "      <td>290387662</td>\n",
       "      <td>1982</td>\n",
       "    </tr>\n",
       "  </tbody>\n",
       "</table>\n",
       "</div>"
      ],
      "text/plain": [
       "     case_id  birthyr\n",
       "0  222168628     1969\n",
       "1  273691199     1994\n",
       "2  284214415     1964\n",
       "3  287557695     1988\n",
       "4  290387662     1982"
      ]
     },
     "execution_count": 4,
     "metadata": {},
     "output_type": "execute_result"
    }
   ],
   "source": [
    "cumulative = pd.read_csv('cumulative16.csv', encoding = 'latin1')\n",
    "cumulative = cumulative[['case_id', 'birthyr']]\n",
    "cumulative.head()"
   ]
  },
  {
   "cell_type": "markdown",
   "metadata": {},
   "source": [
    "Now, I merge the two dataframes, using the names of the case ID column for each dataframe."
   ]
  },
  {
   "cell_type": "code",
   "execution_count": 5,
   "metadata": {
    "collapsed": true
   },
   "outputs": [],
   "source": [
    "df = pd.merge(df, cumulative, left_on = 'V101', right_on = 'case_id')"
   ]
  },
  {
   "cell_type": "code",
   "execution_count": 7,
   "metadata": {
    "collapsed": true
   },
   "outputs": [],
   "source": [
    "df['birthyr'] = df['birthyr_y']"
   ]
  },
  {
   "cell_type": "code",
   "execution_count": 8,
   "metadata": {},
   "outputs": [
    {
     "data": {
      "text/html": [
       "<div>\n",
       "<style>\n",
       "    .dataframe thead tr:only-child th {\n",
       "        text-align: right;\n",
       "    }\n",
       "\n",
       "    .dataframe thead th {\n",
       "        text-align: left;\n",
       "    }\n",
       "\n",
       "    .dataframe tbody tr th {\n",
       "        vertical-align: top;\n",
       "    }\n",
       "</style>\n",
       "<table border=\"1\" class=\"dataframe\">\n",
       "  <thead>\n",
       "    <tr style=\"text-align: right;\">\n",
       "      <th></th>\n",
       "      <th>V101</th>\n",
       "      <th>birthyr</th>\n",
       "    </tr>\n",
       "  </thead>\n",
       "  <tbody>\n",
       "    <tr>\n",
       "      <th>0</th>\n",
       "      <td>222168628</td>\n",
       "      <td>1969</td>\n",
       "    </tr>\n",
       "    <tr>\n",
       "      <th>1</th>\n",
       "      <td>273691199</td>\n",
       "      <td>1994</td>\n",
       "    </tr>\n",
       "    <tr>\n",
       "      <th>2</th>\n",
       "      <td>284214415</td>\n",
       "      <td>1964</td>\n",
       "    </tr>\n",
       "    <tr>\n",
       "      <th>3</th>\n",
       "      <td>287557695</td>\n",
       "      <td>1988</td>\n",
       "    </tr>\n",
       "    <tr>\n",
       "      <th>4</th>\n",
       "      <td>290387662</td>\n",
       "      <td>1982</td>\n",
       "    </tr>\n",
       "  </tbody>\n",
       "</table>\n",
       "</div>"
      ],
      "text/plain": [
       "        V101  birthyr\n",
       "0  222168628     1969\n",
       "1  273691199     1994\n",
       "2  284214415     1964\n",
       "3  287557695     1988\n",
       "4  290387662     1982"
      ]
     },
     "execution_count": 8,
     "metadata": {},
     "output_type": "execute_result"
    }
   ],
   "source": [
    "df.drop(['birthyr_y'], axis = 1)\n",
    "df[['V101', 'birthyr']].head()"
   ]
  },
  {
   "cell_type": "code",
   "execution_count": 9,
   "metadata": {},
   "outputs": [
    {
     "name": "stdout",
     "output_type": "stream",
     "text": [
      "0\n",
      "0\n"
     ]
    }
   ],
   "source": [
    "#ensure that case IDs and birth years match for both dataframes\n",
    "different_index = []\n",
    "for i in range(64600):\n",
    "    if df['V101'].iloc[i] != cumulative['case_id'].iloc[i]:\n",
    "        different_index.append(i)\n",
    "        \n",
    "different_year = []\n",
    "for i in range(64600):\n",
    "    if df['birthyr'].iloc[i] != cumulative['birthyr'].iloc[i]:\n",
    "        different_year.append((i, df['birthyr'].iloc[i], cumulative['birthyr'].iloc[i] ))\n",
    "        \n",
    "print(len(different_index))\n",
    "print(len(different_year))"
   ]
  },
  {
   "cell_type": "markdown",
   "metadata": {},
   "source": [
    "### Column selection and Missing Values\n",
    "\n",
    "Now, I have the data imported into a dataframe. There are a large number of columms, many of which are not likely to be useful for this project. First, I'll print an alphabetical list of columns:"
   ]
  },
  {
   "cell_type": "code",
   "execution_count": 10,
   "metadata": {
    "scrolled": true
   },
   "outputs": [
    {
     "name": "stdout",
     "output_type": "stream",
     "text": [
      "70  add_confirm\n",
      "104 Asian_origin_1\n",
      "113 Asian_origin_10\n",
      "114 Asian_origin_11\n",
      "115 Asian_origin_12\n",
      "116 Asian_origin_13\n",
      "117 Asian_origin_14\n",
      "118 Asian_origin_15\n",
      "105 Asian_origin_2\n",
      "106 Asian_origin_3\n",
      "107 Asian_origin_4\n",
      "108 Asian_origin_5\n",
      "109 Asian_origin_6\n",
      "110 Asian_origin_7\n",
      "111 Asian_origin_8\n",
      "112 Asian_origin_9\n",
      "119 Asian_origin_t\n",
      "372 AskParty_post\n",
      "565 birthyr\n",
      "75  birthyr_x\n",
      "564 birthyr_y\n",
      "563 case_id\n",
      "121 CC16_300_1\n",
      "122 CC16_300_2\n",
      "123 CC16_300_3\n",
      "124 CC16_300_4\n",
      "125 CC16_300_5\n",
      "126 CC16_300_6\n",
      "127 CC16_300b\n",
      "128 CC16_300c\n",
      "129 CC16_300d_1\n",
      "130 CC16_300d_2\n",
      "131 CC16_300d_3\n",
      "132 CC16_300d_4\n",
      "133 CC16_300d_5\n",
      "134 CC16_301a\n",
      "135 CC16_301b\n",
      "136 CC16_301c\n",
      "137 CC16_301d\n",
      "138 CC16_301e\n",
      "139 CC16_301f\n",
      "140 CC16_301g\n",
      "141 CC16_301h\n",
      "142 CC16_301i\n",
      "143 CC16_301j\n",
      "144 CC16_301k\n",
      "145 CC16_301l\n",
      "146 CC16_301m\n",
      "147 CC16_301n\n",
      "148 CC16_301o\n",
      "149 CC16_302\n",
      "150 CC16_303\n",
      "151 CC16_304\n",
      "152 CC16_305_1\n",
      "161 CC16_305_10\n",
      "162 CC16_305_11\n",
      "153 CC16_305_2\n",
      "154 CC16_305_3\n",
      "155 CC16_305_4\n",
      "156 CC16_305_5\n",
      "157 CC16_305_6\n",
      "158 CC16_305_7\n",
      "159 CC16_305_8\n",
      "160 CC16_305_9\n",
      "163 CC16_307\n",
      "164 CC16_312_1\n",
      "165 CC16_312_2\n",
      "166 CC16_312_3\n",
      "167 CC16_312_4\n",
      "168 CC16_312_5\n",
      "169 CC16_312_6\n",
      "170 CC16_312_7\n",
      "187 CC16_316\n",
      "179 CC16_320a\n",
      "180 CC16_320b\n",
      "181 CC16_320c\n",
      "182 CC16_320d\n",
      "183 CC16_320e\n",
      "184 CC16_320f\n",
      "185 CC16_320g\n",
      "186 CC16_320h\n",
      "171 CC16_321a\n",
      "172 CC16_321b\n",
      "173 CC16_321c\n",
      "174 CC16_321d\n",
      "175 CC16_322a\n",
      "176 CC16_322b\n",
      "177 CC16_322c\n",
      "178 CC16_322d\n",
      "188 CC16_326\n",
      "189 CC16_326_t\n",
      "190 CC16_327\n",
      "191 CC16_328\n",
      "192 CC16_330a\n",
      "193 CC16_330b\n",
      "194 CC16_330d\n",
      "195 CC16_330e\n",
      "196 CC16_331_1\n",
      "197 CC16_331_2\n",
      "198 CC16_331_3\n",
      "199 CC16_331_4\n",
      "200 CC16_331_5\n",
      "201 CC16_331_6\n",
      "202 CC16_331_7\n",
      "203 CC16_331_8\n",
      "204 CC16_331_9\n",
      "205 CC16_332a\n",
      "206 CC16_332b\n",
      "207 CC16_332c\n",
      "208 CC16_332d\n",
      "209 CC16_332e\n",
      "210 CC16_332f\n",
      "211 CC16_333a\n",
      "212 CC16_333b\n",
      "213 CC16_333c\n",
      "214 CC16_333d\n",
      "215 CC16_334a\n",
      "216 CC16_334b\n",
      "217 CC16_334c\n",
      "218 CC16_334d\n",
      "219 CC16_335\n",
      "220 CC16_337_1\n",
      "221 CC16_337_2\n",
      "222 CC16_337_3\n",
      "223 CC16_340a\n",
      "224 CC16_340b\n",
      "225 CC16_340c\n",
      "226 CC16_340d\n",
      "227 CC16_340e\n",
      "228 CC16_340f\n",
      "229 CC16_340g\n",
      "230 CC16_340h\n",
      "231 CC16_340i\n",
      "232 CC16_340j\n",
      "233 CC16_340k\n",
      "234 CC16_340l\n",
      "235 CC16_340m\n",
      "236 CC16_340n\n",
      "237 CC16_340o\n",
      "238 CC16_340p\n",
      "239 CC16_350\n",
      "240 CC16_351A\n",
      "241 CC16_351B\n",
      "242 CC16_351C\n",
      "243 CC16_351D\n",
      "244 CC16_351E\n",
      "245 CC16_351F\n",
      "246 CC16_351G\n",
      "247 CC16_351H\n",
      "248 CC16_351I\n",
      "249 CC16_351K\n",
      "250 CC16_360\n",
      "251 CC16_361\n",
      "252 CC16_364\n",
      "253 CC16_364b\n",
      "254 CC16_364b_t\n",
      "255 CC16_364c\n",
      "256 CC16_364c_t\n",
      "257 CC16_365\n",
      "258 CC16_365_t\n",
      "259 CC16_365a\n",
      "260 CC16_365a_t\n",
      "269 CC16_365x\n",
      "270 CC16_365x_t\n",
      "261 CC16_366\n",
      "262 CC16_366_t\n",
      "263 CC16_366a\n",
      "264 CC16_366a_t\n",
      "271 CC16_366x\n",
      "272 CC16_366x_t\n",
      "265 CC16_367\n",
      "266 CC16_367_t\n",
      "267 CC16_367a\n",
      "268 CC16_367a_t\n",
      "273 CC16_367x\n",
      "274 CC16_367x_t\n",
      "428 CC16_401\n",
      "429 CC16_402a\n",
      "430 CC16_402a_t\n",
      "431 CC16_402b\n",
      "432 CC16_402b_t\n",
      "433 CC16_403\n",
      "434 CC16_403b\n",
      "435 CC16_404\n",
      "436 CC16_404_t\n",
      "437 CC16_405\n",
      "438 CC16_406a\n",
      "439 CC16_406b_1\n",
      "440 CC16_406b_2\n",
      "441 CC16_406b_3\n",
      "442 CC16_406b_4\n",
      "443 CC16_406b_t\n",
      "444 CC16_406c\n",
      "445 CC16_407a\n",
      "446 CC16_407b\n",
      "447 CC16_410a\n",
      "455 CC16_410a_nv\n",
      "456 CC16_410a_nv_t\n",
      "448 CC16_410a_t\n",
      "449 CC16_410b\n",
      "457 CC16_410b_nv\n",
      "458 CC16_410b_nv_t\n",
      "450 CC16_410b_t\n",
      "451 CC16_411\n",
      "459 CC16_411_nv\n",
      "460 CC16_411_nv_t\n",
      "452 CC16_411_t\n",
      "453 CC16_412\n",
      "461 CC16_412_nv\n",
      "462 CC16_412_nv_t\n",
      "454 CC16_412_t\n",
      "463 CC16_413_grid\n",
      "464 CC16_413a\n",
      "465 CC16_413b\n",
      "466 CC16_413c\n",
      "467 CC16_413d\n",
      "468 CC16_414_1\n",
      "469 CC16_414_2\n",
      "470 CC16_414_3\n",
      "471 CC16_414_4\n",
      "472 CC16_414_5\n",
      "473 CC16_414_6\n",
      "474 CC16_414_7\n",
      "475 CC16_415r\n",
      "476 CC16_416r\n",
      "477 CC16_417a_1\n",
      "478 CC16_417a_2\n",
      "479 CC16_417a_3\n",
      "480 CC16_417a_4\n",
      "481 CC16_417a_5\n",
      "482 CC16_417a_6\n",
      "483 CC16_417bx_1\n",
      "492 CC16_417bx_10\n",
      "484 CC16_417bx_2\n",
      "485 CC16_417bx_3\n",
      "486 CC16_417bx_4\n",
      "487 CC16_417bx_5\n",
      "488 CC16_417bx_6\n",
      "489 CC16_417bx_7\n",
      "490 CC16_417bx_8\n",
      "491 CC16_417bx_9\n",
      "493 CC16_417bx_t1\n",
      "494 CC16_417bx_t2\n",
      "495 CC16_417c\n",
      "496 CC16_417d_1\n",
      "497 CC16_417d_2\n",
      "498 CC16_417e_1\n",
      "499 CC16_417e_2\n",
      "500 CC16_417e_3\n",
      "501 CC16_417e_4\n",
      "502 CC16_417e_5\n",
      "508 CC16_418a\n",
      "520 CC16_418b_t\n",
      "509 CC16_418bx_1\n",
      "518 CC16_418bx_10\n",
      "519 CC16_418bx_11\n",
      "510 CC16_418bx_2\n",
      "511 CC16_418bx_3\n",
      "512 CC16_418bx_4\n",
      "513 CC16_418bx_5\n",
      "514 CC16_418bx_6\n",
      "515 CC16_418bx_7\n",
      "516 CC16_418bx_8\n",
      "517 CC16_418bx_9\n",
      "523 CC16_421_dem\n",
      "524 CC16_421_rep\n",
      "522 CC16_421_t\n",
      "521 CC16_421a\n",
      "525 CC16_421b\n",
      "526 CC16_422c\n",
      "527 CC16_422d\n",
      "528 CC16_422e\n",
      "529 CC16_422f\n",
      "530 CC16_423a\n",
      "533 CC16_423a_other\n",
      "531 CC16_423b\n",
      "534 CC16_423b_other\n",
      "532 CC16_423c\n",
      "535 CC16_423c_other\n",
      "503 CC16_425a\n",
      "536 CC16_426_1\n",
      "537 CC16_426_2\n",
      "538 CC16_426_3\n",
      "539 CC16_426_4\n",
      "540 CC16_426_5\n",
      "541 CC16_427_a\n",
      "542 CC16_427_b\n",
      "543 CC16_427_c\n",
      "544 CC16_427_d\n",
      "545 CC16_427_e\n",
      "546 CC16_427_f\n",
      "504 CC416_25b_1\n",
      "505 CC416_25b_2\n",
      "506 CC416_25b_3\n",
      "507 CC416_25b_4\n",
      "120 ccesmodule\n",
      "68  CCEStake\n",
      "9   cdid113\n",
      "361 cdid113_post\n",
      "10  cdid115\n",
      "362 cdid115_post\n",
      "283 child18\n",
      "284 child18num\n",
      "341 citylength_1\n",
      "342 citylength_2\n",
      "552 CL_E2016GVM\n",
      "555 CL_E2016PEP\n",
      "553 CL_E2016PPEP\n",
      "554 CL_E2016PPVM\n",
      "556 CL_E2016PVM\n",
      "548 CL_matched\n",
      "550 CL_partyaffiliation\n",
      "551 CL_state\n",
      "549 CL_voterstatus\n",
      "4   commonweight\n",
      "5   commonweight_post\n",
      "1   commonweight_vv\n",
      "3   commonweight_vv_lgbt\n",
      "2   commonweight_vv_post\n",
      "69  comptype\n",
      "11  countyfips\n",
      "370 countyfips_post\n",
      "12  countyname\n",
      "371 countyname_post\n",
      "13  CurrentGovName\n",
      "373 CurrentGovName_post\n",
      "14  CurrentGovParty\n",
      "374 CurrentGovParty_post\n",
      "15  CurrentHouseGender\n",
      "375 CurrentHouseGender_post\n",
      "16  CurrentHouseName\n",
      "376 CurrentHouseName_post\n",
      "17  CurrentHouseParty\n",
      "377 CurrentHouseParty_post\n",
      "18  CurrentSen1Gender\n",
      "378 CurrentSen1Gender_post\n",
      "19  CurrentSen1Name\n",
      "379 CurrentSen1Name_post\n",
      "20  CurrentSen1Party\n",
      "380 CurrentSen1Party_post\n",
      "21  CurrentSen2Gender\n",
      "381 CurrentSen2Gender_post\n",
      "22  CurrentSen2Name\n",
      "382 CurrentSen2Name_post\n",
      "23  CurrentSen2Party\n",
      "383 CurrentSen2Party_post\n",
      "561 dma\n",
      "562 dmaname\n",
      "547 edloan\n",
      "77  educ\n",
      "275 employ\n",
      "276 employ_t\n",
      "560 endtime_post\n",
      "558 endtime_pre\n",
      "346 faminc\n",
      "76  gender\n",
      "24  GovCand1Incumbent\n",
      "384 GovCand1Incumbent_post\n",
      "25  GovCand1Name\n",
      "385 GovCand1Name_post\n",
      "26  GovCand1Party\n",
      "386 GovCand1Party_post\n",
      "27  GovCand2Incumbent\n",
      "387 GovCand2Incumbent_post\n",
      "28  GovCand2Name\n",
      "388 GovCand2Name_post\n",
      "29  GovCand2Party\n",
      "389 GovCand2Party_post\n",
      "30  GovCand3Name\n",
      "390 GovCand3Name_post\n",
      "31  GovCand3Party\n",
      "391 GovCand3Party_post\n",
      "277 hadjob\n",
      "356 healthins2\n",
      "350 healthins_1\n",
      "351 healthins_2\n",
      "352 healthins_3\n",
      "353 healthins_4\n",
      "354 healthins_5\n",
      "355 healthins_6\n",
      "80  hispanic\n",
      "91  Hispanic_origin_1\n",
      "100 Hispanic_origin_10\n",
      "101 Hispanic_origin_11\n",
      "102 Hispanic_origin_12\n",
      "92  Hispanic_origin_2\n",
      "93  Hispanic_origin_3\n",
      "94  Hispanic_origin_4\n",
      "95  Hispanic_origin_5\n",
      "96  Hispanic_origin_6\n",
      "97  Hispanic_origin_7\n",
      "98  Hispanic_origin_8\n",
      "99  Hispanic_origin_9\n",
      "103 Hispanic_origin_t\n",
      "52  HouseCand10Name\n",
      "412 HouseCand10Name_post\n",
      "53  HouseCand10Party\n",
      "413 HouseCand10Party_post\n",
      "54  HouseCand11Name\n",
      "414 HouseCand11Name_post\n",
      "55  HouseCand11Party\n",
      "415 HouseCand11Party_post\n",
      "32  HouseCand1Incumbent\n",
      "392 HouseCand1Incumbent_post\n",
      "33  HouseCand1Name\n",
      "393 HouseCand1Name_post\n",
      "34  HouseCand1Party\n",
      "394 HouseCand1Party_post\n",
      "35  HouseCand2Incumbent\n",
      "395 HouseCand2Incumbent_post\n",
      "36  HouseCand2Name\n",
      "396 HouseCand2Name_post\n",
      "37  HouseCand2Party\n",
      "397 HouseCand2Party_post\n",
      "38  HouseCand3Name\n",
      "398 HouseCand3Name_post\n",
      "39  HouseCand3Party\n",
      "399 HouseCand3Party_post\n",
      "40  HouseCand4Name\n",
      "400 HouseCand4Name_post\n",
      "41  HouseCand4Party\n",
      "401 HouseCand4Party_post\n",
      "42  HouseCand5Name\n",
      "402 HouseCand5Name_post\n",
      "43  HouseCand5Party\n",
      "403 HouseCand5Party_post\n",
      "44  HouseCand6Name\n",
      "404 HouseCand6Name_post\n",
      "45  HouseCand6Party\n",
      "405 HouseCand6Party_post\n",
      "46  HouseCand7Name\n",
      "406 HouseCand7Name_post\n",
      "47  HouseCand7Party\n",
      "407 HouseCand7Party_post\n",
      "48  HouseCand8Name\n",
      "408 HouseCand8Name_post\n",
      "49  HouseCand8Party\n",
      "409 HouseCand8Party_post\n",
      "50  HouseCand9Name\n",
      "410 HouseCand9Name_post\n",
      "51  HouseCand9Party\n",
      "411 HouseCand9Party_post\n",
      "335 ideo5\n",
      "288 immstat\n",
      "280 industryclass\n",
      "8   inputstate\n",
      "363 inputstate_post\n",
      "74  inputzip\n",
      "366 inputzip_post\n",
      "358 internethome\n",
      "359 internetwork\n",
      "347 investor\n",
      "279 jobactivities\n",
      "56  LegName\n",
      "416 LegName_post\n",
      "7   lookupzip\n",
      "360 lookupzip_post\n",
      "57  LowerChamberName\n",
      "417 LowerChamberName_post\n",
      "81  marstat\n",
      "336 milstat_1\n",
      "337 milstat_2\n",
      "338 milstat_3\n",
      "339 milstat_4\n",
      "340 milstat_5\n",
      "82  multrace_1\n",
      "83  multrace_2\n",
      "84  multrace_3\n",
      "85  multrace_4\n",
      "86  multrace_5\n",
      "87  multrace_8\n",
      "88  multrace_97\n",
      "89  multrace_98\n",
      "90  multrace_99\n",
      "345 newsint\n",
      "281 ownhome\n",
      "282 ownhome_t\n",
      "289 pew_bornagain\n",
      "291 pew_churatd\n",
      "292 pew_prayer\n",
      "290 pew_religimp\n",
      "357 phone\n",
      "285 pid3\n",
      "286 pid3_t\n",
      "287 pid7\n",
      "78  race\n",
      "79  race_other\n",
      "73  regzip\n",
      "364 regzip_confirm_post\n",
      "369 regzip_post\n",
      "293 religpew\n",
      "319 religpew_advent\n",
      "320 religpew_advent_t\n",
      "297 religpew_baptist\n",
      "298 religpew_baptist_t\n",
      "331 religpew_buddhist\n",
      "332 religpew_buddhist_t\n",
      "321 religpew_catholic\n",
      "322 religpew_catholic_t\n",
      "311 religpew_christian\n",
      "312 religpew_christian_t\n",
      "313 religpew_congreg\n",
      "314 religpew_congreg_t\n",
      "309 religpew_episcop\n",
      "310 religpew_episcop_t\n",
      "333 religpew_hindu\n",
      "334 religpew_hindu_t\n",
      "315 religpew_holiness\n",
      "316 religpew_holiness_t\n",
      "327 religpew_jewish\n",
      "328 religpew_jewish_t\n",
      "303 religpew_lutheran\n",
      "304 religpew_lutheran_t\n",
      "299 religpew_methodist\n",
      "300 religpew_methodist_t\n",
      "323 religpew_mormon\n",
      "324 religpew_mormon_t\n",
      "329 religpew_muslim\n",
      "330 religpew_muslim_t\n",
      "301 religpew_nondenom\n",
      "302 religpew_nondenom_t\n",
      "325 religpew_orthodox\n",
      "326 religpew_orthodox_t\n",
      "307 religpew_pentecost\n",
      "308 religpew_pentecost_t\n",
      "305 religpew_presby\n",
      "306 religpew_presby_t\n",
      "295 religpew_protestant\n",
      "296 religpew_protestant_t\n",
      "317 religpew_reformed\n",
      "318 religpew_reformed_t\n",
      "294 religpew_t\n",
      "365 reszip_confirm_post\n",
      "58  SenCand1Incumbent\n",
      "418 SenCand1Incumbent_post\n",
      "59  SenCand1Name\n",
      "419 SenCand1Name_post\n",
      "60  SenCand1Party\n",
      "420 SenCand1Party_post\n",
      "61  SenCand2Incumbent\n",
      "421 SenCand2Incumbent_post\n",
      "62  SenCand2Name\n",
      "422 SenCand2Name_post\n",
      "63  SenCand2Party\n",
      "423 SenCand2Party_post\n",
      "64  SenCand3Name\n",
      "424 SenCand3Name_post\n",
      "65  SenCand3Party\n",
      "425 SenCand3Party_post\n",
      "66  SenCand4Name\n",
      "426 SenCand4Name_post\n",
      "67  SenCand4Party\n",
      "427 SenCand4Party_post\n",
      "348 sexuality\n",
      "559 starttime_post\n",
      "557 starttime_pre\n",
      "6   tookpost\n",
      "349 trans\n",
      "343 union\n",
      "344 unionhh\n",
      "0   V101\n",
      "71  votereg\n",
      "72  votereg_f\n",
      "368 votereg_f_post\n",
      "367 votereg_post\n",
      "278 whatkindofwork\n"
     ]
    }
   ],
   "source": [
    "columns_indices = []\n",
    "\n",
    "for i in range(len(df.columns)):\n",
    "    columns_indices.append((i, df.columns[i]))\n",
    "    \n",
    "columns_indices = sorted(columns_indices, key = lambda x: x[1].lower())\n",
    "\n",
    "for item in columns_indices:\n",
    "    if item[0] < 10:\n",
    "        print(str(item[0]) + \"   \" + str(item[1]))\n",
    "    elif item[0] < 100:\n",
    "        print(str(item[0]) + \"  \" + str(item[1]))\n",
    "    else:\n",
    "        print(str(item[0]) + \" \" + str(item[1]))"
   ]
  },
  {
   "cell_type": "markdown",
   "metadata": {},
   "source": [
    "Next, I look at how many missing values there are by column:"
   ]
  },
  {
   "cell_type": "code",
   "execution_count": 1,
   "metadata": {},
   "outputs": [
    {
     "ename": "NameError",
     "evalue": "name 'df' is not defined",
     "output_type": "error",
     "traceback": [
      "\u001b[1;31m---------------------------------------------------------------------------\u001b[0m",
      "\u001b[1;31mNameError\u001b[0m                                 Traceback (most recent call last)",
      "\u001b[1;32m<ipython-input-1-6a55585734bd>\u001b[0m in \u001b[0;36m<module>\u001b[1;34m()\u001b[0m\n\u001b[0;32m      1\u001b[0m \u001b[0mnan_counts\u001b[0m \u001b[1;33m=\u001b[0m \u001b[1;33m[\u001b[0m\u001b[1;33m]\u001b[0m\u001b[1;33m\u001b[0m\u001b[0m\n\u001b[1;32m----> 2\u001b[1;33m \u001b[1;32mfor\u001b[0m \u001b[0mcol\u001b[0m \u001b[1;32min\u001b[0m \u001b[0mdf\u001b[0m\u001b[1;33m.\u001b[0m\u001b[0mcolumns\u001b[0m\u001b[1;33m:\u001b[0m\u001b[1;33m\u001b[0m\u001b[0m\n\u001b[0m\u001b[0;32m      3\u001b[0m     \u001b[0mnan_counts\u001b[0m\u001b[1;33m.\u001b[0m\u001b[0mappend\u001b[0m\u001b[1;33m(\u001b[0m\u001b[1;33m(\u001b[0m\u001b[0mcol\u001b[0m\u001b[1;33m,\u001b[0m \u001b[0mdf\u001b[0m\u001b[1;33m[\u001b[0m\u001b[0mcol\u001b[0m\u001b[1;33m]\u001b[0m\u001b[1;33m.\u001b[0m\u001b[0misnull\u001b[0m\u001b[1;33m(\u001b[0m\u001b[1;33m)\u001b[0m\u001b[1;33m.\u001b[0m\u001b[0msum\u001b[0m\u001b[1;33m(\u001b[0m\u001b[1;33m)\u001b[0m\u001b[1;33m)\u001b[0m\u001b[1;33m)\u001b[0m\u001b[1;33m\u001b[0m\u001b[0m\n\u001b[0;32m      4\u001b[0m \u001b[1;33m\u001b[0m\u001b[0m\n\u001b[0;32m      5\u001b[0m \u001b[0mnan_counts\u001b[0m \u001b[1;33m=\u001b[0m \u001b[0msorted\u001b[0m\u001b[1;33m(\u001b[0m\u001b[0mnan_counts\u001b[0m\u001b[1;33m,\u001b[0m \u001b[0mkey\u001b[0m \u001b[1;33m=\u001b[0m \u001b[1;32mlambda\u001b[0m \u001b[0mx\u001b[0m\u001b[1;33m:\u001b[0m \u001b[0mx\u001b[0m\u001b[1;33m[\u001b[0m\u001b[1;36m1\u001b[0m\u001b[1;33m]\u001b[0m\u001b[1;33m)\u001b[0m\u001b[1;33m\u001b[0m\u001b[0m\n",
      "\u001b[1;31mNameError\u001b[0m: name 'df' is not defined"
     ]
    }
   ],
   "source": [
    "nan_counts = []\n",
    "for col in df.columns:\n",
    "    nan_counts.append((col, df[col].isnull().sum()))\n",
    "    \n",
    "nan_counts = sorted(nan_counts, key = lambda x: x[1])\n",
    "\n",
    "for i in range(1, len(nan_counts)):\n",
    "    print(nan_counts[i][0], nan_counts[i][1])"
   ]
  },
  {
   "cell_type": "markdown",
   "metadata": {},
   "source": [
    "215 variables have fewer than 10% of the data missing."
   ]
  },
  {
   "cell_type": "code",
   "execution_count": 12,
   "metadata": {},
   "outputs": [
    {
     "data": {
      "text/html": [
       "<div>\n",
       "<style>\n",
       "    .dataframe thead tr:only-child th {\n",
       "        text-align: right;\n",
       "    }\n",
       "\n",
       "    .dataframe thead th {\n",
       "        text-align: left;\n",
       "    }\n",
       "\n",
       "    .dataframe tbody tr th {\n",
       "        vertical-align: top;\n",
       "    }\n",
       "</style>\n",
       "<table border=\"1\" class=\"dataframe\">\n",
       "  <thead>\n",
       "    <tr style=\"text-align: right;\">\n",
       "      <th></th>\n",
       "      <th>V101</th>\n",
       "      <th>commonweight_vv</th>\n",
       "      <th>commonweight_vv_post</th>\n",
       "      <th>commonweight_vv_lgbt</th>\n",
       "      <th>commonweight</th>\n",
       "      <th>commonweight_post</th>\n",
       "      <th>lookupzip</th>\n",
       "      <th>inputstate</th>\n",
       "      <th>cdid113</th>\n",
       "      <th>cdid115</th>\n",
       "      <th>...</th>\n",
       "      <th>CL_E2016PVM</th>\n",
       "      <th>starttime_pre</th>\n",
       "      <th>endtime_pre</th>\n",
       "      <th>starttime_post</th>\n",
       "      <th>endtime_post</th>\n",
       "      <th>dma</th>\n",
       "      <th>dmaname</th>\n",
       "      <th>case_id</th>\n",
       "      <th>birthyr_y</th>\n",
       "      <th>birthyr</th>\n",
       "    </tr>\n",
       "    <tr>\n",
       "      <th>tookpost</th>\n",
       "      <th></th>\n",
       "      <th></th>\n",
       "      <th></th>\n",
       "      <th></th>\n",
       "      <th></th>\n",
       "      <th></th>\n",
       "      <th></th>\n",
       "      <th></th>\n",
       "      <th></th>\n",
       "      <th></th>\n",
       "      <th></th>\n",
       "      <th></th>\n",
       "      <th></th>\n",
       "      <th></th>\n",
       "      <th></th>\n",
       "      <th></th>\n",
       "      <th></th>\n",
       "      <th></th>\n",
       "      <th></th>\n",
       "      <th></th>\n",
       "      <th></th>\n",
       "    </tr>\n",
       "  </thead>\n",
       "  <tbody>\n",
       "    <tr>\n",
       "      <th>No</th>\n",
       "      <td>11701</td>\n",
       "      <td>11701</td>\n",
       "      <td>43</td>\n",
       "      <td>4280</td>\n",
       "      <td>11701</td>\n",
       "      <td>11701</td>\n",
       "      <td>11701</td>\n",
       "      <td>11701</td>\n",
       "      <td>11701</td>\n",
       "      <td>11701</td>\n",
       "      <td>...</td>\n",
       "      <td>576</td>\n",
       "      <td>11701</td>\n",
       "      <td>11701</td>\n",
       "      <td>0</td>\n",
       "      <td>0</td>\n",
       "      <td>10827</td>\n",
       "      <td>10827</td>\n",
       "      <td>11701</td>\n",
       "      <td>11701</td>\n",
       "      <td>11701</td>\n",
       "    </tr>\n",
       "    <tr>\n",
       "      <th>Yes</th>\n",
       "      <td>52899</td>\n",
       "      <td>52899</td>\n",
       "      <td>52899</td>\n",
       "      <td>52868</td>\n",
       "      <td>52899</td>\n",
       "      <td>52899</td>\n",
       "      <td>52899</td>\n",
       "      <td>52899</td>\n",
       "      <td>52899</td>\n",
       "      <td>52899</td>\n",
       "      <td>...</td>\n",
       "      <td>7742</td>\n",
       "      <td>52899</td>\n",
       "      <td>52899</td>\n",
       "      <td>52899</td>\n",
       "      <td>52899</td>\n",
       "      <td>48706</td>\n",
       "      <td>48706</td>\n",
       "      <td>52899</td>\n",
       "      <td>52899</td>\n",
       "      <td>52899</td>\n",
       "    </tr>\n",
       "  </tbody>\n",
       "</table>\n",
       "<p>2 rows × 565 columns</p>\n",
       "</div>"
      ],
      "text/plain": [
       "           V101  commonweight_vv  commonweight_vv_post  commonweight_vv_lgbt  \\\n",
       "tookpost                                                                       \n",
       "No        11701            11701                    43                  4280   \n",
       "Yes       52899            52899                 52899                 52868   \n",
       "\n",
       "          commonweight  commonweight_post  lookupzip  inputstate  cdid113  \\\n",
       "tookpost                                                                    \n",
       "No               11701              11701      11701       11701    11701   \n",
       "Yes              52899              52899      52899       52899    52899   \n",
       "\n",
       "          cdid115   ...     CL_E2016PVM  starttime_pre  endtime_pre  \\\n",
       "tookpost            ...                                               \n",
       "No          11701   ...             576          11701        11701   \n",
       "Yes         52899   ...            7742          52899        52899   \n",
       "\n",
       "          starttime_post  endtime_post    dma  dmaname  case_id  birthyr_y  \\\n",
       "tookpost                                                                     \n",
       "No                     0             0  10827    10827    11701      11701   \n",
       "Yes                52899         52899  48706    48706    52899      52899   \n",
       "\n",
       "          birthyr  \n",
       "tookpost           \n",
       "No          11701  \n",
       "Yes         52899  \n",
       "\n",
       "[2 rows x 565 columns]"
      ]
     },
     "execution_count": 12,
     "metadata": {},
     "output_type": "execute_result"
    }
   ],
   "source": [
    "df.groupby(['tookpost']).count()"
   ]
  },
  {
   "cell_type": "markdown",
   "metadata": {},
   "source": [
    "52899 took the post survey."
   ]
  },
  {
   "cell_type": "markdown",
   "metadata": {},
   "source": [
    "Because the number of variables was so large, I created a spreadsheet to keep track of notes for each variable and decide whether it should be included in this project. Here I import and extract data from this spreadsheet."
   ]
  },
  {
   "cell_type": "code",
   "execution_count": 13,
   "metadata": {
    "collapsed": true
   },
   "outputs": [],
   "source": [
    "vars_df = pd.read_csv('variable_list.csv', encoding = 'latin1')\n",
    "variables = vars_df.loc[vars_df['Include'] == 'yes']['Name'].tolist()"
   ]
  },
  {
   "cell_type": "code",
   "execution_count": 14,
   "metadata": {},
   "outputs": [
    {
     "name": "stdout",
     "output_type": "stream",
     "text": [
      "['tookpost', 'birthyr', 'gender', 'educ', 'race', 'CC16_331_1', 'CC16_331_2', 'CC16_331_3', 'CC16_331_7', 'employ', 'milstat_1', 'milstat_2', 'milstat_3', 'milstat_4', 'CC16_351K', 'faminc', 'CC16_334a', 'CC16_334b', 'pew_religimp', 'ideo5', 'CC16_334d', 'pew_bornagain', 'CC16_334c', 'CC16_333d', 'marstat', 'CC16_333b', 'CC16_333a', 'CC16_332a', 'CC16_332d', 'CC16_332e', 'CC16_333c', 'religpew', 'ownhome', 'CC16_332c', 'CC16_332f', 'CC16_351I', 'CC16_332b', 'child18', 'CC16_351B', 'CC16_351E', 'union', 'CC16_327', 'immstat', 'CC16_351G', 'CC16_351F', 'CC16_330a', 'CC16_351H', 'CC16_330e', 'CC16_330b', 'unionhh', 'CC16_330d', 'CC16_335', 'hispanic', 'sexuality', 'investor', 'trans', 'inputstate_post', 'votereg_post', 'CC16_414_1', 'CC16_414_2', 'CC16_414_3', 'CC16_414_4', 'CC16_414_5', 'CC16_414_6', 'CC16_417a_1', 'CC16_417a_2', 'CC16_417a_3', 'CC16_417a_4', 'CC16_417a_5', 'CC16_421a', 'CC16_422d', 'CC16_422c', 'edloan', 'CC16_422f', 'CC16_422e', 'CC16_426_1', 'CC16_426_2', 'CC16_426_3', 'CC16_426_5', 'CC16_418a', 'CC16_426_4', 'CC16_401', 'CC16_326', 'CC16_410a']\n"
     ]
    }
   ],
   "source": [
    "print(variables)"
   ]
  },
  {
   "cell_type": "code",
   "execution_count": 15,
   "metadata": {
    "collapsed": true
   },
   "outputs": [],
   "source": [
    "df = df[variables]"
   ]
  },
  {
   "cell_type": "markdown",
   "metadata": {},
   "source": [
    "I am interested in people who took the post-election survey, indicating how they voted."
   ]
  },
  {
   "cell_type": "code",
   "execution_count": 16,
   "metadata": {
    "collapsed": true
   },
   "outputs": [],
   "source": [
    "df = df[df['tookpost'] == 'Yes']\n",
    "\n",
    "#df.info()"
   ]
  },
  {
   "cell_type": "markdown",
   "metadata": {},
   "source": [
    "Now, let's look at how many missing values are remaining after removing most of the columns:"
   ]
  },
  {
   "cell_type": "code",
   "execution_count": 17,
   "metadata": {},
   "outputs": [
    {
     "name": "stdout",
     "output_type": "stream",
     "text": [
      "('CC16_410a', 7657)\n",
      "('hispanic', 3903)\n",
      "('CC16_401', 3814)\n",
      "('CC16_335', 431)\n",
      "('CC16_330d', 355)\n",
      "('CC16_330b', 325)\n",
      "('CC16_330e', 311)\n",
      "('unionhh', 306)\n",
      "('CC16_351H', 232)\n",
      "('CC16_426_4', 207)\n",
      "('CC16_351G', 188)\n",
      "('CC16_330a', 186)\n",
      "('CC16_418a', 176)\n",
      "('CC16_426_5', 172)\n",
      "('CC16_351F', 168)\n",
      "('CC16_426_3', 167)\n",
      "('CC16_426_2', 145)\n",
      "('CC16_426_1', 139)\n",
      "('immstat', 127)\n",
      "('CC16_422e', 124)\n",
      "('CC16_422f', 121)\n",
      "('investor', 119)\n",
      "('CC16_351E', 118)\n",
      "('CC16_351B', 111)\n",
      "('edloan', 110)\n",
      "('CC16_327', 108)\n",
      "('child18', 96)\n",
      "('union', 87)\n",
      "('CC16_351I', 82)\n",
      "('CC16_332b', 78)\n",
      "('CC16_332f', 75)\n",
      "('CC16_332c', 66)\n",
      "('CC16_422c', 65)\n",
      "('trans', 62)\n",
      "('CC16_422d', 62)\n",
      "('ownhome', 61)\n",
      "('CC16_333c', 55)\n",
      "('CC16_332a', 53)\n",
      "('CC16_332e', 53)\n",
      "('CC16_333a', 52)\n",
      "('CC16_334c', 49)\n",
      "('CC16_333b', 48)\n",
      "('CC16_332d', 48)\n",
      "('religpew', 46)\n",
      "('CC16_333d', 44)\n",
      "('CC16_334d', 39)\n",
      "('marstat', 39)\n",
      "('sexuality', 31)\n",
      "('CC16_334b', 30)\n",
      "('pew_bornagain', 29)\n",
      "('CC16_334a', 28)\n",
      "('pew_religimp', 24)\n",
      "('ideo5', 19)\n",
      "('CC16_351K', 16)\n",
      "('faminc', 12)\n",
      "('CC16_421a', 2)\n",
      "('tookpost', 0)\n",
      "('birthyr', 0)\n",
      "('gender', 0)\n",
      "('educ', 0)\n",
      "('race', 0)\n",
      "('CC16_331_1', 0)\n",
      "('CC16_331_2', 0)\n",
      "('CC16_331_3', 0)\n",
      "('CC16_331_7', 0)\n",
      "('employ', 0)\n",
      "('milstat_1', 0)\n",
      "('milstat_2', 0)\n",
      "('milstat_3', 0)\n",
      "('milstat_4', 0)\n",
      "('inputstate_post', 0)\n",
      "('votereg_post', 0)\n",
      "('CC16_414_1', 0)\n",
      "('CC16_414_2', 0)\n",
      "('CC16_414_3', 0)\n",
      "('CC16_414_4', 0)\n",
      "('CC16_414_5', 0)\n",
      "('CC16_414_6', 0)\n",
      "('CC16_417a_1', 0)\n",
      "('CC16_417a_2', 0)\n",
      "('CC16_417a_3', 0)\n",
      "('CC16_417a_4', 0)\n",
      "('CC16_417a_5', 0)\n"
     ]
    }
   ],
   "source": [
    "nan_counts = []\n",
    "for col in df.columns:\n",
    "    nan_counts.append((col, df[col].isnull().sum()))\n",
    "    \n",
    "nan_counts = sorted(nan_counts, key = lambda x: x[1], reverse=True)\n",
    "\n",
    "for i in range(1, len(nan_counts)):\n",
    "    print(nan_counts[i])"
   ]
  },
  {
   "cell_type": "markdown",
   "metadata": {},
   "source": [
    "CC16_326 (2012 pres vote) had the most missing data when just considering post survey. Given how many there are, I will just exclude rather than try to impute it."
   ]
  },
  {
   "cell_type": "code",
   "execution_count": 18,
   "metadata": {
    "collapsed": true
   },
   "outputs": [],
   "source": [
    "df = df.drop(['CC16_326'], axis = 1)"
   ]
  },
  {
   "cell_type": "markdown",
   "metadata": {},
   "source": [
    "The variable with the next-largest number of missing rows is CC16_410a (Who did you vote for in 2016?). This is an essential outcome variable so I cannot exclude it. Fortunately, the missing rows come from respondents who did not answer this question because they already indicated that they did not vote for question CC16_401."
   ]
  },
  {
   "cell_type": "code",
   "execution_count": 19,
   "metadata": {},
   "outputs": [
    {
     "data": {
      "text/plain": [
       "CC16_401\n",
       "I attempted to vote but did not or could not.      487\n",
       "I definitely voted in the General Election.      45292\n",
       "I did not vote in the election this November.     1802\n",
       "I thought about voting this time - but didn't      750\n",
       "I usually vote, but didn't this time.              754\n",
       "dtype: int64"
      ]
     },
     "execution_count": 19,
     "metadata": {},
     "output_type": "execute_result"
    }
   ],
   "source": [
    "df.groupby(['CC16_401']).size()"
   ]
  },
  {
   "cell_type": "markdown",
   "metadata": {},
   "source": [
    "I create a column encoding whether the respondent voted:"
   ]
  },
  {
   "cell_type": "code",
   "execution_count": 20,
   "metadata": {
    "collapsed": true
   },
   "outputs": [],
   "source": [
    "def voted(s):\n",
    "    if \"definitely voted\" in str(s):\n",
    "        return 1\n",
    "    else:\n",
    "        return 0\n",
    "\n",
    "df['voted'] = df['CC16_401'].apply(voted)"
   ]
  },
  {
   "cell_type": "code",
   "execution_count": 21,
   "metadata": {},
   "outputs": [
    {
     "data": {
      "text/plain": [
       "voted\n",
       "0     7607\n",
       "1    45292\n",
       "dtype: int64"
      ]
     },
     "execution_count": 21,
     "metadata": {},
     "output_type": "execute_result"
    }
   ],
   "source": [
    "df.groupby(['voted']).size()"
   ]
  },
  {
   "cell_type": "code",
   "execution_count": 22,
   "metadata": {},
   "outputs": [
    {
     "data": {
      "text/plain": [
       "CC16_410a\n",
       "Donald Trump (Republican)         18755\n",
       "Evan McMullin (Independent)         163\n",
       "Gary Johnson (Libertarian)         1829\n",
       "Hillary Clinton (Democrat)        22136\n",
       "I didn't vote in this election       81\n",
       "I'm not sure                        229\n",
       "Jill Stein (Green)                  913\n",
       "Other                              1136\n",
       "dtype: int64"
      ]
     },
     "execution_count": 22,
     "metadata": {},
     "output_type": "execute_result"
    }
   ],
   "source": [
    "df.groupby(['CC16_410a']).size()"
   ]
  },
  {
   "cell_type": "markdown",
   "metadata": {},
   "source": [
    "Now I populate the CC16_410a column based on the voted column:"
   ]
  },
  {
   "cell_type": "code",
   "execution_count": 23,
   "metadata": {
    "collapsed": true
   },
   "outputs": [],
   "source": [
    "df.loc[df['voted'] == 0, 'CC16_410a'] = 'I didn\\'t vote in this election'"
   ]
  },
  {
   "cell_type": "code",
   "execution_count": 24,
   "metadata": {},
   "outputs": [
    {
     "data": {
      "text/plain": [
       "CC16_410a\n",
       "Donald Trump (Republican)         18755\n",
       "Evan McMullin (Independent)         163\n",
       "Gary Johnson (Libertarian)         1829\n",
       "Hillary Clinton (Democrat)        22136\n",
       "I didn't vote in this election     7688\n",
       "I'm not sure                        229\n",
       "Jill Stein (Green)                  913\n",
       "Other                              1136\n",
       "dtype: int64"
      ]
     },
     "execution_count": 24,
     "metadata": {},
     "output_type": "execute_result"
    }
   ],
   "source": [
    "df.groupby(['CC16_410a']).size()"
   ]
  },
  {
   "cell_type": "code",
   "execution_count": 25,
   "metadata": {},
   "outputs": [
    {
     "name": "stdout",
     "output_type": "stream",
     "text": [
      "('hispanic', 3903)\n",
      "('CC16_401', 3814)\n",
      "('CC16_335', 431)\n",
      "('CC16_330d', 355)\n",
      "('CC16_330b', 325)\n",
      "('CC16_330e', 311)\n",
      "('unionhh', 306)\n",
      "('CC16_351H', 232)\n",
      "('CC16_426_4', 207)\n",
      "('CC16_351G', 188)\n"
     ]
    }
   ],
   "source": [
    "nan_counts = []\n",
    "for col in df.columns:\n",
    "    nan_counts.append((col, df[col].isnull().sum()))\n",
    "    \n",
    "nan_counts = sorted(nan_counts, key = lambda x: x[1], reverse=True)\n",
    "\n",
    "for i in range(0, 20):\n",
    "    print(nan_counts[i])"
   ]
  },
  {
   "cell_type": "markdown",
   "metadata": {},
   "source": [
    "CC16_410a (presidential vote) is now almost entirely filled out. CC16_401 itself has a lot of missing data due to respondents not being asked that question, but the information is contained in CC16_410a anyway, so I won't worry about it."
   ]
  },
  {
   "cell_type": "code",
   "execution_count": 26,
   "metadata": {
    "collapsed": true
   },
   "outputs": [],
   "source": [
    "df = df.drop(['CC16_401'], axis = 1)"
   ]
  },
  {
   "cell_type": "markdown",
   "metadata": {},
   "source": [
    "The next column is the hispanic column. Again, the missing values come from respondents not being asked the question, and I can get this data from the race column (if respondents already answered \"Hispanic\" when asked their race, they were not asked again whether they were Hispanic). "
   ]
  },
  {
   "cell_type": "code",
   "execution_count": 27,
   "metadata": {},
   "outputs": [
    {
     "data": {
      "text/plain": [
       "race\n",
       "Asian               1739\n",
       "Black               4931\n",
       "Hispanic            3742\n",
       "Middle Eastern        99\n",
       "Mixed               1169\n",
       "Native American      440\n",
       "Other                680\n",
       "White              40099\n",
       "dtype: int64"
      ]
     },
     "execution_count": 27,
     "metadata": {},
     "output_type": "execute_result"
    }
   ],
   "source": [
    "df.groupby(['race']).size()"
   ]
  },
  {
   "cell_type": "code",
   "execution_count": 28,
   "metadata": {},
   "outputs": [
    {
     "data": {
      "text/plain": [
       "hispanic\n",
       "No     47389\n",
       "Yes     1607\n",
       "dtype: int64"
      ]
     },
     "execution_count": 28,
     "metadata": {},
     "output_type": "execute_result"
    }
   ],
   "source": [
    "df.groupby(['hispanic']).size()"
   ]
  },
  {
   "cell_type": "code",
   "execution_count": 29,
   "metadata": {
    "collapsed": true
   },
   "outputs": [],
   "source": [
    "df.loc[df['race'] == 'Hispanic', 'hispanic'] = 'Yes'"
   ]
  },
  {
   "cell_type": "code",
   "execution_count": 30,
   "metadata": {},
   "outputs": [
    {
     "data": {
      "text/plain": [
       "hispanic\n",
       "No     47389\n",
       "Yes     5349\n",
       "dtype: int64"
      ]
     },
     "execution_count": 30,
     "metadata": {},
     "output_type": "execute_result"
    }
   ],
   "source": [
    "df.groupby(['hispanic']).size()"
   ]
  },
  {
   "cell_type": "code",
   "execution_count": 31,
   "metadata": {},
   "outputs": [
    {
     "name": "stdout",
     "output_type": "stream",
     "text": [
      "('CC16_335', 431)\n",
      "('CC16_330d', 355)\n",
      "('CC16_330b', 325)\n",
      "('CC16_330e', 311)\n",
      "('unionhh', 306)\n",
      "('CC16_351H', 232)\n",
      "('CC16_426_4', 207)\n",
      "('CC16_351G', 188)\n",
      "('CC16_330a', 186)\n",
      "('CC16_418a', 176)\n"
     ]
    }
   ],
   "source": [
    "nan_counts = []\n",
    "for col in df.columns:\n",
    "    nan_counts.append((col, df[col].isnull().sum()))\n",
    "    \n",
    "nan_counts = sorted(nan_counts, key = lambda x: x[1], reverse = True)\n",
    "\n",
    "for i in range(0, 10):\n",
    "    print(nan_counts[i])"
   ]
  },
  {
   "cell_type": "markdown",
   "metadata": {},
   "source": [
    "For the other columns, missing values come from respondents skipping the question, and the number of missing values is relatively small."
   ]
  },
  {
   "cell_type": "markdown",
   "metadata": {},
   "source": [
    "### Implicit missing values\n",
    "\n",
    "However, there are still missing values that are not coded as NaN yet, because some answers represent the respondent declining to provide any information. I will now print the unique values for each column to check for this:"
   ]
  },
  {
   "cell_type": "code",
   "execution_count": 32,
   "metadata": {},
   "outputs": [
    {
     "name": "stdout",
     "output_type": "stream",
     "text": [
      "CC16_327 [\"No, didn't vote in a primary or caucus\"\n",
      " 'Yes, voted in a primary or caucus' nan]\n",
      "CC16_330a ['Support' 'Oppose' nan]\n",
      "CC16_330b ['Oppose' 'Support' nan]\n",
      "CC16_330d ['Oppose' 'Support' nan]\n",
      "CC16_330e ['Oppose' 'Support' nan]\n",
      "CC16_331_1 ['No' 'Yes']\n",
      "CC16_331_2 ['Yes' 'No']\n",
      "CC16_331_3 ['No' 'Yes']\n",
      "CC16_331_7 ['Yes' 'No']\n",
      "CC16_332a ['Support' 'Oppose' nan]\n",
      "CC16_332b ['Oppose' 'Support' nan]\n",
      "CC16_332c ['Support' 'Oppose' nan]\n",
      "CC16_332d ['Oppose' 'Support' nan]\n",
      "CC16_332e ['Oppose' 'Support' nan]\n",
      "CC16_332f ['Oppose' 'Support' nan]\n",
      "CC16_333a ['Oppose' 'Support' nan]\n",
      "CC16_333b ['Oppose' 'Support' nan]\n",
      "CC16_333c ['Oppose' 'Support' nan]\n",
      "CC16_333d ['Oppose' 'Support' nan]\n",
      "CC16_334a ['Support' 'Oppose' nan]\n",
      "CC16_334b ['Support' 'Oppose' nan]\n",
      "CC16_334c ['Oppose' 'Support' nan]\n",
      "CC16_334d ['Support' 'Oppose' nan]\n",
      "CC16_335 ['Favor' 'Oppose' nan]\n",
      "CC16_351B ['For' 'Against' nan]\n",
      "CC16_351E ['For' 'Against' nan]\n",
      "CC16_351F ['Against' 'For' nan]\n",
      "CC16_351G ['For' 'Against' nan]\n",
      "CC16_351H ['Against' 'For' nan]\n",
      "CC16_351I ['For' 'Against' nan]\n",
      "CC16_351K ['For' 'Against' nan]\n",
      "CC16_410a ['Donald Trump (Republican)' 'Hillary Clinton (Democrat)'\n",
      " \"I didn't vote in this election\" 'Other' 'Jill Stein (Green)'\n",
      " 'Gary Johnson (Libertarian)' 'Evan McMullin (Independent)' \"I'm not sure\"\n",
      " nan]\n",
      "CC16_414_1 ['No' 'Yes']\n",
      "CC16_414_2 ['Yes' 'No']\n",
      "CC16_414_3 ['Yes' 'No']\n",
      "CC16_414_4 ['No' 'Yes']\n",
      "CC16_414_5 ['Yes' 'No']\n",
      "CC16_414_6 ['Yes' 'No']\n",
      "CC16_417a_1 ['No' 'Yes']\n",
      "CC16_417a_2 ['No' 'Yes']\n",
      "CC16_417a_3 ['No' 'Yes']\n",
      "CC16_417a_4 ['No' 'Yes']\n",
      "CC16_417a_5 ['No' 'Yes']\n",
      "CC16_418a ['No' 'Yes' nan]\n",
      "CC16_421a ['Republican' 'Independent' 'Democrat' 'Other' nan]\n",
      "CC16_422c ['Somewhat agree' 'Strongly agree' 'Neither agree nor disagree'\n",
      " 'Somewhat disagree' nan 'Strongly disagree']\n",
      "CC16_422d ['Neither agree nor disagree' 'Somewhat disagree' 'Strongly agree'\n",
      " 'Strongly disagree' 'Somewhat agree' nan]\n",
      "CC16_422e ['Strongly disagree' 'Somewhat disagree' 'Neither agree nor disagree'\n",
      " 'Somewhat agree' 'Strongly agree' nan]\n",
      "CC16_422f ['Neither agree nor disagree' 'Strongly disagree' 'Somewhat disagree'\n",
      " 'Strongly agree' 'Somewhat agree' nan]\n",
      "CC16_426_1 ['Greatly decrease' 'Maintain' 'Greatly increase' 'Slightly increase'\n",
      " 'Slightly decrease' nan]\n",
      "CC16_426_2 ['Slightly increase' 'Greatly increase' 'Maintain' 'Greatly decrease'\n",
      " 'Slightly decrease' nan]\n",
      "CC16_426_3 ['Slightly decrease' 'Greatly increase' 'Slightly increase'\n",
      " 'Greatly decrease' 'Maintain' nan]\n",
      "CC16_426_4 ['Maintain' 'Greatly increase' 'Slightly decrease' 'Slightly increase'\n",
      " 'Greatly decrease' nan]\n",
      "CC16_426_5 ['Slightly decrease' 'Slightly increase' 'Greatly increase'\n",
      " 'Greatly decrease' 'Maintain' nan]\n",
      "birthyr [1969 1994 1982 1963 1962 1957 1946 1985 1976 1988 1979 1961 1958 1945 1990\n",
      " 1971 1940 1956 1981 1960 1978 1959 1967 1954 1984 1952 1964 1991 1965 1942\n",
      " 1949 1939 1934 1944 1975 1977 1966 1948 1970 1992 1953 1980 1974 1955 1983\n",
      " 1986 1937 1936 1951 1947 1987 1997 1950 1941 1938 1931 1989 1968 1973 1996\n",
      " 1995 1993 1935 1943 1932 1927 1933 1972 1923 1925 1930 1929 1928 1924 1998\n",
      " 1921 1926 1922]\n",
      "child18 ['No' 'Yes' nan]\n",
      "edloan ['No' 'Yes' nan]\n",
      "educ ['High school graduate' '4-year' 'Some college' 'No HS' '2-year'\n",
      " 'Post-grad']\n",
      "employ ['Homemaker' 'Part-time' 'Permanently disabled' 'Full-time'\n",
      " 'Temporarily laid off' 'Retired' 'Unemployed' 'Other' 'Student']\n",
      "faminc ['Prefer not to say' '$50,000 - $59,999' '$60,000 - $69,999'\n",
      " 'Less than $10,000' '$20,000 - $29,999' '$30,000 - $39,999'\n",
      " '$100,000 - $119,999' '$40,000 - $49,999' '$10,000 - $19,999'\n",
      " '$70,000 - $79,999' '$80,000 - $99,999' '$120,000 - $149,999'\n",
      " '$500,000 or more' '$150,000 or more' '$150,000 - $199,999'\n",
      " '$350,000 - $499,999' '$200,000 - $249,999' '$250,000 - $349,999' nan]\n",
      "gender ['Female' 'Male']\n",
      "hispanic ['No' 'Yes' nan]\n",
      "ideo5 ['Moderate' 'Liberal' 'Not sure' 'Very conservative' 'Conservative'\n",
      " 'Very liberal' nan]\n",
      "immstat ['Third generation' 'Second generation' 'First generation'\n",
      " 'Immigrant Citizen' 'Immigrant non-citizen' nan]\n",
      "inputstate_post ['New Hampshire' 'Louisiana' 'Colorado' 'Alabama' 'Texas' 'Georgia'\n",
      " 'Pennsylvania' 'Hawaii' 'Florida' 'Kansas' 'New Jersey' 'New York'\n",
      " 'California' 'Massachusetts' 'Maine' 'Maryland' 'North Carolina'\n",
      " 'Michigan' 'Oregon' 'Montana' 'Arizona' 'Washington' 'Virginia'\n",
      " 'South Carolina' 'Arkansas' 'Connecticut' 'Nevada' 'Illinois' 'Tennessee'\n",
      " 'West Virginia' 'Oklahoma' 'Indiana' 'Wisconsin' 'Missouri' 'Ohio' 'Utah'\n",
      " 'Wyoming' 'District of Columbia' 'Idaho' 'Minnesota' 'Nebraska' 'Alaska'\n",
      " 'Kentucky' 'Rhode Island' 'Iowa' 'New Mexico' 'South Dakota'\n",
      " 'North Dakota' 'Vermont' 'Mississippi' 'Delaware']\n",
      "investor ['No' 'Yes' nan]\n",
      "marstat ['Married' 'Single' 'Widowed' 'Separated' 'Divorced' 'Domestic partnership'\n",
      " nan]\n",
      "milstat_1 ['No' 'Yes']\n",
      "milstat_2 ['No' 'Yes']\n",
      "milstat_3 ['No' 'Yes']\n",
      "milstat_4 ['Yes' 'No']\n",
      "ownhome ['Own' 'Rent' 'Other' nan]\n",
      "pew_bornagain ['No' nan 'Yes']\n",
      "pew_religimp ['Somewhat important' nan 'Not at all important' 'Very important'\n",
      " 'Not too important']\n",
      "race ['White' 'Mixed' 'Asian' 'Other' 'Hispanic' 'Native American' 'Black'\n",
      " 'Middle Eastern']\n",
      "religpew ['Nothing in particular' nan 'Agnostic' 'Protestant' 'Roman Catholic'\n",
      " 'Atheist' 'Mormon' 'Something else' 'Jewish' 'Eastern or Greek Orthodox'\n",
      " 'Buddhist' 'Muslim' 'Hindu']\n",
      "sexuality ['Heterosexual / straight' 'Prefer not to say' 'Bisexual' 'Gay man'\n",
      " 'Lesbian / gay woman' 'Other' nan]\n",
      "tookpost ['Yes']\n",
      "trans ['No' 'Yes' 'Prefer not to say' nan]\n",
      "union ['I am not now, nor have I been, a member of a labor union'\n",
      " 'I formerly was a member of a labor union'\n",
      " 'Yes, I am currently a member of a labor union' nan]\n",
      "unionhh ['No, no one in my household has ever been a member of a labor union'\n",
      " 'A member of my household was formerly a member of a labor union, but is not now'\n",
      " 'Yes, a member of my household is currently a union member' nan]\n",
      "voted [1 0]\n",
      "votereg_post ['Yes' 'No' \"Don't know\"]\n"
     ]
    }
   ],
   "source": [
    "for col in df.columns.sort_values():\n",
    "    print (col, df[col].unique())"
   ]
  },
  {
   "cell_type": "markdown",
   "metadata": {},
   "source": [
    "Family income (faminc), sexuality, trans have a \"prefer not to say\" option. Ideology (ideo5), presidential vote (CC16_410a), has a \"Not sure\" option, which is arguably missing information. Voter registration (votereg_post) has a \"don't know\" option."
   ]
  },
  {
   "cell_type": "code",
   "execution_count": 33,
   "metadata": {},
   "outputs": [
    {
     "data": {
      "text/plain": [
       "ideo5\n",
       "Conservative         12183\n",
       "Liberal              10147\n",
       "Moderate             17876\n",
       "Not sure              3348\n",
       "Very conservative     4428\n",
       "Very liberal          4898\n",
       "dtype: int64"
      ]
     },
     "execution_count": 33,
     "metadata": {},
     "output_type": "execute_result"
    }
   ],
   "source": [
    "df.groupby(['ideo5']).size()"
   ]
  },
  {
   "cell_type": "code",
   "execution_count": 34,
   "metadata": {
    "collapsed": true
   },
   "outputs": [],
   "source": [
    "df['ideo5'] = df['ideo5'].replace('Not sure', 'Moderate or Not sure')\n",
    "df['ideo5'] = df['ideo5'].replace('Moderate', 'Moderate or Not sure')"
   ]
  },
  {
   "cell_type": "code",
   "execution_count": 35,
   "metadata": {},
   "outputs": [
    {
     "data": {
      "text/plain": [
       "ideo5\n",
       "Conservative            12183\n",
       "Liberal                 10147\n",
       "Moderate or Not sure    21224\n",
       "Very conservative        4428\n",
       "Very liberal             4898\n",
       "dtype: int64"
      ]
     },
     "execution_count": 35,
     "metadata": {},
     "output_type": "execute_result"
    }
   ],
   "source": [
    "df.groupby(['ideo5']).size()"
   ]
  },
  {
   "cell_type": "markdown",
   "metadata": {},
   "source": [
    "I'm deciding to collapse the \"not sure\" and \"moderate\" categories on the grounds that someone who is undecided about their ideology has a similar ideology to someone who does not subscribe to one side or the other."
   ]
  },
  {
   "cell_type": "markdown",
   "metadata": {},
   "source": [
    "Next, I will replace the \"I'm not sure\" answer to the presidential vote question, and the voter registration question, with NaN."
   ]
  },
  {
   "cell_type": "code",
   "execution_count": 36,
   "metadata": {},
   "outputs": [
    {
     "data": {
      "text/plain": [
       "CC16_410a\n",
       "Donald Trump (Republican)         18755\n",
       "Evan McMullin (Independent)         163\n",
       "Gary Johnson (Libertarian)         1829\n",
       "Hillary Clinton (Democrat)        22136\n",
       "I didn't vote in this election     7688\n",
       "Jill Stein (Green)                  913\n",
       "Other                              1136\n",
       "dtype: int64"
      ]
     },
     "execution_count": 36,
     "metadata": {},
     "output_type": "execute_result"
    }
   ],
   "source": [
    "df['CC16_410a'] = df['CC16_410a'].replace(\"I'm not sure\", np.NaN)\n",
    "df.groupby(['CC16_410a']).size()"
   ]
  },
  {
   "cell_type": "code",
   "execution_count": 37,
   "metadata": {},
   "outputs": [
    {
     "data": {
      "text/plain": [
       "votereg_post\n",
       "Don't know      279\n",
       "No             3735\n",
       "Yes           48885\n",
       "dtype: int64"
      ]
     },
     "execution_count": 37,
     "metadata": {},
     "output_type": "execute_result"
    }
   ],
   "source": [
    "df.groupby(['votereg_post']).size()"
   ]
  },
  {
   "cell_type": "code",
   "execution_count": 38,
   "metadata": {},
   "outputs": [
    {
     "data": {
      "text/plain": [
       "votereg_post\n",
       "No      3735\n",
       "Yes    48885\n",
       "dtype: int64"
      ]
     },
     "execution_count": 38,
     "metadata": {},
     "output_type": "execute_result"
    }
   ],
   "source": [
    "df['votereg_post'] = df['votereg_post'].replace(\"Don't know\", np.NaN)\n",
    "df.groupby(['votereg_post']).size()"
   ]
  },
  {
   "cell_type": "markdown",
   "metadata": {},
   "source": [
    "I do the same thing with the sexuality and trans columns:"
   ]
  },
  {
   "cell_type": "code",
   "execution_count": 39,
   "metadata": {},
   "outputs": [
    {
     "data": {
      "text/plain": [
       "sexuality\n",
       "Bisexual                    1608\n",
       "Gay man                     1493\n",
       "Heterosexual / straight    47571\n",
       "Lesbian / gay woman          637\n",
       "Other                        485\n",
       "Prefer not to say           1074\n",
       "dtype: int64"
      ]
     },
     "execution_count": 39,
     "metadata": {},
     "output_type": "execute_result"
    }
   ],
   "source": [
    "df.groupby(['sexuality']).size()"
   ]
  },
  {
   "cell_type": "code",
   "execution_count": 40,
   "metadata": {},
   "outputs": [
    {
     "data": {
      "text/plain": [
       "sexuality\n",
       "Bisexual                    1608\n",
       "Gay man                     1493\n",
       "Heterosexual / straight    47571\n",
       "Lesbian / gay woman          637\n",
       "Other                        485\n",
       "dtype: int64"
      ]
     },
     "execution_count": 40,
     "metadata": {},
     "output_type": "execute_result"
    }
   ],
   "source": [
    "df['sexuality'] = df['sexuality'].replace('Prefer not to say', np.NaN)\n",
    "df.groupby(['sexuality']).size()"
   ]
  },
  {
   "cell_type": "code",
   "execution_count": 41,
   "metadata": {},
   "outputs": [
    {
     "data": {
      "text/plain": [
       "trans\n",
       "No                   51319\n",
       "Prefer not to say      649\n",
       "Yes                    869\n",
       "dtype: int64"
      ]
     },
     "execution_count": 41,
     "metadata": {},
     "output_type": "execute_result"
    }
   ],
   "source": [
    "df.groupby(['trans']).size()"
   ]
  },
  {
   "cell_type": "code",
   "execution_count": 42,
   "metadata": {},
   "outputs": [
    {
     "data": {
      "text/plain": [
       "trans\n",
       "No     51319\n",
       "Yes      869\n",
       "dtype: int64"
      ]
     },
     "execution_count": 42,
     "metadata": {},
     "output_type": "execute_result"
    }
   ],
   "source": [
    "df['trans'] = df['trans'].replace('Prefer not to say', np.NaN)\n",
    "df.groupby(['trans']).size()"
   ]
  },
  {
   "cell_type": "code",
   "execution_count": 43,
   "metadata": {},
   "outputs": [
    {
     "name": "stdout",
     "output_type": "stream",
     "text": [
      "('sexuality', 1105)\n",
      "('trans', 711)\n",
      "('CC16_335', 431)\n",
      "('CC16_330d', 355)\n",
      "('CC16_330b', 325)\n",
      "('CC16_330e', 311)\n",
      "('unionhh', 306)\n",
      "('votereg_post', 279)\n",
      "('CC16_410a', 279)\n",
      "('CC16_351H', 232)\n"
     ]
    }
   ],
   "source": [
    "nan_counts = []\n",
    "for col in df.columns:\n",
    "    nan_counts.append((col, df[col].isnull().sum()))\n",
    "    \n",
    "nan_counts = sorted(nan_counts, key = lambda x: x[1], reverse = True)\n",
    "\n",
    "for i in range(0, 10):\n",
    "    print(nan_counts[i])"
   ]
  },
  {
   "cell_type": "code",
   "execution_count": 44,
   "metadata": {},
   "outputs": [
    {
     "data": {
      "text/plain": [
       "46823"
      ]
     },
     "execution_count": 44,
     "metadata": {},
     "output_type": "execute_result"
    }
   ],
   "source": [
    "cleaned_df = df.dropna(axis = 0, how = 'any')\n",
    "len(cleaned_df.index)"
   ]
  },
  {
   "cell_type": "markdown",
   "metadata": {},
   "source": [
    "After dropping missing values, there are now 46823 rows remaining, out of 52899 total respondents who responded to the post-survey. This seems like a large number of points being lost. Because a large majority of respondents reported being heterosexual, and a very large majority report not being trans, I will fill in the missing values with the mode for these columns."
   ]
  },
  {
   "cell_type": "code",
   "execution_count": 45,
   "metadata": {},
   "outputs": [
    {
     "data": {
      "text/plain": [
       "sexuality\n",
       "Bisexual                    1608\n",
       "Gay man                     1493\n",
       "Heterosexual / straight    48676\n",
       "Lesbian / gay woman          637\n",
       "Other                        485\n",
       "dtype: int64"
      ]
     },
     "execution_count": 45,
     "metadata": {},
     "output_type": "execute_result"
    }
   ],
   "source": [
    "df['sexuality'] = df['sexuality'].fillna('Heterosexual / straight')\n",
    "df.groupby(['sexuality']).size()"
   ]
  },
  {
   "cell_type": "code",
   "execution_count": 46,
   "metadata": {},
   "outputs": [
    {
     "data": {
      "text/plain": [
       "trans\n",
       "No     52030\n",
       "Yes      869\n",
       "dtype: int64"
      ]
     },
     "execution_count": 46,
     "metadata": {},
     "output_type": "execute_result"
    }
   ],
   "source": [
    "df['trans'] = df['trans'].fillna('No')\n",
    "\n",
    "df.groupby(['trans']).size()"
   ]
  },
  {
   "cell_type": "markdown",
   "metadata": {},
   "source": [
    "### Transforming values\n",
    "\n",
    "Now there are a lot of variables with text values that need to be converted to binary or numeric variables."
   ]
  },
  {
   "cell_type": "code",
   "execution_count": 47,
   "metadata": {
    "collapsed": true
   },
   "outputs": [],
   "source": [
    "df['age'] = 2018 - df['birthyr']\n",
    "df = df.drop(['birthyr'], axis = 1)"
   ]
  },
  {
   "cell_type": "markdown",
   "metadata": {},
   "source": [
    "Family income is a text variable indicating which range the respondent belongs to:"
   ]
  },
  {
   "cell_type": "code",
   "execution_count": 48,
   "metadata": {},
   "outputs": [
    {
     "data": {
      "text/plain": [
       "faminc\n",
       "$10,000 - $19,999      3543\n",
       "$100,000 - $119,999    3442\n",
       "$120,000 - $149,999    3021\n",
       "$150,000 - $199,999    1642\n",
       "$150,000 or more        136\n",
       "$20,000 - $29,999      5074\n",
       "$200,000 - $249,999     721\n",
       "$250,000 - $349,999     380\n",
       "$30,000 - $39,999      5361\n",
       "$350,000 - $499,999     162\n",
       "$40,000 - $49,999      4742\n",
       "$50,000 - $59,999      4745\n",
       "$500,000 or more        122\n",
       "$60,000 - $69,999      3798\n",
       "$70,000 - $79,999      3835\n",
       "$80,000 - $99,999      4760\n",
       "Less than $10,000      1911\n",
       "Prefer not to say      5492\n",
       "dtype: int64"
      ]
     },
     "execution_count": 48,
     "metadata": {},
     "output_type": "execute_result"
    }
   ],
   "source": [
    "df.groupby(['faminc']).size()"
   ]
  },
  {
   "cell_type": "code",
   "execution_count": 49,
   "metadata": {},
   "outputs": [
    {
     "data": {
      "text/plain": [
       "12"
      ]
     },
     "execution_count": 49,
     "metadata": {},
     "output_type": "execute_result"
    }
   ],
   "source": [
    "df['faminc'].isnull().sum()"
   ]
  },
  {
   "cell_type": "markdown",
   "metadata": {},
   "source": [
    "To convert family income, I will use the midpoint of the range, when a range is given. For the open ended (150,000 or more, 500,000 or more), I will use the bottom of that range. I am not sure why there was a 150,000 or more option when that overlaps with the other answers."
   ]
  },
  {
   "cell_type": "code",
   "execution_count": 50,
   "metadata": {},
   "outputs": [
    {
     "data": {
      "text/plain": [
       "14999"
      ]
     },
     "execution_count": 50,
     "metadata": {},
     "output_type": "execute_result"
    }
   ],
   "source": [
    "def faminc_to_int(s):\n",
    "    #print(s)\n",
    "    if pd.isnull(s):\n",
    "        return np.NaN\n",
    "    if \"Prefer\" in s:\n",
    "        return np.NaN\n",
    "    elif \"Less\" in s:\n",
    "        return 5000\n",
    "    elif \"more\" in s:\n",
    "        incomes = int(s.replace('$', '').replace(',', '').split(' ')[0])\n",
    "    else:\n",
    "        incomes = [int(x) for x in s.replace('$', '').replace(' ', '').replace(',', '').split('-')]\n",
    "    return int(np.mean(incomes))\n",
    "\n",
    "faminc_to_int('$10,000 - $19,999')"
   ]
  },
  {
   "cell_type": "code",
   "execution_count": 51,
   "metadata": {},
   "outputs": [
    {
     "name": "stdout",
     "output_type": "stream",
     "text": [
      "5000\n",
      "500000\n"
     ]
    }
   ],
   "source": [
    "print(faminc_to_int('Less than $10,000'))\n",
    "print(faminc_to_int('$500,000 or more'))"
   ]
  },
  {
   "cell_type": "code",
   "execution_count": 52,
   "metadata": {
    "collapsed": true
   },
   "outputs": [],
   "source": [
    "df['faminc_int'] = df['faminc'].apply(faminc_to_int)"
   ]
  },
  {
   "cell_type": "code",
   "execution_count": 53,
   "metadata": {},
   "outputs": [
    {
     "data": {
      "text/html": [
       "<div>\n",
       "<style>\n",
       "    .dataframe thead tr:only-child th {\n",
       "        text-align: right;\n",
       "    }\n",
       "\n",
       "    .dataframe thead th {\n",
       "        text-align: left;\n",
       "    }\n",
       "\n",
       "    .dataframe tbody tr th {\n",
       "        vertical-align: top;\n",
       "    }\n",
       "</style>\n",
       "<table border=\"1\" class=\"dataframe\">\n",
       "  <thead>\n",
       "    <tr style=\"text-align: right;\">\n",
       "      <th></th>\n",
       "      <th>faminc</th>\n",
       "      <th>faminc_int</th>\n",
       "    </tr>\n",
       "  </thead>\n",
       "  <tbody>\n",
       "    <tr>\n",
       "      <th>0</th>\n",
       "      <td>Prefer not to say</td>\n",
       "      <td>NaN</td>\n",
       "    </tr>\n",
       "    <tr>\n",
       "      <th>1</th>\n",
       "      <td>$50,000 - $59,999</td>\n",
       "      <td>54999.0</td>\n",
       "    </tr>\n",
       "    <tr>\n",
       "      <th>4</th>\n",
       "      <td>$60,000 - $69,999</td>\n",
       "      <td>64999.0</td>\n",
       "    </tr>\n",
       "    <tr>\n",
       "      <th>5</th>\n",
       "      <td>Less than $10,000</td>\n",
       "      <td>5000.0</td>\n",
       "    </tr>\n",
       "    <tr>\n",
       "      <th>6</th>\n",
       "      <td>$20,000 - $29,999</td>\n",
       "      <td>24999.0</td>\n",
       "    </tr>\n",
       "    <tr>\n",
       "      <th>8</th>\n",
       "      <td>$30,000 - $39,999</td>\n",
       "      <td>34999.0</td>\n",
       "    </tr>\n",
       "    <tr>\n",
       "      <th>9</th>\n",
       "      <td>$60,000 - $69,999</td>\n",
       "      <td>64999.0</td>\n",
       "    </tr>\n",
       "    <tr>\n",
       "      <th>10</th>\n",
       "      <td>$100,000 - $119,999</td>\n",
       "      <td>109999.0</td>\n",
       "    </tr>\n",
       "    <tr>\n",
       "      <th>11</th>\n",
       "      <td>$40,000 - $49,999</td>\n",
       "      <td>44999.0</td>\n",
       "    </tr>\n",
       "    <tr>\n",
       "      <th>12</th>\n",
       "      <td>$10,000 - $19,999</td>\n",
       "      <td>14999.0</td>\n",
       "    </tr>\n",
       "  </tbody>\n",
       "</table>\n",
       "</div>"
      ],
      "text/plain": [
       "                 faminc  faminc_int\n",
       "0     Prefer not to say         NaN\n",
       "1     $50,000 - $59,999     54999.0\n",
       "4     $60,000 - $69,999     64999.0\n",
       "5     Less than $10,000      5000.0\n",
       "6     $20,000 - $29,999     24999.0\n",
       "8     $30,000 - $39,999     34999.0\n",
       "9     $60,000 - $69,999     64999.0\n",
       "10  $100,000 - $119,999    109999.0\n",
       "11    $40,000 - $49,999     44999.0\n",
       "12    $10,000 - $19,999     14999.0"
      ]
     },
     "execution_count": 53,
     "metadata": {},
     "output_type": "execute_result"
    }
   ],
   "source": [
    "df[['faminc', 'faminc_int']][0:10]"
   ]
  },
  {
   "cell_type": "code",
   "execution_count": 54,
   "metadata": {
    "collapsed": true
   },
   "outputs": [],
   "source": [
    "df['faminc'] = df['faminc_int']\n",
    "df.drop(['faminc_int'], axis = 1, inplace = True)"
   ]
  },
  {
   "cell_type": "code",
   "execution_count": 55,
   "metadata": {},
   "outputs": [
    {
     "data": {
      "text/html": [
       "<div>\n",
       "<style>\n",
       "    .dataframe thead tr:only-child th {\n",
       "        text-align: right;\n",
       "    }\n",
       "\n",
       "    .dataframe thead th {\n",
       "        text-align: left;\n",
       "    }\n",
       "\n",
       "    .dataframe tbody tr th {\n",
       "        vertical-align: top;\n",
       "    }\n",
       "</style>\n",
       "<table border=\"1\" class=\"dataframe\">\n",
       "  <thead>\n",
       "    <tr style=\"text-align: right;\">\n",
       "      <th></th>\n",
       "      <th>faminc</th>\n",
       "      <th>voted</th>\n",
       "      <th>age</th>\n",
       "    </tr>\n",
       "  </thead>\n",
       "  <tbody>\n",
       "    <tr>\n",
       "      <th>count</th>\n",
       "      <td>47395.000000</td>\n",
       "      <td>52899.000000</td>\n",
       "      <td>52899.000000</td>\n",
       "    </tr>\n",
       "    <tr>\n",
       "      <th>mean</th>\n",
       "      <td>69937.330394</td>\n",
       "      <td>0.856198</td>\n",
       "      <td>52.684285</td>\n",
       "    </tr>\n",
       "    <tr>\n",
       "      <th>std</th>\n",
       "      <td>57994.244039</td>\n",
       "      <td>0.350893</td>\n",
       "      <td>16.157814</td>\n",
       "    </tr>\n",
       "    <tr>\n",
       "      <th>min</th>\n",
       "      <td>5000.000000</td>\n",
       "      <td>0.000000</td>\n",
       "      <td>20.000000</td>\n",
       "    </tr>\n",
       "    <tr>\n",
       "      <th>25%</th>\n",
       "      <td>34999.000000</td>\n",
       "      <td>1.000000</td>\n",
       "      <td>39.000000</td>\n",
       "    </tr>\n",
       "    <tr>\n",
       "      <th>50%</th>\n",
       "      <td>54999.000000</td>\n",
       "      <td>1.000000</td>\n",
       "      <td>55.000000</td>\n",
       "    </tr>\n",
       "    <tr>\n",
       "      <th>75%</th>\n",
       "      <td>89999.000000</td>\n",
       "      <td>1.000000</td>\n",
       "      <td>65.000000</td>\n",
       "    </tr>\n",
       "    <tr>\n",
       "      <th>max</th>\n",
       "      <td>500000.000000</td>\n",
       "      <td>1.000000</td>\n",
       "      <td>97.000000</td>\n",
       "    </tr>\n",
       "  </tbody>\n",
       "</table>\n",
       "</div>"
      ],
      "text/plain": [
       "              faminc         voted           age\n",
       "count   47395.000000  52899.000000  52899.000000\n",
       "mean    69937.330394      0.856198     52.684285\n",
       "std     57994.244039      0.350893     16.157814\n",
       "min      5000.000000      0.000000     20.000000\n",
       "25%     34999.000000      1.000000     39.000000\n",
       "50%     54999.000000      1.000000     55.000000\n",
       "75%     89999.000000      1.000000     65.000000\n",
       "max    500000.000000      1.000000     97.000000"
      ]
     },
     "execution_count": 55,
     "metadata": {},
     "output_type": "execute_result"
    }
   ],
   "source": [
    "df.describe()"
   ]
  },
  {
   "cell_type": "markdown",
   "metadata": {},
   "source": [
    "median of family income is 54999, I'll fill in the missing values accordingly."
   ]
  },
  {
   "cell_type": "code",
   "execution_count": 56,
   "metadata": {
    "collapsed": true
   },
   "outputs": [],
   "source": [
    "df['faminc'] = df['faminc'].fillna(54999)"
   ]
  },
  {
   "cell_type": "markdown",
   "metadata": {},
   "source": [
    "Now, look at which values exist in the remaining columns:"
   ]
  },
  {
   "cell_type": "code",
   "execution_count": 57,
   "metadata": {},
   "outputs": [
    {
     "name": "stdout",
     "output_type": "stream",
     "text": [
      "tookpost ['Yes']\n",
      "gender ['Female' 'Male']\n",
      "educ ['High school graduate' '4-year' 'Some college' 'No HS' '2-year'\n",
      " 'Post-grad']\n",
      "race ['White' 'Mixed' 'Asian' 'Other' 'Hispanic' 'Native American' 'Black'\n",
      " 'Middle Eastern']\n",
      "CC16_331_1 ['No' 'Yes']\n",
      "CC16_331_2 ['Yes' 'No']\n",
      "CC16_331_3 ['No' 'Yes']\n",
      "CC16_331_7 ['Yes' 'No']\n",
      "employ ['Homemaker' 'Part-time' 'Permanently disabled' 'Full-time'\n",
      " 'Temporarily laid off' 'Retired' 'Unemployed' 'Other' 'Student']\n",
      "milstat_1 ['No' 'Yes']\n",
      "milstat_2 ['No' 'Yes']\n",
      "milstat_3 ['No' 'Yes']\n",
      "milstat_4 ['Yes' 'No']\n",
      "CC16_351K ['For' 'Against' nan]\n",
      "faminc [  54999.   64999.    5000.   24999.   34999.  109999.   44999.   14999.\n",
      "   74999.   89999.  134999.  500000.  150000.  174999.  424999.  224999.\n",
      "  299999.]\n",
      "CC16_334a ['Support' 'Oppose' nan]\n",
      "CC16_334b ['Support' 'Oppose' nan]\n",
      "pew_religimp ['Somewhat important' nan 'Not at all important' 'Very important'\n",
      " 'Not too important']\n",
      "ideo5 ['Moderate or Not sure' 'Liberal' 'Very conservative' 'Conservative'\n",
      " 'Very liberal' nan]\n",
      "CC16_334d ['Support' 'Oppose' nan]\n",
      "pew_bornagain ['No' nan 'Yes']\n",
      "CC16_334c ['Oppose' 'Support' nan]\n",
      "CC16_333d ['Oppose' 'Support' nan]\n",
      "marstat ['Married' 'Single' 'Widowed' 'Separated' 'Divorced' 'Domestic partnership'\n",
      " nan]\n",
      "CC16_333b ['Oppose' 'Support' nan]\n",
      "CC16_333a ['Oppose' 'Support' nan]\n",
      "CC16_332a ['Support' 'Oppose' nan]\n",
      "CC16_332d ['Oppose' 'Support' nan]\n",
      "CC16_332e ['Oppose' 'Support' nan]\n",
      "CC16_333c ['Oppose' 'Support' nan]\n",
      "religpew ['Nothing in particular' nan 'Agnostic' 'Protestant' 'Roman Catholic'\n",
      " 'Atheist' 'Mormon' 'Something else' 'Jewish' 'Eastern or Greek Orthodox'\n",
      " 'Buddhist' 'Muslim' 'Hindu']\n",
      "ownhome ['Own' 'Rent' 'Other' nan]\n",
      "CC16_332c ['Support' 'Oppose' nan]\n",
      "CC16_332f ['Oppose' 'Support' nan]\n",
      "CC16_351I ['For' 'Against' nan]\n",
      "CC16_332b ['Oppose' 'Support' nan]\n",
      "child18 ['No' 'Yes' nan]\n",
      "CC16_351B ['For' 'Against' nan]\n",
      "CC16_351E ['For' 'Against' nan]\n",
      "union ['I am not now, nor have I been, a member of a labor union'\n",
      " 'I formerly was a member of a labor union'\n",
      " 'Yes, I am currently a member of a labor union' nan]\n",
      "CC16_327 [\"No, didn't vote in a primary or caucus\"\n",
      " 'Yes, voted in a primary or caucus' nan]\n",
      "immstat ['Third generation' 'Second generation' 'First generation'\n",
      " 'Immigrant Citizen' 'Immigrant non-citizen' nan]\n",
      "CC16_351G ['For' 'Against' nan]\n",
      "CC16_351F ['Against' 'For' nan]\n",
      "CC16_330a ['Support' 'Oppose' nan]\n",
      "CC16_351H ['Against' 'For' nan]\n",
      "CC16_330e ['Oppose' 'Support' nan]\n",
      "CC16_330b ['Oppose' 'Support' nan]\n",
      "unionhh ['No, no one in my household has ever been a member of a labor union'\n",
      " 'A member of my household was formerly a member of a labor union, but is not now'\n",
      " 'Yes, a member of my household is currently a union member' nan]\n",
      "CC16_330d ['Oppose' 'Support' nan]\n",
      "CC16_335 ['Favor' 'Oppose' nan]\n",
      "hispanic ['No' 'Yes' nan]\n",
      "sexuality ['Heterosexual / straight' 'Bisexual' 'Gay man' 'Lesbian / gay woman'\n",
      " 'Other']\n",
      "investor ['No' 'Yes' nan]\n",
      "trans ['No' 'Yes']\n",
      "inputstate_post ['New Hampshire' 'Louisiana' 'Colorado' 'Alabama' 'Texas' 'Georgia'\n",
      " 'Pennsylvania' 'Hawaii' 'Florida' 'Kansas' 'New Jersey' 'New York'\n",
      " 'California' 'Massachusetts' 'Maine' 'Maryland' 'North Carolina'\n",
      " 'Michigan' 'Oregon' 'Montana' 'Arizona' 'Washington' 'Virginia'\n",
      " 'South Carolina' 'Arkansas' 'Connecticut' 'Nevada' 'Illinois' 'Tennessee'\n",
      " 'West Virginia' 'Oklahoma' 'Indiana' 'Wisconsin' 'Missouri' 'Ohio' 'Utah'\n",
      " 'Wyoming' 'District of Columbia' 'Idaho' 'Minnesota' 'Nebraska' 'Alaska'\n",
      " 'Kentucky' 'Rhode Island' 'Iowa' 'New Mexico' 'South Dakota'\n",
      " 'North Dakota' 'Vermont' 'Mississippi' 'Delaware']\n",
      "votereg_post ['Yes' 'No' nan]\n",
      "CC16_414_1 ['No' 'Yes']\n",
      "CC16_414_2 ['Yes' 'No']\n",
      "CC16_414_3 ['Yes' 'No']\n",
      "CC16_414_4 ['No' 'Yes']\n",
      "CC16_414_5 ['Yes' 'No']\n",
      "CC16_414_6 ['Yes' 'No']\n",
      "CC16_417a_1 ['No' 'Yes']\n",
      "CC16_417a_2 ['No' 'Yes']\n",
      "CC16_417a_3 ['No' 'Yes']\n",
      "CC16_417a_4 ['No' 'Yes']\n",
      "CC16_417a_5 ['No' 'Yes']\n",
      "CC16_421a ['Republican' 'Independent' 'Democrat' 'Other' nan]\n",
      "CC16_422d ['Neither agree nor disagree' 'Somewhat disagree' 'Strongly agree'\n",
      " 'Strongly disagree' 'Somewhat agree' nan]\n",
      "CC16_422c ['Somewhat agree' 'Strongly agree' 'Neither agree nor disagree'\n",
      " 'Somewhat disagree' nan 'Strongly disagree']\n",
      "edloan ['No' 'Yes' nan]\n",
      "CC16_422f ['Neither agree nor disagree' 'Strongly disagree' 'Somewhat disagree'\n",
      " 'Strongly agree' 'Somewhat agree' nan]\n",
      "CC16_422e ['Strongly disagree' 'Somewhat disagree' 'Neither agree nor disagree'\n",
      " 'Somewhat agree' 'Strongly agree' nan]\n",
      "CC16_426_1 ['Greatly decrease' 'Maintain' 'Greatly increase' 'Slightly increase'\n",
      " 'Slightly decrease' nan]\n",
      "CC16_426_2 ['Slightly increase' 'Greatly increase' 'Maintain' 'Greatly decrease'\n",
      " 'Slightly decrease' nan]\n",
      "CC16_426_3 ['Slightly decrease' 'Greatly increase' 'Slightly increase'\n",
      " 'Greatly decrease' 'Maintain' nan]\n",
      "CC16_426_5 ['Slightly decrease' 'Slightly increase' 'Greatly increase'\n",
      " 'Greatly decrease' 'Maintain' nan]\n",
      "CC16_418a ['No' 'Yes' nan]\n",
      "CC16_426_4 ['Maintain' 'Greatly increase' 'Slightly decrease' 'Slightly increase'\n",
      " 'Greatly decrease' nan]\n",
      "CC16_410a ['Donald Trump (Republican)' 'Hillary Clinton (Democrat)'\n",
      " \"I didn't vote in this election\" 'Other' 'Jill Stein (Green)'\n",
      " 'Gary Johnson (Libertarian)' 'Evan McMullin (Independent)' nan]\n",
      "voted [1 0]\n",
      "age [49 24 36 55 56 61 72 33 42 30 39 57 60 73 28 47 78 62 37 58 40 59 51 64 34\n",
      " 66 54 27 53 76 69 79 84 74 43 41 52 70 48 26 65 38 44 63 35 32 81 82 67 71\n",
      " 31 21 68 77 80 87 29 50 45 22 23 25 83 75 86 91 85 46 95 93 88 89 90 94 20\n",
      " 97 92 96]\n"
     ]
    }
   ],
   "source": [
    "for col in df.columns:\n",
    "    print (col, df[col].unique())"
   ]
  },
  {
   "cell_type": "markdown",
   "metadata": {},
   "source": [
    "Many binary variables have text answers, namely support/oppose, for/against, and yes/no. I convert these to 1 and 0."
   ]
  },
  {
   "cell_type": "code",
   "execution_count": 58,
   "metadata": {
    "collapsed": true
   },
   "outputs": [],
   "source": [
    "df1 = df.replace({'Support': 1, 'Oppose' : 0, 'For': 1, 'Against': 0, 'Yes': 1, 'No': 0, 'Favor': 1})"
   ]
  },
  {
   "cell_type": "code",
   "execution_count": 59,
   "metadata": {},
   "outputs": [
    {
     "name": "stdout",
     "output_type": "stream",
     "text": [
      "tookpost ['Yes']\n",
      "tookpost [1]\n",
      "gender ['Female' 'Male']\n",
      "gender ['Female' 'Male']\n",
      "educ ['High school graduate' '4-year' 'Some college' 'No HS' '2-year'\n",
      " 'Post-grad']\n",
      "educ ['High school graduate' '4-year' 'Some college' 'No HS' '2-year'\n",
      " 'Post-grad']\n",
      "race ['White' 'Mixed' 'Asian' 'Other' 'Hispanic' 'Native American' 'Black'\n",
      " 'Middle Eastern']\n",
      "race ['White' 'Mixed' 'Asian' 'Other' 'Hispanic' 'Native American' 'Black'\n",
      " 'Middle Eastern']\n",
      "CC16_331_1 ['No' 'Yes']\n",
      "CC16_331_1 [0 1]\n",
      "CC16_331_2 ['Yes' 'No']\n",
      "CC16_331_2 [1 0]\n",
      "CC16_331_3 ['No' 'Yes']\n",
      "CC16_331_3 [0 1]\n",
      "CC16_331_7 ['Yes' 'No']\n",
      "CC16_331_7 [1 0]\n",
      "employ ['Homemaker' 'Part-time' 'Permanently disabled' 'Full-time'\n",
      " 'Temporarily laid off' 'Retired' 'Unemployed' 'Other' 'Student']\n",
      "employ ['Homemaker' 'Part-time' 'Permanently disabled' 'Full-time'\n",
      " 'Temporarily laid off' 'Retired' 'Unemployed' 'Other' 'Student']\n",
      "milstat_1 ['No' 'Yes']\n",
      "milstat_1 [0 1]\n",
      "milstat_2 ['No' 'Yes']\n",
      "milstat_2 [0 1]\n",
      "milstat_3 ['No' 'Yes']\n",
      "milstat_3 [0 1]\n",
      "milstat_4 ['Yes' 'No']\n",
      "milstat_4 [1 0]\n",
      "CC16_351K ['For' 'Against' nan]\n",
      "CC16_351K [  1.   0.  nan]\n",
      "faminc [  54999.   64999.    5000.   24999.   34999.  109999.   44999.   14999.\n",
      "   74999.   89999.  134999.  500000.  150000.  174999.  424999.  224999.\n",
      "  299999.]\n",
      "faminc [  54999.   64999.    5000.   24999.   34999.  109999.   44999.   14999.\n",
      "   74999.   89999.  134999.  500000.  150000.  174999.  424999.  224999.\n",
      "  299999.]\n",
      "CC16_334a ['Support' 'Oppose' nan]\n",
      "CC16_334a [  1.   0.  nan]\n",
      "CC16_334b ['Support' 'Oppose' nan]\n",
      "CC16_334b [  1.   0.  nan]\n",
      "pew_religimp ['Somewhat important' nan 'Not at all important' 'Very important'\n",
      " 'Not too important']\n",
      "pew_religimp ['Somewhat important' nan 'Not at all important' 'Very important'\n",
      " 'Not too important']\n",
      "ideo5 ['Moderate or Not sure' 'Liberal' 'Very conservative' 'Conservative'\n",
      " 'Very liberal' nan]\n",
      "ideo5 ['Moderate or Not sure' 'Liberal' 'Very conservative' 'Conservative'\n",
      " 'Very liberal' nan]\n",
      "CC16_334d ['Support' 'Oppose' nan]\n",
      "CC16_334d [  1.   0.  nan]\n",
      "pew_bornagain ['No' nan 'Yes']\n",
      "pew_bornagain [  0.  nan   1.]\n",
      "CC16_334c ['Oppose' 'Support' nan]\n",
      "CC16_334c [  0.   1.  nan]\n",
      "CC16_333d ['Oppose' 'Support' nan]\n",
      "CC16_333d [  0.   1.  nan]\n",
      "marstat ['Married' 'Single' 'Widowed' 'Separated' 'Divorced' 'Domestic partnership'\n",
      " nan]\n",
      "marstat ['Married' 'Single' 'Widowed' 'Separated' 'Divorced' 'Domestic partnership'\n",
      " nan]\n",
      "CC16_333b ['Oppose' 'Support' nan]\n",
      "CC16_333b [  0.   1.  nan]\n",
      "CC16_333a ['Oppose' 'Support' nan]\n",
      "CC16_333a [  0.   1.  nan]\n",
      "CC16_332a ['Support' 'Oppose' nan]\n",
      "CC16_332a [  1.   0.  nan]\n",
      "CC16_332d ['Oppose' 'Support' nan]\n",
      "CC16_332d [  0.   1.  nan]\n",
      "CC16_332e ['Oppose' 'Support' nan]\n",
      "CC16_332e [  0.   1.  nan]\n",
      "CC16_333c ['Oppose' 'Support' nan]\n",
      "CC16_333c [  0.   1.  nan]\n",
      "religpew ['Nothing in particular' nan 'Agnostic' 'Protestant' 'Roman Catholic'\n",
      " 'Atheist' 'Mormon' 'Something else' 'Jewish' 'Eastern or Greek Orthodox'\n",
      " 'Buddhist' 'Muslim' 'Hindu']\n",
      "religpew ['Nothing in particular' nan 'Agnostic' 'Protestant' 'Roman Catholic'\n",
      " 'Atheist' 'Mormon' 'Something else' 'Jewish' 'Eastern or Greek Orthodox'\n",
      " 'Buddhist' 'Muslim' 'Hindu']\n",
      "ownhome ['Own' 'Rent' 'Other' nan]\n",
      "ownhome ['Own' 'Rent' 'Other' nan]\n",
      "CC16_332c ['Support' 'Oppose' nan]\n",
      "CC16_332c [  1.   0.  nan]\n",
      "CC16_332f ['Oppose' 'Support' nan]\n",
      "CC16_332f [  0.   1.  nan]\n",
      "CC16_351I ['For' 'Against' nan]\n",
      "CC16_351I [  1.   0.  nan]\n",
      "CC16_332b ['Oppose' 'Support' nan]\n",
      "CC16_332b [  0.   1.  nan]\n",
      "child18 ['No' 'Yes' nan]\n",
      "child18 [  0.   1.  nan]\n",
      "CC16_351B ['For' 'Against' nan]\n",
      "CC16_351B [  1.   0.  nan]\n",
      "CC16_351E ['For' 'Against' nan]\n",
      "CC16_351E [  1.   0.  nan]\n",
      "union ['I am not now, nor have I been, a member of a labor union'\n",
      " 'I formerly was a member of a labor union'\n",
      " 'Yes, I am currently a member of a labor union' nan]\n",
      "union ['I am not now, nor have I been, a member of a labor union'\n",
      " 'I formerly was a member of a labor union'\n",
      " 'Yes, I am currently a member of a labor union' nan]\n",
      "CC16_327 [\"No, didn't vote in a primary or caucus\"\n",
      " 'Yes, voted in a primary or caucus' nan]\n",
      "CC16_327 [\"No, didn't vote in a primary or caucus\"\n",
      " 'Yes, voted in a primary or caucus' nan]\n",
      "immstat ['Third generation' 'Second generation' 'First generation'\n",
      " 'Immigrant Citizen' 'Immigrant non-citizen' nan]\n",
      "immstat ['Third generation' 'Second generation' 'First generation'\n",
      " 'Immigrant Citizen' 'Immigrant non-citizen' nan]\n",
      "CC16_351G ['For' 'Against' nan]\n",
      "CC16_351G [  1.   0.  nan]\n",
      "CC16_351F ['Against' 'For' nan]\n",
      "CC16_351F [  0.   1.  nan]\n",
      "CC16_330a ['Support' 'Oppose' nan]\n",
      "CC16_330a [  1.   0.  nan]\n",
      "CC16_351H ['Against' 'For' nan]\n",
      "CC16_351H [  0.   1.  nan]\n",
      "CC16_330e ['Oppose' 'Support' nan]\n",
      "CC16_330e [  0.   1.  nan]\n",
      "CC16_330b ['Oppose' 'Support' nan]\n",
      "CC16_330b [  0.   1.  nan]\n",
      "unionhh ['No, no one in my household has ever been a member of a labor union'\n",
      " 'A member of my household was formerly a member of a labor union, but is not now'\n",
      " 'Yes, a member of my household is currently a union member' nan]\n",
      "unionhh ['No, no one in my household has ever been a member of a labor union'\n",
      " 'A member of my household was formerly a member of a labor union, but is not now'\n",
      " 'Yes, a member of my household is currently a union member' nan]\n",
      "CC16_330d ['Oppose' 'Support' nan]\n",
      "CC16_330d [  0.   1.  nan]\n",
      "CC16_335 ['Favor' 'Oppose' nan]\n",
      "CC16_335 [  1.   0.  nan]\n",
      "hispanic ['No' 'Yes' nan]\n",
      "hispanic [  0.   1.  nan]\n",
      "sexuality ['Heterosexual / straight' 'Bisexual' 'Gay man' 'Lesbian / gay woman'\n",
      " 'Other']\n",
      "sexuality ['Heterosexual / straight' 'Bisexual' 'Gay man' 'Lesbian / gay woman'\n",
      " 'Other']\n",
      "investor ['No' 'Yes' nan]\n",
      "investor [  0.   1.  nan]\n",
      "trans ['No' 'Yes']\n",
      "trans [0 1]\n",
      "inputstate_post ['New Hampshire' 'Louisiana' 'Colorado' 'Alabama' 'Texas' 'Georgia'\n",
      " 'Pennsylvania' 'Hawaii' 'Florida' 'Kansas' 'New Jersey' 'New York'\n",
      " 'California' 'Massachusetts' 'Maine' 'Maryland' 'North Carolina'\n",
      " 'Michigan' 'Oregon' 'Montana' 'Arizona' 'Washington' 'Virginia'\n",
      " 'South Carolina' 'Arkansas' 'Connecticut' 'Nevada' 'Illinois' 'Tennessee'\n",
      " 'West Virginia' 'Oklahoma' 'Indiana' 'Wisconsin' 'Missouri' 'Ohio' 'Utah'\n",
      " 'Wyoming' 'District of Columbia' 'Idaho' 'Minnesota' 'Nebraska' 'Alaska'\n",
      " 'Kentucky' 'Rhode Island' 'Iowa' 'New Mexico' 'South Dakota'\n",
      " 'North Dakota' 'Vermont' 'Mississippi' 'Delaware']\n",
      "inputstate_post ['New Hampshire' 'Louisiana' 'Colorado' 'Alabama' 'Texas' 'Georgia'\n",
      " 'Pennsylvania' 'Hawaii' 'Florida' 'Kansas' 'New Jersey' 'New York'\n",
      " 'California' 'Massachusetts' 'Maine' 'Maryland' 'North Carolina'\n",
      " 'Michigan' 'Oregon' 'Montana' 'Arizona' 'Washington' 'Virginia'\n",
      " 'South Carolina' 'Arkansas' 'Connecticut' 'Nevada' 'Illinois' 'Tennessee'\n",
      " 'West Virginia' 'Oklahoma' 'Indiana' 'Wisconsin' 'Missouri' 'Ohio' 'Utah'\n",
      " 'Wyoming' 'District of Columbia' 'Idaho' 'Minnesota' 'Nebraska' 'Alaska'\n",
      " 'Kentucky' 'Rhode Island' 'Iowa' 'New Mexico' 'South Dakota'\n",
      " 'North Dakota' 'Vermont' 'Mississippi' 'Delaware']\n",
      "votereg_post ['Yes' 'No' nan]\n",
      "votereg_post [  1.   0.  nan]\n",
      "CC16_414_1 ['No' 'Yes']\n",
      "CC16_414_1 [0 1]\n",
      "CC16_414_2 ['Yes' 'No']\n",
      "CC16_414_2 [1 0]\n",
      "CC16_414_3 ['Yes' 'No']\n",
      "CC16_414_3 [1 0]\n",
      "CC16_414_4 ['No' 'Yes']\n",
      "CC16_414_4 [0 1]\n",
      "CC16_414_5 ['Yes' 'No']\n",
      "CC16_414_5 [1 0]\n",
      "CC16_414_6 ['Yes' 'No']\n",
      "CC16_414_6 [1 0]\n",
      "CC16_417a_1 ['No' 'Yes']\n",
      "CC16_417a_1 [0 1]\n",
      "CC16_417a_2 ['No' 'Yes']\n",
      "CC16_417a_2 [0 1]\n",
      "CC16_417a_3 ['No' 'Yes']\n",
      "CC16_417a_3 [0 1]\n",
      "CC16_417a_4 ['No' 'Yes']\n",
      "CC16_417a_4 [0 1]\n",
      "CC16_417a_5 ['No' 'Yes']\n",
      "CC16_417a_5 [0 1]\n",
      "CC16_421a ['Republican' 'Independent' 'Democrat' 'Other' nan]\n",
      "CC16_421a ['Republican' 'Independent' 'Democrat' 'Other' nan]\n",
      "CC16_422d ['Neither agree nor disagree' 'Somewhat disagree' 'Strongly agree'\n",
      " 'Strongly disagree' 'Somewhat agree' nan]\n",
      "CC16_422d ['Neither agree nor disagree' 'Somewhat disagree' 'Strongly agree'\n",
      " 'Strongly disagree' 'Somewhat agree' nan]\n",
      "CC16_422c ['Somewhat agree' 'Strongly agree' 'Neither agree nor disagree'\n",
      " 'Somewhat disagree' nan 'Strongly disagree']\n",
      "CC16_422c ['Somewhat agree' 'Strongly agree' 'Neither agree nor disagree'\n",
      " 'Somewhat disagree' nan 'Strongly disagree']\n",
      "edloan ['No' 'Yes' nan]\n",
      "edloan [  0.   1.  nan]\n",
      "CC16_422f ['Neither agree nor disagree' 'Strongly disagree' 'Somewhat disagree'\n",
      " 'Strongly agree' 'Somewhat agree' nan]\n",
      "CC16_422f ['Neither agree nor disagree' 'Strongly disagree' 'Somewhat disagree'\n",
      " 'Strongly agree' 'Somewhat agree' nan]\n",
      "CC16_422e ['Strongly disagree' 'Somewhat disagree' 'Neither agree nor disagree'\n",
      " 'Somewhat agree' 'Strongly agree' nan]\n",
      "CC16_422e ['Strongly disagree' 'Somewhat disagree' 'Neither agree nor disagree'\n",
      " 'Somewhat agree' 'Strongly agree' nan]\n",
      "CC16_426_1 ['Greatly decrease' 'Maintain' 'Greatly increase' 'Slightly increase'\n",
      " 'Slightly decrease' nan]\n",
      "CC16_426_1 ['Greatly decrease' 'Maintain' 'Greatly increase' 'Slightly increase'\n",
      " 'Slightly decrease' nan]\n",
      "CC16_426_2 ['Slightly increase' 'Greatly increase' 'Maintain' 'Greatly decrease'\n",
      " 'Slightly decrease' nan]\n",
      "CC16_426_2 ['Slightly increase' 'Greatly increase' 'Maintain' 'Greatly decrease'\n",
      " 'Slightly decrease' nan]\n",
      "CC16_426_3 ['Slightly decrease' 'Greatly increase' 'Slightly increase'\n",
      " 'Greatly decrease' 'Maintain' nan]\n",
      "CC16_426_3 ['Slightly decrease' 'Greatly increase' 'Slightly increase'\n",
      " 'Greatly decrease' 'Maintain' nan]\n",
      "CC16_426_5 ['Slightly decrease' 'Slightly increase' 'Greatly increase'\n",
      " 'Greatly decrease' 'Maintain' nan]\n",
      "CC16_426_5 ['Slightly decrease' 'Slightly increase' 'Greatly increase'\n",
      " 'Greatly decrease' 'Maintain' nan]\n",
      "CC16_418a ['No' 'Yes' nan]\n",
      "CC16_418a [  0.   1.  nan]\n",
      "CC16_426_4 ['Maintain' 'Greatly increase' 'Slightly decrease' 'Slightly increase'\n",
      " 'Greatly decrease' nan]\n",
      "CC16_426_4 ['Maintain' 'Greatly increase' 'Slightly decrease' 'Slightly increase'\n",
      " 'Greatly decrease' nan]\n",
      "CC16_410a ['Donald Trump (Republican)' 'Hillary Clinton (Democrat)'\n",
      " \"I didn't vote in this election\" 'Other' 'Jill Stein (Green)'\n",
      " 'Gary Johnson (Libertarian)' 'Evan McMullin (Independent)' nan]\n",
      "CC16_410a ['Donald Trump (Republican)' 'Hillary Clinton (Democrat)'\n",
      " \"I didn't vote in this election\" 'Other' 'Jill Stein (Green)'\n",
      " 'Gary Johnson (Libertarian)' 'Evan McMullin (Independent)' nan]\n",
      "voted [1 0]\n",
      "voted [1 0]\n",
      "age [49 24 36 55 56 61 72 33 42 30 39 57 60 73 28 47 78 62 37 58 40 59 51 64 34\n",
      " 66 54 27 53 76 69 79 84 74 43 41 52 70 48 26 65 38 44 63 35 32 81 82 67 71\n",
      " 31 21 68 77 80 87 29 50 45 22 23 25 83 75 86 91 85 46 95 93 88 89 90 94 20\n",
      " 97 92 96]\n",
      "age [49 24 36 55 56 61 72 33 42 30 39 57 60 73 28 47 78 62 37 58 40 59 51 64 34\n",
      " 66 54 27 53 76 69 79 84 74 43 41 52 70 48 26 65 38 44 63 35 32 81 82 67 71\n",
      " 31 21 68 77 80 87 29 50 45 22 23 25 83 75 86 91 85 46 95 93 88 89 90 94 20\n",
      " 97 92 96]\n"
     ]
    }
   ],
   "source": [
    "for col in df1.columns:\n",
    "    print (col, df[col].unique())\n",
    "    print (col, df1[col].unique())"
   ]
  },
  {
   "cell_type": "code",
   "execution_count": 60,
   "metadata": {
    "collapsed": true
   },
   "outputs": [],
   "source": [
    "df = df1"
   ]
  },
  {
   "cell_type": "markdown",
   "metadata": {},
   "source": [
    "For the five-point categorical answers, I will be converting these to dummy variables, so there is no need to do a value replacement. However, I will collapse the five answers into three answers to reduce the number of columns that are created. (may revisit this)"
   ]
  },
  {
   "cell_type": "code",
   "execution_count": 62,
   "metadata": {
    "collapsed": true
   },
   "outputs": [],
   "source": [
    "df = df.replace({'Greatly decrease': 'Decrease', 'Slightly decrease' : 'Decrease' , 'Slightly increase': 'Increase', \n",
    "                  'Greatly increase': 'Increase', \n",
    "                  'Strongly disagree': 'Disagree', 'Somewhat disagree': 'Disagree', 'Neither agree nor disagree': 'Neutral',\n",
    "                 'Somewhat agree': 'Agree', 'Strongly agree': 'Agree'})"
   ]
  },
  {
   "cell_type": "code",
   "execution_count": 63,
   "metadata": {
    "collapsed": true
   },
   "outputs": [],
   "source": [
    "#list of questions with five categorical answers\n",
    "fivepoint = ['CC16_422d', 'CC16_422c', 'CC16_422f', 'CC16_422e', 'CC16_426_1', 'CC16_426_2', 'CC16_426_3', 'CC16_426_5', \n",
    "             'CC16_426_4']"
   ]
  },
  {
   "cell_type": "code",
   "execution_count": 64,
   "metadata": {
    "collapsed": true
   },
   "outputs": [],
   "source": [
    "for col in fivepoint:\n",
    "    df = df.merge(pd.get_dummies(df[col], prefix = col, drop_first = True), left_index = True, right_index = True)"
   ]
  },
  {
   "cell_type": "code",
   "execution_count": 65,
   "metadata": {},
   "outputs": [
    {
     "data": {
      "text/plain": [
       "Index(['tookpost', 'gender', 'educ', 'race', 'CC16_331_1', 'CC16_331_2',\n",
       "       'CC16_331_3', 'CC16_331_7', 'employ', 'milstat_1',\n",
       "       ...\n",
       "       'CC16_426_1_Increase', 'CC16_426_1_Maintain', 'CC16_426_2_Increase',\n",
       "       'CC16_426_2_Maintain', 'CC16_426_3_Increase', 'CC16_426_3_Maintain',\n",
       "       'CC16_426_5_Increase', 'CC16_426_5_Maintain', 'CC16_426_4_Increase',\n",
       "       'CC16_426_4_Maintain'],\n",
       "      dtype='object', length=101)"
      ]
     },
     "execution_count": 65,
     "metadata": {},
     "output_type": "execute_result"
    }
   ],
   "source": [
    "df.columns"
   ]
  },
  {
   "cell_type": "code",
   "execution_count": 66,
   "metadata": {
    "collapsed": true
   },
   "outputs": [],
   "source": [
    "#rename variables\n",
    "df['presvote'] = df['CC16_410a']\n",
    "df.drop(['CC16_410a'], axis = 1, inplace = True)"
   ]
  },
  {
   "cell_type": "markdown",
   "metadata": {},
   "source": [
    "Converting a couple more text values to 1 and 0:"
   ]
  },
  {
   "cell_type": "code",
   "execution_count": 67,
   "metadata": {
    "collapsed": true
   },
   "outputs": [],
   "source": [
    "df = df.replace({'Female': 0, 'Male' : 1})\n",
    "df = df.replace({\"No, didn\\'t vote in a primary or caucus\": 0, 'Yes, voted in a primary or caucus': 1})"
   ]
  },
  {
   "cell_type": "code",
   "execution_count": 68,
   "metadata": {
    "scrolled": false
   },
   "outputs": [
    {
     "name": "stdout",
     "output_type": "stream",
     "text": [
      "tookpost [1]\n",
      "gender [0 1]\n",
      "educ ['High school graduate' '4-year' 'Some college' 'No HS' '2-year'\n",
      " 'Post-grad']\n",
      "race ['White' 'Mixed' 'Asian' 'Other' 'Hispanic' 'Native American' 'Black'\n",
      " 'Middle Eastern']\n",
      "CC16_331_1 [0 1]\n",
      "CC16_331_2 [1 0]\n",
      "CC16_331_3 [0 1]\n",
      "CC16_331_7 [1 0]\n",
      "employ ['Homemaker' 'Part-time' 'Permanently disabled' 'Full-time'\n",
      " 'Temporarily laid off' 'Retired' 'Unemployed' 'Other' 'Student']\n",
      "milstat_1 [0 1]\n",
      "milstat_2 [0 1]\n",
      "milstat_3 [0 1]\n",
      "milstat_4 [1 0]\n",
      "CC16_351K [  1.   0.  nan]\n",
      "faminc [  54999.   64999.    5000.   24999.   34999.  109999.   44999.   14999.\n",
      "   74999.   89999.  134999.  500000.  150000.  174999.  424999.  224999.\n",
      "  299999.]\n",
      "CC16_334a [  1.   0.  nan]\n",
      "CC16_334b [  1.   0.  nan]\n",
      "pew_religimp ['Somewhat important' nan 'Not at all important' 'Very important'\n",
      " 'Not too important']\n",
      "ideo5 ['Moderate or Not sure' 'Liberal' 'Very conservative' 'Conservative'\n",
      " 'Very liberal' nan]\n",
      "CC16_334d [  1.   0.  nan]\n",
      "pew_bornagain [  0.  nan   1.]\n",
      "CC16_334c [  0.   1.  nan]\n",
      "CC16_333d [  0.   1.  nan]\n",
      "marstat ['Married' 'Single' 'Widowed' 'Separated' 'Divorced' 'Domestic partnership'\n",
      " nan]\n",
      "CC16_333b [  0.   1.  nan]\n",
      "CC16_333a [  0.   1.  nan]\n",
      "CC16_332a [  1.   0.  nan]\n",
      "CC16_332d [  0.   1.  nan]\n",
      "CC16_332e [  0.   1.  nan]\n",
      "CC16_333c [  0.   1.  nan]\n",
      "religpew ['Nothing in particular' nan 'Agnostic' 'Protestant' 'Roman Catholic'\n",
      " 'Atheist' 'Mormon' 'Something else' 'Jewish' 'Eastern or Greek Orthodox'\n",
      " 'Buddhist' 'Muslim' 'Hindu']\n",
      "ownhome ['Own' 'Rent' 'Other' nan]\n",
      "CC16_332c [  1.   0.  nan]\n",
      "CC16_332f [  0.   1.  nan]\n",
      "CC16_351I [  1.   0.  nan]\n",
      "CC16_332b [  0.   1.  nan]\n",
      "child18 [  0.   1.  nan]\n",
      "CC16_351B [  1.   0.  nan]\n",
      "CC16_351E [  1.   0.  nan]\n",
      "union ['I am not now, nor have I been, a member of a labor union'\n",
      " 'I formerly was a member of a labor union'\n",
      " 'Yes, I am currently a member of a labor union' nan]\n",
      "CC16_327 [  0.   1.  nan]\n",
      "immstat ['Third generation' 'Second generation' 'First generation'\n",
      " 'Immigrant Citizen' 'Immigrant non-citizen' nan]\n",
      "CC16_351G [  1.   0.  nan]\n",
      "CC16_351F [  0.   1.  nan]\n",
      "CC16_330a [  1.   0.  nan]\n",
      "CC16_351H [  0.   1.  nan]\n",
      "CC16_330e [  0.   1.  nan]\n",
      "CC16_330b [  0.   1.  nan]\n",
      "unionhh ['No, no one in my household has ever been a member of a labor union'\n",
      " 'A member of my household was formerly a member of a labor union, but is not now'\n",
      " 'Yes, a member of my household is currently a union member' nan]\n",
      "CC16_330d [  0.   1.  nan]\n",
      "CC16_335 [  1.   0.  nan]\n",
      "hispanic [  0.   1.  nan]\n",
      "sexuality ['Heterosexual / straight' 'Bisexual' 'Gay man' 'Lesbian / gay woman'\n",
      " 'Other']\n",
      "investor [  0.   1.  nan]\n",
      "trans [0 1]\n",
      "inputstate_post ['New Hampshire' 'Louisiana' 'Colorado' 'Alabama' 'Texas' 'Georgia'\n",
      " 'Pennsylvania' 'Hawaii' 'Florida' 'Kansas' 'New Jersey' 'New York'\n",
      " 'California' 'Massachusetts' 'Maine' 'Maryland' 'North Carolina'\n",
      " 'Michigan' 'Oregon' 'Montana' 'Arizona' 'Washington' 'Virginia'\n",
      " 'South Carolina' 'Arkansas' 'Connecticut' 'Nevada' 'Illinois' 'Tennessee'\n",
      " 'West Virginia' 'Oklahoma' 'Indiana' 'Wisconsin' 'Missouri' 'Ohio' 'Utah'\n",
      " 'Wyoming' 'District of Columbia' 'Idaho' 'Minnesota' 'Nebraska' 'Alaska'\n",
      " 'Kentucky' 'Rhode Island' 'Iowa' 'New Mexico' 'South Dakota'\n",
      " 'North Dakota' 'Vermont' 'Mississippi' 'Delaware']\n",
      "votereg_post [  1.   0.  nan]\n",
      "CC16_414_1 [0 1]\n",
      "CC16_414_2 [1 0]\n",
      "CC16_414_3 [1 0]\n",
      "CC16_414_4 [0 1]\n",
      "CC16_414_5 [1 0]\n",
      "CC16_414_6 [1 0]\n",
      "CC16_417a_1 [0 1]\n",
      "CC16_417a_2 [0 1]\n",
      "CC16_417a_3 [0 1]\n",
      "CC16_417a_4 [0 1]\n",
      "CC16_417a_5 [0 1]\n",
      "CC16_421a ['Republican' 'Independent' 'Democrat' 'Other' nan]\n",
      "CC16_422d ['Neutral' 'Disagree' 'Agree' nan]\n",
      "CC16_422c ['Agree' 'Neutral' 'Disagree' nan]\n",
      "edloan [  0.   1.  nan]\n",
      "CC16_422f ['Neutral' 'Disagree' 'Agree' nan]\n",
      "CC16_422e ['Disagree' 'Neutral' 'Agree' nan]\n",
      "CC16_426_1 ['Decrease' 'Maintain' 'Increase' nan]\n",
      "CC16_426_2 ['Increase' 'Maintain' 'Decrease' nan]\n",
      "CC16_426_3 ['Decrease' 'Increase' 'Maintain' nan]\n",
      "CC16_426_5 ['Decrease' 'Increase' 'Maintain' nan]\n",
      "CC16_418a [  0.   1.  nan]\n",
      "CC16_426_4 ['Maintain' 'Increase' 'Decrease' nan]\n",
      "voted [1 0]\n",
      "age [49 24 36 55 56 61 72 33 42 30 39 57 60 73 28 47 78 62 37 58 40 59 51 64 34\n",
      " 66 54 27 53 76 69 79 84 74 43 41 52 70 48 26 65 38 44 63 35 32 81 82 67 71\n",
      " 31 21 68 77 80 87 29 50 45 22 23 25 83 75 86 91 85 46 95 93 88 89 90 94 20\n",
      " 97 92 96]\n",
      "CC16_422d_Disagree [0 1]\n",
      "CC16_422d_Neutral [1 0]\n",
      "CC16_422c_Disagree [0 1]\n",
      "CC16_422c_Neutral [0 1]\n",
      "CC16_422f_Disagree [0 1]\n",
      "CC16_422f_Neutral [1 0]\n",
      "CC16_422e_Disagree [1 0]\n",
      "CC16_422e_Neutral [0 1]\n",
      "CC16_426_1_Increase [0 1]\n",
      "CC16_426_1_Maintain [0 1]\n",
      "CC16_426_2_Increase [1 0]\n",
      "CC16_426_2_Maintain [0 1]\n",
      "CC16_426_3_Increase [0 1]\n",
      "CC16_426_3_Maintain [0 1]\n",
      "CC16_426_5_Increase [0 1]\n",
      "CC16_426_5_Maintain [0 1]\n",
      "CC16_426_4_Increase [0 1]\n",
      "CC16_426_4_Maintain [1 0]\n",
      "presvote ['Donald Trump (Republican)' 'Hillary Clinton (Democrat)'\n",
      " \"I didn't vote in this election\" 'Other' 'Jill Stein (Green)'\n",
      " 'Gary Johnson (Libertarian)' 'Evan McMullin (Independent)' nan]\n"
     ]
    }
   ],
   "source": [
    "for col in df.columns:\n",
    "    print (col, df[col].unique())"
   ]
  },
  {
   "cell_type": "markdown",
   "metadata": {},
   "source": [
    "Create binary variables based on whether the respondent has served in the military, and whether a family member has served."
   ]
  },
  {
   "cell_type": "code",
   "execution_count": 69,
   "metadata": {
    "collapsed": true
   },
   "outputs": [],
   "source": [
    "df['veteran'] = ((df['milstat_1'] == 1) | (df['milstat_3'] == 1)).astype(int)\n",
    "df['family_vet'] = ((df['milstat_2'] == 1) | (df['milstat_4'] == 1)).astype(int)"
   ]
  },
  {
   "cell_type": "code",
   "execution_count": 70,
   "metadata": {},
   "outputs": [
    {
     "data": {
      "text/html": [
       "<div>\n",
       "<style>\n",
       "    .dataframe thead tr:only-child th {\n",
       "        text-align: right;\n",
       "    }\n",
       "\n",
       "    .dataframe thead th {\n",
       "        text-align: left;\n",
       "    }\n",
       "\n",
       "    .dataframe tbody tr th {\n",
       "        vertical-align: top;\n",
       "    }\n",
       "</style>\n",
       "<table border=\"1\" class=\"dataframe\">\n",
       "  <thead>\n",
       "    <tr style=\"text-align: right;\">\n",
       "      <th></th>\n",
       "      <th>veteran</th>\n",
       "      <th>family_vet</th>\n",
       "    </tr>\n",
       "  </thead>\n",
       "  <tbody>\n",
       "    <tr>\n",
       "      <th>0</th>\n",
       "      <td>0</td>\n",
       "      <td>1</td>\n",
       "    </tr>\n",
       "    <tr>\n",
       "      <th>1</th>\n",
       "      <td>0</td>\n",
       "      <td>1</td>\n",
       "    </tr>\n",
       "    <tr>\n",
       "      <th>4</th>\n",
       "      <td>0</td>\n",
       "      <td>1</td>\n",
       "    </tr>\n",
       "    <tr>\n",
       "      <th>5</th>\n",
       "      <td>0</td>\n",
       "      <td>0</td>\n",
       "    </tr>\n",
       "    <tr>\n",
       "      <th>6</th>\n",
       "      <td>0</td>\n",
       "      <td>0</td>\n",
       "    </tr>\n",
       "  </tbody>\n",
       "</table>\n",
       "</div>"
      ],
      "text/plain": [
       "   veteran  family_vet\n",
       "0        0           1\n",
       "1        0           1\n",
       "4        0           1\n",
       "5        0           0\n",
       "6        0           0"
      ]
     },
     "execution_count": 70,
     "metadata": {},
     "output_type": "execute_result"
    }
   ],
   "source": [
    "df[['veteran', 'family_vet']].head(5)"
   ]
  },
  {
   "cell_type": "markdown",
   "metadata": {},
   "source": [
    "Create dummies for race:"
   ]
  },
  {
   "cell_type": "code",
   "execution_count": 72,
   "metadata": {},
   "outputs": [
    {
     "data": {
      "text/plain": [
       "race\n",
       "Asian               1739\n",
       "Black               4931\n",
       "Hispanic            3742\n",
       "Middle Eastern        99\n",
       "Mixed               1169\n",
       "Native American      440\n",
       "Other                680\n",
       "White              40099\n",
       "dtype: int64"
      ]
     },
     "execution_count": 72,
     "metadata": {},
     "output_type": "execute_result"
    }
   ],
   "source": [
    "df.groupby(['race']).size()"
   ]
  },
  {
   "cell_type": "code",
   "execution_count": 73,
   "metadata": {
    "collapsed": true
   },
   "outputs": [],
   "source": [
    "df = df.merge(pd.get_dummies(df['race'], prefix = 'race', drop_first = True), left_index = True, right_index = True)"
   ]
  },
  {
   "cell_type": "markdown",
   "metadata": {},
   "source": [
    "There is already a Hispanic variable (note that Hispanic isn't mutually exclusive with other races, so the two columns have different values). So I'll drop the dummy created for Hispanic."
   ]
  },
  {
   "cell_type": "code",
   "execution_count": 74,
   "metadata": {
    "collapsed": true
   },
   "outputs": [],
   "source": [
    "df.drop(['race_Hispanic'], axis = 1, inplace = True)"
   ]
  },
  {
   "cell_type": "markdown",
   "metadata": {},
   "source": [
    "Binary variable for 4-year college education or above."
   ]
  },
  {
   "cell_type": "code",
   "execution_count": 75,
   "metadata": {},
   "outputs": [
    {
     "data": {
      "text/html": [
       "<div>\n",
       "<style>\n",
       "    .dataframe thead tr:only-child th {\n",
       "        text-align: right;\n",
       "    }\n",
       "\n",
       "    .dataframe thead th {\n",
       "        text-align: left;\n",
       "    }\n",
       "\n",
       "    .dataframe tbody tr th {\n",
       "        vertical-align: top;\n",
       "    }\n",
       "</style>\n",
       "<table border=\"1\" class=\"dataframe\">\n",
       "  <thead>\n",
       "    <tr style=\"text-align: right;\">\n",
       "      <th></th>\n",
       "      <th>college</th>\n",
       "      <th>educ</th>\n",
       "    </tr>\n",
       "  </thead>\n",
       "  <tbody>\n",
       "    <tr>\n",
       "      <th>0</th>\n",
       "      <td>0</td>\n",
       "      <td>High school graduate</td>\n",
       "    </tr>\n",
       "    <tr>\n",
       "      <th>1</th>\n",
       "      <td>0</td>\n",
       "      <td>High school graduate</td>\n",
       "    </tr>\n",
       "    <tr>\n",
       "      <th>4</th>\n",
       "      <td>1</td>\n",
       "      <td>4-year</td>\n",
       "    </tr>\n",
       "    <tr>\n",
       "      <th>5</th>\n",
       "      <td>0</td>\n",
       "      <td>High school graduate</td>\n",
       "    </tr>\n",
       "    <tr>\n",
       "      <th>6</th>\n",
       "      <td>0</td>\n",
       "      <td>High school graduate</td>\n",
       "    </tr>\n",
       "    <tr>\n",
       "      <th>8</th>\n",
       "      <td>0</td>\n",
       "      <td>High school graduate</td>\n",
       "    </tr>\n",
       "    <tr>\n",
       "      <th>9</th>\n",
       "      <td>0</td>\n",
       "      <td>High school graduate</td>\n",
       "    </tr>\n",
       "    <tr>\n",
       "      <th>10</th>\n",
       "      <td>1</td>\n",
       "      <td>4-year</td>\n",
       "    </tr>\n",
       "    <tr>\n",
       "      <th>11</th>\n",
       "      <td>0</td>\n",
       "      <td>Some college</td>\n",
       "    </tr>\n",
       "    <tr>\n",
       "      <th>12</th>\n",
       "      <td>0</td>\n",
       "      <td>Some college</td>\n",
       "    </tr>\n",
       "  </tbody>\n",
       "</table>\n",
       "</div>"
      ],
      "text/plain": [
       "    college                  educ\n",
       "0         0  High school graduate\n",
       "1         0  High school graduate\n",
       "4         1                4-year\n",
       "5         0  High school graduate\n",
       "6         0  High school graduate\n",
       "8         0  High school graduate\n",
       "9         0  High school graduate\n",
       "10        1                4-year\n",
       "11        0          Some college\n",
       "12        0          Some college"
      ]
     },
     "execution_count": 75,
     "metadata": {},
     "output_type": "execute_result"
    }
   ],
   "source": [
    "df['college'] = ((df['educ'] == '4-year') | (df['educ'] == 'Post-grad')).astype(int)\n",
    "df[['college', 'educ']].head(10)"
   ]
  },
  {
   "cell_type": "markdown",
   "metadata": {},
   "source": [
    "Dummies for party ID:"
   ]
  },
  {
   "cell_type": "code",
   "execution_count": 76,
   "metadata": {},
   "outputs": [
    {
     "data": {
      "text/plain": [
       "CC16_421a\n",
       "Democrat       20270\n",
       "Independent    15787\n",
       "Other           2595\n",
       "Republican     14245\n",
       "dtype: int64"
      ]
     },
     "execution_count": 76,
     "metadata": {},
     "output_type": "execute_result"
    }
   ],
   "source": [
    "df.groupby(['CC16_421a']).size()"
   ]
  },
  {
   "cell_type": "code",
   "execution_count": 77,
   "metadata": {
    "collapsed": true
   },
   "outputs": [],
   "source": [
    "df['PartyID'] = df['CC16_421a'].replace({'Other': 'Independent'})"
   ]
  },
  {
   "cell_type": "code",
   "execution_count": 78,
   "metadata": {
    "collapsed": true
   },
   "outputs": [],
   "source": [
    "df = df.merge(pd.get_dummies(df['PartyID'], prefix = 'Party', drop_first = True), left_index = True, right_index = True)"
   ]
  },
  {
   "cell_type": "code",
   "execution_count": 80,
   "metadata": {},
   "outputs": [
    {
     "data": {
      "text/html": [
       "<div>\n",
       "<style>\n",
       "    .dataframe thead tr:only-child th {\n",
       "        text-align: right;\n",
       "    }\n",
       "\n",
       "    .dataframe thead th {\n",
       "        text-align: left;\n",
       "    }\n",
       "\n",
       "    .dataframe tbody tr th {\n",
       "        vertical-align: top;\n",
       "    }\n",
       "</style>\n",
       "<table border=\"1\" class=\"dataframe\">\n",
       "  <thead>\n",
       "    <tr style=\"text-align: right;\">\n",
       "      <th></th>\n",
       "      <th>CC16_421a</th>\n",
       "      <th>Party_Independent</th>\n",
       "      <th>Party_Republican</th>\n",
       "    </tr>\n",
       "  </thead>\n",
       "  <tbody>\n",
       "    <tr>\n",
       "      <th>0</th>\n",
       "      <td>Republican</td>\n",
       "      <td>0</td>\n",
       "      <td>1</td>\n",
       "    </tr>\n",
       "    <tr>\n",
       "      <th>1</th>\n",
       "      <td>Independent</td>\n",
       "      <td>1</td>\n",
       "      <td>0</td>\n",
       "    </tr>\n",
       "    <tr>\n",
       "      <th>4</th>\n",
       "      <td>Democrat</td>\n",
       "      <td>0</td>\n",
       "      <td>0</td>\n",
       "    </tr>\n",
       "    <tr>\n",
       "      <th>5</th>\n",
       "      <td>Democrat</td>\n",
       "      <td>0</td>\n",
       "      <td>0</td>\n",
       "    </tr>\n",
       "    <tr>\n",
       "      <th>6</th>\n",
       "      <td>Republican</td>\n",
       "      <td>0</td>\n",
       "      <td>1</td>\n",
       "    </tr>\n",
       "    <tr>\n",
       "      <th>8</th>\n",
       "      <td>Republican</td>\n",
       "      <td>0</td>\n",
       "      <td>1</td>\n",
       "    </tr>\n",
       "    <tr>\n",
       "      <th>9</th>\n",
       "      <td>Republican</td>\n",
       "      <td>0</td>\n",
       "      <td>1</td>\n",
       "    </tr>\n",
       "    <tr>\n",
       "      <th>10</th>\n",
       "      <td>Democrat</td>\n",
       "      <td>0</td>\n",
       "      <td>0</td>\n",
       "    </tr>\n",
       "    <tr>\n",
       "      <th>11</th>\n",
       "      <td>Independent</td>\n",
       "      <td>1</td>\n",
       "      <td>0</td>\n",
       "    </tr>\n",
       "    <tr>\n",
       "      <th>12</th>\n",
       "      <td>Other</td>\n",
       "      <td>1</td>\n",
       "      <td>0</td>\n",
       "    </tr>\n",
       "  </tbody>\n",
       "</table>\n",
       "</div>"
      ],
      "text/plain": [
       "      CC16_421a  Party_Independent  Party_Republican\n",
       "0    Republican                  0                 1\n",
       "1   Independent                  1                 0\n",
       "4      Democrat                  0                 0\n",
       "5      Democrat                  0                 0\n",
       "6    Republican                  0                 1\n",
       "8    Republican                  0                 1\n",
       "9    Republican                  0                 1\n",
       "10     Democrat                  0                 0\n",
       "11  Independent                  1                 0\n",
       "12        Other                  1                 0"
      ]
     },
     "execution_count": 80,
     "metadata": {},
     "output_type": "execute_result"
    }
   ],
   "source": [
    "df[['CC16_421a', 'Party_Independent', 'Party_Republican']][:10]"
   ]
  },
  {
   "cell_type": "markdown",
   "metadata": {},
   "source": [
    "Dummies for religion:"
   ]
  },
  {
   "cell_type": "code",
   "execution_count": 81,
   "metadata": {
    "collapsed": true
   },
   "outputs": [],
   "source": [
    "df = df.merge(pd.get_dummies(df['religpew'], prefix = 'relig', drop_first = True), left_index = True, right_index = True)"
   ]
  },
  {
   "cell_type": "markdown",
   "metadata": {},
   "source": [
    "Convert sexuality to a binary variable- straight or not straight"
   ]
  },
  {
   "cell_type": "code",
   "execution_count": 82,
   "metadata": {
    "collapsed": true
   },
   "outputs": [],
   "source": [
    "df['straight'] = (df['sexuality'] == 'Heterosexual / straight').astype(int)"
   ]
  },
  {
   "cell_type": "code",
   "execution_count": 83,
   "metadata": {},
   "outputs": [
    {
     "data": {
      "text/plain": [
       "immstat\n",
       "First generation          4811\n",
       "Immigrant Citizen         3121\n",
       "Immigrant non-citizen      849\n",
       "Second generation        11321\n",
       "Third generation         32670\n",
       "dtype: int64"
      ]
     },
     "execution_count": 83,
     "metadata": {},
     "output_type": "execute_result"
    }
   ],
   "source": [
    "df.groupby(['immstat']).size()"
   ]
  },
  {
   "cell_type": "code",
   "execution_count": 84,
   "metadata": {},
   "outputs": [
    {
     "data": {
      "text/html": [
       "<div>\n",
       "<style>\n",
       "    .dataframe thead tr:only-child th {\n",
       "        text-align: right;\n",
       "    }\n",
       "\n",
       "    .dataframe thead th {\n",
       "        text-align: left;\n",
       "    }\n",
       "\n",
       "    .dataframe tbody tr th {\n",
       "        vertical-align: top;\n",
       "    }\n",
       "</style>\n",
       "<table border=\"1\" class=\"dataframe\">\n",
       "  <thead>\n",
       "    <tr style=\"text-align: right;\">\n",
       "      <th></th>\n",
       "      <th>immigrant</th>\n",
       "      <th>immstat</th>\n",
       "    </tr>\n",
       "  </thead>\n",
       "  <tbody>\n",
       "    <tr>\n",
       "      <th>0</th>\n",
       "      <td>0</td>\n",
       "      <td>Third generation</td>\n",
       "    </tr>\n",
       "    <tr>\n",
       "      <th>1</th>\n",
       "      <td>0</td>\n",
       "      <td>Third generation</td>\n",
       "    </tr>\n",
       "    <tr>\n",
       "      <th>4</th>\n",
       "      <td>0</td>\n",
       "      <td>Third generation</td>\n",
       "    </tr>\n",
       "    <tr>\n",
       "      <th>5</th>\n",
       "      <td>0</td>\n",
       "      <td>Third generation</td>\n",
       "    </tr>\n",
       "    <tr>\n",
       "      <th>6</th>\n",
       "      <td>0</td>\n",
       "      <td>Third generation</td>\n",
       "    </tr>\n",
       "    <tr>\n",
       "      <th>8</th>\n",
       "      <td>0</td>\n",
       "      <td>Third generation</td>\n",
       "    </tr>\n",
       "    <tr>\n",
       "      <th>9</th>\n",
       "      <td>0</td>\n",
       "      <td>Third generation</td>\n",
       "    </tr>\n",
       "    <tr>\n",
       "      <th>10</th>\n",
       "      <td>0</td>\n",
       "      <td>Second generation</td>\n",
       "    </tr>\n",
       "    <tr>\n",
       "      <th>11</th>\n",
       "      <td>0</td>\n",
       "      <td>Third generation</td>\n",
       "    </tr>\n",
       "    <tr>\n",
       "      <th>12</th>\n",
       "      <td>0</td>\n",
       "      <td>First generation</td>\n",
       "    </tr>\n",
       "    <tr>\n",
       "      <th>14</th>\n",
       "      <td>0</td>\n",
       "      <td>Third generation</td>\n",
       "    </tr>\n",
       "    <tr>\n",
       "      <th>15</th>\n",
       "      <td>0</td>\n",
       "      <td>Third generation</td>\n",
       "    </tr>\n",
       "    <tr>\n",
       "      <th>16</th>\n",
       "      <td>0</td>\n",
       "      <td>Third generation</td>\n",
       "    </tr>\n",
       "    <tr>\n",
       "      <th>17</th>\n",
       "      <td>0</td>\n",
       "      <td>Third generation</td>\n",
       "    </tr>\n",
       "    <tr>\n",
       "      <th>18</th>\n",
       "      <td>0</td>\n",
       "      <td>Third generation</td>\n",
       "    </tr>\n",
       "    <tr>\n",
       "      <th>19</th>\n",
       "      <td>0</td>\n",
       "      <td>Second generation</td>\n",
       "    </tr>\n",
       "    <tr>\n",
       "      <th>20</th>\n",
       "      <td>1</td>\n",
       "      <td>Immigrant Citizen</td>\n",
       "    </tr>\n",
       "    <tr>\n",
       "      <th>21</th>\n",
       "      <td>0</td>\n",
       "      <td>Second generation</td>\n",
       "    </tr>\n",
       "    <tr>\n",
       "      <th>22</th>\n",
       "      <td>0</td>\n",
       "      <td>Second generation</td>\n",
       "    </tr>\n",
       "    <tr>\n",
       "      <th>23</th>\n",
       "      <td>0</td>\n",
       "      <td>Second generation</td>\n",
       "    </tr>\n",
       "  </tbody>\n",
       "</table>\n",
       "</div>"
      ],
      "text/plain": [
       "    immigrant            immstat\n",
       "0           0   Third generation\n",
       "1           0   Third generation\n",
       "4           0   Third generation\n",
       "5           0   Third generation\n",
       "6           0   Third generation\n",
       "8           0   Third generation\n",
       "9           0   Third generation\n",
       "10          0  Second generation\n",
       "11          0   Third generation\n",
       "12          0   First generation\n",
       "14          0   Third generation\n",
       "15          0   Third generation\n",
       "16          0   Third generation\n",
       "17          0   Third generation\n",
       "18          0   Third generation\n",
       "19          0  Second generation\n",
       "20          1  Immigrant Citizen\n",
       "21          0  Second generation\n",
       "22          0  Second generation\n",
       "23          0  Second generation"
      ]
     },
     "execution_count": 84,
     "metadata": {},
     "output_type": "execute_result"
    }
   ],
   "source": [
    "df['immigrant'] = ((df['immstat'] == 'Immigrant Citizen') | (df['immstat'] == 'Immigrant non-citizen')).astype(int)\n",
    "\n",
    "df[['immigrant', 'immstat']][:20]"
   ]
  },
  {
   "cell_type": "code",
   "execution_count": 85,
   "metadata": {},
   "outputs": [
    {
     "data": {
      "text/plain": [
       "union\n",
       "I am not now, nor have I been, a member of a labor union    38907\n",
       "I formerly was a member of a labor union                    10174\n",
       "Yes, I am currently a member of a labor union                3731\n",
       "dtype: int64"
      ]
     },
     "execution_count": 85,
     "metadata": {},
     "output_type": "execute_result"
    }
   ],
   "source": [
    "df.groupby(['union']).size()"
   ]
  },
  {
   "cell_type": "code",
   "execution_count": 86,
   "metadata": {},
   "outputs": [
    {
     "data": {
      "text/html": [
       "<div>\n",
       "<style>\n",
       "    .dataframe thead tr:only-child th {\n",
       "        text-align: right;\n",
       "    }\n",
       "\n",
       "    .dataframe thead th {\n",
       "        text-align: left;\n",
       "    }\n",
       "\n",
       "    .dataframe tbody tr th {\n",
       "        vertical-align: top;\n",
       "    }\n",
       "</style>\n",
       "<table border=\"1\" class=\"dataframe\">\n",
       "  <thead>\n",
       "    <tr style=\"text-align: right;\">\n",
       "      <th></th>\n",
       "      <th>union_member</th>\n",
       "      <th>union</th>\n",
       "    </tr>\n",
       "  </thead>\n",
       "  <tbody>\n",
       "    <tr>\n",
       "      <th>8</th>\n",
       "      <td>0</td>\n",
       "      <td>I am not now, nor have I been, a member of a l...</td>\n",
       "    </tr>\n",
       "    <tr>\n",
       "      <th>9</th>\n",
       "      <td>0</td>\n",
       "      <td>I am not now, nor have I been, a member of a l...</td>\n",
       "    </tr>\n",
       "    <tr>\n",
       "      <th>10</th>\n",
       "      <td>1</td>\n",
       "      <td>I formerly was a member of a labor union</td>\n",
       "    </tr>\n",
       "    <tr>\n",
       "      <th>11</th>\n",
       "      <td>0</td>\n",
       "      <td>I am not now, nor have I been, a member of a l...</td>\n",
       "    </tr>\n",
       "    <tr>\n",
       "      <th>12</th>\n",
       "      <td>0</td>\n",
       "      <td>I am not now, nor have I been, a member of a l...</td>\n",
       "    </tr>\n",
       "    <tr>\n",
       "      <th>14</th>\n",
       "      <td>0</td>\n",
       "      <td>I am not now, nor have I been, a member of a l...</td>\n",
       "    </tr>\n",
       "    <tr>\n",
       "      <th>15</th>\n",
       "      <td>0</td>\n",
       "      <td>I am not now, nor have I been, a member of a l...</td>\n",
       "    </tr>\n",
       "    <tr>\n",
       "      <th>16</th>\n",
       "      <td>0</td>\n",
       "      <td>I am not now, nor have I been, a member of a l...</td>\n",
       "    </tr>\n",
       "    <tr>\n",
       "      <th>17</th>\n",
       "      <td>0</td>\n",
       "      <td>I am not now, nor have I been, a member of a l...</td>\n",
       "    </tr>\n",
       "    <tr>\n",
       "      <th>18</th>\n",
       "      <td>0</td>\n",
       "      <td>I am not now, nor have I been, a member of a l...</td>\n",
       "    </tr>\n",
       "    <tr>\n",
       "      <th>19</th>\n",
       "      <td>0</td>\n",
       "      <td>I am not now, nor have I been, a member of a l...</td>\n",
       "    </tr>\n",
       "    <tr>\n",
       "      <th>20</th>\n",
       "      <td>0</td>\n",
       "      <td>I am not now, nor have I been, a member of a l...</td>\n",
       "    </tr>\n",
       "    <tr>\n",
       "      <th>21</th>\n",
       "      <td>0</td>\n",
       "      <td>I am not now, nor have I been, a member of a l...</td>\n",
       "    </tr>\n",
       "    <tr>\n",
       "      <th>22</th>\n",
       "      <td>0</td>\n",
       "      <td>I am not now, nor have I been, a member of a l...</td>\n",
       "    </tr>\n",
       "    <tr>\n",
       "      <th>23</th>\n",
       "      <td>0</td>\n",
       "      <td>I am not now, nor have I been, a member of a l...</td>\n",
       "    </tr>\n",
       "    <tr>\n",
       "      <th>25</th>\n",
       "      <td>0</td>\n",
       "      <td>I am not now, nor have I been, a member of a l...</td>\n",
       "    </tr>\n",
       "    <tr>\n",
       "      <th>26</th>\n",
       "      <td>0</td>\n",
       "      <td>I am not now, nor have I been, a member of a l...</td>\n",
       "    </tr>\n",
       "    <tr>\n",
       "      <th>27</th>\n",
       "      <td>0</td>\n",
       "      <td>I am not now, nor have I been, a member of a l...</td>\n",
       "    </tr>\n",
       "    <tr>\n",
       "      <th>28</th>\n",
       "      <td>1</td>\n",
       "      <td>Yes, I am currently a member of a labor union</td>\n",
       "    </tr>\n",
       "    <tr>\n",
       "      <th>29</th>\n",
       "      <td>0</td>\n",
       "      <td>I am not now, nor have I been, a member of a l...</td>\n",
       "    </tr>\n",
       "  </tbody>\n",
       "</table>\n",
       "</div>"
      ],
      "text/plain": [
       "    union_member                                              union\n",
       "8              0  I am not now, nor have I been, a member of a l...\n",
       "9              0  I am not now, nor have I been, a member of a l...\n",
       "10             1           I formerly was a member of a labor union\n",
       "11             0  I am not now, nor have I been, a member of a l...\n",
       "12             0  I am not now, nor have I been, a member of a l...\n",
       "14             0  I am not now, nor have I been, a member of a l...\n",
       "15             0  I am not now, nor have I been, a member of a l...\n",
       "16             0  I am not now, nor have I been, a member of a l...\n",
       "17             0  I am not now, nor have I been, a member of a l...\n",
       "18             0  I am not now, nor have I been, a member of a l...\n",
       "19             0  I am not now, nor have I been, a member of a l...\n",
       "20             0  I am not now, nor have I been, a member of a l...\n",
       "21             0  I am not now, nor have I been, a member of a l...\n",
       "22             0  I am not now, nor have I been, a member of a l...\n",
       "23             0  I am not now, nor have I been, a member of a l...\n",
       "25             0  I am not now, nor have I been, a member of a l...\n",
       "26             0  I am not now, nor have I been, a member of a l...\n",
       "27             0  I am not now, nor have I been, a member of a l...\n",
       "28             1      Yes, I am currently a member of a labor union\n",
       "29             0  I am not now, nor have I been, a member of a l..."
      ]
     },
     "execution_count": 86,
     "metadata": {},
     "output_type": "execute_result"
    }
   ],
   "source": [
    "df['union_member'] = ((df['union'] == 'Yes, I am currently a member of a labor union') \n",
    "                      | (df['union'] == 'I formerly was a member of a labor union')).astype(int)\n",
    "\n",
    "df[['union_member', 'union']][5:25]"
   ]
  },
  {
   "cell_type": "code",
   "execution_count": 87,
   "metadata": {},
   "outputs": [
    {
     "name": "stdout",
     "output_type": "stream",
     "text": [
      "tookpost [1]\n",
      "gender [0 1]\n",
      "educ ['High school graduate' '4-year' 'Some college' 'No HS' '2-year'\n",
      " 'Post-grad']\n",
      "race ['White' 'Mixed' 'Asian' 'Other' 'Hispanic' 'Native American' 'Black'\n",
      " 'Middle Eastern']\n",
      "CC16_331_1 [0 1]\n",
      "CC16_331_2 [1 0]\n",
      "CC16_331_3 [0 1]\n",
      "CC16_331_7 [1 0]\n",
      "employ ['Homemaker' 'Part-time' 'Permanently disabled' 'Full-time'\n",
      " 'Temporarily laid off' 'Retired' 'Unemployed' 'Other' 'Student']\n",
      "milstat_1 [0 1]\n",
      "milstat_2 [0 1]\n",
      "milstat_3 [0 1]\n",
      "milstat_4 [1 0]\n",
      "CC16_351K [  1.   0.  nan]\n",
      "faminc [  54999.   64999.    5000.   24999.   34999.  109999.   44999.   14999.\n",
      "   74999.   89999.  134999.  500000.  150000.  174999.  424999.  224999.\n",
      "  299999.]\n",
      "CC16_334a [  1.   0.  nan]\n",
      "CC16_334b [  1.   0.  nan]\n",
      "pew_religimp ['Somewhat important' nan 'Not at all important' 'Very important'\n",
      " 'Not too important']\n",
      "ideo5 ['Moderate or Not sure' 'Liberal' 'Very conservative' 'Conservative'\n",
      " 'Very liberal' nan]\n",
      "CC16_334d [  1.   0.  nan]\n",
      "pew_bornagain [  0.  nan   1.]\n",
      "CC16_334c [  0.   1.  nan]\n",
      "CC16_333d [  0.   1.  nan]\n",
      "marstat ['Married' 'Single' 'Widowed' 'Separated' 'Divorced' 'Domestic partnership'\n",
      " nan]\n",
      "CC16_333b [  0.   1.  nan]\n",
      "CC16_333a [  0.   1.  nan]\n",
      "CC16_332a [  1.   0.  nan]\n",
      "CC16_332d [  0.   1.  nan]\n",
      "CC16_332e [  0.   1.  nan]\n",
      "CC16_333c [  0.   1.  nan]\n",
      "religpew ['Nothing in particular' nan 'Agnostic' 'Protestant' 'Roman Catholic'\n",
      " 'Atheist' 'Mormon' 'Something else' 'Jewish' 'Eastern or Greek Orthodox'\n",
      " 'Buddhist' 'Muslim' 'Hindu']\n",
      "ownhome ['Own' 'Rent' 'Other' nan]\n",
      "CC16_332c [  1.   0.  nan]\n",
      "CC16_332f [  0.   1.  nan]\n",
      "CC16_351I [  1.   0.  nan]\n",
      "CC16_332b [  0.   1.  nan]\n",
      "child18 [  0.   1.  nan]\n",
      "CC16_351B [  1.   0.  nan]\n",
      "CC16_351E [  1.   0.  nan]\n",
      "union ['I am not now, nor have I been, a member of a labor union'\n",
      " 'I formerly was a member of a labor union'\n",
      " 'Yes, I am currently a member of a labor union' nan]\n",
      "CC16_327 [  0.   1.  nan]\n",
      "immstat ['Third generation' 'Second generation' 'First generation'\n",
      " 'Immigrant Citizen' 'Immigrant non-citizen' nan]\n",
      "CC16_351G [  1.   0.  nan]\n",
      "CC16_351F [  0.   1.  nan]\n",
      "CC16_330a [  1.   0.  nan]\n",
      "CC16_351H [  0.   1.  nan]\n",
      "CC16_330e [  0.   1.  nan]\n",
      "CC16_330b [  0.   1.  nan]\n",
      "unionhh ['No, no one in my household has ever been a member of a labor union'\n",
      " 'A member of my household was formerly a member of a labor union, but is not now'\n",
      " 'Yes, a member of my household is currently a union member' nan]\n",
      "CC16_330d [  0.   1.  nan]\n",
      "CC16_335 [  1.   0.  nan]\n",
      "hispanic [  0.   1.  nan]\n",
      "sexuality ['Heterosexual / straight' 'Bisexual' 'Gay man' 'Lesbian / gay woman'\n",
      " 'Other']\n",
      "investor [  0.   1.  nan]\n",
      "trans [0 1]\n",
      "inputstate_post ['New Hampshire' 'Louisiana' 'Colorado' 'Alabama' 'Texas' 'Georgia'\n",
      " 'Pennsylvania' 'Hawaii' 'Florida' 'Kansas' 'New Jersey' 'New York'\n",
      " 'California' 'Massachusetts' 'Maine' 'Maryland' 'North Carolina'\n",
      " 'Michigan' 'Oregon' 'Montana' 'Arizona' 'Washington' 'Virginia'\n",
      " 'South Carolina' 'Arkansas' 'Connecticut' 'Nevada' 'Illinois' 'Tennessee'\n",
      " 'West Virginia' 'Oklahoma' 'Indiana' 'Wisconsin' 'Missouri' 'Ohio' 'Utah'\n",
      " 'Wyoming' 'District of Columbia' 'Idaho' 'Minnesota' 'Nebraska' 'Alaska'\n",
      " 'Kentucky' 'Rhode Island' 'Iowa' 'New Mexico' 'South Dakota'\n",
      " 'North Dakota' 'Vermont' 'Mississippi' 'Delaware']\n",
      "votereg_post [  1.   0.  nan]\n",
      "CC16_414_1 [0 1]\n",
      "CC16_414_2 [1 0]\n",
      "CC16_414_3 [1 0]\n",
      "CC16_414_4 [0 1]\n",
      "CC16_414_5 [1 0]\n",
      "CC16_414_6 [1 0]\n",
      "CC16_417a_1 [0 1]\n",
      "CC16_417a_2 [0 1]\n",
      "CC16_417a_3 [0 1]\n",
      "CC16_417a_4 [0 1]\n",
      "CC16_417a_5 [0 1]\n",
      "CC16_421a ['Republican' 'Independent' 'Democrat' 'Other' nan]\n",
      "CC16_422d ['Neutral' 'Disagree' 'Agree' nan]\n",
      "CC16_422c ['Agree' 'Neutral' 'Disagree' nan]\n",
      "edloan [  0.   1.  nan]\n",
      "CC16_422f ['Neutral' 'Disagree' 'Agree' nan]\n",
      "CC16_422e ['Disagree' 'Neutral' 'Agree' nan]\n",
      "CC16_426_1 ['Decrease' 'Maintain' 'Increase' nan]\n",
      "CC16_426_2 ['Increase' 'Maintain' 'Decrease' nan]\n",
      "CC16_426_3 ['Decrease' 'Increase' 'Maintain' nan]\n",
      "CC16_426_5 ['Decrease' 'Increase' 'Maintain' nan]\n",
      "CC16_418a [  0.   1.  nan]\n",
      "CC16_426_4 ['Maintain' 'Increase' 'Decrease' nan]\n",
      "voted [1 0]\n",
      "age [49 24 36 55 56 61 72 33 42 30 39 57 60 73 28 47 78 62 37 58 40 59 51 64 34\n",
      " 66 54 27 53 76 69 79 84 74 43 41 52 70 48 26 65 38 44 63 35 32 81 82 67 71\n",
      " 31 21 68 77 80 87 29 50 45 22 23 25 83 75 86 91 85 46 95 93 88 89 90 94 20\n",
      " 97 92 96]\n",
      "CC16_422d_Disagree [0 1]\n",
      "CC16_422d_Neutral [1 0]\n",
      "CC16_422c_Disagree [0 1]\n",
      "CC16_422c_Neutral [0 1]\n",
      "CC16_422f_Disagree [0 1]\n",
      "CC16_422f_Neutral [1 0]\n",
      "CC16_422e_Disagree [1 0]\n",
      "CC16_422e_Neutral [0 1]\n",
      "CC16_426_1_Increase [0 1]\n",
      "CC16_426_1_Maintain [0 1]\n",
      "CC16_426_2_Increase [1 0]\n",
      "CC16_426_2_Maintain [0 1]\n",
      "CC16_426_3_Increase [0 1]\n",
      "CC16_426_3_Maintain [0 1]\n",
      "CC16_426_5_Increase [0 1]\n",
      "CC16_426_5_Maintain [0 1]\n",
      "CC16_426_4_Increase [0 1]\n",
      "CC16_426_4_Maintain [1 0]\n",
      "presvote ['Donald Trump (Republican)' 'Hillary Clinton (Democrat)'\n",
      " \"I didn't vote in this election\" 'Other' 'Jill Stein (Green)'\n",
      " 'Gary Johnson (Libertarian)' 'Evan McMullin (Independent)' nan]\n",
      "veteran [0 1]\n",
      "family_vet [1 0]\n",
      "race_Black [0 1]\n",
      "race_Middle Eastern [0 1]\n",
      "race_Mixed [0 1]\n",
      "race_Native American [0 1]\n",
      "race_Other [0 1]\n",
      "race_White [1 0]\n",
      "college [0 1]\n",
      "PartyID ['Republican' 'Independent' 'Democrat' nan]\n",
      "Party_Independent [0 1]\n",
      "Party_Republican [1 0]\n",
      "relig_Atheist [0 1]\n",
      "relig_Buddhist [0 1]\n",
      "relig_Eastern or Greek Orthodox [0 1]\n",
      "relig_Hindu [0 1]\n",
      "relig_Jewish [0 1]\n",
      "relig_Mormon [0 1]\n",
      "relig_Muslim [0 1]\n",
      "relig_Nothing in particular [1 0]\n",
      "relig_Protestant [0 1]\n",
      "relig_Roman Catholic [0 1]\n",
      "relig_Something else [0 1]\n",
      "straight [1 0]\n",
      "immigrant [0 1]\n",
      "union_member [0 1]\n"
     ]
    }
   ],
   "source": [
    "for col in df.columns:\n",
    "    print (col, df[col].unique())"
   ]
  },
  {
   "cell_type": "code",
   "execution_count": 88,
   "metadata": {
    "collapsed": true
   },
   "outputs": [],
   "source": [
    "df['presvote'] = df['presvote'].replace({'Donald Trump (Republican)': 'Trump', 'Hillary Clinton (Democrat)': 'Clinton', \n",
    "                 \"I didn't vote in this election\": 'None', 'Gary Johnson (Libertarian)': 'Johnson',\n",
    "                'Evan McMullin (Independent)': 'McMullin', 'Jill Stein (Green)': 'Stein', })"
   ]
  },
  {
   "cell_type": "code",
   "execution_count": 89,
   "metadata": {
    "collapsed": true
   },
   "outputs": [],
   "source": [
    "df = df.merge(pd.get_dummies(df['presvote'], prefix = 'pres', drop_first = True), left_index = True, right_index = True)"
   ]
  },
  {
   "cell_type": "code",
   "execution_count": 90,
   "metadata": {},
   "outputs": [
    {
     "name": "stdout",
     "output_type": "stream",
     "text": [
      "tookpost\n",
      "gender\n",
      "educ\n",
      "race\n",
      "CC16_331_1\n",
      "CC16_331_2\n",
      "CC16_331_3\n",
      "CC16_331_7\n",
      "employ\n",
      "milstat_1\n",
      "milstat_2\n",
      "milstat_3\n",
      "milstat_4\n",
      "CC16_351K\n",
      "faminc\n",
      "CC16_334a\n",
      "CC16_334b\n",
      "pew_religimp\n",
      "ideo5\n",
      "CC16_334d\n",
      "pew_bornagain\n",
      "CC16_334c\n",
      "CC16_333d\n",
      "marstat\n",
      "CC16_333b\n",
      "CC16_333a\n",
      "CC16_332a\n",
      "CC16_332d\n",
      "CC16_332e\n",
      "CC16_333c\n",
      "religpew\n",
      "ownhome\n",
      "CC16_332c\n",
      "CC16_332f\n",
      "CC16_351I\n",
      "CC16_332b\n",
      "child18\n",
      "CC16_351B\n",
      "CC16_351E\n",
      "union\n",
      "CC16_327\n",
      "immstat\n",
      "CC16_351G\n",
      "CC16_351F\n",
      "CC16_330a\n",
      "CC16_351H\n",
      "CC16_330e\n",
      "CC16_330b\n",
      "unionhh\n",
      "CC16_330d\n",
      "CC16_335\n",
      "hispanic\n",
      "sexuality\n",
      "investor\n",
      "trans\n",
      "inputstate_post\n",
      "votereg_post\n",
      "CC16_414_1\n",
      "CC16_414_2\n",
      "CC16_414_3\n",
      "CC16_414_4\n",
      "CC16_414_5\n",
      "CC16_414_6\n",
      "CC16_417a_1\n",
      "CC16_417a_2\n",
      "CC16_417a_3\n",
      "CC16_417a_4\n",
      "CC16_417a_5\n",
      "CC16_421a\n",
      "CC16_422d\n",
      "CC16_422c\n",
      "edloan\n",
      "CC16_422f\n",
      "CC16_422e\n",
      "CC16_426_1\n",
      "CC16_426_2\n",
      "CC16_426_3\n",
      "CC16_426_5\n",
      "CC16_418a\n",
      "CC16_426_4\n",
      "voted\n",
      "age\n",
      "CC16_422d_Disagree\n",
      "CC16_422d_Neutral\n",
      "CC16_422c_Disagree\n",
      "CC16_422c_Neutral\n",
      "CC16_422f_Disagree\n",
      "CC16_422f_Neutral\n",
      "CC16_422e_Disagree\n",
      "CC16_422e_Neutral\n",
      "CC16_426_1_Increase\n",
      "CC16_426_1_Maintain\n",
      "CC16_426_2_Increase\n",
      "CC16_426_2_Maintain\n",
      "CC16_426_3_Increase\n",
      "CC16_426_3_Maintain\n",
      "CC16_426_5_Increase\n",
      "CC16_426_5_Maintain\n",
      "CC16_426_4_Increase\n",
      "CC16_426_4_Maintain\n",
      "presvote\n",
      "veteran\n",
      "family_vet\n",
      "race_Black\n",
      "race_Middle Eastern\n",
      "race_Mixed\n",
      "race_Native American\n",
      "race_Other\n",
      "race_White\n",
      "college\n",
      "PartyID\n",
      "Party_Independent\n",
      "Party_Republican\n",
      "relig_Atheist\n",
      "relig_Buddhist\n",
      "relig_Eastern or Greek Orthodox\n",
      "relig_Hindu\n",
      "relig_Jewish\n",
      "relig_Mormon\n",
      "relig_Muslim\n",
      "relig_Nothing in particular\n",
      "relig_Protestant\n",
      "relig_Roman Catholic\n",
      "relig_Something else\n",
      "straight\n",
      "immigrant\n",
      "union_member\n",
      "pres_Johnson\n",
      "pres_McMullin\n",
      "pres_None\n",
      "pres_Other\n",
      "pres_Stein\n",
      "pres_Trump\n"
     ]
    }
   ],
   "source": [
    "for col in df.columns:\n",
    "    print(col)"
   ]
  },
  {
   "cell_type": "code",
   "execution_count": 91,
   "metadata": {},
   "outputs": [
    {
     "data": {
      "text/plain": [
       "employ\n",
       "Full-time               22367\n",
       "Homemaker                4012\n",
       "Other                     999\n",
       "Part-time                5407\n",
       "Permanently disabled     3323\n",
       "Retired                 12236\n",
       "Student                  1689\n",
       "Temporarily laid off      304\n",
       "Unemployed               2562\n",
       "dtype: int64"
      ]
     },
     "execution_count": 91,
     "metadata": {},
     "output_type": "execute_result"
    }
   ],
   "source": [
    "df.groupby(['employ']).size()"
   ]
  },
  {
   "cell_type": "code",
   "execution_count": 92,
   "metadata": {
    "collapsed": true
   },
   "outputs": [],
   "source": [
    "df = df.merge(pd.get_dummies(df['employ'], prefix = 'employ', drop_first = True), left_index = True, right_index = True)"
   ]
  },
  {
   "cell_type": "code",
   "execution_count": 93,
   "metadata": {},
   "outputs": [
    {
     "data": {
      "text/plain": [
       "marstat\n",
       "Divorced                 5958\n",
       "Domestic partnership     2211\n",
       "Married                 29708\n",
       "Separated                 787\n",
       "Single                  11482\n",
       "Widowed                  2714\n",
       "dtype: int64"
      ]
     },
     "execution_count": 93,
     "metadata": {},
     "output_type": "execute_result"
    }
   ],
   "source": [
    "df.groupby(['marstat']).size()"
   ]
  },
  {
   "cell_type": "code",
   "execution_count": 94,
   "metadata": {
    "collapsed": true
   },
   "outputs": [],
   "source": [
    "df = df.merge(pd.get_dummies(df['marstat'], prefix = 'mar', drop_first = True), left_index = True, right_index = True)"
   ]
  },
  {
   "cell_type": "code",
   "execution_count": 95,
   "metadata": {},
   "outputs": [
    {
     "data": {
      "text/plain": [
       "pew_religimp\n",
       "Not at all important    11199\n",
       "Not too important        8216\n",
       "Somewhat important      13956\n",
       "Very important          19504\n",
       "dtype: int64"
      ]
     },
     "execution_count": 95,
     "metadata": {},
     "output_type": "execute_result"
    }
   ],
   "source": [
    "df.groupby(['pew_religimp']).size()"
   ]
  },
  {
   "cell_type": "code",
   "execution_count": 96,
   "metadata": {
    "collapsed": true
   },
   "outputs": [],
   "source": [
    "df = df.merge(pd.get_dummies(df['pew_religimp'], prefix = 'religimp', drop_first = True), left_index = True, right_index = True)"
   ]
  },
  {
   "cell_type": "code",
   "execution_count": 97,
   "metadata": {},
   "outputs": [
    {
     "data": {
      "text/plain": [
       "149"
      ]
     },
     "execution_count": 97,
     "metadata": {},
     "output_type": "execute_result"
    }
   ],
   "source": [
    "len(df.columns)"
   ]
  },
  {
   "cell_type": "code",
   "execution_count": 98,
   "metadata": {},
   "outputs": [
    {
     "name": "stdout",
     "output_type": "stream",
     "text": [
      "tookpost [1]\n",
      "gender [0 1]\n",
      "educ ['High school graduate' '4-year' 'Some college' 'No HS' '2-year'\n",
      " 'Post-grad']\n",
      "race ['White' 'Mixed' 'Asian' 'Other' 'Hispanic' 'Native American' 'Black'\n",
      " 'Middle Eastern']\n",
      "CC16_331_1 [0 1]\n",
      "CC16_331_2 [1 0]\n",
      "CC16_331_3 [0 1]\n",
      "CC16_331_7 [1 0]\n",
      "employ ['Homemaker' 'Part-time' 'Permanently disabled' 'Full-time'\n",
      " 'Temporarily laid off' 'Retired' 'Unemployed' 'Other' 'Student']\n",
      "milstat_1 [0 1]\n",
      "milstat_2 [0 1]\n",
      "milstat_3 [0 1]\n",
      "milstat_4 [1 0]\n",
      "CC16_351K [  1.   0.  nan]\n",
      "faminc [  54999.   64999.    5000.   24999.   34999.  109999.   44999.   14999.\n",
      "   74999.   89999.  134999.  500000.  150000.  174999.  424999.  224999.\n",
      "  299999.]\n",
      "CC16_334a [  1.   0.  nan]\n",
      "CC16_334b [  1.   0.  nan]\n",
      "pew_religimp ['Somewhat important' nan 'Not at all important' 'Very important'\n",
      " 'Not too important']\n",
      "ideo5 ['Moderate or Not sure' 'Liberal' 'Very conservative' 'Conservative'\n",
      " 'Very liberal' nan]\n",
      "CC16_334d [  1.   0.  nan]\n",
      "pew_bornagain [  0.  nan   1.]\n",
      "CC16_334c [  0.   1.  nan]\n",
      "CC16_333d [  0.   1.  nan]\n",
      "marstat ['Married' 'Single' 'Widowed' 'Separated' 'Divorced' 'Domestic partnership'\n",
      " nan]\n",
      "CC16_333b [  0.   1.  nan]\n",
      "CC16_333a [  0.   1.  nan]\n",
      "CC16_332a [  1.   0.  nan]\n",
      "CC16_332d [  0.   1.  nan]\n",
      "CC16_332e [  0.   1.  nan]\n",
      "CC16_333c [  0.   1.  nan]\n",
      "religpew ['Nothing in particular' nan 'Agnostic' 'Protestant' 'Roman Catholic'\n",
      " 'Atheist' 'Mormon' 'Something else' 'Jewish' 'Eastern or Greek Orthodox'\n",
      " 'Buddhist' 'Muslim' 'Hindu']\n",
      "ownhome ['Own' 'Rent' 'Other' nan]\n",
      "CC16_332c [  1.   0.  nan]\n",
      "CC16_332f [  0.   1.  nan]\n",
      "CC16_351I [  1.   0.  nan]\n",
      "CC16_332b [  0.   1.  nan]\n",
      "child18 [  0.   1.  nan]\n",
      "CC16_351B [  1.   0.  nan]\n",
      "CC16_351E [  1.   0.  nan]\n",
      "union ['I am not now, nor have I been, a member of a labor union'\n",
      " 'I formerly was a member of a labor union'\n",
      " 'Yes, I am currently a member of a labor union' nan]\n",
      "CC16_327 [  0.   1.  nan]\n",
      "immstat ['Third generation' 'Second generation' 'First generation'\n",
      " 'Immigrant Citizen' 'Immigrant non-citizen' nan]\n",
      "CC16_351G [  1.   0.  nan]\n",
      "CC16_351F [  0.   1.  nan]\n",
      "CC16_330a [  1.   0.  nan]\n",
      "CC16_351H [  0.   1.  nan]\n",
      "CC16_330e [  0.   1.  nan]\n",
      "CC16_330b [  0.   1.  nan]\n",
      "unionhh ['No, no one in my household has ever been a member of a labor union'\n",
      " 'A member of my household was formerly a member of a labor union, but is not now'\n",
      " 'Yes, a member of my household is currently a union member' nan]\n",
      "CC16_330d [  0.   1.  nan]\n",
      "CC16_335 [  1.   0.  nan]\n",
      "hispanic [  0.   1.  nan]\n",
      "sexuality ['Heterosexual / straight' 'Bisexual' 'Gay man' 'Lesbian / gay woman'\n",
      " 'Other']\n",
      "investor [  0.   1.  nan]\n",
      "trans [0 1]\n",
      "inputstate_post ['New Hampshire' 'Louisiana' 'Colorado' 'Alabama' 'Texas' 'Georgia'\n",
      " 'Pennsylvania' 'Hawaii' 'Florida' 'Kansas' 'New Jersey' 'New York'\n",
      " 'California' 'Massachusetts' 'Maine' 'Maryland' 'North Carolina'\n",
      " 'Michigan' 'Oregon' 'Montana' 'Arizona' 'Washington' 'Virginia'\n",
      " 'South Carolina' 'Arkansas' 'Connecticut' 'Nevada' 'Illinois' 'Tennessee'\n",
      " 'West Virginia' 'Oklahoma' 'Indiana' 'Wisconsin' 'Missouri' 'Ohio' 'Utah'\n",
      " 'Wyoming' 'District of Columbia' 'Idaho' 'Minnesota' 'Nebraska' 'Alaska'\n",
      " 'Kentucky' 'Rhode Island' 'Iowa' 'New Mexico' 'South Dakota'\n",
      " 'North Dakota' 'Vermont' 'Mississippi' 'Delaware']\n",
      "votereg_post [  1.   0.  nan]\n",
      "CC16_414_1 [0 1]\n",
      "CC16_414_2 [1 0]\n",
      "CC16_414_3 [1 0]\n",
      "CC16_414_4 [0 1]\n",
      "CC16_414_5 [1 0]\n",
      "CC16_414_6 [1 0]\n",
      "CC16_417a_1 [0 1]\n",
      "CC16_417a_2 [0 1]\n",
      "CC16_417a_3 [0 1]\n",
      "CC16_417a_4 [0 1]\n",
      "CC16_417a_5 [0 1]\n",
      "CC16_421a ['Republican' 'Independent' 'Democrat' 'Other' nan]\n",
      "CC16_422d ['Neutral' 'Disagree' 'Agree' nan]\n",
      "CC16_422c ['Agree' 'Neutral' 'Disagree' nan]\n",
      "edloan [  0.   1.  nan]\n",
      "CC16_422f ['Neutral' 'Disagree' 'Agree' nan]\n",
      "CC16_422e ['Disagree' 'Neutral' 'Agree' nan]\n",
      "CC16_426_1 ['Decrease' 'Maintain' 'Increase' nan]\n",
      "CC16_426_2 ['Increase' 'Maintain' 'Decrease' nan]\n",
      "CC16_426_3 ['Decrease' 'Increase' 'Maintain' nan]\n",
      "CC16_426_5 ['Decrease' 'Increase' 'Maintain' nan]\n",
      "CC16_418a [  0.   1.  nan]\n",
      "CC16_426_4 ['Maintain' 'Increase' 'Decrease' nan]\n",
      "voted [1 0]\n",
      "age [49 24 36 55 56 61 72 33 42 30 39 57 60 73 28 47 78 62 37 58 40 59 51 64 34\n",
      " 66 54 27 53 76 69 79 84 74 43 41 52 70 48 26 65 38 44 63 35 32 81 82 67 71\n",
      " 31 21 68 77 80 87 29 50 45 22 23 25 83 75 86 91 85 46 95 93 88 89 90 94 20\n",
      " 97 92 96]\n",
      "CC16_422d_Disagree [0 1]\n",
      "CC16_422d_Neutral [1 0]\n",
      "CC16_422c_Disagree [0 1]\n",
      "CC16_422c_Neutral [0 1]\n",
      "CC16_422f_Disagree [0 1]\n",
      "CC16_422f_Neutral [1 0]\n",
      "CC16_422e_Disagree [1 0]\n",
      "CC16_422e_Neutral [0 1]\n",
      "CC16_426_1_Increase [0 1]\n",
      "CC16_426_1_Maintain [0 1]\n",
      "CC16_426_2_Increase [1 0]\n",
      "CC16_426_2_Maintain [0 1]\n",
      "CC16_426_3_Increase [0 1]\n",
      "CC16_426_3_Maintain [0 1]\n",
      "CC16_426_5_Increase [0 1]\n",
      "CC16_426_5_Maintain [0 1]\n",
      "CC16_426_4_Increase [0 1]\n",
      "CC16_426_4_Maintain [1 0]\n",
      "presvote ['Trump' 'Clinton' 'None' 'Other' 'Stein' 'Johnson' 'McMullin' nan]\n",
      "veteran [0 1]\n",
      "family_vet [1 0]\n",
      "race_Black [0 1]\n",
      "race_Middle Eastern [0 1]\n",
      "race_Mixed [0 1]\n",
      "race_Native American [0 1]\n",
      "race_Other [0 1]\n",
      "race_White [1 0]\n",
      "college [0 1]\n",
      "PartyID ['Republican' 'Independent' 'Democrat' nan]\n",
      "Party_Independent [0 1]\n",
      "Party_Republican [1 0]\n",
      "relig_Atheist [0 1]\n",
      "relig_Buddhist [0 1]\n",
      "relig_Eastern or Greek Orthodox [0 1]\n",
      "relig_Hindu [0 1]\n",
      "relig_Jewish [0 1]\n",
      "relig_Mormon [0 1]\n",
      "relig_Muslim [0 1]\n",
      "relig_Nothing in particular [1 0]\n",
      "relig_Protestant [0 1]\n",
      "relig_Roman Catholic [0 1]\n",
      "relig_Something else [0 1]\n",
      "straight [1 0]\n",
      "immigrant [0 1]\n",
      "union_member [0 1]\n",
      "pres_Johnson [0 1]\n",
      "pres_McMullin [0 1]\n",
      "pres_None [0 1]\n",
      "pres_Other [0 1]\n",
      "pres_Stein [0 1]\n",
      "pres_Trump [1 0]\n",
      "employ_Homemaker [1 0]\n",
      "employ_Other [0 1]\n",
      "employ_Part-time [0 1]\n",
      "employ_Permanently disabled [0 1]\n",
      "employ_Retired [0 1]\n",
      "employ_Student [0 1]\n",
      "employ_Temporarily laid off [0 1]\n",
      "employ_Unemployed [0 1]\n",
      "mar_Domestic partnership [0 1]\n",
      "mar_Married [1 0]\n",
      "mar_Separated [0 1]\n",
      "mar_Single [0 1]\n",
      "mar_Widowed [0 1]\n",
      "religimp_Not too important [0 1]\n",
      "religimp_Somewhat important [1 0]\n",
      "religimp_Very important [0 1]\n"
     ]
    }
   ],
   "source": [
    "for col in df.columns:\n",
    "    print (col, df[col].unique())"
   ]
  },
  {
   "cell_type": "code",
   "execution_count": 99,
   "metadata": {},
   "outputs": [
    {
     "data": {
      "text/plain": [
       "48130"
      ]
     },
     "execution_count": 99,
     "metadata": {},
     "output_type": "execute_result"
    }
   ],
   "source": [
    "df = df.dropna(axis = 0, how = 'any')\n",
    "\n",
    "df.to_csv('EDA.csv')\n",
    "len(df.index)"
   ]
  },
  {
   "cell_type": "markdown",
   "metadata": {},
   "source": [
    "**Dropping columns**\n",
    "\n",
    "For machine learning, the text variables need to be removed."
   ]
  },
  {
   "cell_type": "code",
   "execution_count": 100,
   "metadata": {},
   "outputs": [
    {
     "name": "stdout",
     "output_type": "stream",
     "text": [
      "educ ['High school graduate' '4-year' 'Some college' 'No HS' '2-year'\n",
      " 'Post-grad']\n",
      "race ['White' 'Mixed' 'Other' 'Hispanic' 'Native American' 'Black' 'Asian'\n",
      " 'Middle Eastern']\n",
      "employ ['Homemaker' 'Part-time' 'Permanently disabled' 'Full-time'\n",
      " 'Temporarily laid off' 'Unemployed' 'Retired' 'Other' 'Student']\n",
      "pew_religimp ['Somewhat important' 'Not at all important' 'Very important'\n",
      " 'Not too important']\n",
      "ideo5 ['Moderate or Not sure' 'Liberal' 'Very conservative' 'Conservative'\n",
      " 'Very liberal']\n",
      "marstat ['Married' 'Widowed' 'Separated' 'Single' 'Divorced' 'Domestic partnership']\n",
      "religpew ['Nothing in particular' 'Agnostic' 'Protestant' 'Roman Catholic' 'Atheist'\n",
      " 'Something else' 'Eastern or Greek Orthodox' 'Jewish' 'Buddhist' 'Mormon'\n",
      " 'Muslim' 'Hindu']\n",
      "ownhome ['Own' 'Rent' 'Other']\n",
      "union ['I am not now, nor have I been, a member of a labor union'\n",
      " 'Yes, I am currently a member of a labor union'\n",
      " 'I formerly was a member of a labor union']\n",
      "immstat ['Third generation' 'First generation' 'Second generation'\n",
      " 'Immigrant Citizen' 'Immigrant non-citizen']\n",
      "unionhh ['No, no one in my household has ever been a member of a labor union'\n",
      " 'A member of my household was formerly a member of a labor union, but is not now'\n",
      " 'Yes, a member of my household is currently a union member']\n",
      "sexuality ['Heterosexual / straight' 'Bisexual' 'Gay man' 'Lesbian / gay woman'\n",
      " 'Other']\n",
      "inputstate_post ['New Hampshire' 'Colorado' 'Alabama' 'Texas' 'Georgia' 'Pennsylvania'\n",
      " 'Florida' 'Kansas' 'New Jersey' 'New York' 'California' 'Massachusetts'\n",
      " 'Maine' 'Maryland' 'Michigan' 'Montana' 'Arizona' 'Washington' 'Virginia'\n",
      " 'South Carolina' 'Arkansas' 'Connecticut' 'Nevada' 'Illinois'\n",
      " 'West Virginia' 'Oklahoma' 'Indiana' 'North Carolina' 'Wisconsin'\n",
      " 'Missouri' 'Ohio' 'Utah' 'Wyoming' 'District of Columbia' 'Oregon' 'Idaho'\n",
      " 'Minnesota' 'Tennessee' 'Alaska' 'Rhode Island' 'Nebraska' 'Iowa'\n",
      " 'Kentucky' 'New Mexico' 'South Dakota' 'North Dakota' 'Louisiana'\n",
      " 'Vermont' 'Hawaii' 'Mississippi' 'Delaware']\n",
      "CC16_421a ['Republican' 'Democrat' 'Independent' 'Other']\n",
      "CC16_422d ['Neutral' 'Agree' 'Disagree']\n",
      "CC16_422c ['Agree' 'Neutral' 'Disagree']\n",
      "CC16_422f ['Neutral' 'Disagree' 'Agree']\n",
      "CC16_422e ['Disagree' 'Neutral' 'Agree']\n",
      "CC16_426_1 ['Decrease' 'Maintain' 'Increase']\n",
      "CC16_426_2 ['Increase' 'Maintain' 'Decrease']\n",
      "CC16_426_3 ['Decrease' 'Increase' 'Maintain']\n",
      "CC16_426_5 ['Decrease' 'Increase' 'Maintain']\n",
      "CC16_426_4 ['Maintain' 'Increase' 'Decrease']\n",
      "presvote ['Trump' 'Clinton' 'None' 'Other' 'Stein' 'Johnson' 'McMullin']\n",
      "PartyID ['Republican' 'Democrat' 'Independent']\n"
     ]
    }
   ],
   "source": [
    "todrop = []\n",
    "for col in df.columns:\n",
    "    has_string = False\n",
    "    for value in df[col].unique():\n",
    "        if isinstance(value, str):\n",
    "            has_string = True\n",
    "    if has_string:\n",
    "        todrop.append(col)\n",
    "        \n",
    "for col in todrop:\n",
    "    print (col, df[col].unique())\n",
    "#todrop = ['tookpost', 'educ', 'race', 'employ', 'pew_religimp', 'ideo5', 'marstat', 'religpew', 'ownhome', 'union', 'immstat',\n",
    "#         '']"
   ]
  },
  {
   "cell_type": "code",
   "execution_count": 101,
   "metadata": {
    "collapsed": true
   },
   "outputs": [],
   "source": [
    "extra_clean = df.drop(todrop, axis = 1)"
   ]
  },
  {
   "cell_type": "code",
   "execution_count": 102,
   "metadata": {},
   "outputs": [
    {
     "data": {
      "text/plain": [
       "124"
      ]
     },
     "execution_count": 102,
     "metadata": {},
     "output_type": "execute_result"
    }
   ],
   "source": [
    "len(extra_clean.columns)"
   ]
  },
  {
   "cell_type": "code",
   "execution_count": 103,
   "metadata": {
    "collapsed": true
   },
   "outputs": [],
   "source": [
    "extra_clean.to_csv('cleaned.csv')"
   ]
  }
 ],
 "metadata": {
  "kernelspec": {
   "display_name": "Python 3",
   "language": "python",
   "name": "python3"
  },
  "language_info": {
   "codemirror_mode": {
    "name": "ipython",
    "version": 3
   },
   "file_extension": ".py",
   "mimetype": "text/x-python",
   "name": "python",
   "nbconvert_exporter": "python",
   "pygments_lexer": "ipython3",
   "version": "3.6.3"
  }
 },
 "nbformat": 4,
 "nbformat_minor": 2
}
