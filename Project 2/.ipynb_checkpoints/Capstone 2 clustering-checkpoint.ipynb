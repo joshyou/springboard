{
 "cells": [
  {
   "cell_type": "code",
   "execution_count": 1,
   "metadata": {
    "collapsed": true
   },
   "outputs": [],
   "source": [
    "import pandas as pd \n",
    "import numpy as np\n",
    "import matplotlib.pyplot as plt"
   ]
  },
  {
   "cell_type": "code",
   "execution_count": 2,
   "metadata": {
    "collapsed": true
   },
   "outputs": [],
   "source": [
    "df = pd.read_csv('cleaned.csv')"
   ]
  },
  {
   "cell_type": "code",
   "execution_count": 3,
   "metadata": {},
   "outputs": [
    {
     "name": "stdout",
     "output_type": "stream",
     "text": [
      "Unnamed: 0\n",
      "tookpost\n",
      "gender\n",
      "legalstatus\n",
      "borderpatrol\n",
      "legalstatusHS\n",
      "deport\n",
      "milstat_1\n",
      "milstat_2\n",
      "milstat_3\n",
      "milstat_4\n",
      "minwage12\n",
      "faminc\n",
      "mandatorymin\n",
      "bodycamera\n",
      "threestrikes\n",
      "pew_bornagain\n",
      "increasepolice\n",
      "cleanair\n",
      "fuelefficiency\n",
      "EPACO2\n",
      "abortionchoice\n",
      "abortioncoverage\n",
      "federalabortion\n",
      "renewables\n",
      "abortion20wks\n",
      "repealACA\n",
      "banmostabortion\n",
      "child18\n",
      "TPP\n",
      "NCLB\n",
      "primary\n",
      "Iransanctions\n",
      "infraspending\n",
      "backgroundcheck\n",
      "medicarereform\n",
      "concealedcarry\n",
      "gunregistry\n",
      "banassault\n",
      "gaymarriage\n",
      "hispanic\n",
      "investor\n",
      "trans\n",
      "votereg_post\n",
      "militaryoil\n",
      "militaryterror\n",
      "militarycivilwar\n",
      "militarydemocracy\n",
      "militaryally\n",
      "militaryUN\n",
      "polmeeting\n",
      "polsign\n",
      "campaignwork\n",
      "campaigndonate\n",
      "donateblood\n",
      "edloan\n",
      "runoffice\n",
      "Obama\n",
      "Romney\n",
      "age\n",
      "whiteadvantage_Disagree\n",
      "whiteadvantage_Neutral\n",
      "angryracism_Disagree\n",
      "angryracism_Neutral\n",
      "racismrare_Disagree\n",
      "racismrare_Neutral\n",
      "fearrace_Disagree\n",
      "fearrace_Neutral\n",
      "statewelfare_Increase\n",
      "statewelfare_Maintain\n",
      "statehealthcare_Increase\n",
      "statehealthcare_Maintain\n",
      "stateedu_Increase\n",
      "stateedu_Maintain\n",
      "stateinfra_Increase\n",
      "stateinfra_Maintain\n",
      "stateLE_Increase\n",
      "stateLE_Maintain\n",
      "veteran\n",
      "family_vet\n",
      "race_Black\n",
      "race_Middle Eastern\n",
      "race_Mixed\n",
      "race_Native American\n",
      "race_Other\n",
      "race_White\n",
      "college\n",
      "Party_Independent\n",
      "Party_Republican\n",
      "relig_Atheist\n",
      "relig_Buddhist\n",
      "relig_Eastern or Greek Orthodox\n",
      "relig_Hindu\n",
      "relig_Jewish\n",
      "relig_Mormon\n",
      "relig_Muslim\n",
      "relig_Nothing in particular\n",
      "relig_Protestant\n",
      "relig_Roman Catholic\n",
      "relig_Something else\n",
      "straight\n",
      "immigrant\n",
      "union_member\n",
      "pres_Johnson\n",
      "pres_McMullin\n",
      "pres_None\n",
      "pres_Other\n",
      "pres_Stein\n",
      "pres_Trump\n",
      "employ_Homemaker\n",
      "employ_Other\n",
      "employ_Part-time\n",
      "employ_Permanently disabled\n",
      "employ_Retired\n",
      "employ_Student\n",
      "employ_Temporarily laid off\n",
      "employ_Unemployed\n",
      "mar_Domestic partnership\n",
      "mar_Married\n",
      "mar_Separated\n",
      "mar_Single\n",
      "mar_Widowed\n",
      "religimp_Not too important\n",
      "religimp_Somewhat important\n",
      "religimp_Very important\n"
     ]
    }
   ],
   "source": [
    "for col in df.columns:\n",
    "    print(col)"
   ]
  },
  {
   "cell_type": "code",
   "execution_count": 4,
   "metadata": {},
   "outputs": [
    {
     "name": "stdout",
     "output_type": "stream",
     "text": [
      "Unnamed: 0 [    0     4     5 ..., 64445 64447 64453]\n",
      "tookpost [1]\n",
      "gender [0 1]\n",
      "legalstatus [0 1]\n",
      "borderpatrol [1 0]\n",
      "legalstatusHS [0 1]\n",
      "deport [1 0]\n",
      "milstat_1 [0 1]\n",
      "milstat_2 [0 1]\n",
      "milstat_3 [0 1]\n",
      "milstat_4 [1 0]\n",
      "minwage12 [ 1.  0.]\n",
      "faminc [  54999.   64999.    5000.   24999.   34999.   44999.   14999.  109999.\n",
      "   74999.   89999.  500000.  150000.  174999.  134999.  424999.  224999.\n",
      "  299999.]\n",
      "mandatorymin [ 1.  0.]\n",
      "bodycamera [ 1.  0.]\n",
      "threestrikes [ 1.  0.]\n",
      "pew_bornagain [ 0.  1.]\n",
      "increasepolice [ 0.  1.]\n",
      "cleanair [ 0.  1.]\n",
      "fuelefficiency [ 0.  1.]\n",
      "EPACO2 [ 0.  1.]\n",
      "abortionchoice [ 1.  0.]\n",
      "abortioncoverage [ 0.  1.]\n",
      "federalabortion [ 0.  1.]\n",
      "renewables [ 0.  1.]\n",
      "abortion20wks [ 1.  0.]\n",
      "repealACA [ 1.  0.]\n",
      "banmostabortion [ 0.  1.]\n",
      "child18 [ 0.  1.]\n",
      "TPP [ 1.  0.]\n",
      "NCLB [ 1.  0.]\n",
      "primary [ 0.  1.]\n",
      "Iransanctions [ 1.  0.]\n",
      "infraspending [ 0.  1.]\n",
      "backgroundcheck [ 1.  0.]\n",
      "medicarereform [ 0.  1.]\n",
      "concealedcarry [ 0.  1.]\n",
      "gunregistry [ 0.  1.]\n",
      "banassault [ 0.  1.]\n",
      "gaymarriage [ 1.  0.]\n",
      "hispanic [ 0.  1.]\n",
      "investor [ 0.  1.]\n",
      "trans [0 1]\n",
      "votereg_post [ 1.  0.]\n",
      "militaryoil [0 1]\n",
      "militaryterror [1 0]\n",
      "militarycivilwar [1 0]\n",
      "militarydemocracy [0 1]\n",
      "militaryally [1 0]\n",
      "militaryUN [1 0]\n",
      "polmeeting [0 1]\n",
      "polsign [0 1]\n",
      "campaignwork [0 1]\n",
      "campaigndonate [0 1]\n",
      "donateblood [0 1]\n",
      "edloan [ 0.  1.]\n",
      "runoffice [ 0.  1.]\n",
      "Obama [False  True]\n",
      "Romney [False  True]\n",
      "age [49 36 55 56 61 33 42 30 39 57 60 73 28 47 78 62 37 58 40 51 64 34 24 59 54\n",
      " 27 53 76 69 79 84 74 43 41 52 72 48 26 38 65 44 63 35 32 81 82 70 67 31 21\n",
      " 71 68 77 80 29 50 45 22 23 66 83 75 86 91 85 87 46 25 93 88 90 94 89 95 20\n",
      " 97 92 96]\n",
      "whiteadvantage_Disagree [0 1]\n",
      "whiteadvantage_Neutral [1 0]\n",
      "angryracism_Disagree [0 1]\n",
      "angryracism_Neutral [0 1]\n",
      "racismrare_Disagree [0 1]\n",
      "racismrare_Neutral [1 0]\n",
      "fearrace_Disagree [1 0]\n",
      "fearrace_Neutral [0 1]\n",
      "statewelfare_Increase [0 1]\n",
      "statewelfare_Maintain [0 1]\n",
      "statehealthcare_Increase [1 0]\n",
      "statehealthcare_Maintain [0 1]\n",
      "stateedu_Increase [0 1]\n",
      "stateedu_Maintain [0 1]\n",
      "stateinfra_Increase [0 1]\n",
      "stateinfra_Maintain [0 1]\n",
      "stateLE_Increase [0 1]\n",
      "stateLE_Maintain [1 0]\n",
      "veteran [0 1]\n",
      "family_vet [1 0]\n",
      "race_Black [0 1]\n",
      "race_Middle Eastern [0 1]\n",
      "race_Mixed [0 1]\n",
      "race_Native American [0 1]\n",
      "race_Other [0 1]\n",
      "race_White [1 0]\n",
      "college [0 1]\n",
      "Party_Independent [0 1]\n",
      "Party_Republican [1 0]\n",
      "relig_Atheist [0 1]\n",
      "relig_Buddhist [0 1]\n",
      "relig_Eastern or Greek Orthodox [0 1]\n",
      "relig_Hindu [0 1]\n",
      "relig_Jewish [0 1]\n",
      "relig_Mormon [0 1]\n",
      "relig_Muslim [0 1]\n",
      "relig_Nothing in particular [1 0]\n",
      "relig_Protestant [0 1]\n",
      "relig_Roman Catholic [0 1]\n",
      "relig_Something else [0 1]\n",
      "straight [1 0]\n",
      "immigrant [0 1]\n",
      "union_member [0 1]\n",
      "pres_Johnson [0 1]\n",
      "pres_McMullin [0 1]\n",
      "pres_None [0 1]\n",
      "pres_Other [0 1]\n",
      "pres_Stein [0 1]\n",
      "pres_Trump [1 0]\n",
      "employ_Homemaker [1 0]\n",
      "employ_Other [0 1]\n",
      "employ_Part-time [0 1]\n",
      "employ_Permanently disabled [0 1]\n",
      "employ_Retired [0 1]\n",
      "employ_Student [0 1]\n",
      "employ_Temporarily laid off [0 1]\n",
      "employ_Unemployed [0 1]\n",
      "mar_Domestic partnership [0 1]\n",
      "mar_Married [1 0]\n",
      "mar_Separated [0 1]\n",
      "mar_Single [0 1]\n",
      "mar_Widowed [0 1]\n",
      "religimp_Not too important [0 1]\n",
      "religimp_Somewhat important [1 0]\n",
      "religimp_Very important [0 1]\n"
     ]
    }
   ],
   "source": [
    "for col in df.columns:\n",
    "    print (col, df[col].unique())"
   ]
  },
  {
   "cell_type": "code",
   "execution_count": 5,
   "metadata": {
    "collapsed": true
   },
   "outputs": [],
   "source": [
    "#todrop = ['Unnamed: 0', 'tookpost']\n",
    "\n",
    "df = df.drop('tookpost', axis = 1)\n",
    "df = df.drop('Unnamed: 0', axis = 1)"
   ]
  },
  {
   "cell_type": "code",
   "execution_count": 6,
   "metadata": {},
   "outputs": [
    {
     "name": "stdout",
     "output_type": "stream",
     "text": [
      "gender [0 1]\n",
      "legalstatus [0 1]\n",
      "borderpatrol [1 0]\n",
      "legalstatusHS [0 1]\n",
      "deport [1 0]\n",
      "milstat_1 [0 1]\n",
      "milstat_2 [0 1]\n",
      "milstat_3 [0 1]\n",
      "milstat_4 [1 0]\n",
      "minwage12 [ 1.  0.]\n",
      "faminc [  54999.   64999.    5000.   24999.   34999.   44999.   14999.  109999.\n",
      "   74999.   89999.  500000.  150000.  174999.  134999.  424999.  224999.\n",
      "  299999.]\n",
      "mandatorymin [ 1.  0.]\n",
      "bodycamera [ 1.  0.]\n",
      "threestrikes [ 1.  0.]\n",
      "pew_bornagain [ 0.  1.]\n",
      "increasepolice [ 0.  1.]\n",
      "cleanair [ 0.  1.]\n",
      "fuelefficiency [ 0.  1.]\n",
      "EPACO2 [ 0.  1.]\n",
      "abortionchoice [ 1.  0.]\n",
      "abortioncoverage [ 0.  1.]\n",
      "federalabortion [ 0.  1.]\n",
      "renewables [ 0.  1.]\n",
      "abortion20wks [ 1.  0.]\n",
      "repealACA [ 1.  0.]\n",
      "banmostabortion [ 0.  1.]\n",
      "child18 [ 0.  1.]\n",
      "TPP [ 1.  0.]\n",
      "NCLB [ 1.  0.]\n",
      "primary [ 0.  1.]\n",
      "Iransanctions [ 1.  0.]\n",
      "infraspending [ 0.  1.]\n",
      "backgroundcheck [ 1.  0.]\n",
      "medicarereform [ 0.  1.]\n",
      "concealedcarry [ 0.  1.]\n",
      "gunregistry [ 0.  1.]\n",
      "banassault [ 0.  1.]\n",
      "gaymarriage [ 1.  0.]\n",
      "hispanic [ 0.  1.]\n",
      "investor [ 0.  1.]\n",
      "trans [0 1]\n",
      "votereg_post [ 1.  0.]\n",
      "militaryoil [0 1]\n",
      "militaryterror [1 0]\n",
      "militarycivilwar [1 0]\n",
      "militarydemocracy [0 1]\n",
      "militaryally [1 0]\n",
      "militaryUN [1 0]\n",
      "polmeeting [0 1]\n",
      "polsign [0 1]\n",
      "campaignwork [0 1]\n",
      "campaigndonate [0 1]\n",
      "donateblood [0 1]\n",
      "edloan [ 0.  1.]\n",
      "runoffice [ 0.  1.]\n",
      "Obama [False  True]\n",
      "Romney [False  True]\n",
      "age [49 36 55 56 61 33 42 30 39 57 60 73 28 47 78 62 37 58 40 51 64 34 24 59 54\n",
      " 27 53 76 69 79 84 74 43 41 52 72 48 26 38 65 44 63 35 32 81 82 70 67 31 21\n",
      " 71 68 77 80 29 50 45 22 23 66 83 75 86 91 85 87 46 25 93 88 90 94 89 95 20\n",
      " 97 92 96]\n",
      "whiteadvantage_Disagree [0 1]\n",
      "whiteadvantage_Neutral [1 0]\n",
      "angryracism_Disagree [0 1]\n",
      "angryracism_Neutral [0 1]\n",
      "racismrare_Disagree [0 1]\n",
      "racismrare_Neutral [1 0]\n",
      "fearrace_Disagree [1 0]\n",
      "fearrace_Neutral [0 1]\n",
      "statewelfare_Increase [0 1]\n",
      "statewelfare_Maintain [0 1]\n",
      "statehealthcare_Increase [1 0]\n",
      "statehealthcare_Maintain [0 1]\n",
      "stateedu_Increase [0 1]\n",
      "stateedu_Maintain [0 1]\n",
      "stateinfra_Increase [0 1]\n",
      "stateinfra_Maintain [0 1]\n",
      "stateLE_Increase [0 1]\n",
      "stateLE_Maintain [1 0]\n",
      "veteran [0 1]\n",
      "family_vet [1 0]\n",
      "race_Black [0 1]\n",
      "race_Middle Eastern [0 1]\n",
      "race_Mixed [0 1]\n",
      "race_Native American [0 1]\n",
      "race_Other [0 1]\n",
      "race_White [1 0]\n",
      "college [0 1]\n",
      "Party_Independent [0 1]\n",
      "Party_Republican [1 0]\n",
      "relig_Atheist [0 1]\n",
      "relig_Buddhist [0 1]\n",
      "relig_Eastern or Greek Orthodox [0 1]\n",
      "relig_Hindu [0 1]\n",
      "relig_Jewish [0 1]\n",
      "relig_Mormon [0 1]\n",
      "relig_Muslim [0 1]\n",
      "relig_Nothing in particular [1 0]\n",
      "relig_Protestant [0 1]\n",
      "relig_Roman Catholic [0 1]\n",
      "relig_Something else [0 1]\n",
      "straight [1 0]\n",
      "immigrant [0 1]\n",
      "union_member [0 1]\n",
      "pres_Johnson [0 1]\n",
      "pres_McMullin [0 1]\n",
      "pres_None [0 1]\n",
      "pres_Other [0 1]\n",
      "pres_Stein [0 1]\n",
      "pres_Trump [1 0]\n",
      "employ_Homemaker [1 0]\n",
      "employ_Other [0 1]\n",
      "employ_Part-time [0 1]\n",
      "employ_Permanently disabled [0 1]\n",
      "employ_Retired [0 1]\n",
      "employ_Student [0 1]\n",
      "employ_Temporarily laid off [0 1]\n",
      "employ_Unemployed [0 1]\n",
      "mar_Domestic partnership [0 1]\n",
      "mar_Married [1 0]\n",
      "mar_Separated [0 1]\n",
      "mar_Single [0 1]\n",
      "mar_Widowed [0 1]\n",
      "religimp_Not too important [0 1]\n",
      "religimp_Somewhat important [1 0]\n",
      "religimp_Very important [0 1]\n"
     ]
    }
   ],
   "source": [
    "for col in df.columns:\n",
    "    print (col, df[col].unique())"
   ]
  },
  {
   "cell_type": "code",
   "execution_count": 7,
   "metadata": {},
   "outputs": [
    {
     "name": "stderr",
     "output_type": "stream",
     "text": [
      "C:\\Users\\joshy\\Anaconda3\\lib\\site-packages\\sklearn\\utils\\validation.py:475: DataConversionWarning: Data with input dtype object was converted to float64 by MinMaxScaler.\n",
      "  warnings.warn(msg, DataConversionWarning)\n"
     ]
    }
   ],
   "source": [
    "from sklearn.preprocessing import MinMaxScaler\n",
    "\n",
    "x = df.values\n",
    "min_max_scaler = MinMaxScaler()\n",
    "x = min_max_scaler.fit_transform(x)"
   ]
  },
  {
   "cell_type": "code",
   "execution_count": 8,
   "metadata": {},
   "outputs": [
    {
     "data": {
      "text/html": [
       "<div>\n",
       "<style>\n",
       "    .dataframe thead tr:only-child th {\n",
       "        text-align: right;\n",
       "    }\n",
       "\n",
       "    .dataframe thead th {\n",
       "        text-align: left;\n",
       "    }\n",
       "\n",
       "    .dataframe tbody tr th {\n",
       "        vertical-align: top;\n",
       "    }\n",
       "</style>\n",
       "<table border=\"1\" class=\"dataframe\">\n",
       "  <thead>\n",
       "    <tr style=\"text-align: right;\">\n",
       "      <th></th>\n",
       "      <th>gender</th>\n",
       "      <th>legalstatus</th>\n",
       "      <th>borderpatrol</th>\n",
       "      <th>legalstatusHS</th>\n",
       "      <th>deport</th>\n",
       "      <th>milstat_1</th>\n",
       "      <th>milstat_2</th>\n",
       "      <th>milstat_3</th>\n",
       "      <th>milstat_4</th>\n",
       "      <th>minwage12</th>\n",
       "      <th>...</th>\n",
       "      <th>employ_Temporarily laid off</th>\n",
       "      <th>employ_Unemployed</th>\n",
       "      <th>mar_Domestic partnership</th>\n",
       "      <th>mar_Married</th>\n",
       "      <th>mar_Separated</th>\n",
       "      <th>mar_Single</th>\n",
       "      <th>mar_Widowed</th>\n",
       "      <th>religimp_Not too important</th>\n",
       "      <th>religimp_Somewhat important</th>\n",
       "      <th>religimp_Very important</th>\n",
       "    </tr>\n",
       "  </thead>\n",
       "  <tbody>\n",
       "    <tr>\n",
       "      <th>0</th>\n",
       "      <td>0.0</td>\n",
       "      <td>0.0</td>\n",
       "      <td>1.0</td>\n",
       "      <td>0.0</td>\n",
       "      <td>1.0</td>\n",
       "      <td>0.0</td>\n",
       "      <td>0.0</td>\n",
       "      <td>0.0</td>\n",
       "      <td>1.0</td>\n",
       "      <td>1.0</td>\n",
       "      <td>...</td>\n",
       "      <td>0.0</td>\n",
       "      <td>0.0</td>\n",
       "      <td>0.0</td>\n",
       "      <td>1.0</td>\n",
       "      <td>0.0</td>\n",
       "      <td>0.0</td>\n",
       "      <td>0.0</td>\n",
       "      <td>0.0</td>\n",
       "      <td>1.0</td>\n",
       "      <td>0.0</td>\n",
       "    </tr>\n",
       "    <tr>\n",
       "      <th>1</th>\n",
       "      <td>0.0</td>\n",
       "      <td>1.0</td>\n",
       "      <td>0.0</td>\n",
       "      <td>1.0</td>\n",
       "      <td>0.0</td>\n",
       "      <td>0.0</td>\n",
       "      <td>0.0</td>\n",
       "      <td>0.0</td>\n",
       "      <td>1.0</td>\n",
       "      <td>1.0</td>\n",
       "      <td>...</td>\n",
       "      <td>0.0</td>\n",
       "      <td>0.0</td>\n",
       "      <td>0.0</td>\n",
       "      <td>1.0</td>\n",
       "      <td>0.0</td>\n",
       "      <td>0.0</td>\n",
       "      <td>0.0</td>\n",
       "      <td>0.0</td>\n",
       "      <td>0.0</td>\n",
       "      <td>0.0</td>\n",
       "    </tr>\n",
       "    <tr>\n",
       "      <th>2</th>\n",
       "      <td>0.0</td>\n",
       "      <td>1.0</td>\n",
       "      <td>1.0</td>\n",
       "      <td>0.0</td>\n",
       "      <td>1.0</td>\n",
       "      <td>0.0</td>\n",
       "      <td>0.0</td>\n",
       "      <td>0.0</td>\n",
       "      <td>0.0</td>\n",
       "      <td>1.0</td>\n",
       "      <td>...</td>\n",
       "      <td>0.0</td>\n",
       "      <td>0.0</td>\n",
       "      <td>0.0</td>\n",
       "      <td>0.0</td>\n",
       "      <td>0.0</td>\n",
       "      <td>0.0</td>\n",
       "      <td>1.0</td>\n",
       "      <td>0.0</td>\n",
       "      <td>0.0</td>\n",
       "      <td>1.0</td>\n",
       "    </tr>\n",
       "    <tr>\n",
       "      <th>3</th>\n",
       "      <td>1.0</td>\n",
       "      <td>0.0</td>\n",
       "      <td>1.0</td>\n",
       "      <td>0.0</td>\n",
       "      <td>1.0</td>\n",
       "      <td>0.0</td>\n",
       "      <td>0.0</td>\n",
       "      <td>0.0</td>\n",
       "      <td>0.0</td>\n",
       "      <td>1.0</td>\n",
       "      <td>...</td>\n",
       "      <td>0.0</td>\n",
       "      <td>0.0</td>\n",
       "      <td>0.0</td>\n",
       "      <td>0.0</td>\n",
       "      <td>1.0</td>\n",
       "      <td>0.0</td>\n",
       "      <td>0.0</td>\n",
       "      <td>0.0</td>\n",
       "      <td>0.0</td>\n",
       "      <td>1.0</td>\n",
       "    </tr>\n",
       "    <tr>\n",
       "      <th>4</th>\n",
       "      <td>1.0</td>\n",
       "      <td>0.0</td>\n",
       "      <td>1.0</td>\n",
       "      <td>0.0</td>\n",
       "      <td>1.0</td>\n",
       "      <td>0.0</td>\n",
       "      <td>0.0</td>\n",
       "      <td>0.0</td>\n",
       "      <td>1.0</td>\n",
       "      <td>0.0</td>\n",
       "      <td>...</td>\n",
       "      <td>1.0</td>\n",
       "      <td>0.0</td>\n",
       "      <td>0.0</td>\n",
       "      <td>1.0</td>\n",
       "      <td>0.0</td>\n",
       "      <td>0.0</td>\n",
       "      <td>0.0</td>\n",
       "      <td>1.0</td>\n",
       "      <td>0.0</td>\n",
       "      <td>0.0</td>\n",
       "    </tr>\n",
       "  </tbody>\n",
       "</table>\n",
       "<p>5 rows × 123 columns</p>\n",
       "</div>"
      ],
      "text/plain": [
       "   gender  legalstatus  borderpatrol  legalstatusHS  deport  milstat_1  \\\n",
       "0     0.0          0.0           1.0            0.0     1.0        0.0   \n",
       "1     0.0          1.0           0.0            1.0     0.0        0.0   \n",
       "2     0.0          1.0           1.0            0.0     1.0        0.0   \n",
       "3     1.0          0.0           1.0            0.0     1.0        0.0   \n",
       "4     1.0          0.0           1.0            0.0     1.0        0.0   \n",
       "\n",
       "   milstat_2  milstat_3  milstat_4  minwage12           ...             \\\n",
       "0        0.0        0.0        1.0        1.0           ...              \n",
       "1        0.0        0.0        1.0        1.0           ...              \n",
       "2        0.0        0.0        0.0        1.0           ...              \n",
       "3        0.0        0.0        0.0        1.0           ...              \n",
       "4        0.0        0.0        1.0        0.0           ...              \n",
       "\n",
       "   employ_Temporarily laid off  employ_Unemployed  mar_Domestic partnership  \\\n",
       "0                          0.0                0.0                       0.0   \n",
       "1                          0.0                0.0                       0.0   \n",
       "2                          0.0                0.0                       0.0   \n",
       "3                          0.0                0.0                       0.0   \n",
       "4                          1.0                0.0                       0.0   \n",
       "\n",
       "   mar_Married  mar_Separated  mar_Single  mar_Widowed  \\\n",
       "0          1.0            0.0         0.0          0.0   \n",
       "1          1.0            0.0         0.0          0.0   \n",
       "2          0.0            0.0         0.0          1.0   \n",
       "3          0.0            1.0         0.0          0.0   \n",
       "4          1.0            0.0         0.0          0.0   \n",
       "\n",
       "   religimp_Not too important  religimp_Somewhat important  \\\n",
       "0                         0.0                          1.0   \n",
       "1                         0.0                          0.0   \n",
       "2                         0.0                          0.0   \n",
       "3                         0.0                          0.0   \n",
       "4                         1.0                          0.0   \n",
       "\n",
       "   religimp_Very important  \n",
       "0                      0.0  \n",
       "1                      0.0  \n",
       "2                      1.0  \n",
       "3                      1.0  \n",
       "4                      0.0  \n",
       "\n",
       "[5 rows x 123 columns]"
      ]
     },
     "execution_count": 8,
     "metadata": {},
     "output_type": "execute_result"
    }
   ],
   "source": [
    "df_scaled = pd.DataFrame(x, columns = df.columns)\n",
    "df_scaled.head()"
   ]
  },
  {
   "cell_type": "code",
   "execution_count": 9,
   "metadata": {},
   "outputs": [
    {
     "name": "stdout",
     "output_type": "stream",
     "text": [
      "gender [ 0.  1.]\n",
      "legalstatus [ 0.  1.]\n",
      "borderpatrol [ 1.  0.]\n",
      "legalstatusHS [ 0.  1.]\n",
      "deport [ 1.  0.]\n",
      "milstat_1 [ 0.  1.]\n",
      "milstat_2 [ 0.  1.]\n",
      "milstat_3 [ 0.  1.]\n",
      "milstat_4 [ 1.  0.]\n",
      "minwage12 [ 1.  0.]\n",
      "faminc [ 0.10100808  0.1212101   0.          0.04040202  0.06060404  0.08080606\n",
      "  0.0202      0.21211919  0.14141212  0.17171515  1.          0.29292929\n",
      "  0.34343232  0.26262424  0.84848283  0.44444242  0.59595758]\n",
      "mandatorymin [ 1.  0.]\n",
      "bodycamera [ 1.  0.]\n",
      "threestrikes [ 1.  0.]\n",
      "pew_bornagain [ 0.  1.]\n",
      "increasepolice [ 0.  1.]\n",
      "cleanair [ 0.  1.]\n",
      "fuelefficiency [ 0.  1.]\n",
      "EPACO2 [ 0.  1.]\n",
      "abortionchoice [ 1.  0.]\n",
      "abortioncoverage [ 0.  1.]\n",
      "federalabortion [ 0.  1.]\n",
      "renewables [ 0.  1.]\n",
      "abortion20wks [ 1.  0.]\n",
      "repealACA [ 1.  0.]\n",
      "banmostabortion [ 0.  1.]\n",
      "child18 [ 0.  1.]\n",
      "TPP [ 1.  0.]\n",
      "NCLB [ 1.  0.]\n",
      "primary [ 0.  1.]\n",
      "Iransanctions [ 1.  0.]\n",
      "infraspending [ 0.  1.]\n",
      "backgroundcheck [ 1.  0.]\n",
      "medicarereform [ 0.  1.]\n",
      "concealedcarry [ 0.  1.]\n",
      "gunregistry [ 0.  1.]\n",
      "banassault [ 0.  1.]\n",
      "gaymarriage [ 1.  0.]\n",
      "hispanic [ 0.  1.]\n",
      "investor [ 0.  1.]\n",
      "trans [ 0.  1.]\n",
      "votereg_post [ 1.  0.]\n",
      "militaryoil [ 0.  1.]\n",
      "militaryterror [ 1.  0.]\n",
      "militarycivilwar [ 1.  0.]\n",
      "militarydemocracy [ 0.  1.]\n",
      "militaryally [ 1.  0.]\n",
      "militaryUN [ 1.  0.]\n",
      "polmeeting [ 0.  1.]\n",
      "polsign [ 0.  1.]\n",
      "campaignwork [ 0.  1.]\n",
      "campaigndonate [ 0.  1.]\n",
      "donateblood [ 0.  1.]\n",
      "edloan [ 0.  1.]\n",
      "runoffice [ 0.  1.]\n",
      "Obama [ 0.  1.]\n",
      "Romney [ 0.  1.]\n",
      "age [ 0.37662338  0.20779221  0.45454545  0.46753247  0.53246753  0.16883117\n",
      "  0.28571429  0.12987013  0.24675325  0.48051948  0.51948052  0.68831169\n",
      "  0.1038961   0.35064935  0.75324675  0.54545455  0.22077922  0.49350649\n",
      "  0.25974026  0.4025974   0.57142857  0.18181818  0.05194805  0.50649351\n",
      "  0.44155844  0.09090909  0.42857143  0.72727273  0.63636364  0.76623377\n",
      "  0.83116883  0.7012987   0.2987013   0.27272727  0.41558442  0.67532468\n",
      "  0.36363636  0.07792208  0.23376623  0.58441558  0.31168831  0.55844156\n",
      "  0.19480519  0.15584416  0.79220779  0.80519481  0.64935065  0.61038961\n",
      "  0.14285714  0.01298701  0.66233766  0.62337662  0.74025974  0.77922078\n",
      "  0.11688312  0.38961039  0.32467532  0.02597403  0.03896104  0.5974026\n",
      "  0.81818182  0.71428571  0.85714286  0.92207792  0.84415584  0.87012987\n",
      "  0.33766234  0.06493506  0.94805195  0.88311688  0.90909091  0.96103896\n",
      "  0.8961039   0.97402597  0.          1.          0.93506494  0.98701299]\n",
      "whiteadvantage_Disagree [ 0.  1.]\n",
      "whiteadvantage_Neutral [ 1.  0.]\n",
      "angryracism_Disagree [ 0.  1.]\n",
      "angryracism_Neutral [ 0.  1.]\n",
      "racismrare_Disagree [ 0.  1.]\n",
      "racismrare_Neutral [ 1.  0.]\n",
      "fearrace_Disagree [ 1.  0.]\n",
      "fearrace_Neutral [ 0.  1.]\n",
      "statewelfare_Increase [ 0.  1.]\n",
      "statewelfare_Maintain [ 0.  1.]\n",
      "statehealthcare_Increase [ 1.  0.]\n",
      "statehealthcare_Maintain [ 0.  1.]\n",
      "stateedu_Increase [ 0.  1.]\n",
      "stateedu_Maintain [ 0.  1.]\n",
      "stateinfra_Increase [ 0.  1.]\n",
      "stateinfra_Maintain [ 0.  1.]\n",
      "stateLE_Increase [ 0.  1.]\n",
      "stateLE_Maintain [ 1.  0.]\n",
      "veteran [ 0.  1.]\n",
      "family_vet [ 1.  0.]\n",
      "race_Black [ 0.  1.]\n",
      "race_Middle Eastern [ 0.  1.]\n",
      "race_Mixed [ 0.  1.]\n",
      "race_Native American [ 0.  1.]\n",
      "race_Other [ 0.  1.]\n",
      "race_White [ 1.  0.]\n",
      "college [ 0.  1.]\n",
      "Party_Independent [ 0.  1.]\n",
      "Party_Republican [ 1.  0.]\n",
      "relig_Atheist [ 0.  1.]\n",
      "relig_Buddhist [ 0.  1.]\n",
      "relig_Eastern or Greek Orthodox [ 0.  1.]\n",
      "relig_Hindu [ 0.  1.]\n",
      "relig_Jewish [ 0.  1.]\n",
      "relig_Mormon [ 0.  1.]\n",
      "relig_Muslim [ 0.  1.]\n",
      "relig_Nothing in particular [ 1.  0.]\n",
      "relig_Protestant [ 0.  1.]\n",
      "relig_Roman Catholic [ 0.  1.]\n",
      "relig_Something else [ 0.  1.]\n",
      "straight [ 1.  0.]\n",
      "immigrant [ 0.  1.]\n",
      "union_member [ 0.  1.]\n",
      "pres_Johnson [ 0.  1.]\n",
      "pres_McMullin [ 0.  1.]\n",
      "pres_None [ 0.  1.]\n",
      "pres_Other [ 0.  1.]\n",
      "pres_Stein [ 0.  1.]\n",
      "pres_Trump [ 1.  0.]\n",
      "employ_Homemaker [ 1.  0.]\n",
      "employ_Other [ 0.  1.]\n",
      "employ_Part-time [ 0.  1.]\n",
      "employ_Permanently disabled [ 0.  1.]\n",
      "employ_Retired [ 0.  1.]\n",
      "employ_Student [ 0.  1.]\n",
      "employ_Temporarily laid off [ 0.  1.]\n",
      "employ_Unemployed [ 0.  1.]\n",
      "mar_Domestic partnership [ 0.  1.]\n",
      "mar_Married [ 1.  0.]\n",
      "mar_Separated [ 0.  1.]\n",
      "mar_Single [ 0.  1.]\n",
      "mar_Widowed [ 0.  1.]\n",
      "religimp_Not too important [ 0.  1.]\n",
      "religimp_Somewhat important [ 1.  0.]\n",
      "religimp_Very important [ 0.  1.]\n"
     ]
    }
   ],
   "source": [
    "for col in df_scaled.columns:\n",
    "    print (col, df_scaled[col].unique())"
   ]
  },
  {
   "cell_type": "code",
   "execution_count": 10,
   "metadata": {
    "collapsed": true
   },
   "outputs": [],
   "source": [
    "df = df_scaled"
   ]
  },
  {
   "cell_type": "code",
   "execution_count": 11,
   "metadata": {
    "collapsed": true
   },
   "outputs": [],
   "source": [
    "from sklearn.cluster import KMeans"
   ]
  },
  {
   "cell_type": "code",
   "execution_count": 12,
   "metadata": {},
   "outputs": [
    {
     "data": {
      "image/png": "[encoded data removed]",
      "text/plain": [
       "<matplotlib.figure.Figure at 0x2366b1be9e8>"
      ]
     },
     "metadata": {},
     "output_type": "display_data"
    }
   ],
   "source": [
    "SS = []\n",
    "for k in range(2,9):\n",
    "    kmeans_cluster = KMeans(n_clusters = k, random_state=42).fit(df)\n",
    "    SS.append(kmeans_cluster.inertia_)\n",
    "\n",
    "plt.scatter(range(2,9), SS)\n",
    "plt.xlabel(\"Number of clusters\")\n",
    "plt.ylabel(\"Sum of squares error\")\n",
    "plt.show()"
   ]
  },
  {
   "cell_type": "markdown",
   "metadata": {},
   "source": [
    "ehh it's kind of linear, don't really see an \"elbow\" (maybe four?). also the y axis doesn't start at 0, might mean I need lots more clusters. hmm..."
   ]
  },
  {
   "cell_type": "code",
   "execution_count": 13,
   "metadata": {
    "collapsed": true
   },
   "outputs": [],
   "source": [
    "from collections import Counter"
   ]
  },
  {
   "cell_type": "code",
   "execution_count": 14,
   "metadata": {},
   "outputs": [
    {
     "data": {
      "text/plain": [
       "Counter({0: 28722, 1: 19422})"
      ]
     },
     "execution_count": 14,
     "metadata": {},
     "output_type": "execute_result"
    }
   ],
   "source": [
    "two_clusters = KMeans(n_clusters = 2, random_state=42).fit(df)\n",
    "Counter(two_clusters.labels_)"
   ]
  },
  {
   "cell_type": "code",
   "execution_count": 15,
   "metadata": {
    "collapsed": true
   },
   "outputs": [],
   "source": [
    "df1 = pd.DataFrame(two_clusters.labels_, columns = ['two_cluster_label'])\n",
    "\n",
    "df = pd.concat([df, df1], axis = 1)"
   ]
  },
  {
   "cell_type": "code",
   "execution_count": 16,
   "metadata": {},
   "outputs": [
    {
     "data": {
      "text/plain": [
       "two_cluster_label  pres_Trump\n",
       "0                  0.0           26843\n",
       "                   1.0            1879\n",
       "1                  0.0            4099\n",
       "                   1.0           15323\n",
       "dtype: int64"
      ]
     },
     "execution_count": 16,
     "metadata": {},
     "output_type": "execute_result"
    }
   ],
   "source": [
    "df.groupby(['two_cluster_label', 'pres_Trump']).size()"
   ]
  },
  {
   "cell_type": "code",
   "execution_count": 17,
   "metadata": {},
   "outputs": [
    {
     "data": {
      "text/plain": [
       "0.06715869740109832"
      ]
     },
     "execution_count": 17,
     "metadata": {},
     "output_type": "execute_result"
    }
   ],
   "source": [
    "1920/28589"
   ]
  },
  {
   "cell_type": "markdown",
   "metadata": {},
   "source": [
    "In the two clusters, one cluster had 15277/19621 (77.86%) vote for Trump. The other had 1920/28589 (6.7%) vote for Trump. So we see a pretty striking party gap."
   ]
  },
  {
   "cell_type": "code",
   "execution_count": 18,
   "metadata": {
    "collapsed": true
   },
   "outputs": [],
   "source": [
    "EDA_df = pd.read_csv('EDA.csv')"
   ]
  },
  {
   "cell_type": "code",
   "execution_count": 19,
   "metadata": {
    "collapsed": true
   },
   "outputs": [],
   "source": [
    "EDA_df = pd.concat([df1, EDA_df], axis = 1)"
   ]
  },
  {
   "cell_type": "code",
   "execution_count": 20,
   "metadata": {},
   "outputs": [
    {
     "data": {
      "text/plain": [
       "two_cluster_label  presvote\n",
       "0                  Clinton     19751\n",
       "                   Johnson       911\n",
       "                   McMullin       34\n",
       "                   None         4833\n",
       "                   Other         521\n",
       "                   Stein         793\n",
       "                   Trump        1879\n",
       "1                  Clinton       716\n",
       "                   Johnson       787\n",
       "                   McMullin      125\n",
       "                   None         1901\n",
       "                   Other         512\n",
       "                   Stein          58\n",
       "                   Trump       15323\n",
       "dtype: int64"
      ]
     },
     "execution_count": 20,
     "metadata": {},
     "output_type": "execute_result"
    }
   ],
   "source": [
    "EDA_df.groupby(['two_cluster_label', 'presvote']).size()"
   ]
  },
  {
   "cell_type": "code",
   "execution_count": 21,
   "metadata": {
    "collapsed": true
   },
   "outputs": [],
   "source": [
    "four = KMeans(n_clusters = 4, random_state=42).fit(df)"
   ]
  },
  {
   "cell_type": "code",
   "execution_count": 22,
   "metadata": {
    "collapsed": true
   },
   "outputs": [],
   "source": [
    "df2 = pd.DataFrame(four.labels_, columns = ['four_cluster_label'])\n",
    "\n",
    "df = pd.concat([df, df2], axis = 1)"
   ]
  },
  {
   "cell_type": "code",
   "execution_count": 23,
   "metadata": {
    "collapsed": true
   },
   "outputs": [],
   "source": [
    "EDA_df = pd.concat([df2, EDA_df], axis = 1)"
   ]
  },
  {
   "cell_type": "code",
   "execution_count": 24,
   "metadata": {},
   "outputs": [
    {
     "data": {
      "text/plain": [
       "four_cluster_label  presvote\n",
       "0                   Clinton      5264\n",
       "                    Johnson       423\n",
       "                    McMullin       26\n",
       "                    None         2767\n",
       "                    Other         262\n",
       "                    Stein         168\n",
       "                    Trump        2721\n",
       "1                   Clinton       191\n",
       "                    Johnson       495\n",
       "                    McMullin       90\n",
       "                    None          488\n",
       "                    Other         363\n",
       "                    Stein          19\n",
       "                    Trump       13053\n",
       "2                   Clinton      3064\n",
       "                    Johnson       536\n",
       "                    McMullin       34\n",
       "                    None         2951\n",
       "                    Other         216\n",
       "                    Stein         175\n",
       "                    Trump        1314\n",
       "3                   Clinton     11948\n",
       "                    Johnson       244\n",
       "                    McMullin        9\n",
       "                    None          528\n",
       "                    Other         192\n",
       "                    Stein         489\n",
       "                    Trump         114\n",
       "dtype: int64"
      ]
     },
     "execution_count": 24,
     "metadata": {},
     "output_type": "execute_result"
    }
   ],
   "source": [
    "EDA_df.groupby(['four_cluster_label', 'presvote']).size()"
   ]
  },
  {
   "cell_type": "markdown",
   "metadata": {},
   "source": [
    "One cluster that is overwhelming Clinton, another overwhelmingly Trump, couple that are mixed."
   ]
  },
  {
   "cell_type": "code",
   "execution_count": 25,
   "metadata": {
    "collapsed": true
   },
   "outputs": [],
   "source": [
    "six = KMeans(n_clusters = 6, random_state=42).fit(df)\n",
    "\n",
    "df3 = pd.DataFrame(six.labels_, columns = ['six_cluster_label'])\n",
    "\n",
    "EDA_df = pd.concat([EDA_df, df3], axis = 1)"
   ]
  },
  {
   "cell_type": "code",
   "execution_count": 26,
   "metadata": {},
   "outputs": [
    {
     "data": {
      "text/plain": [
       "six_cluster_label  presvote\n",
       "0                  Clinton       62\n",
       "                   Johnson      357\n",
       "                   McMullin      53\n",
       "                   None         225\n",
       "                   Other        255\n",
       "                   Stein         10\n",
       "                   Trump       8499\n",
       "1                  Clinton     6538\n",
       "                   Johnson      187\n",
       "                   McMullin       6\n",
       "                   None         273\n",
       "                   Other         85\n",
       "                   Stein        167\n",
       "                   Trump         80\n",
       "2                  Clinton     5108\n",
       "                   Johnson      345\n",
       "                   McMullin      12\n",
       "                   None        2408\n",
       "                   Other        209\n",
       "                   Stein        154\n",
       "                   Trump       1389\n",
       "3                  Clinton     5448\n",
       "                   Johnson       57\n",
       "                   McMullin       3\n",
       "                   None         255\n",
       "                   Other        107\n",
       "                   Stein        323\n",
       "                   Trump         35\n",
       "4                  Clinton      288\n",
       "                   Johnson      219\n",
       "                   McMullin      51\n",
       "                   None         630\n",
       "                   Other        161\n",
       "                   Stein         23\n",
       "                   Trump       5946\n",
       "5                  Clinton     3023\n",
       "                   Johnson      533\n",
       "                   McMullin      34\n",
       "                   None        2943\n",
       "                   Other        216\n",
       "                   Stein        174\n",
       "                   Trump       1253\n",
       "dtype: int64"
      ]
     },
     "execution_count": 26,
     "metadata": {},
     "output_type": "execute_result"
    }
   ],
   "source": [
    "EDA_df.groupby(['six_cluster_label', 'presvote']).size()"
   ]
  },
  {
   "cell_type": "markdown",
   "metadata": {},
   "source": [
    "Three Dem clusters, three Trump clusters, all fairly partisan."
   ]
  },
  {
   "cell_type": "markdown",
   "metadata": {},
   "source": [
    "To-do:\n",
    "\n",
    "some more EDA on four clusters, probably.\n",
    "replicate more from clustering exercise: silhouette score.\n",
    "\n",
    "Visualization using PCA.\n",
    "Choosing optimal number of dimensions using PCA.\n",
    "\n",
    "Machine learning: training classifiers on four-label clusters.\n",
    "\n",
    "Rewrangling to reduce bias if necessary.\n",
    "\n",
    "\n",
    "Also, classifying presidential vote for funsies!"
   ]
  },
  {
   "cell_type": "markdown",
   "metadata": {},
   "source": [
    "**Two cluster analysis**"
   ]
  },
  {
   "cell_type": "code",
   "execution_count": 27,
   "metadata": {},
   "outputs": [
    {
     "data": {
      "text/plain": [
       "two_cluster_label\n",
       "0    28722\n",
       "1    19422\n",
       "dtype: int64"
      ]
     },
     "execution_count": 27,
     "metadata": {},
     "output_type": "execute_result"
    }
   ],
   "source": [
    "EDA_df.groupby(['two_cluster_label']).size()"
   ]
  },
  {
   "cell_type": "code",
   "execution_count": 29,
   "metadata": {
    "collapsed": true
   },
   "outputs": [],
   "source": [
    "#function that plots the proportion of respondents voting for Trump or Clinton, grouped by answers to an inputted column\n",
    "def pres_plot(df, col, title = ' ', rotation = 70):\n",
    "    #Create dataframe showing proportion of respondents voting for either Trump or Clinton\n",
    "    pres_df = df.loc[(df['presvote'] == 'Trump') | (df['presvote'] == 'Clinton')].groupby([col, 'presvote']).size()\n",
    "    total = df.loc[(df['presvote'] == 'Trump') | (df['presvote'] == 'Clinton')].groupby([col]).size()\n",
    "    pres_df = pres_df / total\n",
    "    pres_df = pres_df.to_frame()\n",
    "    pres_df = pres_df.reset_index(level=[0,1])\n",
    "    pres_df = pres_df.pivot(index = col, columns = 'presvote', values = 0)\n",
    "    \n",
    "    pres_df = pres_df.sort_values('Trump')\n",
    "    _ = pres_df.plot(kind = 'bar', rot = rotation, color = ['b','r'], figsize = (7,5))\n",
    "    _ = plt.title(title)\n",
    "    _ = plt.ylim(0, 1.1)\n",
    "\n",
    "    plt.show()"
   ]
  },
  {
   "cell_type": "code",
   "execution_count": 30,
   "metadata": {},
   "outputs": [
    {
     "data": {
      "image/png": "[encoded data removed]",
      "text/plain": [
       "<matplotlib.figure.Figure at 0x23602d67e10>"
      ]
     },
     "metadata": {},
     "output_type": "display_data"
    }
   ],
   "source": [
    "pres_plot(EDA_df, 'two_cluster_label')"
   ]
  },
  {
   "cell_type": "code",
   "execution_count": 31,
   "metadata": {},
   "outputs": [
    {
     "data": {
      "image/png": "[encoded data removed]",
      "text/plain": [
       "<matplotlib.figure.Figure at 0x23600056da0>"
      ]
     },
     "metadata": {},
     "output_type": "display_data"
    }
   ],
   "source": [
    "#exclude Other, McMullin, and Stein due to small number of responses\n",
    "major_df = EDA_df.loc[(EDA_df['presvote'] != 'Other') & (EDA_df['presvote'] != 'McMullin') & (EDA_df['presvote'] != 'Stein')]\n",
    "pres_df = major_df.groupby(['two_cluster_label', 'presvote']).size() / EDA_df.groupby(['two_cluster_label']).size()\n",
    "pres_df = pres_df.to_frame()\n",
    "pres_df = pres_df.reset_index(level=[0,1])\n",
    "pres_df = pres_df.pivot(index ='two_cluster_label', columns = 'presvote', values = 0)\n",
    "    \n",
    "_ = pres_df.plot(kind = 'bar', rot = 70, figsize = (6.5,4.5))\n",
    "_ = plt.title('Presidential vote by cluster')\n",
    "\n",
    "_ = plt.ylim(0, 1.1)\n",
    "\n",
    "plt.show()"
   ]
  },
  {
   "cell_type": "markdown",
   "metadata": {},
   "source": [
    "**Four cluster analysis**"
   ]
  },
  {
   "cell_type": "code",
   "execution_count": 32,
   "metadata": {},
   "outputs": [
    {
     "data": {
      "text/plain": [
       "four_cluster_label\n",
       "0    11631\n",
       "1    14699\n",
       "2     8290\n",
       "3    13524\n",
       "dtype: int64"
      ]
     },
     "execution_count": 32,
     "metadata": {},
     "output_type": "execute_result"
    }
   ],
   "source": [
    "df.groupby(['four_cluster_label']).size()"
   ]
  },
  {
   "cell_type": "markdown",
   "metadata": {},
   "source": [
    "1 and 3 (the highly partisan ones) are the largest, but none are small."
   ]
  },
  {
   "cell_type": "code",
   "execution_count": 33,
   "metadata": {},
   "outputs": [
    {
     "data": {
      "image/png": "[encoded data removed]",
      "text/plain": [
       "<matplotlib.figure.Figure at 0x23602d676d8>"
      ]
     },
     "metadata": {},
     "output_type": "display_data"
    }
   ],
   "source": [
    "pres_plot(EDA_df, 'four_cluster_label')"
   ]
  },
  {
   "cell_type": "code",
   "execution_count": 34,
   "metadata": {
    "collapsed": true
   },
   "outputs": [],
   "source": [
    "#function plotting how respondent's answers to a given column, grouped by how they voted for president\n",
    "def opinion_plot(groupcol, col, df, title = ''):\n",
    "    opinion_df = df.groupby([groupcol, col]).size() / df.groupby([groupcol]).size()\n",
    "\n",
    "    opinion_df = opinion_df.to_frame()\n",
    "    opinion_df = opinion_df.reset_index(level=[0,1])\n",
    "    opinion_df = opinion_df.pivot(index =groupcol, columns = col, values = 0)\n",
    "    #sort dataframe by proportion selecting the second option (1 or Favor)\n",
    "    opinion_df = opinion_df.sort_values(1)\n",
    "    #add line showing overall response\n",
    "    opinion_df.loc['Total'] = [df.groupby([col]).size()[0]/df.shape[0], df.groupby([col]).size()[1]/df.shape[0]]\n",
    "    \n",
    "    _ = opinion_df.plot(kind = 'bar', rot = 70, figsize = (6.5,4.5))\n",
    "    _ = plt.title(title)\n",
    "    _ = plt.legend(['No', 'Yes'])\n",
    "    _ = plt.ylim(0, 1.1)\n",
    "\n",
    "    plt.show()"
   ]
  },
  {
   "cell_type": "code",
   "execution_count": 35,
   "metadata": {},
   "outputs": [
    {
     "data": {
      "image/png": "[encoded data removed]",
      "text/plain": [
       "<matplotlib.figure.Figure at 0x2366b382908>"
      ]
     },
     "metadata": {},
     "output_type": "display_data"
    }
   ],
   "source": [
    "opinion_plot('four_cluster_label', 'legalstatusHS', EDA_df, 'Support for legal status for undocumented immigrants')"
   ]
  },
  {
   "cell_type": "code",
   "execution_count": 36,
   "metadata": {},
   "outputs": [
    {
     "data": {
      "image/png": "[encoded data removed]",
      "text/plain": [
       "<matplotlib.figure.Figure at 0x236000f9b70>"
      ]
     },
     "metadata": {},
     "output_type": "display_data"
    }
   ],
   "source": [
    "opinion_plot('four_cluster_label', 'minwage12', EDA_df, 'Support for raising minimum wage to $12 an hour')"
   ]
  },
  {
   "cell_type": "code",
   "execution_count": 37,
   "metadata": {},
   "outputs": [
    {
     "data": {
      "image/png": "[encoded data removed]",
      "text/plain": [
       "<matplotlib.figure.Figure at 0x236000aa5f8>"
      ]
     },
     "metadata": {},
     "output_type": "display_data"
    }
   ],
   "source": [
    "#exclude Other, McMullin, and Stein due to small number of responses\n",
    "major_df = EDA_df.loc[(EDA_df['presvote'] != 'Other') & (EDA_df['presvote'] != 'McMullin') & (EDA_df['presvote'] != 'Stein')]\n",
    "pres_df = major_df.groupby(['four_cluster_label', 'presvote']).size() / EDA_df.groupby(['four_cluster_label']).size()\n",
    "pres_df = pres_df.to_frame()\n",
    "pres_df = pres_df.reset_index(level=[0,1])\n",
    "pres_df = pres_df.pivot(index ='four_cluster_label', columns = 'presvote', values = 0)\n",
    "    \n",
    "_ = pres_df.plot(kind = 'bar', rot = 70, figsize = (6.5,4.5))\n",
    "_ = plt.title('Presidential vote by cluster')\n",
    "\n",
    "_ = plt.ylim(0, 1.1)\n",
    "\n",
    "plt.show()"
   ]
  },
  {
   "cell_type": "markdown",
   "metadata": {},
   "source": [
    "what distinguishes 0 and 2 is the larger number of non-voters. 2 contains a smaller proportion of Trump voters and a larger proportion of non-voters."
   ]
  },
  {
   "cell_type": "code",
   "execution_count": 38,
   "metadata": {},
   "outputs": [
    {
     "name": "stdout",
     "output_type": "stream",
     "text": [
      "gender\n",
      "legalstatus\n",
      "borderpatrol\n",
      "legalstatusHS\n",
      "deport\n",
      "milstat_1\n",
      "milstat_2\n",
      "milstat_3\n",
      "milstat_4\n",
      "minwage12\n",
      "faminc\n",
      "mandatorymin\n",
      "bodycamera\n",
      "threestrikes\n",
      "pew_bornagain\n",
      "increasepolice\n",
      "cleanair\n",
      "fuelefficiency\n",
      "EPACO2\n",
      "abortionchoice\n",
      "abortioncoverage\n",
      "federalabortion\n",
      "renewables\n",
      "abortion20wks\n",
      "repealACA\n",
      "banmostabortion\n",
      "child18\n",
      "TPP\n",
      "NCLB\n",
      "primary\n",
      "Iransanctions\n",
      "infraspending\n",
      "backgroundcheck\n",
      "medicarereform\n",
      "concealedcarry\n",
      "gunregistry\n",
      "banassault\n",
      "gaymarriage\n",
      "hispanic\n",
      "investor\n",
      "trans\n",
      "votereg_post\n",
      "militaryoil\n",
      "militaryterror\n",
      "militarycivilwar\n",
      "militarydemocracy\n",
      "militaryally\n",
      "militaryUN\n",
      "polmeeting\n",
      "polsign\n",
      "campaignwork\n",
      "campaigndonate\n",
      "donateblood\n",
      "edloan\n",
      "runoffice\n",
      "Obama\n",
      "Romney\n",
      "age\n",
      "whiteadvantage_Disagree\n",
      "whiteadvantage_Neutral\n",
      "angryracism_Disagree\n",
      "angryracism_Neutral\n",
      "racismrare_Disagree\n",
      "racismrare_Neutral\n",
      "fearrace_Disagree\n",
      "fearrace_Neutral\n",
      "statewelfare_Increase\n",
      "statewelfare_Maintain\n",
      "statehealthcare_Increase\n",
      "statehealthcare_Maintain\n",
      "stateedu_Increase\n",
      "stateedu_Maintain\n",
      "stateinfra_Increase\n",
      "stateinfra_Maintain\n",
      "stateLE_Increase\n",
      "stateLE_Maintain\n",
      "veteran\n",
      "family_vet\n",
      "race_Black\n",
      "race_Middle Eastern\n",
      "race_Mixed\n",
      "race_Native American\n",
      "race_Other\n",
      "race_White\n",
      "college\n",
      "Party_Independent\n",
      "Party_Republican\n",
      "relig_Atheist\n",
      "relig_Buddhist\n",
      "relig_Eastern or Greek Orthodox\n",
      "relig_Hindu\n",
      "relig_Jewish\n",
      "relig_Mormon\n",
      "relig_Muslim\n",
      "relig_Nothing in particular\n",
      "relig_Protestant\n",
      "relig_Roman Catholic\n",
      "relig_Something else\n",
      "straight\n",
      "immigrant\n",
      "union_member\n",
      "pres_Johnson\n",
      "pres_McMullin\n",
      "pres_None\n",
      "pres_Other\n",
      "pres_Stein\n",
      "pres_Trump\n",
      "employ_Homemaker\n",
      "employ_Other\n",
      "employ_Part-time\n",
      "employ_Permanently disabled\n",
      "employ_Retired\n",
      "employ_Student\n",
      "employ_Temporarily laid off\n",
      "employ_Unemployed\n",
      "mar_Domestic partnership\n",
      "mar_Married\n",
      "mar_Separated\n",
      "mar_Single\n",
      "mar_Widowed\n",
      "religimp_Not too important\n",
      "religimp_Somewhat important\n",
      "religimp_Very important\n",
      "two_cluster_label\n",
      "four_cluster_label\n"
     ]
    }
   ],
   "source": [
    "for col in df.columns:\n",
    "    print(col)"
   ]
  },
  {
   "cell_type": "code",
   "execution_count": 39,
   "metadata": {
    "collapsed": true
   },
   "outputs": [],
   "source": [
    "df = df.drop(['two_cluster_label'], axis = 1)"
   ]
  },
  {
   "cell_type": "code",
   "execution_count": 40,
   "metadata": {},
   "outputs": [],
   "source": [
    "df.to_csv('clustered.csv')"
   ]
  },
  {
   "cell_type": "markdown",
   "metadata": {},
   "source": [
    "Silhouetting! (this takes freaking forever tho)"
   ]
  },
  {
   "cell_type": "code",
   "execution_count": 41,
   "metadata": {},
   "outputs": [
    {
     "data": {
      "text/plain": [
       "0.1041236873845877"
      ]
     },
     "execution_count": 41,
     "metadata": {},
     "output_type": "execute_result"
    }
   ],
   "source": [
    "from sklearn.metrics import silhouette_score\n",
    "\n",
    "four_cluster_labels = four.labels_\n",
    "\n",
    "silhouette_score(df, four_cluster_labels, sample_size = 10000)"
   ]
  },
  {
   "cell_type": "code",
   "execution_count": 42,
   "metadata": {},
   "outputs": [
    {
     "name": "stdout",
     "output_type": "stream",
     "text": [
      "Automatically created module for IPython interactive environment\n",
      "For n_clusters = 2 The average silhouette_score is : 0.116145686524\n",
      "For n_clusters = 3 The average silhouette_score is : 0.110437638631\n",
      "For n_clusters = 4 The average silhouette_score is : 0.102217704092\n",
      "For n_clusters = 5 The average silhouette_score is : 0.0803573341593\n",
      "For n_clusters = 6 The average silhouette_score is : 0.0389856881421\n",
      "For n_clusters = 7 The average silhouette_score is : 0.0351172400153\n"
     ]
    }
   ],
   "source": [
    "from __future__ import print_function\n",
    "\n",
    "from sklearn.datasets import make_blobs\n",
    "from sklearn.cluster import KMeans\n",
    "from sklearn.metrics import silhouette_samples, silhouette_score\n",
    "\n",
    "import matplotlib.pyplot as plt\n",
    "import matplotlib.cm as cm\n",
    "import numpy as np\n",
    "\n",
    "print(__doc__)\n",
    "\n",
    "range_n_clusters = [i for i in range(2,8)]\n",
    "\n",
    "for n_clusters in range_n_clusters:\n",
    "    # Create a subplot with 1 row and 2 columns\n",
    "    fig, (ax1, ax2) = plt.subplots(1, 2)\n",
    "    fig.set_size_inches(18, 7)\n",
    "\n",
    "    # The 1st subplot is the silhouette plot\n",
    "    # The silhouette coefficient can range from -1, 1 but in this example all\n",
    "    # lie within [-0.1, 1]\n",
    "    \n",
    "    ax1.set_xlim([-0.1, 1])\n",
    "    # The (n_clusters+1)*10 is for inserting blank space between silhouette\n",
    "    # plots of individual clusters, to demarcate them clearly.\n",
    "    ax1.set_ylim([0, len(df) + (n_clusters + 1) * 10])\n",
    "\n",
    "    # Initialize the clusterer with n_clusters value and a random generator\n",
    "    # seed of 10 for reproducibility.\n",
    "    clusterer = KMeans(n_clusters=n_clusters, random_state=42)\n",
    "    cluster_labels = clusterer.fit_predict(df)\n",
    "\n",
    "    # The silhouette_score gives the average value for all the samples.\n",
    "    # This gives a perspective into the density and separation of the formed\n",
    "    # clusters\n",
    "    silhouette_avg = silhouette_score(df, cluster_labels, sample_size = 1000)\n",
    "    print(\"For n_clusters =\", n_clusters,\n",
    "          \"The average silhouette_score is :\", silhouette_avg)\n",
    "    \n",
    "    '''\n",
    "    # Compute the silhouette scores for each sample\n",
    "    sample_silhouette_values = silhouette_samples(df, cluster_labels)\n",
    "\n",
    "    y_lower = 10\n",
    "    for i in range(n_clusters):\n",
    "        # Aggregate the silhouette scores for samples belonging to\n",
    "        # cluster i, and sort them\n",
    "        ith_cluster_silhouette_values = \\\n",
    "            sample_silhouette_values[cluster_labels == i]\n",
    "\n",
    "        ith_cluster_silhouette_values.sort()\n",
    "\n",
    "        size_cluster_i = ith_cluster_silhouette_values.shape[0]\n",
    "        y_upper = y_lower + size_cluster_i\n",
    "\n",
    "        color = cm.spectral(float(i) / n_clusters)\n",
    "        ax1.fill_betweenx(np.arange(y_lower, y_upper),\n",
    "                          0, ith_cluster_silhouette_values,\n",
    "                          facecolor=color, edgecolor=color, alpha=0.7)\n",
    "\n",
    "        # Label the silhouette plots with their cluster numbers at the middle\n",
    "        ax1.text(-0.05, y_lower + 0.5 * size_cluster_i, str(i))\n",
    "\n",
    "        # Compute the new y_lower for next plot\n",
    "        y_lower = y_upper + 10  # 10 for the 0 samples\n",
    "\n",
    "    ax1.set_title(\"The silhouette plot for the various clusters.\")\n",
    "    ax1.set_xlabel(\"The silhouette coefficient values\")\n",
    "    ax1.set_ylabel(\"Cluster label\")\n",
    "\n",
    "    # The vertical line for average silhouette score of all the values\n",
    "    ax1.axvline(x=silhouette_avg, color=\"red\", linestyle=\"--\")\n",
    "\n",
    "    ax1.set_yticks([])  # Clear the yaxis labels / ticks\n",
    "    ax1.set_xticks([-0.1, 0, 0.2, 0.4, 0.6, 0.8, 1])\n",
    "\n",
    "    # 2nd Plot showing the actual clusters formed\n",
    "    colors = cm.spectral(cluster_labels.astype(float) / n_clusters)\n",
    "    ax2.scatter(df[:, 0], df[:, 1], marker='.', s=30, lw=0, alpha=0.7,\n",
    "                c=colors, edgecolor='k')\n",
    "\n",
    "    # Labeling the clusters\n",
    "    centers = clusterer.cluster_centers_\n",
    "    # Draw white circles at cluster centers\n",
    "    ax2.scatter(centers[:, 0], centers[:, 1], marker='o',\n",
    "                c=\"white\", alpha=1, s=200, edgecolor='k')\n",
    "\n",
    "    for i, c in enumerate(centers):\n",
    "        ax2.scatter(c[0], c[1], marker='$%d$' % i, alpha=1,\n",
    "                    s=50, edgecolor='k')\n",
    "\n",
    "    ax2.set_title(\"The visualization of the clustered data.\")\n",
    "    ax2.set_xlabel(\"Feature space for the 1st feature\")\n",
    "    ax2.set_ylabel(\"Feature space for the 2nd feature\")\n",
    "\n",
    "    plt.suptitle((\"Silhouette analysis for KMeans clustering on sample data \"\n",
    "                  \"with n_clusters = %d\" % n_clusters),\n",
    "                 fontsize=14, fontweight='bold')\n",
    "\n",
    "    plt.show()'''"
   ]
  },
  {
   "cell_type": "markdown",
   "metadata": {},
   "source": [
    "LOL partisanship is everything apparently."
   ]
  }
 ],
 "metadata": {
  "kernelspec": {
   "display_name": "Python 3",
   "language": "python",
   "name": "python3"
  },
  "language_info": {
   "codemirror_mode": {
    "name": "ipython",
    "version": 3
   },
   "file_extension": ".py",
   "mimetype": "text/x-python",
   "name": "python",
   "nbconvert_exporter": "python",
   "pygments_lexer": "ipython3",
   "version": "3.6.3"
  }
 },
 "nbformat": 4,
 "nbformat_minor": 2
}
