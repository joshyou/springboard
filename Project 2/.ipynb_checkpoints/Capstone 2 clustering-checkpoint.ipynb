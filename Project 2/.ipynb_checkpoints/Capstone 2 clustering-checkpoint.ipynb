{
 "cells": [
  {
   "cell_type": "code",
   "execution_count": 1,
   "metadata": {
    "collapsed": true
   },
   "outputs": [],
   "source": [
    "import pandas as pd \n",
    "import numpy as np\n",
    "import matplotlib.pyplot as plt"
   ]
  },
  {
   "cell_type": "code",
   "execution_count": 2,
   "metadata": {
    "collapsed": true
   },
   "outputs": [],
   "source": [
    "df = pd.read_csv('cleaned.csv')"
   ]
  },
  {
   "cell_type": "code",
   "execution_count": 3,
   "metadata": {},
   "outputs": [
    {
     "name": "stdout",
     "output_type": "stream",
     "text": [
      "Unnamed: 0\n",
      "tookpost\n",
      "gender\n",
      "CC16_331_1\n",
      "CC16_331_2\n",
      "CC16_331_3\n",
      "CC16_331_7\n",
      "milstat_1\n",
      "milstat_2\n",
      "milstat_3\n",
      "milstat_4\n",
      "CC16_351K\n",
      "faminc\n",
      "CC16_334a\n",
      "CC16_334b\n",
      "CC16_334d\n",
      "pew_bornagain\n",
      "CC16_334c\n",
      "CC16_333d\n",
      "CC16_333b\n",
      "CC16_333a\n",
      "CC16_332a\n",
      "CC16_332d\n",
      "CC16_332e\n",
      "CC16_333c\n",
      "CC16_332c\n",
      "CC16_332f\n",
      "CC16_351I\n",
      "CC16_332b\n",
      "child18\n",
      "CC16_351B\n",
      "CC16_351E\n",
      "CC16_327\n",
      "CC16_351G\n",
      "CC16_351F\n",
      "CC16_330a\n",
      "CC16_351H\n",
      "CC16_330e\n",
      "CC16_330b\n",
      "CC16_330d\n",
      "CC16_335\n",
      "hispanic\n",
      "investor\n",
      "trans\n",
      "votereg_post\n",
      "CC16_414_1\n",
      "CC16_414_2\n",
      "CC16_414_3\n",
      "CC16_414_4\n",
      "CC16_414_5\n",
      "CC16_414_6\n",
      "CC16_417a_1\n",
      "CC16_417a_2\n",
      "CC16_417a_3\n",
      "CC16_417a_4\n",
      "CC16_417a_5\n",
      "edloan\n",
      "CC16_418a\n",
      "voted\n",
      "age\n",
      "CC16_422d_Disagree\n",
      "CC16_422d_Neutral\n",
      "CC16_422c_Disagree\n",
      "CC16_422c_Neutral\n",
      "CC16_422f_Disagree\n",
      "CC16_422f_Neutral\n",
      "CC16_422e_Disagree\n",
      "CC16_422e_Neutral\n",
      "CC16_426_1_Increase\n",
      "CC16_426_1_Maintain\n",
      "CC16_426_2_Increase\n",
      "CC16_426_2_Maintain\n",
      "CC16_426_3_Increase\n",
      "CC16_426_3_Maintain\n",
      "CC16_426_5_Increase\n",
      "CC16_426_5_Maintain\n",
      "CC16_426_4_Increase\n",
      "CC16_426_4_Maintain\n",
      "veteran\n",
      "family_vet\n",
      "race_Black\n",
      "race_Middle Eastern\n",
      "race_Mixed\n",
      "race_Native American\n",
      "race_Other\n",
      "race_White\n",
      "college\n",
      "Party_Independent\n",
      "Party_Republican\n",
      "relig_Atheist\n",
      "relig_Buddhist\n",
      "relig_Eastern or Greek Orthodox\n",
      "relig_Hindu\n",
      "relig_Jewish\n",
      "relig_Mormon\n",
      "relig_Muslim\n",
      "relig_Nothing in particular\n",
      "relig_Protestant\n",
      "relig_Roman Catholic\n",
      "relig_Something else\n",
      "straight\n",
      "immigrant\n",
      "union_member\n",
      "pres_Johnson\n",
      "pres_McMullin\n",
      "pres_None\n",
      "pres_Other\n",
      "pres_Stein\n",
      "pres_Trump\n",
      "employ_Homemaker\n",
      "employ_Other\n",
      "employ_Part-time\n",
      "employ_Permanently disabled\n",
      "employ_Retired\n",
      "employ_Student\n",
      "employ_Temporarily laid off\n",
      "employ_Unemployed\n",
      "mar_Domestic partnership\n",
      "mar_Married\n",
      "mar_Separated\n",
      "mar_Single\n",
      "mar_Widowed\n",
      "religimp_Not too important\n",
      "religimp_Somewhat important\n",
      "religimp_Very important\n"
     ]
    }
   ],
   "source": [
    "for col in df.columns:\n",
    "    print(col)"
   ]
  },
  {
   "cell_type": "code",
   "execution_count": 4,
   "metadata": {},
   "outputs": [
    {
     "name": "stdout",
     "output_type": "stream",
     "text": [
      "Unnamed: 0 [    0     4     5 ..., 64445 64447 64453]\n",
      "tookpost [1]\n",
      "gender [0 1]\n",
      "CC16_331_1 [0 1]\n",
      "CC16_331_2 [1 0]\n",
      "CC16_331_3 [0 1]\n",
      "CC16_331_7 [1 0]\n",
      "milstat_1 [0 1]\n",
      "milstat_2 [0 1]\n",
      "milstat_3 [0 1]\n",
      "milstat_4 [1 0]\n",
      "CC16_351K [ 1.  0.]\n",
      "faminc [  54999.   64999.    5000.   24999.   34999.   44999.   14999.  109999.\n",
      "   74999.   89999.  500000.  150000.  174999.  134999.  424999.  224999.\n",
      "  299999.]\n",
      "CC16_334a [ 1.  0.]\n",
      "CC16_334b [ 1.  0.]\n",
      "CC16_334d [ 1.  0.]\n",
      "pew_bornagain [ 0.  1.]\n",
      "CC16_334c [ 0.  1.]\n",
      "CC16_333d [ 0.  1.]\n",
      "CC16_333b [ 0.  1.]\n",
      "CC16_333a [ 0.  1.]\n",
      "CC16_332a [ 1.  0.]\n",
      "CC16_332d [ 0.  1.]\n",
      "CC16_332e [ 0.  1.]\n",
      "CC16_333c [ 0.  1.]\n",
      "CC16_332c [ 1.  0.]\n",
      "CC16_332f [ 0.  1.]\n",
      "CC16_351I [ 1.  0.]\n",
      "CC16_332b [ 0.  1.]\n",
      "child18 [ 0.  1.]\n",
      "CC16_351B [ 1.  0.]\n",
      "CC16_351E [ 1.  0.]\n",
      "CC16_327 [ 0.  1.]\n",
      "CC16_351G [ 1.  0.]\n",
      "CC16_351F [ 0.  1.]\n",
      "CC16_330a [ 1.  0.]\n",
      "CC16_351H [ 0.  1.]\n",
      "CC16_330e [ 0.  1.]\n",
      "CC16_330b [ 0.  1.]\n",
      "CC16_330d [ 0.  1.]\n",
      "CC16_335 [ 1.  0.]\n",
      "hispanic [ 0.  1.]\n",
      "investor [ 0.  1.]\n",
      "trans [0 1]\n",
      "votereg_post [ 1.  0.]\n",
      "CC16_414_1 [0 1]\n",
      "CC16_414_2 [1 0]\n",
      "CC16_414_3 [1 0]\n",
      "CC16_414_4 [0 1]\n",
      "CC16_414_5 [1 0]\n",
      "CC16_414_6 [1 0]\n",
      "CC16_417a_1 [0 1]\n",
      "CC16_417a_2 [0 1]\n",
      "CC16_417a_3 [0 1]\n",
      "CC16_417a_4 [0 1]\n",
      "CC16_417a_5 [0 1]\n",
      "edloan [ 0.  1.]\n",
      "CC16_418a [ 0.  1.]\n",
      "voted [1 0]\n",
      "age [49 36 55 56 61 33 42 30 39 57 60 73 28 47 78 62 37 58 40 51 64 34 24 59 54\n",
      " 27 53 76 69 79 84 74 43 41 52 72 48 26 38 65 44 63 35 32 81 82 70 67 31 21\n",
      " 71 68 77 80 29 50 45 22 23 66 83 75 86 91 85 87 46 25 93 88 90 94 89 95 20\n",
      " 97 92 96]\n",
      "CC16_422d_Disagree [0 1]\n",
      "CC16_422d_Neutral [1 0]\n",
      "CC16_422c_Disagree [0 1]\n",
      "CC16_422c_Neutral [0 1]\n",
      "CC16_422f_Disagree [0 1]\n",
      "CC16_422f_Neutral [1 0]\n",
      "CC16_422e_Disagree [1 0]\n",
      "CC16_422e_Neutral [0 1]\n",
      "CC16_426_1_Increase [0 1]\n",
      "CC16_426_1_Maintain [0 1]\n",
      "CC16_426_2_Increase [1 0]\n",
      "CC16_426_2_Maintain [0 1]\n",
      "CC16_426_3_Increase [0 1]\n",
      "CC16_426_3_Maintain [0 1]\n",
      "CC16_426_5_Increase [0 1]\n",
      "CC16_426_5_Maintain [0 1]\n",
      "CC16_426_4_Increase [0 1]\n",
      "CC16_426_4_Maintain [1 0]\n",
      "veteran [0 1]\n",
      "family_vet [1 0]\n",
      "race_Black [0 1]\n",
      "race_Middle Eastern [0 1]\n",
      "race_Mixed [0 1]\n",
      "race_Native American [0 1]\n",
      "race_Other [0 1]\n",
      "race_White [1 0]\n",
      "college [0 1]\n",
      "Party_Independent [0 1]\n",
      "Party_Republican [1 0]\n",
      "relig_Atheist [0 1]\n",
      "relig_Buddhist [0 1]\n",
      "relig_Eastern or Greek Orthodox [0 1]\n",
      "relig_Hindu [0 1]\n",
      "relig_Jewish [0 1]\n",
      "relig_Mormon [0 1]\n",
      "relig_Muslim [0 1]\n",
      "relig_Nothing in particular [1 0]\n",
      "relig_Protestant [0 1]\n",
      "relig_Roman Catholic [0 1]\n",
      "relig_Something else [0 1]\n",
      "straight [1 0]\n",
      "immigrant [0 1]\n",
      "union_member [0 1]\n",
      "pres_Johnson [0 1]\n",
      "pres_McMullin [0 1]\n",
      "pres_None [0 1]\n",
      "pres_Other [0 1]\n",
      "pres_Stein [0 1]\n",
      "pres_Trump [1 0]\n",
      "employ_Homemaker [1 0]\n",
      "employ_Other [0 1]\n",
      "employ_Part-time [0 1]\n",
      "employ_Permanently disabled [0 1]\n",
      "employ_Retired [0 1]\n",
      "employ_Student [0 1]\n",
      "employ_Temporarily laid off [0 1]\n",
      "employ_Unemployed [0 1]\n",
      "mar_Domestic partnership [0 1]\n",
      "mar_Married [1 0]\n",
      "mar_Separated [0 1]\n",
      "mar_Single [0 1]\n",
      "mar_Widowed [0 1]\n",
      "religimp_Not too important [0 1]\n",
      "religimp_Somewhat important [1 0]\n",
      "religimp_Very important [0 1]\n"
     ]
    }
   ],
   "source": [
    "for col in df.columns:\n",
    "    print (col, df[col].unique())"
   ]
  },
  {
   "cell_type": "code",
   "execution_count": 5,
   "metadata": {
    "collapsed": true
   },
   "outputs": [],
   "source": [
    "#todrop = ['Unnamed: 0', 'tookpost']\n",
    "\n",
    "df = df.drop('tookpost', axis = 1)\n",
    "df = df.drop('Unnamed: 0', axis = 1)"
   ]
  },
  {
   "cell_type": "code",
   "execution_count": 6,
   "metadata": {},
   "outputs": [
    {
     "name": "stdout",
     "output_type": "stream",
     "text": [
      "gender [0 1]\n",
      "CC16_331_1 [0 1]\n",
      "CC16_331_2 [1 0]\n",
      "CC16_331_3 [0 1]\n",
      "CC16_331_7 [1 0]\n",
      "milstat_1 [0 1]\n",
      "milstat_2 [0 1]\n",
      "milstat_3 [0 1]\n",
      "milstat_4 [1 0]\n",
      "CC16_351K [ 1.  0.]\n",
      "faminc [  54999.   64999.    5000.   24999.   34999.   44999.   14999.  109999.\n",
      "   74999.   89999.  500000.  150000.  174999.  134999.  424999.  224999.\n",
      "  299999.]\n",
      "CC16_334a [ 1.  0.]\n",
      "CC16_334b [ 1.  0.]\n",
      "CC16_334d [ 1.  0.]\n",
      "pew_bornagain [ 0.  1.]\n",
      "CC16_334c [ 0.  1.]\n",
      "CC16_333d [ 0.  1.]\n",
      "CC16_333b [ 0.  1.]\n",
      "CC16_333a [ 0.  1.]\n",
      "CC16_332a [ 1.  0.]\n",
      "CC16_332d [ 0.  1.]\n",
      "CC16_332e [ 0.  1.]\n",
      "CC16_333c [ 0.  1.]\n",
      "CC16_332c [ 1.  0.]\n",
      "CC16_332f [ 0.  1.]\n",
      "CC16_351I [ 1.  0.]\n",
      "CC16_332b [ 0.  1.]\n",
      "child18 [ 0.  1.]\n",
      "CC16_351B [ 1.  0.]\n",
      "CC16_351E [ 1.  0.]\n",
      "CC16_327 [ 0.  1.]\n",
      "CC16_351G [ 1.  0.]\n",
      "CC16_351F [ 0.  1.]\n",
      "CC16_330a [ 1.  0.]\n",
      "CC16_351H [ 0.  1.]\n",
      "CC16_330e [ 0.  1.]\n",
      "CC16_330b [ 0.  1.]\n",
      "CC16_330d [ 0.  1.]\n",
      "CC16_335 [ 1.  0.]\n",
      "hispanic [ 0.  1.]\n",
      "investor [ 0.  1.]\n",
      "trans [0 1]\n",
      "votereg_post [ 1.  0.]\n",
      "CC16_414_1 [0 1]\n",
      "CC16_414_2 [1 0]\n",
      "CC16_414_3 [1 0]\n",
      "CC16_414_4 [0 1]\n",
      "CC16_414_5 [1 0]\n",
      "CC16_414_6 [1 0]\n",
      "CC16_417a_1 [0 1]\n",
      "CC16_417a_2 [0 1]\n",
      "CC16_417a_3 [0 1]\n",
      "CC16_417a_4 [0 1]\n",
      "CC16_417a_5 [0 1]\n",
      "edloan [ 0.  1.]\n",
      "CC16_418a [ 0.  1.]\n",
      "voted [1 0]\n",
      "age [49 36 55 56 61 33 42 30 39 57 60 73 28 47 78 62 37 58 40 51 64 34 24 59 54\n",
      " 27 53 76 69 79 84 74 43 41 52 72 48 26 38 65 44 63 35 32 81 82 70 67 31 21\n",
      " 71 68 77 80 29 50 45 22 23 66 83 75 86 91 85 87 46 25 93 88 90 94 89 95 20\n",
      " 97 92 96]\n",
      "CC16_422d_Disagree [0 1]\n",
      "CC16_422d_Neutral [1 0]\n",
      "CC16_422c_Disagree [0 1]\n",
      "CC16_422c_Neutral [0 1]\n",
      "CC16_422f_Disagree [0 1]\n",
      "CC16_422f_Neutral [1 0]\n",
      "CC16_422e_Disagree [1 0]\n",
      "CC16_422e_Neutral [0 1]\n",
      "CC16_426_1_Increase [0 1]\n",
      "CC16_426_1_Maintain [0 1]\n",
      "CC16_426_2_Increase [1 0]\n",
      "CC16_426_2_Maintain [0 1]\n",
      "CC16_426_3_Increase [0 1]\n",
      "CC16_426_3_Maintain [0 1]\n",
      "CC16_426_5_Increase [0 1]\n",
      "CC16_426_5_Maintain [0 1]\n",
      "CC16_426_4_Increase [0 1]\n",
      "CC16_426_4_Maintain [1 0]\n",
      "veteran [0 1]\n",
      "family_vet [1 0]\n",
      "race_Black [0 1]\n",
      "race_Middle Eastern [0 1]\n",
      "race_Mixed [0 1]\n",
      "race_Native American [0 1]\n",
      "race_Other [0 1]\n",
      "race_White [1 0]\n",
      "college [0 1]\n",
      "Party_Independent [0 1]\n",
      "Party_Republican [1 0]\n",
      "relig_Atheist [0 1]\n",
      "relig_Buddhist [0 1]\n",
      "relig_Eastern or Greek Orthodox [0 1]\n",
      "relig_Hindu [0 1]\n",
      "relig_Jewish [0 1]\n",
      "relig_Mormon [0 1]\n",
      "relig_Muslim [0 1]\n",
      "relig_Nothing in particular [1 0]\n",
      "relig_Protestant [0 1]\n",
      "relig_Roman Catholic [0 1]\n",
      "relig_Something else [0 1]\n",
      "straight [1 0]\n",
      "immigrant [0 1]\n",
      "union_member [0 1]\n",
      "pres_Johnson [0 1]\n",
      "pres_McMullin [0 1]\n",
      "pres_None [0 1]\n",
      "pres_Other [0 1]\n",
      "pres_Stein [0 1]\n",
      "pres_Trump [1 0]\n",
      "employ_Homemaker [1 0]\n",
      "employ_Other [0 1]\n",
      "employ_Part-time [0 1]\n",
      "employ_Permanently disabled [0 1]\n",
      "employ_Retired [0 1]\n",
      "employ_Student [0 1]\n",
      "employ_Temporarily laid off [0 1]\n",
      "employ_Unemployed [0 1]\n",
      "mar_Domestic partnership [0 1]\n",
      "mar_Married [1 0]\n",
      "mar_Separated [0 1]\n",
      "mar_Single [0 1]\n",
      "mar_Widowed [0 1]\n",
      "religimp_Not too important [0 1]\n",
      "religimp_Somewhat important [1 0]\n",
      "religimp_Very important [0 1]\n"
     ]
    }
   ],
   "source": [
    "for col in df.columns:\n",
    "    print (col, df[col].unique())"
   ]
  },
  {
   "cell_type": "code",
   "execution_count": 7,
   "metadata": {
    "collapsed": true
   },
   "outputs": [],
   "source": [
    "from sklearn.preprocessing import MinMaxScaler\n",
    "\n",
    "x = df.values\n",
    "min_max_scaler = MinMaxScaler()\n",
    "x = min_max_scaler.fit_transform(x)"
   ]
  },
  {
   "cell_type": "code",
   "execution_count": 8,
   "metadata": {},
   "outputs": [
    {
     "data": {
      "text/html": [
       "<div>\n",
       "<style>\n",
       "    .dataframe thead tr:only-child th {\n",
       "        text-align: right;\n",
       "    }\n",
       "\n",
       "    .dataframe thead th {\n",
       "        text-align: left;\n",
       "    }\n",
       "\n",
       "    .dataframe tbody tr th {\n",
       "        vertical-align: top;\n",
       "    }\n",
       "</style>\n",
       "<table border=\"1\" class=\"dataframe\">\n",
       "  <thead>\n",
       "    <tr style=\"text-align: right;\">\n",
       "      <th></th>\n",
       "      <th>gender</th>\n",
       "      <th>CC16_331_1</th>\n",
       "      <th>CC16_331_2</th>\n",
       "      <th>CC16_331_3</th>\n",
       "      <th>CC16_331_7</th>\n",
       "      <th>milstat_1</th>\n",
       "      <th>milstat_2</th>\n",
       "      <th>milstat_3</th>\n",
       "      <th>milstat_4</th>\n",
       "      <th>CC16_351K</th>\n",
       "      <th>...</th>\n",
       "      <th>employ_Temporarily laid off</th>\n",
       "      <th>employ_Unemployed</th>\n",
       "      <th>mar_Domestic partnership</th>\n",
       "      <th>mar_Married</th>\n",
       "      <th>mar_Separated</th>\n",
       "      <th>mar_Single</th>\n",
       "      <th>mar_Widowed</th>\n",
       "      <th>religimp_Not too important</th>\n",
       "      <th>religimp_Somewhat important</th>\n",
       "      <th>religimp_Very important</th>\n",
       "    </tr>\n",
       "  </thead>\n",
       "  <tbody>\n",
       "    <tr>\n",
       "      <th>0</th>\n",
       "      <td>0.0</td>\n",
       "      <td>0.0</td>\n",
       "      <td>1.0</td>\n",
       "      <td>0.0</td>\n",
       "      <td>1.0</td>\n",
       "      <td>0.0</td>\n",
       "      <td>0.0</td>\n",
       "      <td>0.0</td>\n",
       "      <td>1.0</td>\n",
       "      <td>1.0</td>\n",
       "      <td>...</td>\n",
       "      <td>0.0</td>\n",
       "      <td>0.0</td>\n",
       "      <td>0.0</td>\n",
       "      <td>1.0</td>\n",
       "      <td>0.0</td>\n",
       "      <td>0.0</td>\n",
       "      <td>0.0</td>\n",
       "      <td>0.0</td>\n",
       "      <td>1.0</td>\n",
       "      <td>0.0</td>\n",
       "    </tr>\n",
       "    <tr>\n",
       "      <th>1</th>\n",
       "      <td>0.0</td>\n",
       "      <td>1.0</td>\n",
       "      <td>0.0</td>\n",
       "      <td>1.0</td>\n",
       "      <td>0.0</td>\n",
       "      <td>0.0</td>\n",
       "      <td>0.0</td>\n",
       "      <td>0.0</td>\n",
       "      <td>1.0</td>\n",
       "      <td>1.0</td>\n",
       "      <td>...</td>\n",
       "      <td>0.0</td>\n",
       "      <td>0.0</td>\n",
       "      <td>0.0</td>\n",
       "      <td>1.0</td>\n",
       "      <td>0.0</td>\n",
       "      <td>0.0</td>\n",
       "      <td>0.0</td>\n",
       "      <td>0.0</td>\n",
       "      <td>0.0</td>\n",
       "      <td>0.0</td>\n",
       "    </tr>\n",
       "    <tr>\n",
       "      <th>2</th>\n",
       "      <td>0.0</td>\n",
       "      <td>1.0</td>\n",
       "      <td>1.0</td>\n",
       "      <td>0.0</td>\n",
       "      <td>1.0</td>\n",
       "      <td>0.0</td>\n",
       "      <td>0.0</td>\n",
       "      <td>0.0</td>\n",
       "      <td>0.0</td>\n",
       "      <td>1.0</td>\n",
       "      <td>...</td>\n",
       "      <td>0.0</td>\n",
       "      <td>0.0</td>\n",
       "      <td>0.0</td>\n",
       "      <td>0.0</td>\n",
       "      <td>0.0</td>\n",
       "      <td>0.0</td>\n",
       "      <td>1.0</td>\n",
       "      <td>0.0</td>\n",
       "      <td>0.0</td>\n",
       "      <td>1.0</td>\n",
       "    </tr>\n",
       "    <tr>\n",
       "      <th>3</th>\n",
       "      <td>1.0</td>\n",
       "      <td>0.0</td>\n",
       "      <td>1.0</td>\n",
       "      <td>0.0</td>\n",
       "      <td>1.0</td>\n",
       "      <td>0.0</td>\n",
       "      <td>0.0</td>\n",
       "      <td>0.0</td>\n",
       "      <td>0.0</td>\n",
       "      <td>1.0</td>\n",
       "      <td>...</td>\n",
       "      <td>0.0</td>\n",
       "      <td>0.0</td>\n",
       "      <td>0.0</td>\n",
       "      <td>0.0</td>\n",
       "      <td>1.0</td>\n",
       "      <td>0.0</td>\n",
       "      <td>0.0</td>\n",
       "      <td>0.0</td>\n",
       "      <td>0.0</td>\n",
       "      <td>1.0</td>\n",
       "    </tr>\n",
       "    <tr>\n",
       "      <th>4</th>\n",
       "      <td>1.0</td>\n",
       "      <td>0.0</td>\n",
       "      <td>1.0</td>\n",
       "      <td>0.0</td>\n",
       "      <td>1.0</td>\n",
       "      <td>0.0</td>\n",
       "      <td>0.0</td>\n",
       "      <td>0.0</td>\n",
       "      <td>1.0</td>\n",
       "      <td>0.0</td>\n",
       "      <td>...</td>\n",
       "      <td>1.0</td>\n",
       "      <td>0.0</td>\n",
       "      <td>0.0</td>\n",
       "      <td>1.0</td>\n",
       "      <td>0.0</td>\n",
       "      <td>0.0</td>\n",
       "      <td>0.0</td>\n",
       "      <td>1.0</td>\n",
       "      <td>0.0</td>\n",
       "      <td>0.0</td>\n",
       "    </tr>\n",
       "  </tbody>\n",
       "</table>\n",
       "<p>5 rows × 123 columns</p>\n",
       "</div>"
      ],
      "text/plain": [
       "   gender  CC16_331_1  CC16_331_2  CC16_331_3  CC16_331_7  milstat_1  \\\n",
       "0     0.0         0.0         1.0         0.0         1.0        0.0   \n",
       "1     0.0         1.0         0.0         1.0         0.0        0.0   \n",
       "2     0.0         1.0         1.0         0.0         1.0        0.0   \n",
       "3     1.0         0.0         1.0         0.0         1.0        0.0   \n",
       "4     1.0         0.0         1.0         0.0         1.0        0.0   \n",
       "\n",
       "   milstat_2  milstat_3  milstat_4  CC16_351K           ...             \\\n",
       "0        0.0        0.0        1.0        1.0           ...              \n",
       "1        0.0        0.0        1.0        1.0           ...              \n",
       "2        0.0        0.0        0.0        1.0           ...              \n",
       "3        0.0        0.0        0.0        1.0           ...              \n",
       "4        0.0        0.0        1.0        0.0           ...              \n",
       "\n",
       "   employ_Temporarily laid off  employ_Unemployed  mar_Domestic partnership  \\\n",
       "0                          0.0                0.0                       0.0   \n",
       "1                          0.0                0.0                       0.0   \n",
       "2                          0.0                0.0                       0.0   \n",
       "3                          0.0                0.0                       0.0   \n",
       "4                          1.0                0.0                       0.0   \n",
       "\n",
       "   mar_Married  mar_Separated  mar_Single  mar_Widowed  \\\n",
       "0          1.0            0.0         0.0          0.0   \n",
       "1          1.0            0.0         0.0          0.0   \n",
       "2          0.0            0.0         0.0          1.0   \n",
       "3          0.0            1.0         0.0          0.0   \n",
       "4          1.0            0.0         0.0          0.0   \n",
       "\n",
       "   religimp_Not too important  religimp_Somewhat important  \\\n",
       "0                         0.0                          1.0   \n",
       "1                         0.0                          0.0   \n",
       "2                         0.0                          0.0   \n",
       "3                         0.0                          0.0   \n",
       "4                         1.0                          0.0   \n",
       "\n",
       "   religimp_Very important  \n",
       "0                      0.0  \n",
       "1                      0.0  \n",
       "2                      1.0  \n",
       "3                      1.0  \n",
       "4                      0.0  \n",
       "\n",
       "[5 rows x 123 columns]"
      ]
     },
     "execution_count": 8,
     "metadata": {},
     "output_type": "execute_result"
    }
   ],
   "source": [
    "df_scaled = pd.DataFrame(x, columns = df.columns)\n",
    "df_scaled.head()"
   ]
  },
  {
   "cell_type": "code",
   "execution_count": 9,
   "metadata": {},
   "outputs": [
    {
     "name": "stdout",
     "output_type": "stream",
     "text": [
      "gender [ 0.  1.]\n",
      "CC16_331_1 [ 0.  1.]\n",
      "CC16_331_2 [ 1.  0.]\n",
      "CC16_331_3 [ 0.  1.]\n",
      "CC16_331_7 [ 1.  0.]\n",
      "milstat_1 [ 0.  1.]\n",
      "milstat_2 [ 0.  1.]\n",
      "milstat_3 [ 0.  1.]\n",
      "milstat_4 [ 1.  0.]\n",
      "CC16_351K [ 1.  0.]\n",
      "faminc [ 0.10100808  0.1212101   0.          0.04040202  0.06060404  0.08080606\n",
      "  0.0202      0.21211919  0.14141212  0.17171515  1.          0.29292929\n",
      "  0.34343232  0.26262424  0.84848283  0.44444242  0.59595758]\n",
      "CC16_334a [ 1.  0.]\n",
      "CC16_334b [ 1.  0.]\n",
      "CC16_334d [ 1.  0.]\n",
      "pew_bornagain [ 0.  1.]\n",
      "CC16_334c [ 0.  1.]\n",
      "CC16_333d [ 0.  1.]\n",
      "CC16_333b [ 0.  1.]\n",
      "CC16_333a [ 0.  1.]\n",
      "CC16_332a [ 1.  0.]\n",
      "CC16_332d [ 0.  1.]\n",
      "CC16_332e [ 0.  1.]\n",
      "CC16_333c [ 0.  1.]\n",
      "CC16_332c [ 1.  0.]\n",
      "CC16_332f [ 0.  1.]\n",
      "CC16_351I [ 1.  0.]\n",
      "CC16_332b [ 0.  1.]\n",
      "child18 [ 0.  1.]\n",
      "CC16_351B [ 1.  0.]\n",
      "CC16_351E [ 1.  0.]\n",
      "CC16_327 [ 0.  1.]\n",
      "CC16_351G [ 1.  0.]\n",
      "CC16_351F [ 0.  1.]\n",
      "CC16_330a [ 1.  0.]\n",
      "CC16_351H [ 0.  1.]\n",
      "CC16_330e [ 0.  1.]\n",
      "CC16_330b [ 0.  1.]\n",
      "CC16_330d [ 0.  1.]\n",
      "CC16_335 [ 1.  0.]\n",
      "hispanic [ 0.  1.]\n",
      "investor [ 0.  1.]\n",
      "trans [ 0.  1.]\n",
      "votereg_post [ 1.  0.]\n",
      "CC16_414_1 [ 0.  1.]\n",
      "CC16_414_2 [ 1.  0.]\n",
      "CC16_414_3 [ 1.  0.]\n",
      "CC16_414_4 [ 0.  1.]\n",
      "CC16_414_5 [ 1.  0.]\n",
      "CC16_414_6 [ 1.  0.]\n",
      "CC16_417a_1 [ 0.  1.]\n",
      "CC16_417a_2 [ 0.  1.]\n",
      "CC16_417a_3 [ 0.  1.]\n",
      "CC16_417a_4 [ 0.  1.]\n",
      "CC16_417a_5 [ 0.  1.]\n",
      "edloan [ 0.  1.]\n",
      "CC16_418a [ 0.  1.]\n",
      "voted [ 1.  0.]\n",
      "age [ 0.37662338  0.20779221  0.45454545  0.46753247  0.53246753  0.16883117\n",
      "  0.28571429  0.12987013  0.24675325  0.48051948  0.51948052  0.68831169\n",
      "  0.1038961   0.35064935  0.75324675  0.54545455  0.22077922  0.49350649\n",
      "  0.25974026  0.4025974   0.57142857  0.18181818  0.05194805  0.50649351\n",
      "  0.44155844  0.09090909  0.42857143  0.72727273  0.63636364  0.76623377\n",
      "  0.83116883  0.7012987   0.2987013   0.27272727  0.41558442  0.67532468\n",
      "  0.36363636  0.07792208  0.23376623  0.58441558  0.31168831  0.55844156\n",
      "  0.19480519  0.15584416  0.79220779  0.80519481  0.64935065  0.61038961\n",
      "  0.14285714  0.01298701  0.66233766  0.62337662  0.74025974  0.77922078\n",
      "  0.11688312  0.38961039  0.32467532  0.02597403  0.03896104  0.5974026\n",
      "  0.81818182  0.71428571  0.85714286  0.92207792  0.84415584  0.87012987\n",
      "  0.33766234  0.06493506  0.94805195  0.88311688  0.90909091  0.96103896\n",
      "  0.8961039   0.97402597  0.          1.          0.93506494  0.98701299]\n",
      "CC16_422d_Disagree [ 0.  1.]\n",
      "CC16_422d_Neutral [ 1.  0.]\n",
      "CC16_422c_Disagree [ 0.  1.]\n",
      "CC16_422c_Neutral [ 0.  1.]\n",
      "CC16_422f_Disagree [ 0.  1.]\n",
      "CC16_422f_Neutral [ 1.  0.]\n",
      "CC16_422e_Disagree [ 1.  0.]\n",
      "CC16_422e_Neutral [ 0.  1.]\n",
      "CC16_426_1_Increase [ 0.  1.]\n",
      "CC16_426_1_Maintain [ 0.  1.]\n",
      "CC16_426_2_Increase [ 1.  0.]\n",
      "CC16_426_2_Maintain [ 0.  1.]\n",
      "CC16_426_3_Increase [ 0.  1.]\n",
      "CC16_426_3_Maintain [ 0.  1.]\n",
      "CC16_426_5_Increase [ 0.  1.]\n",
      "CC16_426_5_Maintain [ 0.  1.]\n",
      "CC16_426_4_Increase [ 0.  1.]\n",
      "CC16_426_4_Maintain [ 1.  0.]\n",
      "veteran [ 0.  1.]\n",
      "family_vet [ 1.  0.]\n",
      "race_Black [ 0.  1.]\n",
      "race_Middle Eastern [ 0.  1.]\n",
      "race_Mixed [ 0.  1.]\n",
      "race_Native American [ 0.  1.]\n",
      "race_Other [ 0.  1.]\n",
      "race_White [ 1.  0.]\n",
      "college [ 0.  1.]\n",
      "Party_Independent [ 0.  1.]\n",
      "Party_Republican [ 1.  0.]\n",
      "relig_Atheist [ 0.  1.]\n",
      "relig_Buddhist [ 0.  1.]\n",
      "relig_Eastern or Greek Orthodox [ 0.  1.]\n",
      "relig_Hindu [ 0.  1.]\n",
      "relig_Jewish [ 0.  1.]\n",
      "relig_Mormon [ 0.  1.]\n",
      "relig_Muslim [ 0.  1.]\n",
      "relig_Nothing in particular [ 1.  0.]\n",
      "relig_Protestant [ 0.  1.]\n",
      "relig_Roman Catholic [ 0.  1.]\n",
      "relig_Something else [ 0.  1.]\n",
      "straight [ 1.  0.]\n",
      "immigrant [ 0.  1.]\n",
      "union_member [ 0.  1.]\n",
      "pres_Johnson [ 0.  1.]\n",
      "pres_McMullin [ 0.  1.]\n",
      "pres_None [ 0.  1.]\n",
      "pres_Other [ 0.  1.]\n",
      "pres_Stein [ 0.  1.]\n",
      "pres_Trump [ 1.  0.]\n",
      "employ_Homemaker [ 1.  0.]\n",
      "employ_Other [ 0.  1.]\n",
      "employ_Part-time [ 0.  1.]\n",
      "employ_Permanently disabled [ 0.  1.]\n",
      "employ_Retired [ 0.  1.]\n",
      "employ_Student [ 0.  1.]\n",
      "employ_Temporarily laid off [ 0.  1.]\n",
      "employ_Unemployed [ 0.  1.]\n",
      "mar_Domestic partnership [ 0.  1.]\n",
      "mar_Married [ 1.  0.]\n",
      "mar_Separated [ 0.  1.]\n",
      "mar_Single [ 0.  1.]\n",
      "mar_Widowed [ 0.  1.]\n",
      "religimp_Not too important [ 0.  1.]\n",
      "religimp_Somewhat important [ 1.  0.]\n",
      "religimp_Very important [ 0.  1.]\n"
     ]
    }
   ],
   "source": [
    "for col in df_scaled.columns:\n",
    "    print (col, df_scaled[col].unique())"
   ]
  },
  {
   "cell_type": "code",
   "execution_count": 10,
   "metadata": {
    "collapsed": true
   },
   "outputs": [],
   "source": [
    "df = df_scaled"
   ]
  },
  {
   "cell_type": "code",
   "execution_count": 11,
   "metadata": {
    "collapsed": true
   },
   "outputs": [],
   "source": [
    "from sklearn.cluster import KMeans"
   ]
  },
  {
   "cell_type": "code",
   "execution_count": 12,
   "metadata": {},
   "outputs": [
    {
     "data": {
      "image/png": "[encoded data removed]",
      "text/plain": [
       "<matplotlib.figure.Figure at 0x1f0cace36d8>"
      ]
     },
     "metadata": {},
     "output_type": "display_data"
    }
   ],
   "source": [
    "SS = []\n",
    "for k in range(2,9):\n",
    "    kmeans_cluster = KMeans(n_clusters = k, random_state=42).fit(df)\n",
    "    SS.append(kmeans_cluster.inertia_)\n",
    "\n",
    "plt.scatter(range(2,9), SS)\n",
    "plt.xlabel(\"Number of clusters\")\n",
    "plt.ylabel(\"Sum of squares error\")\n",
    "plt.show()"
   ]
  },
  {
   "cell_type": "markdown",
   "metadata": {},
   "source": [
    "ehh it's kind of linear, don't really see an \"elbow\" (maybe four?). also the y axis doesn't start at 0, might mean I need lots more clusters. hmm..."
   ]
  },
  {
   "cell_type": "code",
   "execution_count": 13,
   "metadata": {
    "collapsed": true
   },
   "outputs": [],
   "source": [
    "from collections import Counter"
   ]
  },
  {
   "cell_type": "code",
   "execution_count": 14,
   "metadata": {},
   "outputs": [
    {
     "data": {
      "text/plain": [
       "Counter({0: 19621, 1: 28509})"
      ]
     },
     "execution_count": 14,
     "metadata": {},
     "output_type": "execute_result"
    }
   ],
   "source": [
    "two_clusters = KMeans(n_clusters = 2, random_state=42).fit(df)\n",
    "Counter(two_clusters.labels_)"
   ]
  },
  {
   "cell_type": "code",
   "execution_count": 15,
   "metadata": {
    "collapsed": true
   },
   "outputs": [],
   "source": [
    "df1 = pd.DataFrame(two_clusters.labels_, columns = ['two_cluster_label'])\n",
    "\n",
    "df = pd.concat([df, df1], axis = 1)"
   ]
  },
  {
   "cell_type": "code",
   "execution_count": 16,
   "metadata": {},
   "outputs": [
    {
     "data": {
      "text/plain": [
       "two_cluster_label  pres_Trump\n",
       "0                  0.0            4344\n",
       "                   1.0           15277\n",
       "1                  0.0           26589\n",
       "                   1.0            1920\n",
       "dtype: int64"
      ]
     },
     "execution_count": 16,
     "metadata": {},
     "output_type": "execute_result"
    }
   ],
   "source": [
    "df.groupby(['two_cluster_label', 'pres_Trump']).size()"
   ]
  },
  {
   "cell_type": "code",
   "execution_count": 17,
   "metadata": {},
   "outputs": [
    {
     "data": {
      "text/plain": [
       "0.06715869740109832"
      ]
     },
     "execution_count": 17,
     "metadata": {},
     "output_type": "execute_result"
    }
   ],
   "source": [
    "1920/28589"
   ]
  },
  {
   "cell_type": "markdown",
   "metadata": {},
   "source": [
    "In the two clusters, one cluster had 15277/19621 (77.86%) vote for Trump. The other had 1920/28589 (6.7%) vote for Trump. So we see a pretty striking party gap."
   ]
  },
  {
   "cell_type": "code",
   "execution_count": 18,
   "metadata": {
    "collapsed": true
   },
   "outputs": [],
   "source": [
    "EDA_df = pd.read_csv('EDA.csv')"
   ]
  },
  {
   "cell_type": "code",
   "execution_count": 19,
   "metadata": {
    "collapsed": true
   },
   "outputs": [],
   "source": [
    "EDA_df = pd.concat([df1, EDA_df], axis = 1)"
   ]
  },
  {
   "cell_type": "code",
   "execution_count": 20,
   "metadata": {},
   "outputs": [
    {
     "data": {
      "text/plain": [
       "two_cluster_label  presvote\n",
       "0                  Clinton       990\n",
       "                   Johnson       760\n",
       "                   McMullin      113\n",
       "                   None         1920\n",
       "                   Other         499\n",
       "                   Stein          62\n",
       "                   Trump       15277\n",
       "1                  Clinton     19472\n",
       "                   Johnson       938\n",
       "                   McMullin       46\n",
       "                   None         4811\n",
       "                   Other         534\n",
       "                   Stein         788\n",
       "                   Trump        1920\n",
       "dtype: int64"
      ]
     },
     "execution_count": 20,
     "metadata": {},
     "output_type": "execute_result"
    }
   ],
   "source": [
    "EDA_df.groupby(['two_cluster_label', 'presvote']).size()"
   ]
  },
  {
   "cell_type": "code",
   "execution_count": 21,
   "metadata": {
    "collapsed": true
   },
   "outputs": [],
   "source": [
    "four = KMeans(n_clusters = 4, random_state=42).fit(df)"
   ]
  },
  {
   "cell_type": "code",
   "execution_count": 22,
   "metadata": {
    "collapsed": true
   },
   "outputs": [],
   "source": [
    "df2 = pd.DataFrame(four.labels_, columns = ['four_cluster_label'])\n",
    "\n",
    "df = pd.concat([df, df2], axis = 1)"
   ]
  },
  {
   "cell_type": "code",
   "execution_count": 23,
   "metadata": {
    "collapsed": true
   },
   "outputs": [],
   "source": [
    "EDA_df = pd.concat([df2, EDA_df], axis = 1)"
   ]
  },
  {
   "cell_type": "code",
   "execution_count": 24,
   "metadata": {},
   "outputs": [
    {
     "data": {
      "text/plain": [
       "four_cluster_label  presvote\n",
       "0                   Clinton      3130\n",
       "                    Johnson       495\n",
       "                    McMullin       34\n",
       "                    None         3095\n",
       "                    Other         202\n",
       "                    Stein         169\n",
       "                    Trump        1282\n",
       "1                   Clinton       205\n",
       "                    Johnson       489\n",
       "                    McMullin       84\n",
       "                    None          439\n",
       "                    Other         349\n",
       "                    Stein          21\n",
       "                    Trump       12588\n",
       "2                   Clinton      5057\n",
       "                    Johnson       435\n",
       "                    McMullin       31\n",
       "                    None         2651\n",
       "                    Other         268\n",
       "                    Stein         145\n",
       "                    Trump        3184\n",
       "3                   Clinton     12070\n",
       "                    Johnson       279\n",
       "                    McMullin       10\n",
       "                    None          546\n",
       "                    Other         214\n",
       "                    Stein         515\n",
       "                    Trump         143\n",
       "dtype: int64"
      ]
     },
     "execution_count": 24,
     "metadata": {},
     "output_type": "execute_result"
    }
   ],
   "source": [
    "EDA_df.groupby(['four_cluster_label', 'presvote']).size()"
   ]
  },
  {
   "cell_type": "markdown",
   "metadata": {},
   "source": [
    "One cluster that is overwhelming Clinton, another overwhelmingly Trump, couple that are mixed."
   ]
  },
  {
   "cell_type": "code",
   "execution_count": 25,
   "metadata": {
    "collapsed": true
   },
   "outputs": [],
   "source": [
    "six = KMeans(n_clusters = 6, random_state=42).fit(df)\n",
    "\n",
    "df3 = pd.DataFrame(six.labels_, columns = ['six_cluster_label'])\n",
    "\n",
    "EDA_df = pd.concat([EDA_df, df3], axis = 1)"
   ]
  },
  {
   "cell_type": "code",
   "execution_count": 26,
   "metadata": {},
   "outputs": [
    {
     "data": {
      "text/plain": [
       "six_cluster_label  presvote\n",
       "0                  Clinton     3130\n",
       "                   Johnson      495\n",
       "                   McMullin      34\n",
       "                   None        3091\n",
       "                   Other        201\n",
       "                   Stein        169\n",
       "                   Trump       1265\n",
       "1                  Clinton     4772\n",
       "                   Johnson      344\n",
       "                   McMullin      16\n",
       "                   None        2228\n",
       "                   Other        197\n",
       "                   Stein        131\n",
       "                   Trump       1380\n",
       "2                  Clinton       83\n",
       "                   Johnson      386\n",
       "                   McMullin      54\n",
       "                   None         236\n",
       "                   Other        267\n",
       "                   Stein         12\n",
       "                   Trump       8713\n",
       "3                  Clinton     5507\n",
       "                   Johnson       61\n",
       "                   McMullin       3\n",
       "                   None         272\n",
       "                   Other        110\n",
       "                   Stein        341\n",
       "                   Trump         44\n",
       "4                  Clinton     6562\n",
       "                   Johnson      218\n",
       "                   McMullin       7\n",
       "                   None         272\n",
       "                   Other        104\n",
       "                   Stein        174\n",
       "                   Trump        105\n",
       "5                  Clinton      408\n",
       "                   Johnson      194\n",
       "                   McMullin      45\n",
       "                   None         632\n",
       "                   Other        154\n",
       "                   Stein         23\n",
       "                   Trump       5690\n",
       "dtype: int64"
      ]
     },
     "execution_count": 26,
     "metadata": {},
     "output_type": "execute_result"
    }
   ],
   "source": [
    "EDA_df.groupby(['six_cluster_label', 'presvote']).size()"
   ]
  },
  {
   "cell_type": "markdown",
   "metadata": {},
   "source": [
    "Three Dem clusters, three Trump clusters, all fairly partisan."
   ]
  },
  {
   "cell_type": "markdown",
   "metadata": {},
   "source": [
    "To-do:\n",
    "\n",
    "some more EDA on four clusters, probably.\n",
    "replicate more from clustering exercise: silhouette score.\n",
    "\n",
    "Visualization using PCA.\n",
    "Choosing optimal number of dimensions using PCA.\n",
    "\n",
    "Machine learning: training classifiers on four-label clusters.\n",
    "\n",
    "Rewrangling to reduce bias if necessary.\n",
    "\n",
    "\n",
    "Also, classifying presidential vote for funsies!"
   ]
  },
  {
   "cell_type": "markdown",
   "metadata": {},
   "source": [
    "**Analysis of four clusters**"
   ]
  },
  {
   "cell_type": "code",
   "execution_count": 40,
   "metadata": {},
   "outputs": [
    {
     "data": {
      "text/plain": [
       "four_cluster_label\n",
       "0     8407\n",
       "1    14175\n",
       "2    11771\n",
       "3    13777\n",
       "dtype: int64"
      ]
     },
     "execution_count": 40,
     "metadata": {},
     "output_type": "execute_result"
    }
   ],
   "source": [
    "df.groupby(['four_cluster_label']).size()"
   ]
  },
  {
   "cell_type": "markdown",
   "metadata": {},
   "source": [
    "1 and 3 (the highly partisan ones) are the largest, but none are small."
   ]
  },
  {
   "cell_type": "code",
   "execution_count": 31,
   "metadata": {
    "collapsed": true
   },
   "outputs": [],
   "source": [
    "#function that plots the proportion of respondents voting for Trump or Clinton, grouped by answers to an inputted column\n",
    "def pres_plot(df, col, title = ' ', rotation = 70):\n",
    "    #Create dataframe showing proportion of respondents voting for either Trump or Clinton\n",
    "    pres_df = df.loc[(df['presvote'] == 'Trump') | (df['presvote'] == 'Clinton')].groupby([col, 'presvote']).size()\n",
    "    total = df.loc[(df['presvote'] == 'Trump') | (df['presvote'] == 'Clinton')].groupby([col]).size()\n",
    "    pres_df = pres_df / total\n",
    "    pres_df = pres_df.to_frame()\n",
    "    pres_df = pres_df.reset_index(level=[0,1])\n",
    "    pres_df = pres_df.pivot(index = col, columns = 'presvote', values = 0)\n",
    "    \n",
    "    pres_df = pres_df.sort_values('Trump')\n",
    "    _ = pres_df.plot(kind = 'bar', rot = rotation, color = ['b','r'], figsize = (7,5))\n",
    "    _ = plt.title(title)\n",
    "    _ = plt.ylim(0, 1.1)\n",
    "\n",
    "    plt.show()"
   ]
  },
  {
   "cell_type": "code",
   "execution_count": 32,
   "metadata": {},
   "outputs": [
    {
     "data": {
      "image/png": "[encoded data removed]",
      "text/plain": [
       "<matplotlib.figure.Figure at 0x1f0ced467f0>"
      ]
     },
     "metadata": {},
     "output_type": "display_data"
    }
   ],
   "source": [
    "pres_plot(EDA_df, 'four_cluster_label')"
   ]
  },
  {
   "cell_type": "code",
   "execution_count": 35,
   "metadata": {
    "collapsed": true
   },
   "outputs": [],
   "source": [
    "#function plotting how respondent's answers to a given column, grouped by how they voted for president\n",
    "def opinion_plot(groupcol, col, df, title = ''):\n",
    "    opinion_df = df.groupby([groupcol, col]).size() / df.groupby([groupcol]).size()\n",
    "\n",
    "    opinion_df = opinion_df.to_frame()\n",
    "    opinion_df = opinion_df.reset_index(level=[0,1])\n",
    "    opinion_df = opinion_df.pivot(index =groupcol, columns = col, values = 0)\n",
    "    #sort dataframe by proportion selecting the second option (1 or Favor)\n",
    "    opinion_df = opinion_df.sort_values(1)\n",
    "    #add line showing overall response\n",
    "    opinion_df.loc['Total'] = [df.groupby([col]).size()[0]/df.shape[0], df.groupby([col]).size()[1]/df.shape[0]]\n",
    "    \n",
    "    _ = opinion_df.plot(kind = 'bar', rot = 70, figsize = (6.5,4.5))\n",
    "    _ = plt.title(title)\n",
    "    _ = plt.legend(['No', 'Yes'])\n",
    "    _ = plt.ylim(0, 1.1)\n",
    "\n",
    "    plt.show()"
   ]
  },
  {
   "cell_type": "code",
   "execution_count": 37,
   "metadata": {},
   "outputs": [
    {
     "data": {
      "image/png": "[encoded data removed]",
      "text/plain": [
       "<matplotlib.figure.Figure at 0x1f0cede5a58>"
      ]
     },
     "metadata": {},
     "output_type": "display_data"
    }
   ],
   "source": [
    "opinion_plot('four_cluster_label', 'CC16_331_3', EDA_df, 'Support for legal status for undocumented immigrants')"
   ]
  },
  {
   "cell_type": "code",
   "execution_count": 39,
   "metadata": {},
   "outputs": [
    {
     "data": {
      "image/png": "[encoded data removed]",
      "text/plain": [
       "<matplotlib.figure.Figure at 0x1f0cad0a048>"
      ]
     },
     "metadata": {},
     "output_type": "display_data"
    }
   ],
   "source": [
    "opinion_plot('four_cluster_label', 'CC16_351K', EDA_df, 'Support for raising minimum wage to $12 an hour')"
   ]
  },
  {
   "cell_type": "code",
   "execution_count": 55,
   "metadata": {},
   "outputs": [
    {
     "data": {
      "image/png": "[encoded data removed]",
      "text/plain": [
       "<matplotlib.figure.Figure at 0x1f0cf32a630>"
      ]
     },
     "metadata": {},
     "output_type": "display_data"
    }
   ],
   "source": [
    "#exclude Other, McMullin, and Stein due to small number of responses\n",
    "major_df = EDA_df.loc[(EDA_df['presvote'] != 'Other') & (EDA_df['presvote'] != 'McMullin') & (EDA_df['presvote'] != 'Stein')]\n",
    "pres_df = major_df.groupby(['four_cluster_label', 'presvote']).size() / EDA_df.groupby(['four_cluster_label']).size()\n",
    "pres_df = pres_df.to_frame()\n",
    "pres_df = pres_df.reset_index(level=[0,1])\n",
    "pres_df = pres_df.pivot(index ='four_cluster_label', columns = 'presvote', values = 0)\n",
    "    \n",
    "_ = pres_df.plot(kind = 'bar', rot = 70, figsize = (6.5,4.5))\n",
    "_ = plt.title('Presidential vote by cluster')\n",
    "\n",
    "_ = plt.ylim(0, 1.1)\n",
    "\n",
    "plt.show()"
   ]
  },
  {
   "cell_type": "markdown",
   "metadata": {},
   "source": [
    "what distinguishes 0 and 2 is the larger number of non-voters. 0 contains a smaller proportion of Trump voters and a larger proportion of non-voters."
   ]
  },
  {
   "cell_type": "code",
   "execution_count": 59,
   "metadata": {},
   "outputs": [
    {
     "name": "stdout",
     "output_type": "stream",
     "text": [
      "gender\n",
      "CC16_331_1\n",
      "CC16_331_2\n",
      "CC16_331_3\n",
      "CC16_331_7\n",
      "milstat_1\n",
      "milstat_2\n",
      "milstat_3\n",
      "milstat_4\n",
      "CC16_351K\n",
      "faminc\n",
      "CC16_334a\n",
      "CC16_334b\n",
      "CC16_334d\n",
      "pew_bornagain\n",
      "CC16_334c\n",
      "CC16_333d\n",
      "CC16_333b\n",
      "CC16_333a\n",
      "CC16_332a\n",
      "CC16_332d\n",
      "CC16_332e\n",
      "CC16_333c\n",
      "CC16_332c\n",
      "CC16_332f\n",
      "CC16_351I\n",
      "CC16_332b\n",
      "child18\n",
      "CC16_351B\n",
      "CC16_351E\n",
      "CC16_327\n",
      "CC16_351G\n",
      "CC16_351F\n",
      "CC16_330a\n",
      "CC16_351H\n",
      "CC16_330e\n",
      "CC16_330b\n",
      "CC16_330d\n",
      "CC16_335\n",
      "hispanic\n",
      "investor\n",
      "trans\n",
      "votereg_post\n",
      "CC16_414_1\n",
      "CC16_414_2\n",
      "CC16_414_3\n",
      "CC16_414_4\n",
      "CC16_414_5\n",
      "CC16_414_6\n",
      "CC16_417a_1\n",
      "CC16_417a_2\n",
      "CC16_417a_3\n",
      "CC16_417a_4\n",
      "CC16_417a_5\n",
      "edloan\n",
      "CC16_418a\n",
      "voted\n",
      "age\n",
      "CC16_422d_Disagree\n",
      "CC16_422d_Neutral\n",
      "CC16_422c_Disagree\n",
      "CC16_422c_Neutral\n",
      "CC16_422f_Disagree\n",
      "CC16_422f_Neutral\n",
      "CC16_422e_Disagree\n",
      "CC16_422e_Neutral\n",
      "CC16_426_1_Increase\n",
      "CC16_426_1_Maintain\n",
      "CC16_426_2_Increase\n",
      "CC16_426_2_Maintain\n",
      "CC16_426_3_Increase\n",
      "CC16_426_3_Maintain\n",
      "CC16_426_5_Increase\n",
      "CC16_426_5_Maintain\n",
      "CC16_426_4_Increase\n",
      "CC16_426_4_Maintain\n",
      "veteran\n",
      "family_vet\n",
      "race_Black\n",
      "race_Middle Eastern\n",
      "race_Mixed\n",
      "race_Native American\n",
      "race_Other\n",
      "race_White\n",
      "college\n",
      "Party_Independent\n",
      "Party_Republican\n",
      "relig_Atheist\n",
      "relig_Buddhist\n",
      "relig_Eastern or Greek Orthodox\n",
      "relig_Hindu\n",
      "relig_Jewish\n",
      "relig_Mormon\n",
      "relig_Muslim\n",
      "relig_Nothing in particular\n",
      "relig_Protestant\n",
      "relig_Roman Catholic\n",
      "relig_Something else\n",
      "straight\n",
      "immigrant\n",
      "union_member\n",
      "pres_Johnson\n",
      "pres_McMullin\n",
      "pres_None\n",
      "pres_Other\n",
      "pres_Stein\n",
      "pres_Trump\n",
      "employ_Homemaker\n",
      "employ_Other\n",
      "employ_Part-time\n",
      "employ_Permanently disabled\n",
      "employ_Retired\n",
      "employ_Student\n",
      "employ_Temporarily laid off\n",
      "employ_Unemployed\n",
      "mar_Domestic partnership\n",
      "mar_Married\n",
      "mar_Separated\n",
      "mar_Single\n",
      "mar_Widowed\n",
      "religimp_Not too important\n",
      "religimp_Somewhat important\n",
      "religimp_Very important\n",
      "four_cluster_label\n"
     ]
    }
   ],
   "source": [
    "for col in df.columns:\n",
    "    print(col)"
   ]
  },
  {
   "cell_type": "code",
   "execution_count": 58,
   "metadata": {},
   "outputs": [],
   "source": [
    "df = df.drop(['two_cluster_label'], axis = 1)"
   ]
  },
  {
   "cell_type": "code",
   "execution_count": 60,
   "metadata": {
    "collapsed": true
   },
   "outputs": [],
   "source": [
    "df.to_csv('clustered.csv')"
   ]
  }
 ],
 "metadata": {
  "kernelspec": {
   "display_name": "Python 3",
   "language": "python",
   "name": "python3"
  },
  "language_info": {
   "codemirror_mode": {
    "name": "ipython",
    "version": 3
   },
   "file_extension": ".py",
   "mimetype": "text/x-python",
   "name": "python",
   "nbconvert_exporter": "python",
   "pygments_lexer": "ipython3",
   "version": "3.6.3"
  }
 },
 "nbformat": 4,
 "nbformat_minor": 2
}
