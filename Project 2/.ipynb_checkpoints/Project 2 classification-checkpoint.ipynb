{
 "cells": [
  {
   "cell_type": "markdown",
   "metadata": {
    "collapsed": true
   },
   "source": [
    "Progress summary: I've trained random forests and logistic regression models on predicting the cluster labels for four clusters, with high cross-validated accuracy.\n",
    "\n",
    "I printed some of the most important features (in random forests) and those with the highest coefficients (for logistic regression). \n",
    "\n",
    "I can do some more EDA with these features, not sure what else. "
   ]
  },
  {
   "cell_type": "code",
   "execution_count": 1,
   "metadata": {
    "collapsed": true
   },
   "outputs": [],
   "source": [
    "import pandas as pd\n",
    "import numpy as np\n",
    "\n",
    "from sklearn.linear_model import LogisticRegression\n",
    "from sklearn.ensemble import RandomForestClassifier\n",
    "from sklearn.model_selection import train_test_split\n",
    "from sklearn.metrics import accuracy_score\n",
    "from sklearn.model_selection import KFold\n",
    "from sklearn.metrics import classification_report"
   ]
  },
  {
   "cell_type": "code",
   "execution_count": 2,
   "metadata": {
    "collapsed": true
   },
   "outputs": [],
   "source": [
    "def cv_score(clf, x, y, score_func=accuracy_score):\n",
    "    result = 0\n",
    "    nfold = 5\n",
    "    for train, test in KFold(nfold, random_state = 42).split(x): # split data into train/test groups, 5 times\n",
    "        clf.fit(x[train], y.iloc[train]) # fit\n",
    "        result += score_func(clf.predict(x[test]), y.iloc[test]) # evaluate score function on held-out data\n",
    "    return result / nfold # average"
   ]
  },
  {
   "cell_type": "code",
   "execution_count": 3,
   "metadata": {
    "collapsed": true
   },
   "outputs": [],
   "source": [
    "df = pd.read_csv('clustered.csv')"
   ]
  },
  {
   "cell_type": "code",
   "execution_count": 4,
   "metadata": {},
   "outputs": [
    {
     "name": "stdout",
     "output_type": "stream",
     "text": [
      "['gender', 'legalstatus', 'borderpatrol', 'legalstatusHS', 'deport', 'minwage12', 'faminc', 'mandatorymin', 'bodycamera', 'threestrikes', 'pew_bornagain', 'increasepolice', 'fuelefficiency', 'EPACO2', 'abortionchoice', 'abortioncoverage', 'abortion20wks', 'repealACA', 'banmostabortion', 'child18', 'TPP', 'NCLB', 'primary', 'Iransanctions', 'infraspending', 'backgroundcheck', 'medicarereform', 'concealedcarry', 'gunregistry', 'banassault', 'gaymarriage', 'hispanic', 'investor', 'trans', 'votereg_post', 'militaryoil', 'militaryterror', 'militarycivilwar', 'militarydemocracy', 'militaryally', 'militaryUN', 'polmeeting', 'polsign', 'campaignwork', 'campaigndonate', 'donateblood', 'edloan', 'runoffice', 'Obama', 'Romney', 'age', 'whiteadvantage_Disagree', 'whiteadvantage_Neutral', 'angryracism_Disagree', 'angryracism_Neutral', 'racismrare_Disagree', 'racismrare_Neutral', 'fearrace_Disagree', 'fearrace_Neutral', 'statewelfare_Increase', 'statewelfare_Maintain', 'statehealthcare_Increase', 'statehealthcare_Maintain', 'stateedu_Increase', 'stateedu_Maintain', 'stateinfra_Increase', 'stateinfra_Maintain', 'stateLE_Increase', 'stateLE_Maintain', 'veteran', 'family_vet', 'race_Black', 'race_Middle Eastern', 'race_Mixed', 'race_Native American', 'race_Other', 'race_White', 'college', 'Party_Independent', 'Party_Republican', 'relig_Atheist', 'relig_Buddhist', 'relig_Eastern or Greek Orthodox', 'relig_Hindu', 'relig_Jewish', 'relig_Mormon', 'relig_Muslim', 'relig_Nothing in particular', 'relig_Protestant', 'relig_Roman Catholic', 'relig_Something else', 'straight', 'immigrant', 'union_member', 'pres_Johnson', 'pres_McMullin', 'pres_None', 'pres_Other', 'pres_Stein', 'pres_Trump', 'employ_Homemaker', 'employ_Other', 'employ_Part-time', 'employ_Permanently disabled', 'employ_Retired', 'employ_Student', 'employ_Temporarily laid off', 'employ_Unemployed', 'mar_Domestic partnership', 'mar_Married', 'mar_Separated', 'mar_Single', 'mar_Widowed', 'religimp_Not too important', 'religimp_Somewhat important', 'religimp_Very important', 'state0', 'state1', 'state2', 'state3', 'state4', 'state5']\n"
     ]
    }
   ],
   "source": [
    "variables = [col for col in df.columns if (col != 'four_cluster_label' and col != 'Unnamed: 0')]\n",
    "             \n",
    "print(variables)"
   ]
  },
  {
   "cell_type": "code",
   "execution_count": 5,
   "metadata": {
    "collapsed": true
   },
   "outputs": [],
   "source": [
    "Xtrain, Xtest, ytrain, ytest = train_test_split(df[variables].values, df['four_cluster_label'], random_state = 42, test_size = 0.2)"
   ]
  },
  {
   "cell_type": "code",
   "execution_count": 6,
   "metadata": {},
   "outputs": [
    {
     "data": {
      "text/plain": [
       "0.88671945995066859"
      ]
     },
     "execution_count": 6,
     "metadata": {},
     "output_type": "execute_result"
    }
   ],
   "source": [
    "rf_clf = RandomForestClassifier(random_state = 42, class_weight = 'balanced')\n",
    "cv_score(rf_clf, Xtrain, ytrain)"
   ]
  },
  {
   "cell_type": "code",
   "execution_count": 7,
   "metadata": {},
   "outputs": [
    {
     "name": "stdout",
     "output_type": "stream",
     "text": [
      "             precision    recall  f1-score   support\n",
      "\n",
      "          0       0.99      1.00      1.00      9140\n",
      "          1       1.00      1.00      1.00     12336\n",
      "          2       1.00      0.99      1.00      6593\n",
      "          3       1.00      1.00      1.00     10446\n",
      "\n",
      "avg / total       1.00      1.00      1.00     38515\n",
      "\n"
     ]
    }
   ],
   "source": [
    "rf_clf = RandomForestClassifier(class_weight = 'balanced', random_state = 42)\n",
    "\n",
    "rf_clf.fit(Xtrain, ytrain)\n",
    "print(classification_report(ytrain, rf_clf.predict(Xtrain)))"
   ]
  },
  {
   "cell_type": "markdown",
   "metadata": {},
   "source": [
    "this is pretty overfit"
   ]
  },
  {
   "cell_type": "code",
   "execution_count": 8,
   "metadata": {
    "collapsed": true
   },
   "outputs": [],
   "source": [
    "from sklearn.model_selection import GridSearchCV"
   ]
  },
  {
   "cell_type": "code",
   "execution_count": 9,
   "metadata": {},
   "outputs": [
    {
     "name": "stdout",
     "output_type": "stream",
     "text": [
      "{'max_depth': 20, 'min_impurity_decrease': 0.0001}\n"
     ]
    }
   ],
   "source": [
    "param_grid = {'max_depth':[10,20,100,500], 'min_impurity_decrease':[1e-7,1e-6,1e-5, 1e-4, 1e-3, 1e-2]}\n",
    "rf_clf = RandomForestClassifier(class_weight = 'balanced', random_state = 42)\n",
    "rf_clf_cv = GridSearchCV(rf_clf, param_grid, cv = 5)\n",
    "rf_clf_cv.fit(Xtrain, ytrain)\n",
    "\n",
    "print(rf_clf_cv.best_params_)"
   ]
  },
  {
   "cell_type": "code",
   "execution_count": 20,
   "metadata": {},
   "outputs": [
    {
     "data": {
      "text/plain": [
       "0.89178242243281824"
      ]
     },
     "execution_count": 20,
     "metadata": {},
     "output_type": "execute_result"
    }
   ],
   "source": [
    "rf_clf = RandomForestClassifier(class_weight = 'balanced', random_state = 42, max_depth = 20, min_impurity_decrease = 0.0001)\n",
    "\n",
    "cv_score(rf_clf, Xtrain, ytrain)"
   ]
  },
  {
   "cell_type": "markdown",
   "metadata": {},
   "source": [
    "CV score is slightly better after tuning. Narrowing down the grid search:"
   ]
  },
  {
   "cell_type": "code",
   "execution_count": 24,
   "metadata": {},
   "outputs": [
    {
     "name": "stdout",
     "output_type": "stream",
     "text": [
      "{'max_depth': 20, 'min_impurity_decrease': 5e-05}\n"
     ]
    }
   ],
   "source": [
    "param_grid = {'max_depth':[10,20,25,30,50,100], 'min_impurity_decrease':[1e-6,5e-5,1e-4,5e-3,1e-3]}\n",
    "rf_clf = RandomForestClassifier(class_weight = 'balanced', random_state = 42)\n",
    "rf_clf_cv = GridSearchCV(rf_clf, param_grid, cv = 5)\n",
    "rf_clf_cv.fit(Xtrain, ytrain)\n",
    "\n",
    "print(rf_clf_cv.best_params_)"
   ]
  },
  {
   "cell_type": "code",
   "execution_count": 23,
   "metadata": {},
   "outputs": [
    {
     "data": {
      "text/plain": [
       "0.89552122549655988"
      ]
     },
     "execution_count": 23,
     "metadata": {},
     "output_type": "execute_result"
    }
   ],
   "source": [
    "rf_clf = RandomForestClassifier(class_weight = 'balanced', random_state = 42, max_depth = 25, min_impurity_decrease = 5e-05)\n",
    "\n",
    "cv_score(rf_clf, Xtrain, ytrain)"
   ]
  },
  {
   "cell_type": "code",
   "execution_count": 25,
   "metadata": {},
   "outputs": [
    {
     "name": "stdout",
     "output_type": "stream",
     "text": [
      "             precision    recall  f1-score   support\n",
      "\n",
      "          0       0.94      0.95      0.94      9140\n",
      "          1       0.98      0.97      0.97     12336\n",
      "          2       0.92      0.97      0.95      6593\n",
      "          3       0.98      0.95      0.96     10446\n",
      "\n",
      "avg / total       0.96      0.96      0.96     38515\n",
      "\n"
     ]
    }
   ],
   "source": [
    "rf_clf = RandomForestClassifier(class_weight = 'balanced', random_state = 42, max_depth = 25, min_impurity_decrease = 5e-05)\n",
    "\n",
    "rf_clf.fit(Xtrain, ytrain)\n",
    "print(classification_report(ytrain, rf_clf.predict(Xtrain)))"
   ]
  },
  {
   "cell_type": "markdown",
   "metadata": {},
   "source": [
    "Recall is between 0.95 and 0.97 for all four classes. Precision between 0.92 and 0.98. Overall classifier is pretty good."
   ]
  },
  {
   "cell_type": "code",
   "execution_count": 26,
   "metadata": {},
   "outputs": [
    {
     "data": {
      "text/plain": [
       "[('stateedu_Increase', 0.062096795211724322),\n",
       " ('stateLE_Maintain', 0.05548018141892147),\n",
       " ('pres_Trump', 0.054110428251454699),\n",
       " ('stateLE_Increase', 0.050504341430196831),\n",
       " ('Romney', 0.046799458441476628),\n",
       " ('statehealthcare_Increase', 0.043699247870838134),\n",
       " ('repealACA', 0.041898778589493361),\n",
       " ('Obama', 0.036654067106673641),\n",
       " ('stateinfra_Maintain', 0.033218776264035202),\n",
       " ('abortion20wks', 0.033018118241591995),\n",
       " ('minwage12', 0.032743429221233314),\n",
       " ('Party_Republican', 0.023444680423831368),\n",
       " ('EPACO2', 0.022806179628141778),\n",
       " ('deport', 0.020794325230335132),\n",
       " ('stateedu_Maintain', 0.0197410603400071),\n",
       " ('campaigndonate', 0.01969761482866992),\n",
       " ('stateinfra_Increase', 0.017895441305307513),\n",
       " ('abortionchoice', 0.017626960995552853),\n",
       " ('banmostabortion', 0.016702156498949166),\n",
       " ('statehealthcare_Maintain', 0.016595189318431562),\n",
       " ('abortioncoverage', 0.01629464598355649),\n",
       " ('concealedcarry', 0.016227361477420717),\n",
       " ('pres_None', 0.013342681851936298),\n",
       " ('gaymarriage', 0.013160787600695398),\n",
       " ('borderpatrol', 0.011688413432070256),\n",
       " ('primary', 0.011681642719577718),\n",
       " ('statewelfare_Increase', 0.011311372693226128),\n",
       " ('statewelfare_Maintain', 0.011168447147562656),\n",
       " ('age', 0.010841640176035568),\n",
       " ('religimp_Very important', 0.01037958227816437),\n",
       " ('legalstatusHS', 0.010143592712864746),\n",
       " ('fuelefficiency', 0.0084314765437727944),\n",
       " ('militaryterror', 0.007913437883440946),\n",
       " ('legalstatus', 0.0078601508946105226),\n",
       " ('racismrare_Disagree', 0.0077869699223456924),\n",
       " ('pew_bornagain', 0.0076575628050329341),\n",
       " ('whiteadvantage_Disagree', 0.0071258747750917225),\n",
       " ('mandatorymin', 0.0067395656582242437),\n",
       " ('TPP', 0.0067254627611822047),\n",
       " ('faminc', 0.0067112928353541285),\n",
       " ('banassault', 0.0066699945854804751),\n",
       " ('increasepolice', 0.0064772357411969367),\n",
       " ('votereg_post', 0.0061136347004588452),\n",
       " ('college', 0.005717670028503403),\n",
       " ('militaryUN', 0.0055295299127184746),\n",
       " ('investor', 0.0040975399296903602),\n",
       " ('militaryally', 0.0039791662217147691),\n",
       " ('threestrikes', 0.0033877713895310753),\n",
       " ('militarycivilwar', 0.0032583334523479139),\n",
       " ('racismrare_Neutral', 0.0031090639949452),\n",
       " ('fearrace_Disagree', 0.0028271857294221289),\n",
       " ('race_White', 0.0027078259548462204),\n",
       " ('relig_Protestant', 0.0026602577071022778),\n",
       " ('whiteadvantage_Neutral', 0.0024916663766950237),\n",
       " ('gender', 0.0024717013118145774),\n",
       " ('Party_Independent', 0.0024610619138185743),\n",
       " ('child18', 0.0023882308562530575),\n",
       " ('Iransanctions', 0.0021382014559946979),\n",
       " ('medicarereform', 0.0020919027404857123),\n",
       " ('race_Black', 0.0020387650916779735),\n",
       " ('gunregistry', 0.0020077184324844388),\n",
       " ('fearrace_Neutral', 0.0019291805663609347),\n",
       " ('relig_Nothing in particular', 0.0019208676466990278),\n",
       " ('mar_Married', 0.0019082507741535882),\n",
       " ('religimp_Not too important', 0.0017979183445739513),\n",
       " ('mar_Single', 0.0017949436402238481),\n",
       " ('employ_Retired', 0.0017533263304445896),\n",
       " ('family_vet', 0.0016866518441402314),\n",
       " ('religimp_Somewhat important', 0.0016493448983190921),\n",
       " ('infraspending', 0.0016176644188039767),\n",
       " ('polsign', 0.0015746442687067715),\n",
       " ('relig_Roman Catholic', 0.0015411749148411646),\n",
       " ('militaryoil', 0.0015198898516487545),\n",
       " ('militarydemocracy', 0.0014745123778999755),\n",
       " ('union_member', 0.0014544973351053065),\n",
       " ('edloan', 0.001442238918186756),\n",
       " ('angryracism_Neutral', 0.0014291968325261025),\n",
       " ('state5', 0.0013621217517787087),\n",
       " ('NCLB', 0.0013581564172841704),\n",
       " ('state2', 0.0013324194090310886),\n",
       " ('polmeeting', 0.0013049917352963044),\n",
       " ('state3', 0.0012840381526567962),\n",
       " ('hispanic', 0.0012574979711949207),\n",
       " ('state4', 0.0012418065296570702),\n",
       " ('backgroundcheck', 0.0012137200744075248),\n",
       " ('relig_Atheist', 0.001194953350358715),\n",
       " ('bodycamera', 0.0011729960559815756),\n",
       " ('state1', 0.0011709565586289416),\n",
       " ('veteran', 0.0011555188472105928),\n",
       " ('pres_Johnson', 0.0011405934143999467),\n",
       " ('state0', 0.0011062667400946989),\n",
       " ('straight', 0.0010015650770865045),\n",
       " ('donateblood', 0.0008891068850135804),\n",
       " ('employ_Homemaker', 0.00082155864210462903),\n",
       " ('employ_Permanently disabled', 0.00079754186345862667),\n",
       " ('employ_Part-time', 0.00070883821686613176),\n",
       " ('employ_Unemployed', 0.0006709380203935402),\n",
       " ('immigrant', 0.00056539683014815391),\n",
       " ('angryracism_Disagree', 0.00055876518981442754),\n",
       " ('mar_Domestic partnership', 0.0005454353409787971),\n",
       " ('runoffice', 0.00053567486949964078),\n",
       " ('employ_Student', 0.00053404360495255408),\n",
       " ('race_Mixed', 0.00051035945670977498),\n",
       " ('campaignwork', 0.00050965405055376225),\n",
       " ('relig_Something else', 0.00050582188247446226),\n",
       " ('pres_Stein', 0.00048403674141034113),\n",
       " ('relig_Jewish', 0.00046473619265989806),\n",
       " ('mar_Widowed', 0.00039317567059288152),\n",
       " ('pres_Other', 0.00035920072515539082),\n",
       " ('trans', 0.00030834477871613053),\n",
       " ('mar_Separated', 0.00030180019331941735),\n",
       " ('employ_Other', 0.0002647999025326695),\n",
       " ('relig_Mormon', 0.00023218292171467195),\n",
       " ('pres_McMullin', 0.00016994439336791783),\n",
       " ('race_Native American', 0.00014935857309144489),\n",
       " ('relig_Buddhist', 0.00013129804002662439),\n",
       " ('employ_Temporarily laid off', 0.00012484041050035723),\n",
       " ('relig_Muslim', 8.9696005937145242e-05),\n",
       " ('race_Other', 8.7763831270332171e-05),\n",
       " ('relig_Hindu', 7.8430967531030899e-05),\n",
       " ('relig_Eastern or Greek Orthodox', 7.1700455290399953e-05),\n",
       " ('race_Middle Eastern', 0.0)]"
      ]
     },
     "execution_count": 26,
     "metadata": {},
     "output_type": "execute_result"
    }
   ],
   "source": [
    "feature_importances = list(rf_clf.feature_importances_)\n",
    "\n",
    "ranked = []\n",
    "for var in zip(variables, feature_importances):\n",
    "    ranked.append(var)\n",
    "    \n",
    "ranked = sorted(ranked, key = lambda x: x[1], reverse = True)\n",
    "ranked"
   ]
  },
  {
   "cell_type": "markdown",
   "metadata": {},
   "source": [
    "2012 vote is a major factor, interestingly."
   ]
  },
  {
   "cell_type": "code",
   "execution_count": 15,
   "metadata": {},
   "outputs": [
    {
     "data": {
      "text/plain": [
       "0.95503050759444363"
      ]
     },
     "execution_count": 15,
     "metadata": {},
     "output_type": "execute_result"
    }
   ],
   "source": [
    "log_clf = LogisticRegression(class_weight = 'balanced')\n",
    "\n",
    "cv_score(log_clf, Xtrain, ytrain)"
   ]
  },
  {
   "cell_type": "markdown",
   "metadata": {},
   "source": [
    "Quite good out of the box."
   ]
  },
  {
   "cell_type": "code",
   "execution_count": 16,
   "metadata": {
    "collapsed": true
   },
   "outputs": [],
   "source": [
    "coefficients = log_clf.coef_"
   ]
  },
  {
   "cell_type": "markdown",
   "metadata": {},
   "source": [
    "print 10 highest value coefficients for each cluster:"
   ]
  },
  {
   "cell_type": "code",
   "execution_count": 17,
   "metadata": {},
   "outputs": [
    {
     "name": "stdout",
     "output_type": "stream",
     "text": [
      "Cluster 0\n",
      "('Romney', -1.595174941638742)\n",
      "('stateLE_Increase', 1.3688140965060851)\n",
      "('stateLE_Maintain', -1.3337265712282713)\n",
      "('statehealthcare_Increase', 1.2744207580084015)\n",
      "('campaigndonate', -1.2129050673673913)\n",
      "('age', -1.1083470618677991)\n",
      "('stateedu_Increase', 1.0774949910932754)\n",
      "('pres_Johnson', 0.91184881220532921)\n",
      "('abortion20wks', 0.88947554311442145)\n",
      "('runoffice', 0.81708584422050801)\n",
      "Cluster 1\n",
      "('Romney', 2.8067926491891084)\n",
      "('pres_Trump', 2.4387703026415486)\n",
      "('EPACO2', -2.2837649902200807)\n",
      "('minwage12', -1.9633614412995659)\n",
      "('statehealthcare_Increase', -1.8784000404583596)\n",
      "('stateLE_Maintain', -1.8763254868465344)\n",
      "('Party_Republican', 1.8707182311824313)\n",
      "('TPP', -1.7411768002305101)\n",
      "('Obama', -1.7397960200659095)\n",
      "('banassault', -1.7046230478533297)\n",
      "Cluster 2\n",
      "('stateLE_Increase', -1.9481623729776008)\n",
      "('stateinfra_Increase', -1.5894853786886598)\n",
      "('stateedu_Increase', -1.5459652257505498)\n",
      "('Romney', -1.4439755017678089)\n",
      "('statehealthcare_Increase', -1.4153609790833266)\n",
      "('pres_Johnson', 1.3297531811642302)\n",
      "('stateLE_Maintain', 1.1304544014528606)\n",
      "('statehealthcare_Maintain', 1.1079922443398307)\n",
      "('campaigndonate', -1.0743023263738338)\n",
      "('stateedu_Maintain', 1.0493510911938528)\n",
      "Cluster 3\n",
      "('stateLE_Increase', -3.1824720443117784)\n",
      "('repealACA', -2.5537401968993256)\n",
      "('stateedu_Maintain', -2.504060960176258)\n",
      "('abortion20wks', -2.1620773618497173)\n",
      "('banmostabortion', -1.9593249275599012)\n",
      "('stateinfra_Maintain', -1.8996725689531746)\n",
      "('legalstatusHS', 1.8956853464573358)\n",
      "('abortioncoverage', -1.8124084421046249)\n",
      "('deport', -1.7080278363744981)\n",
      "('campaigndonate', 1.6394504747826417)\n"
     ]
    }
   ],
   "source": [
    "for i in range(0,4):\n",
    "    cluster_coefs = []\n",
    "    for item, item2 in zip(variables, coefficients[i]):\n",
    "        cluster_coefs.append((item, item2))\n",
    "    cluster_coefs = sorted(cluster_coefs, key = lambda x: abs(x[1]), reverse = True)\n",
    "    print(\"Cluster\",i)\n",
    "    for j in range(10):\n",
    "        print(cluster_coefs[j])"
   ]
  },
  {
   "cell_type": "code",
   "execution_count": 18,
   "metadata": {},
   "outputs": [
    {
     "name": "stdout",
     "output_type": "stream",
     "text": [
      "Cluster 0\n",
      "('Romney', -1.595174941638742)\n",
      "('stateLE_Increase', 1.3688140965060851)\n",
      "('stateLE_Maintain', -1.3337265712282713)\n",
      "('statehealthcare_Increase', 1.2744207580084015)\n",
      "('campaigndonate', -1.2129050673673913)\n",
      "('age', -1.1083470618677991)\n",
      "('stateedu_Increase', 1.0774949910932754)\n",
      "('pres_Johnson', 0.91184881220532921)\n",
      "('abortion20wks', 0.88947554311442145)\n",
      "('runoffice', 0.81708584422050801)\n",
      "('stateedu_Maintain', -0.81258012657265644)\n",
      "('religimp_Very important', 0.78427727870686348)\n",
      "('pres_Trump', -0.77230388459376875)\n",
      "('banmostabortion', 0.75246707467827967)\n",
      "('race_Black', 0.74559672149994882)\n",
      "('EPACO2', 0.73453459338142479)\n",
      "('TPP', 0.71456886155642718)\n",
      "('minwage12', 0.68193209578937375)\n",
      "('relig_Muslim', 0.67814559149220832)\n",
      "('increasepolice', 0.67448531972917602)\n",
      "('primary', -0.64693341762060785)\n",
      "('relig_Roman Catholic', 0.63778010663393614)\n",
      "('pres_Other', 0.63019151466405743)\n",
      "('pres_McMullin', 0.60751411469709271)\n",
      "('college', -0.59295158568350681)\n",
      "Cluster 2\n",
      "('stateLE_Increase', -1.9481623729776008)\n",
      "('stateinfra_Increase', -1.5894853786886598)\n",
      "('stateedu_Increase', -1.5459652257505498)\n",
      "('Romney', -1.4439755017678089)\n",
      "('statehealthcare_Increase', -1.4153609790833266)\n",
      "('pres_Johnson', 1.3297531811642302)\n",
      "('stateLE_Maintain', 1.1304544014528606)\n",
      "('statehealthcare_Maintain', 1.1079922443398307)\n",
      "('campaigndonate', -1.0743023263738338)\n",
      "('stateedu_Maintain', 1.0493510911938528)\n",
      "('pres_None', 0.99692104159714046)\n",
      "('statewelfare_Increase', -0.98239581257047592)\n",
      "('stateinfra_Maintain', 0.96501821832569612)\n",
      "('pres_Trump', -0.95578060575826507)\n",
      "('primary', -0.87400944893485877)\n",
      "('pres_McMullin', 0.86033426779706235)\n",
      "('relig_Muslim', 0.85145874243534647)\n",
      "('TPP', 0.70192844875944704)\n",
      "('militaryally', -0.65638161200895229)\n",
      "('whiteadvantage_Neutral', 0.6529914179548173)\n",
      "('backgroundcheck', 0.63509633787989672)\n",
      "('militaryterror', -0.6290738593111519)\n",
      "('abortionchoice', 0.6029215326338625)\n",
      "('legalstatusHS', -0.59469294681509377)\n",
      "('fearrace_Disagree', -0.57590609898753531)\n"
     ]
    }
   ],
   "source": [
    "for i in [0,2]:\n",
    "    cluster_coefs = []\n",
    "    for item, item2 in zip(variables, coefficients[i]):\n",
    "        cluster_coefs.append((item, item2))\n",
    "    cluster_coefs = sorted(cluster_coefs, key = lambda x: abs(x[1]), reverse = True)\n",
    "    print(\"Cluster\",i)\n",
    "    for j in range(25):\n",
    "        print(cluster_coefs[j])"
   ]
  },
  {
   "cell_type": "markdown",
   "metadata": {},
   "source": [
    "0 and 2 are the most interesting ones, because they are less partisan. people in cluster 0 want to increase law enforcement spending, they tended not to vote for Romney, they're younger, they tended to vote for Other or Johnson, they tended not to donate to campaigns.\n",
    "\n",
    "Cluster 2 wants to decrease law enforcement spending and decrease infrastructure spending. Cluster 2 is associated with voting for McMullin. "
   ]
  }
 ],
 "metadata": {
  "kernelspec": {
   "display_name": "Python 3",
   "language": "python",
   "name": "python3"
  },
  "language_info": {
   "codemirror_mode": {
    "name": "ipython",
    "version": 3
   },
   "file_extension": ".py",
   "mimetype": "text/x-python",
   "name": "python",
   "nbconvert_exporter": "python",
   "pygments_lexer": "ipython3",
   "version": "3.6.3"
  }
 },
 "nbformat": 4,
 "nbformat_minor": 2
}
