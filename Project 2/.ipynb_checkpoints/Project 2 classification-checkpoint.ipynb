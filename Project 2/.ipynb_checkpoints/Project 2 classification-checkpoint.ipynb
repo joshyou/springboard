{
 "cells": [
  {
   "cell_type": "markdown",
   "metadata": {
    "collapsed": true
   },
   "source": [
    "Progress summary: I've trained random forests and logistic regression models on predicting the cluster labels for four clusters, with high cross-validated accuracy.\n",
    "\n",
    "I printed some of the most important features (in random forests) and those with the highest coefficients (for logistic regression). \n",
    "\n",
    "I can do some more EDA with these features, not sure what else. "
   ]
  },
  {
   "cell_type": "code",
   "execution_count": null,
   "metadata": {
    "collapsed": true
   },
   "outputs": [],
   "source": []
  },
  {
   "cell_type": "code",
   "execution_count": 2,
   "metadata": {
    "collapsed": true
   },
   "outputs": [],
   "source": [
    "import pandas as pd\n",
    "import numpy as np\n",
    "\n",
    "from sklearn.linear_model import LogisticRegression\n",
    "from sklearn.ensemble import RandomForestClassifier\n",
    "from sklearn.model_selection import train_test_split\n",
    "from sklearn.metrics import accuracy_score\n",
    "from sklearn.model_selection import KFold\n",
    "from sklearn.metrics import classification_report"
   ]
  },
  {
   "cell_type": "code",
   "execution_count": 2,
   "metadata": {
    "collapsed": true
   },
   "outputs": [],
   "source": [
    "def cv_score(clf, x, y, score_func=accuracy_score):\n",
    "    result = 0\n",
    "    nfold = 5\n",
    "    for train, test in KFold(nfold, random_state = 42).split(x): # split data into train/test groups, 5 times\n",
    "        clf.fit(x[train], y.iloc[train]) # fit\n",
    "        result += score_func(clf.predict(x[test]), y.iloc[test]) # evaluate score function on held-out data\n",
    "    return result / nfold # average"
   ]
  },
  {
   "cell_type": "code",
   "execution_count": 3,
   "metadata": {},
   "outputs": [],
   "source": [
    "df = pd.read_csv('clustered.csv')"
   ]
  },
  {
   "cell_type": "code",
   "execution_count": 4,
   "metadata": {},
   "outputs": [
    {
     "name": "stdout",
     "output_type": "stream",
     "text": [
      "['gender', 'legalstatus', 'borderpatrol', 'legalstatusHS', 'deport', 'milstat_1', 'milstat_2', 'milstat_3', 'milstat_4', 'minwage12', 'faminc', 'mandatorymin', 'bodycamera', 'threestrikes', 'pew_bornagain', 'increasepolice', 'cleanair', 'fuelefficiency', 'EPACO2', 'abortionchoice', 'abortioncoverage', 'federalabortion', 'renewables', 'abortion20wks', 'repealACA', 'banmostabortion', 'child18', 'TPP', 'NCLB', 'primary', 'Iransanctions', 'infraspending', 'backgroundcheck', 'medicarereform', 'concealedcarry', 'gunregistry', 'banassault', 'gaymarriage', 'hispanic', 'investor', 'trans', 'votereg_post', 'militaryoil', 'militaryterror', 'militarycivilwar', 'militarydemocracy', 'militaryally', 'militaryUN', 'polmeeting', 'polsign', 'campaignwork', 'campaigndonate', 'donateblood', 'edloan', 'runoffice', 'Obama', 'Romney', 'age', 'whiteadvantage_Disagree', 'whiteadvantage_Neutral', 'angryracism_Disagree', 'angryracism_Neutral', 'racismrare_Disagree', 'racismrare_Neutral', 'fearrace_Disagree', 'fearrace_Neutral', 'statewelfare_Increase', 'statewelfare_Maintain', 'statehealthcare_Increase', 'statehealthcare_Maintain', 'stateedu_Increase', 'stateedu_Maintain', 'stateinfra_Increase', 'stateinfra_Maintain', 'stateLE_Increase', 'stateLE_Maintain', 'veteran', 'family_vet', 'race_Black', 'race_Middle Eastern', 'race_Mixed', 'race_Native American', 'race_Other', 'race_White', 'college', 'Party_Independent', 'Party_Republican', 'relig_Atheist', 'relig_Buddhist', 'relig_Eastern or Greek Orthodox', 'relig_Hindu', 'relig_Jewish', 'relig_Mormon', 'relig_Muslim', 'relig_Nothing in particular', 'relig_Protestant', 'relig_Roman Catholic', 'relig_Something else', 'straight', 'immigrant', 'union_member', 'pres_Johnson', 'pres_McMullin', 'pres_None', 'pres_Other', 'pres_Stein', 'pres_Trump', 'employ_Homemaker', 'employ_Other', 'employ_Part-time', 'employ_Permanently disabled', 'employ_Retired', 'employ_Student', 'employ_Temporarily laid off', 'employ_Unemployed', 'mar_Domestic partnership', 'mar_Married', 'mar_Separated', 'mar_Single', 'mar_Widowed', 'religimp_Not too important', 'religimp_Somewhat important', 'religimp_Very important']\n"
     ]
    }
   ],
   "source": [
    "variables = [col for col in df.columns if (col != 'four_cluster_label' and col != 'Unnamed: 0')]\n",
    "             \n",
    "print(variables)"
   ]
  },
  {
   "cell_type": "code",
   "execution_count": 5,
   "metadata": {
    "collapsed": true
   },
   "outputs": [],
   "source": [
    "Xtrain, Xtest, ytrain, ytest = train_test_split(df[variables].values, df['four_cluster_label'], random_state = 42, test_size = 0.2)"
   ]
  },
  {
   "cell_type": "code",
   "execution_count": 6,
   "metadata": {},
   "outputs": [
    {
     "data": {
      "text/plain": [
       "0.88887446449435292"
      ]
     },
     "execution_count": 6,
     "metadata": {},
     "output_type": "execute_result"
    }
   ],
   "source": [
    "rf_clf = RandomForestClassifier(random_state = 42, class_weight = 'balanced')\n",
    "cv_score(rf_clf, Xtrain, ytrain)"
   ]
  },
  {
   "cell_type": "code",
   "execution_count": 7,
   "metadata": {},
   "outputs": [
    {
     "name": "stdout",
     "output_type": "stream",
     "text": [
      "             precision    recall  f1-score   support\n",
      "\n",
      "          0       1.00      1.00      1.00      9277\n",
      "          1       1.00      1.00      1.00     11795\n",
      "          2       1.00      1.00      1.00      6669\n",
      "          3       1.00      1.00      1.00     10774\n",
      "\n",
      "avg / total       1.00      1.00      1.00     38515\n",
      "\n"
     ]
    }
   ],
   "source": [
    "rf_clf = RandomForestClassifier(class_weight = 'balanced', random_state = 42)\n",
    "\n",
    "rf_clf.fit(Xtrain, ytrain)\n",
    "print(classification_report(ytrain, rf_clf.predict(Xtrain)))"
   ]
  },
  {
   "cell_type": "markdown",
   "metadata": {},
   "source": [
    "damn overfitting!"
   ]
  },
  {
   "cell_type": "code",
   "execution_count": 8,
   "metadata": {
    "collapsed": true
   },
   "outputs": [],
   "source": [
    "from sklearn.model_selection import GridSearchCV"
   ]
  },
  {
   "cell_type": "code",
   "execution_count": 9,
   "metadata": {},
   "outputs": [
    {
     "name": "stdout",
     "output_type": "stream",
     "text": [
      "{'max_depth': 10, 'min_impurity_decrease': 1e-06}\n"
     ]
    }
   ],
   "source": [
    "param_grid = {'max_depth':[10,20,100,500], 'min_impurity_decrease':[1e-7,1e-6,1e-5, 1e-4, 1e-3, 1e-2]}\n",
    "rf_clf = RandomForestClassifier(class_weight = 'balanced', random_state = 42)\n",
    "rf_clf_cv = GridSearchCV(rf_clf, param_grid, cv = 5)\n",
    "rf_clf_cv.fit(Xtrain, ytrain)\n",
    "\n",
    "print(rf_clf_cv.best_params_)"
   ]
  },
  {
   "cell_type": "code",
   "execution_count": 10,
   "metadata": {},
   "outputs": [
    {
     "data": {
      "text/plain": [
       "0.89183435025314817"
      ]
     },
     "execution_count": 10,
     "metadata": {},
     "output_type": "execute_result"
    }
   ],
   "source": [
    "rf_clf = RandomForestClassifier(class_weight = 'balanced', random_state = 42, max_depth = 10, min_impurity_decrease = 1e-06)\n",
    "\n",
    "cv_score(rf_clf, Xtrain, ytrain)"
   ]
  },
  {
   "cell_type": "markdown",
   "metadata": {},
   "source": [
    "CV score is slightly better after tuning. Narrowing down the grid search:"
   ]
  },
  {
   "cell_type": "code",
   "execution_count": 11,
   "metadata": {},
   "outputs": [
    {
     "name": "stdout",
     "output_type": "stream",
     "text": [
      "{'max_depth': 25, 'min_impurity_decrease': 5e-05}\n"
     ]
    }
   ],
   "source": [
    "param_grid = {'max_depth':[10,25,50,100], 'min_impurity_decrease':[1e-7,5e-6,1e-6,5e-5,1e-5]}\n",
    "rf_clf = RandomForestClassifier(class_weight = 'balanced', random_state = 42)\n",
    "rf_clf_cv = GridSearchCV(rf_clf, param_grid, cv = 5)\n",
    "rf_clf_cv.fit(Xtrain, ytrain)\n",
    "\n",
    "print(rf_clf_cv.best_params_)"
   ]
  },
  {
   "cell_type": "code",
   "execution_count": 12,
   "metadata": {},
   "outputs": [
    {
     "data": {
      "text/plain": [
       "0.89546929767623007"
      ]
     },
     "execution_count": 12,
     "metadata": {},
     "output_type": "execute_result"
    }
   ],
   "source": [
    "rf_clf = RandomForestClassifier(class_weight = 'balanced', random_state = 42, max_depth = 25, min_impurity_decrease = 5e-05)\n",
    "\n",
    "cv_score(rf_clf, Xtrain, ytrain)"
   ]
  },
  {
   "cell_type": "code",
   "execution_count": 13,
   "metadata": {},
   "outputs": [
    {
     "name": "stdout",
     "output_type": "stream",
     "text": [
      "             precision    recall  f1-score   support\n",
      "\n",
      "          0       0.93      0.95      0.94      9277\n",
      "          1       0.98      0.96      0.97     11795\n",
      "          2       0.92      0.97      0.94      6669\n",
      "          3       0.98      0.95      0.96     10774\n",
      "\n",
      "avg / total       0.96      0.96      0.96     38515\n",
      "\n"
     ]
    }
   ],
   "source": [
    "rf_clf = RandomForestClassifier(class_weight = 'balanced', random_state = 42, max_depth = 25, min_impurity_decrease = 5e-05)\n",
    "\n",
    "rf_clf.fit(Xtrain, ytrain)\n",
    "print(classification_report(ytrain, rf_clf.predict(Xtrain)))"
   ]
  },
  {
   "cell_type": "markdown",
   "metadata": {},
   "source": [
    "Recall is between 0.95 and 0.97 for all four classes. Precision between 0.93 and 0.98. Overall classifier is pretty good."
   ]
  },
  {
   "cell_type": "code",
   "execution_count": 14,
   "metadata": {},
   "outputs": [
    {
     "data": {
      "text/plain": [
       "[('pres_Trump', 0.080069316354228565),\n",
       " ('stateLE_Increase', 0.062372391873136659),\n",
       " ('stateedu_Increase', 0.049556628354393714),\n",
       " ('Obama', 0.047190781821376267),\n",
       " ('stateinfra_Increase', 0.04620984385781772),\n",
       " ('repealACA', 0.044047424265772281),\n",
       " ('Romney', 0.039045182215672311),\n",
       " ('statehealthcare_Increase', 0.031209075656139333),\n",
       " ('stateLE_Maintain', 0.028486175026776122),\n",
       " ('stateedu_Maintain', 0.027797928655782345),\n",
       " ('statehealthcare_Maintain', 0.027461490608496612),\n",
       " ('gaymarriage', 0.026073409226767708),\n",
       " ('abortioncoverage', 0.025425305985564511),\n",
       " ('federalabortion', 0.024200422669977944),\n",
       " ('cleanair', 0.022260814891625048),\n",
       " ('abortion20wks', 0.018168679425092333),\n",
       " ('minwage12', 0.017663785115495025),\n",
       " ('whiteadvantage_Disagree', 0.017281398286528655),\n",
       " ('stateinfra_Maintain', 0.015802638836985874),\n",
       " ('EPACO2', 0.015522428406865057),\n",
       " ('renewables', 0.015310524826665239),\n",
       " ('banassault', 0.014407623558220468),\n",
       " ('legalstatus', 0.013340961616259967),\n",
       " ('legalstatusHS', 0.0129543240967923),\n",
       " ('banmostabortion', 0.012639520436802698),\n",
       " ('fuelefficiency', 0.012091419504361815),\n",
       " ('primary', 0.011745948432701469),\n",
       " ('abortionchoice', 0.011700937750419671),\n",
       " ('age', 0.011274240214493773),\n",
       " ('campaigndonate', 0.010420383527177246),\n",
       " ('racismrare_Disagree', 0.0094875107896310543),\n",
       " ('deport', 0.0092018322144281038),\n",
       " ('mandatorymin', 0.0080058284419074078),\n",
       " ('pres_None', 0.0078837993507012375),\n",
       " ('militaryterror', 0.0078037208261532527),\n",
       " ('concealedcarry', 0.007324627805073031),\n",
       " ('borderpatrol', 0.0071154962523537323),\n",
       " ('militaryUN', 0.006894182978783631),\n",
       " ('religimp_Very important', 0.0066867429449085662),\n",
       " ('faminc', 0.0065553859619338541),\n",
       " ('increasepolice', 0.0065324803319209233),\n",
       " ('pew_bornagain', 0.0061291446401891721),\n",
       " ('college', 0.0060433280212887691),\n",
       " ('TPP', 0.0058025085562919384),\n",
       " ('Party_Republican', 0.0047086538439936373),\n",
       " ('statewelfare_Increase', 0.0047075988004720579),\n",
       " ('statewelfare_Maintain', 0.0044933915118134026),\n",
       " ('militaryally', 0.0037290206502501241),\n",
       " ('racismrare_Neutral', 0.0033854316075094988),\n",
       " ('relig_Protestant', 0.0031344185661331529),\n",
       " ('fearrace_Disagree', 0.0031184663070585187),\n",
       " ('investor', 0.0027971844666973599),\n",
       " ('militarycivilwar', 0.0027864851364352906),\n",
       " ('Party_Independent', 0.0025294525488700273),\n",
       " ('mar_Single', 0.0024650988530955059),\n",
       " ('gunregistry', 0.002408502279242497),\n",
       " ('gender', 0.002366253889578211),\n",
       " ('threestrikes', 0.0023518213419423386),\n",
       " ('Iransanctions', 0.0021154110274518114),\n",
       " ('race_White', 0.0020454050975649515),\n",
       " ('votereg_post', 0.0020392541725218535),\n",
       " ('whiteadvantage_Neutral', 0.0020160835111895257),\n",
       " ('infraspending', 0.0019211677703457968),\n",
       " ('milstat_4', 0.0018822441154922008),\n",
       " ('militaryoil', 0.0017953821909220684),\n",
       " ('family_vet', 0.0017913586284396417),\n",
       " ('mar_Married', 0.0017248429532693906),\n",
       " ('medicarereform', 0.001722644986589619),\n",
       " ('relig_Nothing in particular', 0.0017000520818985913),\n",
       " ('militarydemocracy', 0.0016871037753960598),\n",
       " ('child18', 0.0016845548434674489),\n",
       " ('race_Black', 0.0016727717770687535),\n",
       " ('religimp_Somewhat important', 0.0016230765575779144),\n",
       " ('employ_Retired', 0.0015522034511943942),\n",
       " ('polsign', 0.0014353812806026933),\n",
       " ('edloan', 0.0014194713715195983),\n",
       " ('religimp_Not too important', 0.0013856795423966492),\n",
       " ('angryracism_Neutral', 0.0013548007303211538),\n",
       " ('fearrace_Neutral', 0.0013065634791710671),\n",
       " ('milstat_3', 0.0012717622426402621),\n",
       " ('union_member', 0.0012507298952042964),\n",
       " ('relig_Roman Catholic', 0.0012375312777140057),\n",
       " ('NCLB', 0.0012188987624566689),\n",
       " ('relig_Atheist', 0.0011624941234080872),\n",
       " ('polmeeting', 0.0011400933080105407),\n",
       " ('bodycamera', 0.0010369896513372358),\n",
       " ('veteran', 0.001001219052974706),\n",
       " ('hispanic', 0.0009962089245444338),\n",
       " ('backgroundcheck', 0.00097570228255978108),\n",
       " ('straight', 0.00089574781000461711),\n",
       " ('immigrant', 0.00088557169734416726),\n",
       " ('employ_Part-time', 0.00087564047765957608),\n",
       " ('donateblood', 0.00086187978417900696),\n",
       " ('employ_Permanently disabled', 0.00081101449599428729),\n",
       " ('employ_Homemaker', 0.00072300252635474271),\n",
       " ('employ_Student', 0.00072132828463810099),\n",
       " ('pres_Johnson', 0.00069762429995878306),\n",
       " ('mar_Domestic partnership', 0.00066820800730952364),\n",
       " ('milstat_2', 0.00066216354416112383),\n",
       " ('angryracism_Disagree', 0.00056013936509075437),\n",
       " ('relig_Something else', 0.0005520972811963225),\n",
       " ('employ_Unemployed', 0.00054642607272077496),\n",
       " ('mar_Widowed', 0.00053199910818405949),\n",
       " ('pres_Other', 0.00049391640689077959),\n",
       " ('relig_Jewish', 0.00042601992000924991),\n",
       " ('campaignwork', 0.00042265908080049523),\n",
       " ('employ_Other', 0.00039990119696642936),\n",
       " ('relig_Mormon', 0.00037483327261004205),\n",
       " ('trans', 0.0003268349649228149),\n",
       " ('mar_Separated', 0.00028807066561986345),\n",
       " ('runoffice', 0.0002879535682424149),\n",
       " ('pres_Stein', 0.00027177082789752691),\n",
       " ('race_Mixed', 0.00024855206525977526),\n",
       " ('race_Native American', 0.00020633471545837781),\n",
       " ('relig_Buddhist', 0.0001731992110168508),\n",
       " ('employ_Temporarily laid off', 0.00016063902813847299),\n",
       " ('race_Other', 0.00013055404188526106),\n",
       " ('milstat_1', 0.00010083096763315223),\n",
       " ('pres_McMullin', 9.7812885146457979e-05),\n",
       " ('relig_Eastern or Greek Orthodox', 7.7626742677376024e-05),\n",
       " ('relig_Hindu', 7.1375705839370283e-05),\n",
       " ('race_Middle Eastern', 5.465382245180123e-05),\n",
       " ('relig_Muslim', 4.7160873441444851e-05)]"
      ]
     },
     "execution_count": 14,
     "metadata": {},
     "output_type": "execute_result"
    }
   ],
   "source": [
    "feature_importances = list(rf_clf.feature_importances_)\n",
    "\n",
    "ranked = []\n",
    "for var in zip(variables, feature_importances):\n",
    "    ranked.append(var)\n",
    "    \n",
    "ranked = sorted(ranked, key = lambda x: x[1], reverse = True)\n",
    "ranked"
   ]
  },
  {
   "cell_type": "markdown",
   "metadata": {},
   "source": [
    "2012 vote is a major factor, interestingly."
   ]
  },
  {
   "cell_type": "code",
   "execution_count": 15,
   "metadata": {},
   "outputs": [
    {
     "data": {
      "text/plain": [
       "0.95939244450214201"
      ]
     },
     "execution_count": 15,
     "metadata": {},
     "output_type": "execute_result"
    }
   ],
   "source": [
    "log_clf = LogisticRegression(class_weight = 'balanced')\n",
    "\n",
    "cv_score(log_clf, Xtrain, ytrain)"
   ]
  },
  {
   "cell_type": "markdown",
   "metadata": {},
   "source": [
    "Quite good out of the box."
   ]
  },
  {
   "cell_type": "code",
   "execution_count": 16,
   "metadata": {
    "collapsed": true
   },
   "outputs": [],
   "source": [
    "coefficients = log_clf.coef_"
   ]
  },
  {
   "cell_type": "markdown",
   "metadata": {},
   "source": [
    "print 10 highest value coefficients for each cluster:"
   ]
  },
  {
   "cell_type": "code",
   "execution_count": 17,
   "metadata": {},
   "outputs": [
    {
     "name": "stdout",
     "output_type": "stream",
     "text": [
      "Cluster 0\n",
      "('stateLE_Increase', 1.345915254851912)\n",
      "('Romney', -1.2954577920287345)\n",
      "('stateLE_Maintain', -1.2024122975389)\n",
      "('statehealthcare_Increase', 1.1550477791032436)\n",
      "('campaigndonate', -1.1176900213028396)\n",
      "('age', -1.1150169473062193)\n",
      "('pres_Other', 1.0527138588071092)\n",
      "('pres_Johnson', 1.0055749555457958)\n",
      "('stateedu_Increase', 0.91442630542997871)\n",
      "('stateedu_Maintain', -0.86117923103695726)\n",
      "Cluster 1\n",
      "('Romney', 2.5263127326243198)\n",
      "('pres_Trump', 2.3214492967752913)\n",
      "('EPACO2', -2.0659664811097458)\n",
      "('minwage12', -2.0392347098624724)\n",
      "('statehealthcare_Increase', -1.9496879224193429)\n",
      "('Obama', -1.92164056628168)\n",
      "('cleanair', -1.9201875350527464)\n",
      "('banassault', -1.6980916930646739)\n",
      "('TPP', -1.6932017554049166)\n",
      "('whiteadvantage_Disagree', 1.6802727794660475)\n",
      "Cluster 2\n",
      "('stateLE_Increase', -1.9342054027013087)\n",
      "('stateinfra_Increase', -1.6210150181073359)\n",
      "('stateedu_Increase', -1.3851842924342705)\n",
      "('statehealthcare_Increase', -1.3231852354449627)\n",
      "('Romney', -1.2456866399319484)\n",
      "('pres_McMullin', 1.2016436577152443)\n",
      "('pres_Johnson', 1.1855919216920001)\n",
      "('stateedu_Maintain', 1.0959398789346739)\n",
      "('statehealthcare_Maintain', 1.0813629972321237)\n",
      "('campaigndonate', -1.0539945970168993)\n",
      "Cluster 3\n",
      "('stateLE_Increase', -3.1320053886752084)\n",
      "('repealACA', -2.5906974614494178)\n",
      "('stateedu_Maintain', -2.5290138602579701)\n",
      "('banmostabortion', -2.0563280877170342)\n",
      "('abortion20wks', -2.0299686302305648)\n",
      "('stateinfra_Maintain', -2.0071635672025856)\n",
      "('federalabortion', -1.9545298694148354)\n",
      "('legalstatusHS', 1.8893534485106678)\n",
      "('Obama', 1.8851981240224958)\n",
      "('deport', -1.7536637532140937)\n"
     ]
    }
   ],
   "source": [
    "for i in range(0,4):\n",
    "    cluster_coefs = []\n",
    "    for item, item2 in zip(variables, coefficients[i]):\n",
    "        cluster_coefs.append((item, item2))\n",
    "    cluster_coefs = sorted(cluster_coefs, key = lambda x: abs(x[1]), reverse = True)\n",
    "    print(\"Cluster\",i)\n",
    "    for j in range(10):\n",
    "        print(cluster_coefs[j])"
   ]
  },
  {
   "cell_type": "code",
   "execution_count": 18,
   "metadata": {},
   "outputs": [
    {
     "name": "stdout",
     "output_type": "stream",
     "text": [
      "Cluster 0\n",
      "('stateLE_Increase', 1.345915254851912)\n",
      "('Romney', -1.2954577920287345)\n",
      "('stateLE_Maintain', -1.2024122975389)\n",
      "('statehealthcare_Increase', 1.1550477791032436)\n",
      "('campaigndonate', -1.1176900213028396)\n",
      "('age', -1.1150169473062193)\n",
      "('pres_Other', 1.0527138588071092)\n",
      "('pres_Johnson', 1.0055749555457958)\n",
      "('stateedu_Increase', 0.91442630542997871)\n",
      "('stateedu_Maintain', -0.86117923103695726)\n",
      "('EPACO2', 0.79358259494602945)\n",
      "('abortion20wks', 0.78505618357244078)\n",
      "('banmostabortion', 0.75873099364443031)\n",
      "('race_Black', 0.70271399599778339)\n",
      "('milstat_1', 0.69157955597548293)\n",
      "('minwage12', 0.67124792663075161)\n",
      "('religimp_Very important', 0.67011936673217809)\n",
      "('relig_Mormon', 0.67002401547420076)\n",
      "('TPP', 0.65674462656781052)\n",
      "('runoffice', 0.65530218756994296)\n",
      "('increasepolice', 0.64185535924565729)\n",
      "('relig_Roman Catholic', 0.64153097483538968)\n",
      "('repealACA', 0.63195837426913792)\n",
      "('relig_Muslim', 0.62855536256501643)\n",
      "('relig_Hindu', 0.59272655948494379)\n",
      "Cluster 2\n",
      "('stateLE_Increase', -1.9342054027013087)\n",
      "('stateinfra_Increase', -1.6210150181073359)\n",
      "('stateedu_Increase', -1.3851842924342705)\n",
      "('statehealthcare_Increase', -1.3231852354449627)\n",
      "('Romney', -1.2456866399319484)\n",
      "('pres_McMullin', 1.2016436577152443)\n",
      "('pres_Johnson', 1.1855919216920001)\n",
      "('stateedu_Maintain', 1.0959398789346739)\n",
      "('statehealthcare_Maintain', 1.0813629972321237)\n",
      "('campaigndonate', -1.0539945970168993)\n",
      "('stateLE_Maintain', 0.97077048760799511)\n",
      "('statewelfare_Increase', -0.90771609922150576)\n",
      "('pres_None', 0.86952336141839837)\n",
      "('stateinfra_Maintain', 0.82569493141276773)\n",
      "('primary', -0.81595712892089312)\n",
      "('pres_Trump', -0.80897750393364265)\n",
      "('relig_Muslim', 0.70248831709153969)\n",
      "('militaryally', -0.6616380867963273)\n",
      "('whiteadvantage_Neutral', 0.64013423172851092)\n",
      "('backgroundcheck', 0.63413158227488764)\n",
      "('TPP', 0.6198328670174601)\n",
      "('abortionchoice', 0.61299049089888313)\n",
      "('fearrace_Disagree', -0.61147942175965841)\n",
      "('age', -0.60462713596930828)\n",
      "('relig_Nothing in particular', 0.59972517298466488)\n"
     ]
    }
   ],
   "source": [
    "for i in [0,2]:\n",
    "    cluster_coefs = []\n",
    "    for item, item2 in zip(variables, coefficients[i]):\n",
    "        cluster_coefs.append((item, item2))\n",
    "    cluster_coefs = sorted(cluster_coefs, key = lambda x: abs(x[1]), reverse = True)\n",
    "    print(\"Cluster\",i)\n",
    "    for j in range(25):\n",
    "        print(cluster_coefs[j])"
   ]
  },
  {
   "cell_type": "markdown",
   "metadata": {},
   "source": [
    "0 and 2 are the most interesting ones, because they are less partisan. people in cluster 0 want to increase law enforcement spending, they tended not to vote for Romney, they're younger, they tended to vote for Other or Johnson, they tended not to donate to campaigns.\n",
    "\n",
    "Cluster 2 wants to decrease law enforcement spending and decrease infrastructure spending. Cluster 2 is associated with voting for McMullin. "
   ]
  }
 ],
 "metadata": {
  "kernelspec": {
   "display_name": "Python 3",
   "language": "python",
   "name": "python3"
  },
  "language_info": {
   "codemirror_mode": {
    "name": "ipython",
    "version": 3
   },
   "file_extension": ".py",
   "mimetype": "text/x-python",
   "name": "python",
   "nbconvert_exporter": "python",
   "pygments_lexer": "ipython3",
   "version": "3.6.3"
  }
 },
 "nbformat": 4,
 "nbformat_minor": 2
}
