{
 "cells": [
  {
   "cell_type": "markdown",
   "metadata": {
    "collapsed": true
   },
   "source": [
    "Progress summary: I've trained random forests and logistic regression models on predicting the cluster labels for four clusters, with high cross-validated accuracy.\n",
    "\n",
    "I printed some of the most important features (in random forests) and those with the highest coefficients (for logistic regression). \n",
    "\n",
    "I can do some more EDA with these features, not sure what else. "
   ]
  },
  {
   "cell_type": "code",
   "execution_count": 1,
   "metadata": {
    "collapsed": true
   },
   "outputs": [],
   "source": [
    "import pandas as pd\n",
    "import numpy as np\n",
    "\n",
    "from sklearn.linear_model import LogisticRegression\n",
    "from sklearn.ensemble import RandomForestClassifier\n",
    "from sklearn.model_selection import train_test_split\n",
    "from sklearn.metrics import accuracy_score\n",
    "from sklearn.model_selection import KFold\n",
    "from sklearn.metrics import classification_report"
   ]
  },
  {
   "cell_type": "code",
   "execution_count": 2,
   "metadata": {
    "collapsed": true
   },
   "outputs": [],
   "source": [
    "def cv_score(clf, x, y, score_func=accuracy_score):\n",
    "    result = 0\n",
    "    nfold = 5\n",
    "    for train, test in KFold(nfold, random_state = 42).split(x): # split data into train/test groups, 5 times\n",
    "        clf.fit(x[train], y.iloc[train]) # fit\n",
    "        result += score_func(clf.predict(x[test]), y.iloc[test]) # evaluate score function on held-out data\n",
    "    return result / nfold # average"
   ]
  },
  {
   "cell_type": "code",
   "execution_count": 3,
   "metadata": {
    "collapsed": true
   },
   "outputs": [],
   "source": [
    "df = pd.read_csv('clustered.csv')"
   ]
  },
  {
   "cell_type": "code",
   "execution_count": 4,
   "metadata": {},
   "outputs": [
    {
     "name": "stdout",
     "output_type": "stream",
     "text": [
      "['gender', 'legalstatus', 'borderpatrol', 'legalstatusHS', 'deport', 'minwage12', 'faminc', 'mandatorymin', 'bodycamera', 'threestrikes', 'pew_bornagain', 'increasepolice', 'fuelefficiency', 'EPACO2', 'abortionchoice', 'abortioncoverage', 'abortion20wks', 'repealACA', 'banmostabortion', 'child18', 'TPP', 'NCLB', 'primary', 'Iransanctions', 'infraspending', 'backgroundcheck', 'medicarereform', 'concealedcarry', 'gunregistry', 'banassault', 'gaymarriage', 'hispanic', 'investor', 'trans', 'votereg_post', 'militaryoil', 'militaryterror', 'militarycivilwar', 'militarydemocracy', 'militaryally', 'militaryUN', 'polmeeting', 'polsign', 'campaignwork', 'campaigndonate', 'donateblood', 'edloan', 'runoffice', 'Obama', 'Romney', 'age', 'whiteadvantage_Disagree', 'whiteadvantage_Neutral', 'angryracism_Disagree', 'angryracism_Neutral', 'racismrare_Disagree', 'racismrare_Neutral', 'fearrace_Disagree', 'fearrace_Neutral', 'statewelfare_Increase', 'statewelfare_Maintain', 'statehealthcare_Increase', 'statehealthcare_Maintain', 'stateedu_Increase', 'stateedu_Maintain', 'stateinfra_Increase', 'stateinfra_Maintain', 'stateLE_Increase', 'stateLE_Maintain', 'veteran', 'family_vet', 'race_Black', 'race_Middle Eastern', 'race_Mixed', 'race_Native American', 'race_Other', 'race_White', 'college', 'Party_Independent', 'Party_Republican', 'ideo_Liberal', 'ideo_Moderate or Not sure', 'ideo_Very conservative', 'ideo_Very liberal', 'relig_Atheist', 'relig_Buddhist', 'relig_Eastern or Greek Orthodox', 'relig_Hindu', 'relig_Jewish', 'relig_Mormon', 'relig_Muslim', 'relig_Nothing in particular', 'relig_Protestant', 'relig_Roman Catholic', 'relig_Something else', 'straight', 'immigrant', 'union_member', 'pres_Johnson', 'pres_McMullin', 'pres_None', 'pres_Other', 'pres_Stein', 'pres_Trump', 'employ_Homemaker', 'employ_Other', 'employ_Part-time', 'employ_Permanently disabled', 'employ_Retired', 'employ_Student', 'employ_Temporarily laid off', 'employ_Unemployed', 'mar_Domestic partnership', 'mar_Married', 'mar_Separated', 'mar_Single', 'mar_Widowed', 'religimp_Not too important', 'religimp_Somewhat important', 'religimp_Very important', 'state0', 'state1', 'state2', 'state3', 'state4', 'state5']\n"
     ]
    }
   ],
   "source": [
    "variables = [col for col in df.columns if (col != 'four_cluster_label' and col != 'Unnamed: 0')]\n",
    "             \n",
    "print(variables)"
   ]
  },
  {
   "cell_type": "code",
   "execution_count": 5,
   "metadata": {
    "collapsed": true
   },
   "outputs": [],
   "source": [
    "Xtrain, Xtest, ytrain, ytest = train_test_split(df[variables].values, df['four_cluster_label'], random_state = 42, test_size = 0.2)"
   ]
  },
  {
   "cell_type": "code",
   "execution_count": 6,
   "metadata": {},
   "outputs": [
    {
     "data": {
      "text/plain": [
       "0.88793976372841743"
      ]
     },
     "execution_count": 6,
     "metadata": {},
     "output_type": "execute_result"
    }
   ],
   "source": [
    "rf_clf = RandomForestClassifier(random_state = 42, class_weight = 'balanced')\n",
    "cv_score(rf_clf, Xtrain, ytrain)"
   ]
  },
  {
   "cell_type": "code",
   "execution_count": 7,
   "metadata": {},
   "outputs": [
    {
     "name": "stdout",
     "output_type": "stream",
     "text": [
      "             precision    recall  f1-score   support\n",
      "\n",
      "          0       1.00      1.00      1.00      6726\n",
      "          1       1.00      1.00      1.00      9422\n",
      "          2       1.00      1.00      1.00     10188\n",
      "          3       1.00      1.00      1.00     12179\n",
      "\n",
      "avg / total       1.00      1.00      1.00     38515\n",
      "\n"
     ]
    }
   ],
   "source": [
    "rf_clf = RandomForestClassifier(class_weight = 'balanced', random_state = 42)\n",
    "\n",
    "rf_clf.fit(Xtrain, ytrain)\n",
    "print(classification_report(ytrain, rf_clf.predict(Xtrain)))"
   ]
  },
  {
   "cell_type": "markdown",
   "metadata": {},
   "source": [
    "this is pretty overfit"
   ]
  },
  {
   "cell_type": "code",
   "execution_count": 8,
   "metadata": {
    "collapsed": true
   },
   "outputs": [],
   "source": [
    "from sklearn.model_selection import GridSearchCV"
   ]
  },
  {
   "cell_type": "code",
   "execution_count": 9,
   "metadata": {},
   "outputs": [
    {
     "name": "stdout",
     "output_type": "stream",
     "text": [
      "{'max_depth': 10, 'min_impurity_decrease': 1e-06}\n"
     ]
    }
   ],
   "source": [
    "param_grid = {'max_depth':[10,20,100,500], 'min_impurity_decrease':[1e-7,1e-6,1e-5, 1e-4, 1e-3, 1e-2]}\n",
    "rf_clf = RandomForestClassifier(class_weight = 'balanced', random_state = 42)\n",
    "rf_clf_cv = GridSearchCV(rf_clf, param_grid, cv = 5)\n",
    "rf_clf_cv.fit(Xtrain, ytrain)\n",
    "\n",
    "print(rf_clf_cv.best_params_)"
   ]
  },
  {
   "cell_type": "code",
   "execution_count": 10,
   "metadata": {},
   "outputs": [
    {
     "data": {
      "text/plain": [
       "0.89025055173309098"
      ]
     },
     "execution_count": 10,
     "metadata": {},
     "output_type": "execute_result"
    }
   ],
   "source": [
    "rf_clf = RandomForestClassifier(class_weight = 'balanced', random_state = 42, max_depth = 20, min_impurity_decrease = 0.0001)\n",
    "\n",
    "cv_score(rf_clf, Xtrain, ytrain)"
   ]
  },
  {
   "cell_type": "markdown",
   "metadata": {},
   "source": [
    "CV score is slightly better after tuning. Narrowing down the grid search:"
   ]
  },
  {
   "cell_type": "code",
   "execution_count": 11,
   "metadata": {},
   "outputs": [
    {
     "name": "stdout",
     "output_type": "stream",
     "text": [
      "{'max_depth': 20, 'min_impurity_decrease': 5e-05}\n"
     ]
    }
   ],
   "source": [
    "param_grid = {'max_depth':[10,20,25,30,50,100], 'min_impurity_decrease':[1e-6,5e-5,1e-4,5e-3,1e-3]}\n",
    "rf_clf = RandomForestClassifier(class_weight = 'balanced', random_state = 42)\n",
    "rf_clf_cv = GridSearchCV(rf_clf, param_grid, cv = 5)\n",
    "rf_clf_cv.fit(Xtrain, ytrain)\n",
    "\n",
    "print(rf_clf_cv.best_params_)"
   ]
  },
  {
   "cell_type": "code",
   "execution_count": 12,
   "metadata": {},
   "outputs": [
    {
     "data": {
      "text/plain": [
       "0.8934960405036998"
      ]
     },
     "execution_count": 12,
     "metadata": {},
     "output_type": "execute_result"
    }
   ],
   "source": [
    "rf_clf = RandomForestClassifier(class_weight = 'balanced', random_state = 42, max_depth = 25, min_impurity_decrease = 5e-05)\n",
    "\n",
    "cv_score(rf_clf, Xtrain, ytrain)"
   ]
  },
  {
   "cell_type": "code",
   "execution_count": 13,
   "metadata": {},
   "outputs": [
    {
     "name": "stdout",
     "output_type": "stream",
     "text": [
      "             precision    recall  f1-score   support\n",
      "\n",
      "          0       0.92      0.96      0.94      6726\n",
      "          1       0.93      0.94      0.94      9422\n",
      "          2       0.97      0.95      0.96     10188\n",
      "          3       0.98      0.96      0.97     12179\n",
      "\n",
      "avg / total       0.96      0.95      0.95     38515\n",
      "\n"
     ]
    }
   ],
   "source": [
    "rf_clf = RandomForestClassifier(class_weight = 'balanced', random_state = 42, max_depth = 25, min_impurity_decrease = 5e-05)\n",
    "\n",
    "rf_clf.fit(Xtrain, ytrain)\n",
    "print(classification_report(ytrain, rf_clf.predict(Xtrain)))"
   ]
  },
  {
   "cell_type": "markdown",
   "metadata": {},
   "source": [
    "Recall is between 0.95 and 0.97 for all four classes. Precision between 0.92 and 0.98. Overall classifier is pretty good."
   ]
  },
  {
   "cell_type": "code",
   "execution_count": 14,
   "metadata": {},
   "outputs": [
    {
     "data": {
      "text/plain": [
       "[('Romney', 0.070745452080867355),\n",
       " ('stateLE_Increase', 0.065715457859039358),\n",
       " ('repealACA', 0.063744443518362892),\n",
       " ('abortioncoverage', 0.058143864303410356),\n",
       " ('stateedu_Increase', 0.053947661287040802),\n",
       " ('statehealthcare_Increase', 0.040667231614730598),\n",
       " ('stateLE_Maintain', 0.037446680337461652),\n",
       " ('Obama', 0.033869736733895137),\n",
       " ('stateinfra_Increase', 0.028069483356168858),\n",
       " ('pres_Trump', 0.027236463906360225),\n",
       " ('legalstatusHS', 0.026968354437650964),\n",
       " ('minwage12', 0.026373158023005151),\n",
       " ('abortion20wks', 0.025283542374712392),\n",
       " ('stateedu_Maintain', 0.021759069124853505),\n",
       " ('EPACO2', 0.021515057853525255),\n",
       " ('campaigndonate', 0.018933648902625246),\n",
       " ('ideo_Moderate or Not sure', 0.01887009923792158),\n",
       " ('abortionchoice', 0.01867247680193259),\n",
       " ('deport', 0.016300032924500985),\n",
       " ('primary', 0.016165903844125435),\n",
       " ('stateinfra_Maintain', 0.015488909975746668),\n",
       " ('gaymarriage', 0.014820597343414791),\n",
       " ('statehealthcare_Maintain', 0.014688327272316556),\n",
       " ('age', 0.011434515337020225),\n",
       " ('Party_Republican', 0.010872318869440289),\n",
       " ('banassault', 0.0096844918386666812),\n",
       " ('religimp_Very important', 0.0094042207028379385),\n",
       " ('pres_None', 0.0090005708628447638),\n",
       " ('TPP', 0.0089475905351704844),\n",
       " ('borderpatrol', 0.0088914214206711716),\n",
       " ('racismrare_Disagree', 0.0087463648576789396),\n",
       " ('statewelfare_Increase', 0.0081854987100838141),\n",
       " ('increasepolice', 0.0080268214772765967),\n",
       " ('concealedcarry', 0.0079856671950645341),\n",
       " ('whiteadvantage_Disagree', 0.0071737072946334249),\n",
       " ('ideo_Liberal', 0.0066221748312052632),\n",
       " ('banmostabortion', 0.0062911383951915921),\n",
       " ('faminc', 0.0061023363205265227),\n",
       " ('militaryUN', 0.0059074978047086151),\n",
       " ('mandatorymin', 0.0054204570906363509),\n",
       " ('militaryterror', 0.0052015488809411155),\n",
       " ('pew_bornagain', 0.0045528073853556327),\n",
       " ('college', 0.0044647217351260213),\n",
       " ('statewelfare_Maintain', 0.0044407228687779179),\n",
       " ('fuelefficiency', 0.0037626172288377732),\n",
       " ('votereg_post', 0.0036573236501978765),\n",
       " ('race_White', 0.0036035234128663591),\n",
       " ('legalstatus', 0.0035569302253415647),\n",
       " ('fearrace_Disagree', 0.003505710556287611),\n",
       " ('investor', 0.0032907930814046566),\n",
       " ('militarycivilwar', 0.0028234866315578287),\n",
       " ('militaryally', 0.0027092558599882835),\n",
       " ('gunregistry', 0.0025637173871856231),\n",
       " ('ideo_Very liberal', 0.0025559348953891952),\n",
       " ('gender', 0.0024225499273408972),\n",
       " ('race_Black', 0.0022372232470871832),\n",
       " ('religimp_Somewhat important', 0.0022180151989259758),\n",
       " ('Party_Independent', 0.0021410721196619825),\n",
       " ('backgroundcheck', 0.0021308496922306346),\n",
       " ('infraspending', 0.0020411907123822014),\n",
       " ('racismrare_Neutral', 0.0020111138466564981),\n",
       " ('mar_Single', 0.0019959667655854657),\n",
       " ('Iransanctions', 0.0019854543548189704),\n",
       " ('relig_Protestant', 0.0019698641886358699),\n",
       " ('mar_Married', 0.0018277103189991099),\n",
       " ('threestrikes', 0.0018128291341769278),\n",
       " ('whiteadvantage_Neutral', 0.0017774155848595519),\n",
       " ('relig_Nothing in particular', 0.0017491366959047686),\n",
       " ('angryracism_Neutral', 0.0017121057678168299),\n",
       " ('fearrace_Neutral', 0.0017026277338949597),\n",
       " ('medicarereform', 0.0016234589838876145),\n",
       " ('employ_Retired', 0.0016129159614880328),\n",
       " ('child18', 0.0015763692771996261),\n",
       " ('militaryoil', 0.0015663520096098158),\n",
       " ('edloan', 0.0014176984120515606),\n",
       " ('polsign', 0.001411556025079298),\n",
       " ('family_vet', 0.0013833514912519997),\n",
       " ('state5', 0.0013402655115354119),\n",
       " ('relig_Roman Catholic', 0.0013357299692938298),\n",
       " ('state2', 0.0013170801820667187),\n",
       " ('militarydemocracy', 0.0013124102527985169),\n",
       " ('union_member', 0.0012951890402707548),\n",
       " ('state3', 0.0012798865140589595),\n",
       " ('state0', 0.0011765164380590476),\n",
       " ('ideo_Very conservative', 0.0011564888392023649),\n",
       " ('NCLB', 0.0011045711205728724),\n",
       " ('state4', 0.0011012273306224897),\n",
       " ('straight', 0.0010827217283087781),\n",
       " ('religimp_Not too important', 0.0010613943502905958),\n",
       " ('veteran', 0.0010414980388303093),\n",
       " ('employ_Part-time', 0.0010157471832109946),\n",
       " ('state1', 0.0010042578509895637),\n",
       " ('pres_Johnson', 0.00099788029787216815),\n",
       " ('polmeeting', 0.0009972587107190537),\n",
       " ('hispanic', 0.00093980542531035588),\n",
       " ('donateblood', 0.00089684782206993858),\n",
       " ('employ_Homemaker', 0.00085369606508055686),\n",
       " ('relig_Atheist', 0.00075988837171138716),\n",
       " ('bodycamera', 0.00074259691533794866),\n",
       " ('angryracism_Disagree', 0.00066715455844145648),\n",
       " ('employ_Student', 0.00063329358180962863),\n",
       " ('immigrant', 0.00062855927707111681),\n",
       " ('employ_Unemployed', 0.00060019662757825119),\n",
       " ('mar_Domestic partnership', 0.00059027425266608684),\n",
       " ('employ_Permanently disabled', 0.00056159966191626624),\n",
       " ('runoffice', 0.00051249537122430755),\n",
       " ('mar_Widowed', 0.00047328056860676331),\n",
       " ('relig_Something else', 0.00042329934194667782),\n",
       " ('race_Mixed', 0.00040848226215205755),\n",
       " ('pres_Other', 0.00040838095301921689),\n",
       " ('employ_Other', 0.00039884042115436759),\n",
       " ('campaignwork', 0.00035498315684703543),\n",
       " ('pres_Stein', 0.00032059195000537895),\n",
       " ('relig_Jewish', 0.00031721440015983779),\n",
       " ('relig_Buddhist', 0.0002693754015403907),\n",
       " ('mar_Separated', 0.00024177529756427485),\n",
       " ('race_Native American', 0.00024048149935039753),\n",
       " ('relig_Mormon', 0.0002307576048107273),\n",
       " ('trans', 0.00022690206740755525),\n",
       " ('race_Other', 0.00015547189415852507),\n",
       " ('relig_Hindu', 0.0001023426928175669),\n",
       " ('relig_Muslim', 6.3065223105573275e-05),\n",
       " ('relig_Eastern or Greek Orthodox', 6.0294022259756053e-05),\n",
       " ('employ_Temporarily laid off', 5.8094226206828418e-05),\n",
       " ('pres_McMullin', 5.4763638107286964e-05),\n",
       " ('race_Middle Eastern', 4.6704183731278e-05)]"
      ]
     },
     "execution_count": 14,
     "metadata": {},
     "output_type": "execute_result"
    }
   ],
   "source": [
    "feature_importances = list(rf_clf.feature_importances_)\n",
    "\n",
    "ranked = []\n",
    "for var in zip(variables, feature_importances):\n",
    "    ranked.append(var)\n",
    "    \n",
    "ranked = sorted(ranked, key = lambda x: x[1], reverse = True)\n",
    "ranked"
   ]
  },
  {
   "cell_type": "markdown",
   "metadata": {},
   "source": [
    "2012 vote is a major factor, interestingly."
   ]
  },
  {
   "cell_type": "code",
   "execution_count": 15,
   "metadata": {},
   "outputs": [
    {
     "data": {
      "text/plain": [
       "0.95747111514994165"
      ]
     },
     "execution_count": 15,
     "metadata": {},
     "output_type": "execute_result"
    }
   ],
   "source": [
    "log_clf = LogisticRegression(class_weight = 'balanced')\n",
    "\n",
    "cv_score(log_clf, Xtrain, ytrain)"
   ]
  },
  {
   "cell_type": "markdown",
   "metadata": {},
   "source": [
    "Quite good out of the box."
   ]
  },
  {
   "cell_type": "code",
   "execution_count": 16,
   "metadata": {
    "collapsed": true
   },
   "outputs": [],
   "source": [
    "coefficients = log_clf.coef_"
   ]
  },
  {
   "cell_type": "markdown",
   "metadata": {},
   "source": [
    "print 10 highest value coefficients for each cluster:"
   ]
  },
  {
   "cell_type": "code",
   "execution_count": 17,
   "metadata": {},
   "outputs": [
    {
     "name": "stdout",
     "output_type": "stream",
     "text": [
      "Cluster 0\n",
      "('stateLE_Increase', -2.0805822792968378)\n",
      "('stateedu_Increase', -1.6430276195418712)\n",
      "('stateinfra_Increase', -1.5280517275909118)\n",
      "('statehealthcare_Increase', -1.4767138593713485)\n",
      "('Romney', -1.4406633147462773)\n",
      "('pres_Johnson', 1.2620078109540516)\n",
      "('stateedu_Maintain', 1.1066999032031224)\n",
      "('ideo_Very conservative', -1.1056522543307397)\n",
      "('ideo_Moderate or Not sure', 1.1054643492532916)\n",
      "('statehealthcare_Maintain', 1.045519422194904)\n",
      "Cluster 1\n",
      "('Romney', -1.5073656725444844)\n",
      "('stateLE_Maintain', -1.3226832467524661)\n",
      "('stateLE_Increase', 1.3125056511225635)\n",
      "('statehealthcare_Increase', 1.2660211591613006)\n",
      "('campaigndonate', -1.2018299337707725)\n",
      "('age', -1.0814025017319289)\n",
      "('ideo_Very liberal', -1.0686448670228497)\n",
      "('stateedu_Increase', 0.9803724578077132)\n",
      "('stateedu_Maintain', -0.91048214794985982)\n",
      "('pres_Johnson', 0.88069766336038835)\n",
      "Cluster 2\n",
      "('stateLE_Increase', -3.5821691495216448)\n",
      "('repealACA', -2.7168170547875357)\n",
      "('stateedu_Maintain', -2.4811898562271395)\n",
      "('abortion20wks', -2.1655402311344414)\n",
      "('stateinfra_Maintain', -1.9344347722867359)\n",
      "('banmostabortion', -1.9227596602037391)\n",
      "('legalstatusHS', 1.8606816825335082)\n",
      "('Obama', 1.8370338996032261)\n",
      "('increasepolice', -1.7840854173333869)\n",
      "('deport', -1.734768341850039)\n",
      "Cluster 3\n",
      "('Romney', 2.9699136680148484)\n",
      "('pres_Trump', 2.6723978123815528)\n",
      "('stateLE_Maintain', -2.005305666199388)\n",
      "('EPACO2', -1.9884746594417322)\n",
      "('minwage12', -1.9423355183263127)\n",
      "('Party_Republican', 1.8385384977099497)\n",
      "('Obama', -1.8113699424130862)\n",
      "('statehealthcare_Increase', -1.7712078768143615)\n",
      "('gaymarriage', -1.749366502325866)\n",
      "('whiteadvantage_Disagree', 1.7433553220120379)\n"
     ]
    }
   ],
   "source": [
    "for i in range(0,4):\n",
    "    cluster_coefs = []\n",
    "    for item, item2 in zip(variables, coefficients[i]):\n",
    "        cluster_coefs.append((item, item2))\n",
    "    cluster_coefs = sorted(cluster_coefs, key = lambda x: abs(x[1]), reverse = True)\n",
    "    print(\"Cluster\",i)\n",
    "    for j in range(10):\n",
    "        print(cluster_coefs[j])"
   ]
  },
  {
   "cell_type": "code",
   "execution_count": 19,
   "metadata": {},
   "outputs": [
    {
     "name": "stdout",
     "output_type": "stream",
     "text": [
      "Cluster 0\n",
      "('stateLE_Increase', -2.0805822792968378)\n",
      "('stateedu_Increase', -1.6430276195418712)\n",
      "('stateinfra_Increase', -1.5280517275909118)\n",
      "('statehealthcare_Increase', -1.4767138593713485)\n",
      "('Romney', -1.4406633147462773)\n",
      "('pres_Johnson', 1.2620078109540516)\n",
      "('stateedu_Maintain', 1.1066999032031224)\n",
      "('ideo_Very conservative', -1.1056522543307397)\n",
      "('ideo_Moderate or Not sure', 1.1054643492532916)\n",
      "('statehealthcare_Maintain', 1.045519422194904)\n",
      "('relig_Muslim', 1.0440300161189549)\n",
      "('stateLE_Maintain', 1.0424766167623269)\n",
      "('campaigndonate', -1.0236067753013502)\n",
      "('stateinfra_Maintain', 0.97355003739190238)\n",
      "('pres_None', 0.93930106515743705)\n",
      "('primary', -0.88241750329348378)\n",
      "('statewelfare_Increase', -0.86682051390461434)\n",
      "('pres_Trump', -0.85504676574117977)\n",
      "('ideo_Very liberal', -0.82591160115334217)\n",
      "('pres_McMullin', 0.78079066323859236)\n",
      "('pres_Other', 0.75299317015783462)\n",
      "('pres_Stein', 0.66713971365507374)\n",
      "('militaryally', -0.64219855635989931)\n",
      "('backgroundcheck', 0.63257182942392098)\n",
      "('relig_Buddhist', 0.62317069264225733)\n",
      "Cluster 1\n",
      "('Romney', -1.5073656725444844)\n",
      "('stateLE_Maintain', -1.3226832467524661)\n",
      "('stateLE_Increase', 1.3125056511225635)\n",
      "('statehealthcare_Increase', 1.2660211591613006)\n",
      "('campaigndonate', -1.2018299337707725)\n",
      "('age', -1.0814025017319289)\n",
      "('ideo_Very liberal', -1.0686448670228497)\n",
      "('stateedu_Increase', 0.9803724578077132)\n",
      "('stateedu_Maintain', -0.91048214794985982)\n",
      "('pres_Johnson', 0.88069766336038835)\n",
      "('pres_Trump', -0.8503707470753562)\n",
      "('ideo_Liberal', -0.80898931768313587)\n",
      "('abortion20wks', 0.80771224701305477)\n",
      "('religimp_Very important', 0.72813517153759399)\n",
      "('ideo_Moderate or Not sure', 0.72780801056825539)\n",
      "('runoffice', 0.71453007855757977)\n",
      "('increasepolice', 0.68921204458872498)\n",
      "('TPP', 0.66600573227818971)\n",
      "('EPACO2', 0.65454738378957555)\n",
      "('minwage12', 0.63360380065567823)\n",
      "('banmostabortion', 0.62860878901699313)\n",
      "('race_Black', 0.62710290286576276)\n",
      "('trans', 0.61527912411260022)\n",
      "('ideo_Very conservative', -0.60744458871023155)\n",
      "('Party_Republican', -0.55915847129393437)\n"
     ]
    }
   ],
   "source": [
    "for i in [0,1]:\n",
    "    cluster_coefs = []\n",
    "    for item, item2 in zip(variables, coefficients[i]):\n",
    "        cluster_coefs.append((item, item2))\n",
    "    cluster_coefs = sorted(cluster_coefs, key = lambda x: abs(x[1]), reverse = True)\n",
    "    print(\"Cluster\",i)\n",
    "    for j in range(25):\n",
    "        print(cluster_coefs[j])"
   ]
  },
  {
   "cell_type": "markdown",
   "metadata": {},
   "source": [
    "0 and 1 are the most interesting ones, because they are less partisan. \n",
    "\n",
    "Cluster 0 wants to maintain law enforcement spending and infrastructure spending. Cluster 0 is associated with voting for Johnson and McMullin, and ideological moderation.\n",
    "\n",
    "people in cluster 1 want to increase law enforcement spending, they tended not to vote for Romney, they're younger, they tended to vote for Other or Johnson, they tended not to donate to campaigns. They do not tend to identify as ideologically liberal, but are more likely to be moderate or unsure.\n"
   ]
  }
 ],
 "metadata": {
  "kernelspec": {
   "display_name": "Python 3",
   "language": "python",
   "name": "python3"
  },
  "language_info": {
   "codemirror_mode": {
    "name": "ipython",
    "version": 3
   },
   "file_extension": ".py",
   "mimetype": "text/x-python",
   "name": "python",
   "nbconvert_exporter": "python",
   "pygments_lexer": "ipython3",
   "version": "3.6.3"
  }
 },
 "nbformat": 4,
 "nbformat_minor": 2
}
