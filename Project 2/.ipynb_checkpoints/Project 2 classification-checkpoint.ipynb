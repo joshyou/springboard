{
 "cells": [
  {
   "cell_type": "code",
   "execution_count": 1,
   "metadata": {
    "collapsed": true
   },
   "outputs": [],
   "source": [
    "import pandas as pd\n",
    "import numpy as np\n",
    "\n",
    "from sklearn.linear_model import LogisticRegression\n",
    "from sklearn.ensemble import RandomForestClassifier\n",
    "from sklearn.model_selection import train_test_split\n",
    "from sklearn.metrics import accuracy_score\n",
    "from sklearn.model_selection import KFold\n",
    "from sklearn.metrics import classification_report"
   ]
  },
  {
   "cell_type": "code",
   "execution_count": 2,
   "metadata": {
    "collapsed": true
   },
   "outputs": [],
   "source": [
    "def cv_score(clf, x, y, score_func=accuracy_score):\n",
    "    result = 0\n",
    "    nfold = 5\n",
    "    for train, test in KFold(nfold, random_state = 42).split(x): # split data into train/test groups, 5 times\n",
    "        clf.fit(x[train], y.iloc[train]) # fit\n",
    "        result += score_func(clf.predict(x[test]), y.iloc[test]) # evaluate score function on held-out data\n",
    "    return result / nfold # average"
   ]
  },
  {
   "cell_type": "code",
   "execution_count": 3,
   "metadata": {
    "collapsed": true
   },
   "outputs": [],
   "source": [
    "df = pd.read_csv('clustered.csv')"
   ]
  },
  {
   "cell_type": "code",
   "execution_count": 4,
   "metadata": {},
   "outputs": [
    {
     "name": "stdout",
     "output_type": "stream",
     "text": [
      "['gender', 'legalstatus', 'borderpatrol', 'legalstatusHS', 'deport', 'minwage12', 'faminc', 'mandatorymin', 'bodycamera', 'threestrikes', 'pew_bornagain', 'increasepolice', 'fuelefficiency', 'EPACO2', 'abortionchoice', 'abortioncoverage', 'abortion20wks', 'repealACA', 'banmostabortion', 'child18', 'TPP', 'NCLB', 'primary', 'Iransanctions', 'infraspending', 'backgroundcheck', 'medicarereform', 'concealedcarry', 'gunregistry', 'banassault', 'gaymarriage', 'hispanic', 'investor', 'trans', 'votereg_post', 'militaryoil', 'militaryterror', 'militarycivilwar', 'militarydemocracy', 'militaryally', 'militaryUN', 'polmeeting', 'polsign', 'campaignwork', 'campaigndonate', 'donateblood', 'edloan', 'runoffice', 'Obama', 'Romney', 'age', 'whiteadvantage_Disagree', 'whiteadvantage_Neutral', 'angryracism_Disagree', 'angryracism_Neutral', 'racismrare_Disagree', 'racismrare_Neutral', 'fearrace_Disagree', 'fearrace_Neutral', 'statewelfare_Increase', 'statewelfare_Maintain', 'stateedu_Increase', 'stateedu_Maintain', 'veteran', 'family_vet', 'race_Black', 'race_Middle Eastern', 'race_Mixed', 'race_Native American', 'race_Other', 'race_White', 'college', 'Party_Independent', 'Party_Republican', 'ideo_Liberal', 'ideo_Moderate or Not sure', 'ideo_Very conservative', 'ideo_Very liberal', 'relig_Atheist', 'relig_Buddhist', 'relig_Eastern or Greek Orthodox', 'relig_Hindu', 'relig_Jewish', 'relig_Mormon', 'relig_Muslim', 'relig_Nothing in particular', 'relig_Protestant', 'relig_Roman Catholic', 'relig_Something else', 'straight', 'immigrant', 'union_member', 'pres_Johnson', 'pres_McMullin', 'pres_None', 'pres_Other', 'pres_Stein', 'pres_Trump', 'employ_Homemaker', 'employ_Other', 'employ_Part-time', 'employ_Permanently disabled', 'employ_Retired', 'employ_Student', 'employ_Temporarily laid off', 'employ_Unemployed', 'mar_Domestic partnership', 'mar_Married', 'mar_Separated', 'mar_Single', 'mar_Widowed', 'religimp_Not too important', 'religimp_Somewhat important', 'religimp_Very important', 'state0', 'state1', 'state2', 'state3', 'state4', 'state5']\n"
     ]
    }
   ],
   "source": [
    "variables = [col for col in df.columns if (col != 'four_cluster_label' and col!= \"five_cluster_label\" and col != 'Unnamed: 0')]\n",
    "             \n",
    "print(variables)"
   ]
  },
  {
   "cell_type": "code",
   "execution_count": 5,
   "metadata": {
    "collapsed": true
   },
   "outputs": [],
   "source": [
    "Xtrain, Xtest, ytrain, ytest = train_test_split(df[variables].values, df['five_cluster_label'], random_state = 42, test_size = 0.2)"
   ]
  },
  {
   "cell_type": "code",
   "execution_count": 6,
   "metadata": {},
   "outputs": [
    {
     "data": {
      "text/plain": [
       "0.83590808775801639"
      ]
     },
     "execution_count": 6,
     "metadata": {},
     "output_type": "execute_result"
    }
   ],
   "source": [
    "rf_clf = RandomForestClassifier(random_state = 42, class_weight = 'balanced')\n",
    "cv_score(rf_clf, Xtrain, ytrain)"
   ]
  },
  {
   "cell_type": "code",
   "execution_count": 7,
   "metadata": {},
   "outputs": [
    {
     "name": "stdout",
     "output_type": "stream",
     "text": [
      "             precision    recall  f1-score   support\n",
      "\n",
      "          0       0.99      1.00      1.00      6967\n",
      "          1       0.99      1.00      1.00      8095\n",
      "          2       1.00      1.00      1.00      7561\n",
      "          3       1.00      1.00      1.00     10671\n",
      "          4       1.00      0.99      1.00      5221\n",
      "\n",
      "avg / total       1.00      1.00      1.00     38515\n",
      "\n"
     ]
    }
   ],
   "source": [
    "rf_clf = RandomForestClassifier(class_weight = 'balanced', random_state = 42)\n",
    "\n",
    "rf_clf.fit(Xtrain, ytrain)\n",
    "print(classification_report(ytrain, rf_clf.predict(Xtrain)))"
   ]
  },
  {
   "cell_type": "markdown",
   "metadata": {},
   "source": [
    "this is pretty overfit"
   ]
  },
  {
   "cell_type": "code",
   "execution_count": 8,
   "metadata": {
    "collapsed": true
   },
   "outputs": [],
   "source": [
    "from sklearn.model_selection import GridSearchCV"
   ]
  },
  {
   "cell_type": "code",
   "execution_count": 9,
   "metadata": {},
   "outputs": [
    {
     "name": "stdout",
     "output_type": "stream",
     "text": [
      "{'max_depth': 20, 'min_impurity_decrease': 0.0001}\n"
     ]
    }
   ],
   "source": [
    "param_grid = {'max_depth':[10,20,100,500], 'min_impurity_decrease':[1e-7,1e-6,1e-5, 1e-4, 1e-3, 1e-2]}\n",
    "rf_clf = RandomForestClassifier(class_weight = 'balanced', random_state = 42)\n",
    "rf_clf_cv = GridSearchCV(rf_clf, param_grid, cv = 5)\n",
    "rf_clf_cv.fit(Xtrain, ytrain)\n",
    "\n",
    "print(rf_clf_cv.best_params_)"
   ]
  },
  {
   "cell_type": "code",
   "execution_count": 10,
   "metadata": {},
   "outputs": [
    {
     "data": {
      "text/plain": [
       "0.8445281059327534"
      ]
     },
     "execution_count": 10,
     "metadata": {},
     "output_type": "execute_result"
    }
   ],
   "source": [
    "rf_clf = RandomForestClassifier(class_weight = 'balanced', random_state = 42, max_depth = 20, min_impurity_decrease = 0.0001)\n",
    "\n",
    "cv_score(rf_clf, Xtrain, ytrain)"
   ]
  },
  {
   "cell_type": "markdown",
   "metadata": {},
   "source": [
    "CV score is slightly better after tuning. Narrowing down the grid search:"
   ]
  },
  {
   "cell_type": "code",
   "execution_count": 11,
   "metadata": {},
   "outputs": [
    {
     "name": "stdout",
     "output_type": "stream",
     "text": [
      "{'max_depth': 20, 'min_impurity_decrease': 0.0001}\n"
     ]
    }
   ],
   "source": [
    "param_grid = {'max_depth':[10,20,25,30,50,100], 'min_impurity_decrease':[1e-6,5e-5,1e-4,5e-3,1e-3]}\n",
    "rf_clf = RandomForestClassifier(class_weight = 'balanced', random_state = 42)\n",
    "rf_clf_cv = GridSearchCV(rf_clf, param_grid, cv = 5)\n",
    "rf_clf_cv.fit(Xtrain, ytrain)\n",
    "\n",
    "print(rf_clf_cv.best_params_)"
   ]
  },
  {
   "cell_type": "code",
   "execution_count": 19,
   "metadata": {},
   "outputs": [
    {
     "name": "stdout",
     "output_type": "stream",
     "text": [
      "             precision    recall  f1-score   support\n",
      "\n",
      "          0       0.84      0.85      0.84      6967\n",
      "          1       0.87      0.83      0.85      8095\n",
      "          2       0.93      0.95      0.94      7561\n",
      "          3       0.95      0.90      0.93     10671\n",
      "          4       0.78      0.89      0.83      5221\n",
      "\n",
      "avg / total       0.89      0.88      0.88     38515\n",
      "\n"
     ]
    }
   ],
   "source": [
    "rf_clf = RandomForestClassifier(class_weight = 'balanced', random_state = 42, max_depth = 20, min_impurity_decrease = 0.0001)\n",
    "\n",
    "rf_clf.fit(Xtrain, ytrain)\n",
    "print(classification_report(ytrain, rf_clf.predict(Xtrain)))"
   ]
  },
  {
   "cell_type": "markdown",
   "metadata": {},
   "source": [
    "Recall is between 0.83 and 0.95 for all four classes. Precision between 0.78 and 0.95. "
   ]
  },
  {
   "cell_type": "code",
   "execution_count": 20,
   "metadata": {},
   "outputs": [
    {
     "data": {
      "text/plain": [
       "[('pres_Trump', 0.080483152008056558),\n",
       " ('repealACA', 0.062965601868580426),\n",
       " ('Obama', 0.059972521987492131),\n",
       " ('EPACO2', 0.05909675655173835),\n",
       " ('Party_Republican', 0.034514679342161181),\n",
       " ('religimp_Very important', 0.034406689489763401),\n",
       " ('whiteadvantage_Disagree', 0.031751399814640688),\n",
       " ('minwage12', 0.029711710814074789),\n",
       " ('primary', 0.029326002987890738),\n",
       " ('pew_bornagain', 0.028590703828110658),\n",
       " ('legalstatusHS', 0.02656161928276991),\n",
       " ('concealedcarry', 0.025676903616368825),\n",
       " ('abortionchoice', 0.025564543390386701),\n",
       " ('Romney', 0.025323456702262652),\n",
       " ('abortioncoverage', 0.025260245308892072),\n",
       " ('banmostabortion', 0.022323112592790462),\n",
       " ('fuelefficiency', 0.020690255873077764),\n",
       " ('pres_None', 0.020380286041267216),\n",
       " ('TPP', 0.02018830898400762),\n",
       " ('gaymarriage', 0.019192718361823603),\n",
       " ('banassault', 0.018292302720850563),\n",
       " ('race_White', 0.018106377183282878),\n",
       " ('abortion20wks', 0.015952118614262937),\n",
       " ('campaigndonate', 0.01584349188262666),\n",
       " ('race_Black', 0.015297657754343654),\n",
       " ('stateedu_Increase', 0.015099993491549141),\n",
       " ('ideo_Moderate or Not sure', 0.014908703466576689),\n",
       " ('deport', 0.014227145121722679),\n",
       " ('Party_Independent', 0.011606664140076366),\n",
       " ('statewelfare_Increase', 0.010951658380631831),\n",
       " ('ideo_Liberal', 0.010798053308368421),\n",
       " ('age', 0.010690538229328889),\n",
       " ('borderpatrol', 0.01025938729311468),\n",
       " ('militaryUN', 0.010131113306988463),\n",
       " ('relig_Protestant', 0.0096449371183669821),\n",
       " ('legalstatus', 0.0091358187507470916),\n",
       " ('racismrare_Disagree', 0.006424874636853946),\n",
       " ('gender', 0.005684273327345577),\n",
       " ('backgroundcheck', 0.0054730259310120759),\n",
       " ('ideo_Very liberal', 0.0042027956006600118),\n",
       " ('mandatorymin', 0.0039198010666340235),\n",
       " ('votereg_post', 0.0038796884654671441),\n",
       " ('stateedu_Maintain', 0.0036100146293014715),\n",
       " ('faminc', 0.0036089607713247749),\n",
       " ('investor', 0.0035040265950935989),\n",
       " ('racismrare_Neutral', 0.0033799475373491065),\n",
       " ('college', 0.0032009766291069353),\n",
       " ('relig_Nothing in particular', 0.0030500303232584838),\n",
       " ('militarycivilwar', 0.0029974970546974315),\n",
       " ('gunregistry', 0.0029766928272598097),\n",
       " ('statewelfare_Maintain', 0.0025806410660772225),\n",
       " ('fearrace_Disagree', 0.0025211916401385636),\n",
       " ('threestrikes', 0.0024135578503763763),\n",
       " ('militaryterror', 0.0023224885364844352),\n",
       " ('increasepolice', 0.0023127156264643304),\n",
       " ('militaryally', 0.0021265840112544782),\n",
       " ('religimp_Somewhat important', 0.0021075990499276787),\n",
       " ('child18', 0.0020372433955952131),\n",
       " ('religimp_Not too important', 0.0020220761476636788),\n",
       " ('whiteadvantage_Neutral', 0.0018519349464708428),\n",
       " ('veteran', 0.0015327769825083208),\n",
       " ('polsign', 0.0012393350592072813),\n",
       " ('hispanic', 0.0011846100984418543),\n",
       " ('angryracism_Neutral', 0.0011671303356846411),\n",
       " ('mar_Single', 0.0010869260293635754),\n",
       " ('infraspending', 0.0010683200373132373),\n",
       " ('militarydemocracy', 0.0010223392624571803),\n",
       " ('immigrant', 0.00089159357405090413),\n",
       " ('militaryoil', 0.00086326113889325165),\n",
       " ('Iransanctions', 0.00084286332776256656),\n",
       " ('ideo_Very conservative', 0.00081207112802482906),\n",
       " ('fearrace_Neutral', 0.00078401829143028554),\n",
       " ('bodycamera', 0.00077796469073159716),\n",
       " ('relig_Atheist', 0.00076544279608322524),\n",
       " ('union_member', 0.00075026129043254174),\n",
       " ('medicarereform', 0.00071541605791572839),\n",
       " ('edloan', 0.00071183850772462516),\n",
       " ('family_vet', 0.00070170915974414045),\n",
       " ('mar_Married', 0.0006727422337610326),\n",
       " ('relig_Roman Catholic', 0.00066352628906330823),\n",
       " ('state3', 0.00062938592062350331),\n",
       " ('polmeeting', 0.00062816725692726278),\n",
       " ('state5', 0.00058433503530958496),\n",
       " ('employ_Retired', 0.00056464001416768671),\n",
       " ('campaignwork', 0.00048736468690754279),\n",
       " ('donateblood', 0.00048118746303768572),\n",
       " ('employ_Permanently disabled', 0.00047319534444095616),\n",
       " ('state2', 0.00045949184396463393),\n",
       " ('employ_Part-time', 0.00043827895406445196),\n",
       " ('pres_Johnson', 0.00043809004222130824),\n",
       " ('state4', 0.00037159175819818317),\n",
       " ('state0', 0.00036074424295937509),\n",
       " ('runoffice', 0.00035718157051804549),\n",
       " ('straight', 0.00035153258066512058),\n",
       " ('state1', 0.00034184630636080601),\n",
       " ('relig_Something else', 0.0003404377278562699),\n",
       " ('mar_Domestic partnership', 0.0003355661858192623),\n",
       " ('angryracism_Disagree', 0.00033275184735804289),\n",
       " ('NCLB', 0.00032447107251065883),\n",
       " ('employ_Unemployed', 0.00027804868757317161),\n",
       " ('pres_Other', 0.00024251031893569877),\n",
       " ('race_Native American', 0.00020378309871668557),\n",
       " ('employ_Homemaker', 0.00019866809912319952),\n",
       " ('relig_Mormon', 0.00018404673204311191),\n",
       " ('mar_Widowed', 0.00017168825024356394),\n",
       " ('employ_Student', 0.00017122751887893581),\n",
       " ('trans', 0.00015532299371291922),\n",
       " ('employ_Other', 0.00012653726444726744),\n",
       " ('employ_Temporarily laid off', 0.00010088013346031325),\n",
       " ('pres_Stein', 8.5338463564599672e-05),\n",
       " ('relig_Eastern or Greek Orthodox', 8.5085135543413437e-05),\n",
       " ('race_Mixed', 7.2523609535007303e-05),\n",
       " ('relig_Buddhist', 6.4086783310232754e-05),\n",
       " ('race_Other', 6.0033520681057582e-05),\n",
       " ('mar_Separated', 5.5339504532214462e-05),\n",
       " ('relig_Jewish', 2.805718409615791e-05),\n",
       " ('pres_McMullin', 2.7149282287032393e-05),\n",
       " ('race_Middle Eastern', 0.0),\n",
       " ('relig_Hindu', 0.0),\n",
       " ('relig_Muslim', 0.0)]"
      ]
     },
     "execution_count": 20,
     "metadata": {},
     "output_type": "execute_result"
    }
   ],
   "source": [
    "feature_importances = list(rf_clf.feature_importances_)\n",
    "\n",
    "ranked = []\n",
    "for var in zip(variables, feature_importances):\n",
    "    ranked.append(var)\n",
    "    \n",
    "ranked = sorted(ranked, key = lambda x: x[1], reverse = True)\n",
    "ranked"
   ]
  },
  {
   "cell_type": "markdown",
   "metadata": {},
   "source": [
    "2012 vote is a major factor, interestingly. Among issue polling, EPACO2, repealACA, and minwage12 were the most important. Religion importance and whether they were born again were also fairly important."
   ]
  },
  {
   "cell_type": "code",
   "execution_count": 15,
   "metadata": {},
   "outputs": [
    {
     "data": {
      "text/plain": [
       "0.90032454887706082"
      ]
     },
     "execution_count": 15,
     "metadata": {},
     "output_type": "execute_result"
    }
   ],
   "source": [
    "log_clf = LogisticRegression(class_weight = 'balanced')\n",
    "\n",
    "cv_score(log_clf, Xtrain, ytrain)"
   ]
  },
  {
   "cell_type": "markdown",
   "metadata": {},
   "source": [
    "Quite good out of the box."
   ]
  },
  {
   "cell_type": "code",
   "execution_count": 16,
   "metadata": {
    "collapsed": true
   },
   "outputs": [],
   "source": [
    "coefficients = log_clf.coef_"
   ]
  },
  {
   "cell_type": "markdown",
   "metadata": {},
   "source": [
    "print 10 highest value coefficients for each cluster:"
   ]
  },
  {
   "cell_type": "code",
   "execution_count": 22,
   "metadata": {},
   "outputs": [
    {
     "name": "stdout",
     "output_type": "stream",
     "text": [
      "Cluster 0\n",
      "('pew_bornagain', -1.2124189510890406)\n",
      "('gaymarriage', 1.1819284387995026)\n",
      "('Romney', -1.1631166142745784)\n",
      "('ideo_Very liberal', -1.1256420694441285)\n",
      "('religimp_Very important', -1.1059893211637961)\n",
      "('campaigndonate', -1.1055431367141773)\n",
      "('primary', -1.0589939980134271)\n",
      "('pres_None', 1.0576775345633316)\n",
      "('pres_McMullin', 0.98970382761133835)\n",
      "('pres_Trump', -0.9591267048395048)\n",
      "('pres_Johnson', 0.90069988269253654)\n",
      "('abortionchoice', 0.82575703536006628)\n",
      "('age', -0.81955714560231052)\n",
      "('race_Black', -0.73094096859164104)\n",
      "('ideo_Moderate or Not sure', 0.72187514242141004)\n",
      "Cluster 1\n",
      "('pres_McMullin', 2.0109643600139688)\n",
      "('pres_Trump', 1.9653523292674162)\n",
      "('pres_Other', 1.7443398627464297)\n",
      "('pres_Johnson', 1.7188624605730916)\n",
      "('Party_Republican', 1.0388775278809155)\n",
      "('campaigndonate', -0.92593528652082602)\n",
      "('Obama', -0.92293662062941373)\n",
      "('backgroundcheck', 0.88982118516084352)\n",
      "('repealACA', 0.82298233012653688)\n",
      "('ideo_Very conservative', -0.8132351569075954)\n",
      "('race_Black', -0.76842020546462997)\n",
      "('pres_None', 0.71836044879649197)\n",
      "('ideo_Liberal', -0.66222687811641523)\n",
      "('race_Middle Eastern', 0.65057764610902147)\n",
      "('ideo_Very liberal', -0.64708686678669924)\n",
      "Cluster 2\n",
      "('EPACO2', -6.0787739991678995)\n",
      "('banassault', -5.0758811387973077)\n",
      "('fuelefficiency', -4.7141164114995542)\n",
      "('minwage12', -4.5890247661989116)\n",
      "('TPP', -3.942747546743949)\n",
      "('concealedcarry', 3.7727445849987893)\n",
      "('gender', 3.5824021561661512)\n",
      "('Romney', 3.4758565221234123)\n",
      "('ideo_Moderate or Not sure', -3.2531657762011927)\n",
      "('stateedu_Increase', -3.0338430616587577)\n",
      "('backgroundcheck', -2.8771957565085748)\n",
      "('primary', 2.8224434510381742)\n",
      "('campaigndonate', 2.8019872753414794)\n",
      "('abortionchoice', -2.6431081529043068)\n",
      "('abortioncoverage', 2.564588082124506)\n",
      "Cluster 3\n",
      "('repealACA', -4.013457451441127)\n",
      "('ideo_Moderate or Not sure', -3.7566010487022976)\n",
      "('abortion20wks', -3.6928457116260081)\n",
      "('pres_None', -3.3756046346012707)\n",
      "('campaigndonate', 3.3655103654549046)\n",
      "('primary', 3.2900321727619275)\n",
      "('Obama', 3.2501919778253967)\n",
      "('militaryUN', 3.1767796059071052)\n",
      "('banmostabortion', -3.0915155908880467)\n",
      "('legalstatusHS', 3.0414827440607928)\n",
      "('abortioncoverage', -2.6148418638751161)\n",
      "('college', 2.436092686630003)\n",
      "('legalstatus', 2.3347617731988168)\n",
      "('militarycivilwar', 2.326786853448831)\n",
      "('deport', -2.2407575880378485)\n",
      "Cluster 4\n",
      "('religimp_Very important', 1.6250007996872848)\n",
      "('pres_Trump', -1.3919273123261404)\n",
      "('Romney', -1.3814302014468862)\n",
      "('Obama', 1.2484915884136345)\n",
      "('campaigndonate', -1.2209874611210754)\n",
      "('abortion20wks', 1.0412057262911303)\n",
      "('ideo_Very liberal', -1.0161061234451636)\n",
      "('race_White', -0.97349181177066357)\n",
      "('age', -0.94701992643193644)\n",
      "('banmostabortion', 0.94132463798820665)\n",
      "('votereg_post', 0.84404576510425955)\n",
      "('pres_None', -0.84355000723257245)\n",
      "('Party_Republican', -0.81947480924289973)\n",
      "('faminc', -0.79456059467922602)\n",
      "('race_Black', 0.78722163951842061)\n"
     ]
    }
   ],
   "source": [
    "for i in range(0,5):\n",
    "    cluster_coefs = []\n",
    "    for item, item2 in zip(variables, coefficients[i]):\n",
    "        cluster_coefs.append((item, item2))\n",
    "    cluster_coefs = sorted(cluster_coefs, key = lambda x: abs(x[1]), reverse = True)\n",
    "    print(\"Cluster\",i)\n",
    "    for j in range(15):\n",
    "        print(cluster_coefs[j])"
   ]
  }
 ],
 "metadata": {
  "kernelspec": {
   "display_name": "Python 3",
   "language": "python",
   "name": "python3"
  },
  "language_info": {
   "codemirror_mode": {
    "name": "ipython",
    "version": 3
   },
   "file_extension": ".py",
   "mimetype": "text/x-python",
   "name": "python",
   "nbconvert_exporter": "python",
   "pygments_lexer": "ipython3",
   "version": "3.6.3"
  }
 },
 "nbformat": 4,
 "nbformat_minor": 2
}
