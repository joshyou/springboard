{
 "cells": [
  {
   "cell_type": "markdown",
   "metadata": {},
   "source": [
    "## Capstone Project 1 Code"
   ]
  },
  {
   "cell_type": "markdown",
   "metadata": {},
   "source": [
    "## Data Cleaning/Wrangling"
   ]
  },
  {
   "cell_type": "code",
   "execution_count": 1,
   "metadata": {
    "collapsed": true
   },
   "outputs": [],
   "source": [
    "import pandas as pd\n",
    "import numpy as np"
   ]
  },
  {
   "cell_type": "markdown",
   "metadata": {},
   "source": [
    "First, I used Pandas to read in a dataframe from the CSV files (I split the dataset into two files in order to get past GitHub's 100MB file size limit), selecting the columns I am interested in. I used the missing value codes from the Guidebook to convert missing values to 'NaN'."
   ]
  },
  {
   "cell_type": "code",
   "execution_count": 2,
   "metadata": {},
   "outputs": [
    {
     "name": "stderr",
     "output_type": "stream",
     "text": [
      "C:\\Users\\joshy\\Anaconda3\\lib\\site-packages\\IPython\\core\\interactiveshell.py:2698: DtypeWarning: Columns (4,6,31,33,53,61,62,63,76,79,90,92,94,96,114,115,121) have mixed types. Specify dtype option on import or set low_memory=False.\n",
      "  interactivity=interactivity, compiler=compiler, result=result)\n"
     ]
    },
    {
     "name": "stdout",
     "output_type": "stream",
     "text": [
      "0 eventid\n",
      "1 iyear\n",
      "2 imonth\n",
      "3 iday\n",
      "4 approxdate\n",
      "5 extended\n",
      "6 resolution\n",
      "7 country\n",
      "8 country_txt\n",
      "9 region\n",
      "10 region_txt\n",
      "11 provstate\n",
      "12 city\n",
      "13 latitude\n",
      "14 longitude\n",
      "15 specificity\n",
      "16 vicinity\n",
      "17 location\n",
      "18 summary\n",
      "19 crit1\n",
      "20 crit2\n",
      "21 crit3\n",
      "22 doubtterr\n",
      "23 alternative\n",
      "24 alternative_txt\n",
      "25 multiple\n",
      "26 success\n",
      "27 suicide\n",
      "28 attacktype1\n",
      "29 attacktype1_txt\n",
      "30 attacktype2\n",
      "31 attacktype2_txt\n",
      "32 attacktype3\n",
      "33 attacktype3_txt\n",
      "34 targtype1\n",
      "35 targtype1_txt\n",
      "36 targsubtype1\n",
      "37 targsubtype1_txt\n",
      "38 corp1\n",
      "39 target1\n",
      "40 natlty1\n",
      "41 natlty1_txt\n",
      "42 targtype2\n",
      "43 targtype2_txt\n",
      "44 targsubtype2\n",
      "45 targsubtype2_txt\n",
      "46 corp2\n",
      "47 target2\n",
      "48 natlty2\n",
      "49 natlty2_txt\n",
      "50 targtype3\n",
      "51 targtype3_txt\n",
      "52 targsubtype3\n",
      "53 targsubtype3_txt\n",
      "54 corp3\n",
      "55 target3\n",
      "56 natlty3\n",
      "57 natlty3_txt\n",
      "58 gname\n",
      "59 gsubname\n",
      "60 gname2\n",
      "61 gsubname2\n",
      "62 gname3\n",
      "63 gsubname3\n",
      "64 motive\n",
      "65 guncertain1\n",
      "66 guncertain2\n",
      "67 guncertain3\n",
      "68 individual\n",
      "69 nperps\n",
      "70 nperpcap\n",
      "71 claimed\n",
      "72 claimmode\n",
      "73 claimmode_txt\n",
      "74 claim2\n",
      "75 claimmode2\n",
      "76 claimmode2_txt\n",
      "77 claim3\n",
      "78 claimmode3\n",
      "79 claimmode3_txt\n",
      "80 compclaim\n",
      "81 weaptype1\n",
      "82 weaptype1_txt\n",
      "83 weapsubtype1\n",
      "84 weapsubtype1_txt\n",
      "85 weaptype2\n",
      "86 weaptype2_txt\n",
      "87 weapsubtype2\n",
      "88 weapsubtype2_txt\n",
      "89 weaptype3\n",
      "90 weaptype3_txt\n",
      "91 weapsubtype3\n",
      "92 weapsubtype3_txt\n",
      "93 weaptype4\n",
      "94 weaptype4_txt\n",
      "95 weapsubtype4\n",
      "96 weapsubtype4_txt\n",
      "97 weapdetail\n",
      "98 nkill\n",
      "99 nkillus\n",
      "100 nkillter\n",
      "101 nwound\n",
      "102 nwoundus\n",
      "103 nwoundte\n",
      "104 property\n",
      "105 propextent\n",
      "106 propextent_txt\n",
      "107 propvalue\n",
      "108 propcomment\n",
      "109 ishostkid\n",
      "110 nhostkid\n",
      "111 nhostkidus\n",
      "112 nhours\n",
      "113 ndays\n",
      "114 divert\n",
      "115 kidhijcountry\n",
      "116 ransom\n",
      "117 ransomamt\n",
      "118 ransomamtus\n",
      "119 ransompaid\n",
      "120 ransompaidus\n",
      "121 ransomnote\n",
      "122 hostkidoutcome\n",
      "123 hostkidoutcome_txt\n",
      "124 nreleased\n",
      "125 addnotes\n",
      "126 scite1\n",
      "127 scite2\n",
      "128 scite3\n",
      "129 dbsource\n",
      "130 INT_LOG\n",
      "131 INT_IDEO\n",
      "132 INT_MISC\n",
      "133 INT_ANY\n",
      "134 related\n"
     ]
    }
   ],
   "source": [
    "df = pd.read_csv('global_terrorism1.csv', encoding = 'latin1')\n",
    "for i in range(len(list(df.columns))):\n",
    "    print(i, list(df.columns)[i])"
   ]
  },
  {
   "cell_type": "code",
   "execution_count": 3,
   "metadata": {
    "collapsed": true
   },
   "outputs": [],
   "source": [
    "col_indexes =  [1,2,9,13,14,19,20,21,26,27,28,30,32,34,42,50,68,81,85,89,93,98,101,104,105]\n",
    "\n",
    "terrorism_df1 = pd.read_csv('global_terrorism1.csv', encoding = 'latin1', usecols = col_indexes, \n",
    "                           na_values = {'attacktype1': 9, 'weaptype1': 13, 'targtype1': 20, 'property': -9, 'propextent':4})\n",
    "\n",
    "terrorism_df2 = pd.read_csv('global_terrorism2.csv', encoding = 'latin1', usecols = col_indexes, \n",
    "                           na_values = {'attacktype1': 9, 'weaptype1': 13, 'targtype1': 20, 'property': -9, 'propextent':4})\n",
    "\n",
    "terrorism_df = terrorism_df1.append(terrorism_df2)"
   ]
  },
  {
   "cell_type": "code",
   "execution_count": 4,
   "metadata": {},
   "outputs": [
    {
     "name": "stdout",
     "output_type": "stream",
     "text": [
      "<class 'pandas.core.frame.DataFrame'>\n",
      "Int64Index: 170350 entries, 0 to 59601\n",
      "Data columns (total 25 columns):\n",
      "iyear          170350 non-null int64\n",
      "imonth         170350 non-null int64\n",
      "region         170350 non-null int64\n",
      "latitude       165744 non-null float64\n",
      "longitude      165744 non-null float64\n",
      "crit1          170350 non-null int64\n",
      "crit2          170350 non-null int64\n",
      "crit3          170350 non-null int64\n",
      "success        170350 non-null int64\n",
      "suicide        170350 non-null int64\n",
      "attacktype1    163925 non-null float64\n",
      "attacktype2    5630 non-null float64\n",
      "attacktype3    374 non-null float64\n",
      "targtype1      165477 non-null float64\n",
      "targtype2      10018 non-null float64\n",
      "targtype3      1034 non-null float64\n",
      "individual     170350 non-null int64\n",
      "weaptype1      156498 non-null float64\n",
      "weaptype2      11843 non-null float64\n",
      "weaptype3      1660 non-null float64\n",
      "weaptype4      74 non-null float64\n",
      "nkill          160668 non-null float64\n",
      "nwound         155025 non-null float64\n",
      "property       150771 non-null float64\n",
      "propextent     41479 non-null float64\n",
      "dtypes: float64(16), int64(9)\n",
      "memory usage: 33.8 MB\n"
     ]
    }
   ],
   "source": [
    "terrorism_df.info()"
   ]
  },
  {
   "cell_type": "markdown",
   "metadata": {},
   "source": [
    "The dataframe has missing values for many columns. I exclude rows with missing values for some columns. Note that a few features, such as attack type, are represented by multiple columns (since an attack can be classified as multiple types, use multiple weapons, etc.). Because I'll convert all of these columns to dummy variables, I only need to filter by the first column - if 'attacktype1' is missing for a row, then 'attacktype2' and 'attacktype 3' will also be missing, and so on for the other columns. I also only filter for missing values in columns that I ended up using in my analysis."
   ]
  },
  {
   "cell_type": "code",
   "execution_count": 5,
   "metadata": {},
   "outputs": [
    {
     "name": "stdout",
     "output_type": "stream",
     "text": [
      "<class 'pandas.core.frame.DataFrame'>\n",
      "RangeIndex: 140928 entries, 0 to 140927\n",
      "Data columns (total 25 columns):\n",
      "iyear          140928 non-null int64\n",
      "imonth         140928 non-null int64\n",
      "region         140928 non-null int64\n",
      "latitude       140928 non-null float64\n",
      "longitude      140928 non-null float64\n",
      "crit1          140928 non-null int64\n",
      "crit2          140928 non-null int64\n",
      "crit3          140928 non-null int64\n",
      "success        140928 non-null int64\n",
      "suicide        140928 non-null int64\n",
      "attacktype1    140928 non-null float64\n",
      "attacktype2    4907 non-null float64\n",
      "attacktype3    337 non-null float64\n",
      "targtype1      140928 non-null float64\n",
      "targtype2      8843 non-null float64\n",
      "targtype3      890 non-null float64\n",
      "individual     140928 non-null int64\n",
      "weaptype1      140928 non-null float64\n",
      "weaptype2      10587 non-null float64\n",
      "weaptype3      1515 non-null float64\n",
      "weaptype4      63 non-null float64\n",
      "nkill          140928 non-null float64\n",
      "nwound         135589 non-null float64\n",
      "property       123859 non-null float64\n",
      "propextent     38040 non-null float64\n",
      "dtypes: float64(16), int64(9)\n",
      "memory usage: 26.9 MB\n"
     ]
    }
   ],
   "source": [
    "#Remove rows with missing values\n",
    "filter_cols = ['attacktype1', 'targtype1', 'weaptype1', 'nkill', 'latitude', 'longitude']\n",
    "\n",
    "cleaned_df = terrorism_df.dropna(axis = 0, how = 'any', subset = filter_cols)\n",
    "cleaned_df = cleaned_df.reset_index(drop=True)\n",
    "cleaned_df.info()"
   ]
  },
  {
   "cell_type": "markdown",
   "metadata": {},
   "source": [
    "Next, I convert the categorical, non-binary columns - region, attack type, weapon type, and target type - into dummy variables. For the features with multiple columns, such as attack type, a column representing one attack type has a value of 1 if 'attacktype1', 'attacktype2', or 'attacktype3' have a value corresponding to that type. For each feature, I leave out one value that I do not convert to a dummy column, as the last column for a set of dummy variables is redundant. In the case of weapon type and target type, there are codes corresponding to \"other\", so I leave out that value."
   ]
  },
  {
   "cell_type": "code",
   "execution_count": 6,
   "metadata": {
    "collapsed": true
   },
   "outputs": [],
   "source": [
    "region_dict = {1: 'North America', 2: 'Central America', 3: 'South America', 4: 'East Asia', 5: 'SE Asia', 6: 'South Asia', \n",
    "7: 'Central Asia', 8: 'West Europe',9: 'East Europe',10: 'ME and North Africa', \n",
    "11: 'Sub-Saharan Africa', 12: 'Oceania'}\n",
    "\n",
    "#leave one out\n",
    "for i in range(1,12):\n",
    "    cleaned_df[region_dict[i]] = (cleaned_df['region'] == i).astype(int)\n",
    "    \n",
    "type_dict = {1:'Assassination', 2:'Armed Assault',\n",
    "            3:'Bombing', 4:'Hijacking', 5:'Hostage (Barricade)',\n",
    "             6:'Kidnapping', 7:'Infrastructure', 8:'Unarmed Assault'}\n",
    "\n",
    "for i in range(1,8):\n",
    "    cleaned_df[type_dict[i]] = ((cleaned_df['attacktype1'] == i) | (cleaned_df['attacktype2'] == i)\n",
    "                                | (cleaned_df['attacktype3'] == i)).astype(int)\n",
    "    \n",
    "weapon_dict = {1:'Biological',2:'Chemical',3:'Radiological',\n",
    "            4:'Nuclear',5:'Firearms',6:'Explosives',\n",
    "            7:'Fake Weapon', 8:'Incendiary', 9:'Melee',\n",
    "            10:'Vehicle',11:'Sabotage Equipment', 12:'Other'}\n",
    "\n",
    "for i in range(1,12):\n",
    "    cleaned_df[weapon_dict[i]] = ((cleaned_df['weaptype1'] == i) | (cleaned_df['weaptype2'] == i) \n",
    "                                   | (cleaned_df['weaptype3'] == i) | (cleaned_df['weaptype4'] == i)).astype(int)\n",
    "    \n",
    "target_dict = {1:'Business', 2:'Government', 3:'Police',4:'Military',5:'Abortion',6:'Aviation',7:'Diplomatic',8:'Education',9:'FoodWater',10:'Media',\n",
    "              11:'Maritime', 12:'NGO',13:'Other',14:'Private',15:'Religious',16:'Telecommunication',\n",
    "              17:'Terrorists', 18:'Tourists', 19:'Transportation',21:'Utilities',22:'Violent Parties'}\n",
    "\n",
    "target_codes = [i for i in range(1,23) if i != 13 and i != 20]\n",
    "\n",
    "for i in target_codes:\n",
    "    cleaned_df[target_dict[i]] = ((cleaned_df['targtype1'] == i) | (cleaned_df['targtype2'] == i)\n",
    "                                | (cleaned_df['targtype3'] == i)).astype(int)"
   ]
  },
  {
   "cell_type": "markdown",
   "metadata": {},
   "source": [
    "Finally, I export the cleaned dataframe to a new CSV file."
   ]
  },
  {
   "cell_type": "code",
   "execution_count": 7,
   "metadata": {
    "collapsed": true
   },
   "outputs": [],
   "source": [
    "cleaned_df.to_csv('cleaned.csv')"
   ]
  },
  {
   "cell_type": "markdown",
   "metadata": {},
   "source": [
    "## Exploratory Data Analysis"
   ]
  },
  {
   "cell_type": "code",
   "execution_count": 8,
   "metadata": {
    "collapsed": true
   },
   "outputs": [],
   "source": [
    "import matplotlib.pyplot as plt\n",
    "\n",
    "df = pd.read_csv('cleaned.csv')"
   ]
  },
  {
   "cell_type": "markdown",
   "metadata": {},
   "source": [
    "My capstone project will investigate the factors that affect the likelihoood that an attempted terrorist attack will succeed. I will start by showing some general trends in terrorist attacks. \n",
    "\n",
    "First, here is the number of attacks by year:"
   ]
  },
  {
   "cell_type": "code",
   "execution_count": 9,
   "metadata": {},
   "outputs": [
    {
     "data": {
      "image/png": "[encoded data removed]",
      "text/plain": [
       "<matplotlib.figure.Figure at 0x21043f18470>"
      ]
     },
     "metadata": {},
     "output_type": "display_data"
    }
   ],
   "source": [
    "year_counts = df.groupby(['iyear'])['iyear'].count()\n",
    "\n",
    "_ = year_counts.plot(kind='line', rot = 70)\n",
    "_ = plt.ylim(ymin = 0)\n",
    "_ = plt.xlabel('Year')\n",
    "_ = plt.ylabel('Number of terrorist attacks')\n",
    "plt.show()"
   ]
  },
  {
   "cell_type": "markdown",
   "metadata": {},
   "source": [
    "As this plot shows, there is a spike in terrorist attacks in the late 1980s and early 1990s in this dataset, and a larger spike occurring after 2010. This now raises the question of what caused the spike in attacks. It could be caused by better reporting leading to a higher proportion of terrorist attacks being listed in the dataset, or geopolitical trends such as instability in the Middle East leading to an actual spike in attacks. Thus, I will now analyze the breakdown in attacks by year and region:"
   ]
  },
  {
   "cell_type": "code",
   "execution_count": 10,
   "metadata": {
    "scrolled": true
   },
   "outputs": [
    {
     "name": "stdout",
     "output_type": "stream",
     "text": [
      "region_name\n",
      "Oceania                  224\n",
      "Central Asia             486\n",
      "East Asia                701\n",
      "North America           3111\n",
      "East Europe             4463\n",
      "Central America         6481\n",
      "SE Asia                 9879\n",
      "Sub-Saharan Africa     11905\n",
      "West Europe            14230\n",
      "South America          14598\n",
      "South Asia             35206\n",
      "ME and North Africa    39644\n",
      "Name: success, dtype: int64\n"
     ]
    }
   ],
   "source": [
    "region_dict = {1: 'North America', 2: 'Central America', 3: 'South America', 4: 'East Asia', 5: 'SE Asia', 6: 'South Asia', \n",
    "7: 'Central Asia', 8: 'West Europe',9: 'East Europe',10: 'ME and North Africa', \n",
    "11: 'Sub-Saharan Africa', 12: 'Oceania'}\n",
    "\n",
    "df['region_name'] = df['region'].replace(region_dict)\n",
    "\n",
    "region_counts = df.groupby(['region_name'])['success'].count()\n",
    "print(region_counts.sort_values())\n",
    "\n",
    "highcount_regions = [2, 5, 11, 8, 3, 6, 10]\n",
    "regionyear_df = df.loc[df['region'].isin(highcount_regions)]"
   ]
  },
  {
   "cell_type": "markdown",
   "metadata": {},
   "source": [
    "The Middle East and North Africa, South Asia, and South America are the regions with the largest number of attacks in the dataset. Now I will use a stacked area chart to show the trends over time for the seven regions with the most attacks."
   ]
  },
  {
   "cell_type": "code",
   "execution_count": 11,
   "metadata": {},
   "outputs": [
    {
     "data": {
      "image/png": "[encoded data removed]",
      "text/plain": [
       "<matplotlib.figure.Figure at 0x21043f189b0>"
      ]
     },
     "metadata": {},
     "output_type": "display_data"
    }
   ],
   "source": [
    "regionyear_df = regionyear_df.groupby(['iyear', 'region_name'])['region'].count().reset_index()\n",
    "regionyear_df = regionyear_df.pivot(index = 'iyear', columns = 'region_name', values = 'region')\n",
    "#print(regionyear_df)\n",
    "\n",
    "_ = regionyear_df.plot.area()\n",
    "_ = plt.title('Attacks by Region and Year')\n",
    "_ = plt.xlabel('Year')\n",
    "_ = plt.ylabel('Number of attacks')\n",
    "plt.show()"
   ]
  },
  {
   "cell_type": "markdown",
   "metadata": {},
   "source": [
    "As this plot shows, there are clear differences in the distribution of attacks by region over time. South Asia and the Middle East and North Africa appear to be the main contributors to the recent spike in attacks. South America and Western Europe have seen large declines in both the absolute number of attacks, and their share in the world total, over time. Because the spike in attacks is not uniform by region, this suggests that the 2010s spike was likely caused, at least in part, by changes in political situation in addition to differences in reporting or measurement.\n",
    "\n",
    "Next, I will use exploratory data analysis to investigate how success rate varies based on several variables. In this dataset, whether an attack succeeds is based on whether the attack occurs and leads to tangible effects, but does not depend on whether it achieves the long-term goals of the attack. For example, a bombing succeeds if the bomb detonates, though the broader societal affect of the detonation may vary from attack to attck. \n",
    "\n",
    "First, I show the success rate grouped by region:"
   ]
  },
  {
   "cell_type": "code",
   "execution_count": 12,
   "metadata": {},
   "outputs": [
    {
     "data": {
      "image/png": "[encoded data removed]",
      "text/plain": [
       "<matplotlib.figure.Figure at 0x2104904e828>"
      ]
     },
     "metadata": {},
     "output_type": "display_data"
    }
   ],
   "source": [
    "region_success_counts = df.groupby(['region_name'])['success'].sum()\n",
    "region_counts = df.groupby(['region_name'])['success'].count()\n",
    "region_success_ratio = region_success_counts.divide(region_counts)\n",
    "region_success_ratio = region_success_ratio.sort_values()\n",
    "\n",
    "_ = region_success_ratio.plot(kind='bar', rot = 70)\n",
    "_ = plt.xlabel('Region')\n",
    "_ = plt.ylabel('Attack Success Rate')\n",
    "plt.margins(0.04)\n",
    "plt.show()"
   ]
  },
  {
   "cell_type": "markdown",
   "metadata": {},
   "source": [
    "As the graph shows, there is some difference in success rate by region, but the success rate does not vary too much. Next, I break down success rate by whether the terrorist attack was carried out by an individual (as opposed to a group or organization):"
   ]
  },
  {
   "cell_type": "code",
   "execution_count": 13,
   "metadata": {},
   "outputs": [
    {
     "data": {
      "image/png": "[encoded data removed]",
      "text/plain": [
       "<matplotlib.figure.Figure at 0x2104a0e6e48>"
      ]
     },
     "metadata": {},
     "output_type": "display_data"
    }
   ],
   "source": [
    "individual_counts = df.groupby(['individual'])['success'].count()\n",
    "individual_success_counts = df.groupby(['individual'])['success'].sum()\n",
    "individual_success_ratio = individual_success_counts.divide(individual_counts)\n",
    "\n",
    "_ = individual_success_ratio.plot(kind='bar', rot = 0)\n",
    "_ = plt.title('Success Rate by Individual or Group')\n",
    "_ = plt.xlabel('Attack carried out by individual')\n",
    "_ = plt.ylabel('Attack Success Rate')\n",
    "plt.show()"
   ]
  },
  {
   "cell_type": "markdown",
   "metadata": {},
   "source": [
    "The plot shows that individual attacks have a lower success rate. Here is attack success rate grouped by weapon type:"
   ]
  },
  {
   "cell_type": "code",
   "execution_count": 14,
   "metadata": {},
   "outputs": [
    {
     "data": {
      "image/png": "[encoded data removed]",
      "text/plain": [
       "<matplotlib.figure.Figure at 0x2104a075f28>"
      ]
     },
     "metadata": {},
     "output_type": "display_data"
    }
   ],
   "source": [
    "weapon_dict = {1:'Biological',2:'Chemical',3:'Radiological',\n",
    "            4:'Nuclear',5:'Firearms',6:'Explosives',\n",
    "            7:'Fake Weapon', 8:'Incendiary', 9:'Melee',\n",
    "            10:'Vehicle',11:'Sabotage Equipment', 12:'Other'}\n",
    "\n",
    "df['weapname1'] = df['weaptype1'].replace(weapon_dict)\n",
    "\n",
    "weap_counts = df.groupby(['weapname1'])['success'].count()\n",
    "weap_success_counts = df.groupby(['weapname1'])['success'].sum()\n",
    "weap_success_ratio = weap_success_counts.divide(weap_counts)\n",
    "weap_success_ratio = weap_success_ratio.sort_values()\n",
    "\n",
    "_ = weap_success_ratio.plot(kind='bar', rot = 70)\n",
    "_ = plt.title('Success Rate by Weapon Type')\n",
    "_ = plt.xlabel('Weapon type')\n",
    "_ = plt.ylabel('Attack Success Rate')\n",
    "plt.show()"
   ]
  },
  {
   "cell_type": "markdown",
   "metadata": {},
   "source": [
    "Some weapon types feature much lower success rates than the others. Radiological attacks rarely succeed, while attacks with sabotage equipment, incendiary weapons, and firearms usually succeed. Next, I show attack success rate grouped by attack type:"
   ]
  },
  {
   "cell_type": "code",
   "execution_count": 15,
   "metadata": {},
   "outputs": [
    {
     "data": {
      "image/png": "[encoded data removed]",
      "text/plain": [
       "<matplotlib.figure.Figure at 0x2104a081320>"
      ]
     },
     "metadata": {},
     "output_type": "display_data"
    }
   ],
   "source": [
    "type_dict = {1:'Assassination', 2:'Armed Assault',\n",
    "            3:'Bombing', 4:'Hijacking', 5:'Hostage (Barricade)',\n",
    "             6:'Kidnapping', 7:'Infrastructure', 8:'Unarmed Assault'}\n",
    "\n",
    "df['typename1'] = df['attacktype1'].replace(type_dict)\n",
    "\n",
    "type_counts = df.groupby(['typename1'])['success'].count()\n",
    "type_success_counts = df.groupby(['typename1'])['success'].sum()\n",
    "type_success_ratio = type_success_counts.divide(type_counts)\n",
    "\n",
    "type_success_ratio = type_success_ratio.sort_values()\n",
    "\n",
    "_ = type_success_ratio.plot(kind='bar', rot = 70)\n",
    "_ = plt.title('Success Rate by Attack Type')\n",
    "_ = plt.xlabel('Attack type')\n",
    "_ = plt.ylabel('Attack Success Rate')\n",
    "plt.show()"
   ]
  },
  {
   "cell_type": "markdown",
   "metadata": {},
   "source": [
    "Assassinations are less successful than other types of attacks, while kidnappings and hostage attacks are usually successful. This may result in assassination being more difficult- an assassination must lead to the death of the intended target to be marked as a success in the dataset.\n",
    "\n",
    "Now that I have explored success rates, I will investigate the effects of these attacks. First, I will look at the distribution of casualties from terrorist attacks:"
   ]
  },
  {
   "cell_type": "code",
   "execution_count": 16,
   "metadata": {},
   "outputs": [
    {
     "data": {
      "image/png": "[encoded data removed]",
      "text/plain": [
       "<matplotlib.figure.Figure at 0x21050eb8908>"
      ]
     },
     "metadata": {},
     "output_type": "display_data"
    }
   ],
   "source": [
    "def ecdf(data):\n",
    "    \"\"\"Compute ECDF for a one-dimensional array of measurements.\"\"\"\n",
    "\n",
    "    # Number of data points: n\n",
    "    n = len(data)\n",
    "\n",
    "    # x-data for the ECDF: x\n",
    "    x = np.sort(data)\n",
    "\n",
    "    # y-data for the ECDF: y\n",
    "    y = np.arange(1, n+1) / n\n",
    "\n",
    "    return x, y\n",
    "\n",
    "x, y = ecdf(df['nkill'])\n",
    "\n",
    "_ = plt.plot(x,y, linestyle = 'none', marker = '.')\n",
    "_ = plt.xlabel('Number killed in terrorist attack')\n",
    "_ = plt.ylabel('Empirical cumulative distribution function')\n",
    "plt.show()"
   ]
  },
  {
   "cell_type": "markdown",
   "metadata": {},
   "source": [
    "The data is right-skewed and a few outliers make this graph hard to read. We can focus on attacks with a lower casualty count (< 100) to get a better idea of the distribution:"
   ]
  },
  {
   "cell_type": "code",
   "execution_count": 17,
   "metadata": {},
   "outputs": [
    {
     "data": {
      "image/png": "[encoded data removed]",
      "text/plain": [
       "<matplotlib.figure.Figure at 0x21042a3a8d0>"
      ]
     },
     "metadata": {},
     "output_type": "display_data"
    }
   ],
   "source": [
    "df2 = df[df['nkill'] < 100]\n",
    "\n",
    "x, y = ecdf(df2['nkill'])\n",
    "\n",
    "_ = plt.plot(x,y, linestyle = 'none', marker = '.')\n",
    "_ = plt.xlabel('Number killed in terrorist attack')\n",
    "_ = plt.ylabel('Empirical cumulative distribution function')\n",
    "plt.show()"
   ]
  },
  {
   "cell_type": "markdown",
   "metadata": {},
   "source": [
    "The plot shows that a large proportion (perhaps half) of attacks lead to 0 fatalities, and a large majority lead to fewer than 10 fatalities. Since the overall success rate is over 80%, this shows that a good number of successful terrorist attacks lead to no fatalities, or at least few fatalities. The terrorist attacks with high death counts that are covered in the media are not representative of terrorist attacks overall.\n",
    "\n",
    "Next, I will explore which factors determine whether an attack will lead to a fatality. Here are attacks grouped by region:"
   ]
  },
  {
   "cell_type": "code",
   "execution_count": 18,
   "metadata": {},
   "outputs": [
    {
     "data": {
      "image/png": "[encoded data removed]",
      "text/plain": [
       "<matplotlib.figure.Figure at 0x2104bdf1eb8>"
      ]
     },
     "metadata": {},
     "output_type": "display_data"
    }
   ],
   "source": [
    "df['fatal'] = df['nkill'] > 0\n",
    "region_fatal_counts = df.groupby(['region_name'])['fatal'].sum()\n",
    "region_fatal_ratio = region_fatal_counts.divide(region_counts)\n",
    "region_fatal_ratio = region_fatal_ratio.sort_values()\n",
    "\n",
    "_ = region_fatal_ratio.plot(kind='bar', rot = 75)\n",
    "_ = plt.title('Fatality Rate by Region')\n",
    "_ = plt.xlabel('Region')\n",
    "_ = plt.ylabel('Attack Fatality Rate')\n",
    "plt.show()"
   ]
  },
  {
   "cell_type": "markdown",
   "metadata": {},
   "source": [
    "The ranking of the regions is similar to the plot for success rate. However, the fatality rates differ largely by region. Most attacks lead to fatalities in Africa and the Middle East, while most attacks do not lead to fatalities in North America, Western Europe, and East Asia. There appears to be a relationship between the economic success and political stability of a region and a low fatality rate of attacks.\n",
    "\n",
    "Next, I show the fatality rate of attacks grouped by whether the perpetrator was an individual."
   ]
  },
  {
   "cell_type": "code",
   "execution_count": 19,
   "metadata": {},
   "outputs": [
    {
     "data": {
      "image/png": "[encoded data removed]",
      "text/plain": [
       "<matplotlib.figure.Figure at 0x2104418d390>"
      ]
     },
     "metadata": {},
     "output_type": "display_data"
    }
   ],
   "source": [
    "individual_counts = df.groupby(['individual'])['fatal'].count()\n",
    "individual_fatal_counts = df.groupby(['individual'])['fatal'].sum()\n",
    "individual_fatal_ratio = individual_fatal_counts.divide(individual_counts)\n",
    "\n",
    "_ = individual_fatal_ratio.plot(kind='bar', rot = 0)\n",
    "_ = plt.title('Fatality Rate by Individual or Group')\n",
    "_ = plt.xlabel('Attack carried out by individual')\n",
    "_ = plt.ylabel('Attack Fatality Rate')\n",
    "plt.show()"
   ]
  },
  {
   "cell_type": "markdown",
   "metadata": {},
   "source": [
    "Attacks carried out by individuals have a lower fatality rate. Next, I show the fatality rate of attacks grouped by weapon type:"
   ]
  },
  {
   "cell_type": "code",
   "execution_count": 20,
   "metadata": {},
   "outputs": [
    {
     "data": {
      "image/png": "[encoded data removed]",
      "text/plain": [
       "<matplotlib.figure.Figure at 0x21044410ac8>"
      ]
     },
     "metadata": {},
     "output_type": "display_data"
    }
   ],
   "source": [
    "weap_counts = df.groupby(['weapname1'])['fatal'].count()\n",
    "weap_fatal_counts = df.groupby(['weapname1'])['fatal'].sum()\n",
    "weap_fatal_ratio = weap_fatal_counts.divide(weap_counts)\n",
    "weap_fatal_ratio = weap_fatal_ratio.sort_values()\n",
    "\n",
    "_ = weap_fatal_ratio.plot(kind='bar', rot = 70)\n",
    "_ = plt.title('Fatality Rate by Weapon Type')\n",
    "_ = plt.xlabel('Weapon type')\n",
    "_ = plt.ylabel('Attack Fatality Rate')\n",
    "plt.show()"
   ]
  },
  {
   "cell_type": "markdown",
   "metadata": {},
   "source": [
    "This plot shows large differences in fatality rates between weapon types. Perhaps unsurprisingly, firearms have a relatively high fatality rate. Attacks using fake weapons and radiological weapons do not lead to any fatalities in this data set.\n",
    "\n",
    "Next, I show fatality rate based on attack type:"
   ]
  },
  {
   "cell_type": "code",
   "execution_count": 21,
   "metadata": {},
   "outputs": [
    {
     "data": {
      "image/png": "[encoded data removed]",
      "text/plain": [
       "<matplotlib.figure.Figure at 0x210441f44a8>"
      ]
     },
     "metadata": {},
     "output_type": "display_data"
    }
   ],
   "source": [
    "type_counts = df.groupby(['typename1'])['fatal'].count()\n",
    "type_fatal_counts = df.groupby(['typename1'])['fatal'].sum()\n",
    "type_fatal_ratio = type_fatal_counts.divide(type_counts)\n",
    "\n",
    "type_fatal_ratio = type_fatal_ratio.sort_values()\n",
    "\n",
    "_ = type_fatal_ratio.plot(kind='bar', rot = 70)\n",
    "_ = plt.title('Fatality Rate by Attack Type')\n",
    "_ = plt.xlabel('Attack type')\n",
    "_ = plt.ylabel('Attack Fatality Rate')\n",
    "plt.show()"
   ]
  },
  {
   "cell_type": "markdown",
   "metadata": {},
   "source": [
    "There are large differences in fatality rate based on attack type, in fairly predictable ways. Most assassinations and armed assaults lead to fatalities. Most infrastructure attacks and unarmed assaults do not lead to any deaths.\n",
    "\n",
    "Next, I will look at whether there is a relationship between number of deaths and the number wounded in attacks. To make the scatter plot readable, I removed a few outliers."
   ]
  },
  {
   "cell_type": "code",
   "execution_count": 22,
   "metadata": {},
   "outputs": [
    {
     "data": {
      "image/png": "[encoded data removed]",
      "text/plain": [
       "<matplotlib.figure.Figure at 0x2104bdc1e48>"
      ]
     },
     "metadata": {},
     "output_type": "display_data"
    }
   ],
   "source": [
    "df3 = df[df['nkill'] < 1000]# & df['nwound'] < 3000]\n",
    "df3 = df3[df3['nwound'] < 3000]\n",
    "\n",
    "_ = plt.scatter(df3['nkill'],  df3['nwound'])\n",
    "_ = plt.xlabel('Number killed')\n",
    "_ = plt.ylabel('Number wounded')\n",
    "plt.show()"
   ]
  },
  {
   "cell_type": "markdown",
   "metadata": {},
   "source": [
    "## Inferential Statistics"
   ]
  },
  {
   "cell_type": "markdown",
   "metadata": {},
   "source": [
    "I have found some interesting patterns in how the success rate of attacks varied by region, attack type, and whether the attack was carried out by an individual or group. In preparation for attempting to build a model to predict success rate, I will now look into whether some of these patterns are statistically significant. \n",
    "\n",
    "First, I will look at whether there is a difference in the success rate of attacks carried out by individuals compared to attacks carried out by groups. From the codebook, the individual variable \"indicates whether or not the attack was carried out by an individual or several individuals not known to be affiliated with a group or organization.\" The null hypothesis is that the proportion of attacks attempted by unaffiliated individuals that succeed is the same as the proportion of attacks attemped by groups that are successful. The alternative hypothesis is that the success rate for attacks attempt by unaffiliated individuals is smaller than the success rate for group attacks."
   ]
  },
  {
   "cell_type": "code",
   "execution_count": 23,
   "metadata": {},
   "outputs": [
    {
     "name": "stdout",
     "output_type": "stream",
     "text": [
      "Success rate for individuals: 0.804400977995\n",
      "Success rate for groups: 0.908204584433\n",
      "Number of individual attacks: 409\n",
      "Number of group attacks: 140519\n",
      "z: -7.24938561643 \n",
      "p-value: 2.09333176584e-13\n"
     ]
    }
   ],
   "source": [
    "from scipy import stats\n",
    "ind_n = df[df['individual'] == 1]['individual'].count()\n",
    "\n",
    "group_n = df[df['individual'] == 0]['individual'].count()\n",
    "\n",
    "ind_prop = sum(df[df['individual'] == 1].success)/ind_n\n",
    "\n",
    "group_prop = sum(df[df['individual'] == 0].success)/group_n\n",
    "\n",
    "print(\"Success rate for individuals: \" + str(ind_prop))\n",
    "print(\"Success rate for groups: \" + str(group_prop))\n",
    "print(\"Number of individual attacks:\", ind_n)\n",
    "print(\"Number of group attacks:\", group_n)\n",
    "\n",
    "from statsmodels.stats.proportion import proportions_ztest\n",
    "\n",
    "successes = np.array([sum(df[df['individual'] == 1].success), sum(df[df['individual'] == 0].success)])\n",
    "n_obs = (ind_n, group_n)\n",
    "\n",
    "z, p = proportions_ztest(successes, n_obs, alternative = 'smaller')\n",
    "print(\"z:\", z,\"\\np-value:\", p)"
   ]
  },
  {
   "cell_type": "markdown",
   "metadata": {},
   "source": [
    "With a small p-value, we conclude that there is a statistically significant difference between the proportion of individual terrorist attacks that are successful and the proportion of terrorist attacks conducted by organizations that are successful. This suggests that whether an attack is carried out by an individual or group may be a useful feature for predicting the success rate of an attack. \n",
    "\n",
    "Now I compute the standard error for the difference in proportions, using the formula SE = $\\sqrt{p_{1}(1-p_{1})/n_{1} + p_{2}(1-p_{2})/n_{2}}$. In addition, I compute the 95% confidence interval, using 1.96 as the z-value corresponding to 95% confidence."
   ]
  },
  {
   "cell_type": "code",
   "execution_count": 24,
   "metadata": {},
   "outputs": [
    {
     "name": "stdout",
     "output_type": "stream",
     "text": [
      "Standard error: 0.0196287487915\n",
      "95% CI for difference in proportions: [0.065331258806950732, 0.14227595406967281]\n"
     ]
    }
   ],
   "source": [
    "SE_diff = ((ind_prop * (1 - ind_prop) / ind_n) + (group_prop * (1 - group_prop) / group_n))**0.5\n",
    "\n",
    "print(\"Standard error:\", SE_diff)\n",
    "\n",
    "CI_diff = [group_prop - ind_prop - 1.96 * SE_diff, group_prop - ind_prop + 1.96 * SE_diff]\n",
    "print(\"95% CI for difference in proportions:\", CI_diff)"
   ]
  },
  {
   "cell_type": "markdown",
   "metadata": {},
   "source": [
    "I will now test whether there is a relationship between an attack's region and its success rate. Because I am testing the relationship between an observed proportion with the dependent variable being multiple categories, a chi-square test for independence is appropriate. I will test the null hypothesis that the success rate does not differ by region, with the alternative hypothesis that success rates are not the same for every region."
   ]
  },
  {
   "cell_type": "code",
   "execution_count": 25,
   "metadata": {},
   "outputs": [
    {
     "name": "stdout",
     "output_type": "stream",
     "text": [
      "Chi-squared: 1193.05506979 \n",
      "p: 5.08331220608e-249\n"
     ]
    }
   ],
   "source": [
    "#collect observed success and failures for each region\n",
    "observations = []\n",
    "\n",
    "for i in range(1,13):\n",
    "    success_count = df[df['region'] == i]['success'].sum()\n",
    "    failure_count = df[df['region'] == i]['success'].count() - success_count\n",
    "    counts = [success_count, failure_count]\n",
    "    observations.append(counts)\n",
    "    \n",
    "from scipy.stats import chi2_contingency\n",
    "\n",
    "chi2, p, dof, expected = stats.chi2_contingency(observations)\n",
    "print(\"Chi-squared:\", chi2, \"\\np:\", p)"
   ]
  },
  {
   "cell_type": "markdown",
   "metadata": {},
   "source": [
    "Because the p-value is very small, we can reject the null hypothesis and conclude the region does affect the success rate. This makes it a feature of interest in our analysis. However, this test does not necessarily tell us anything about the success rate of specific regions, just that some regions have different success rates than others. \n",
    "\n",
    "Central America has the highest attack success rate of any region. I will compare the null hypothesis that attacks in Central America have the same success rate as attacks elsewhere with the alternative hypothesis that the success rate in Central America is greater than the success rate elsewhere."
   ]
  },
  {
   "cell_type": "code",
   "execution_count": 26,
   "metadata": {},
   "outputs": [
    {
     "name": "stdout",
     "output_type": "stream",
     "text": [
      "Success rate in Central America: 0.955716710384\n",
      "Success rate outside Central America: 0.905598488624\n",
      "z: 13.6286174827 \n",
      "p-value: 1.35329591881e-42\n"
     ]
    }
   ],
   "source": [
    "df['Central_America'] = df['region'] == 2\n",
    "central_n = df[df['Central_America'] == True]['success'].count()\n",
    "non_central_n = df[df['Central_America'] == False]['success'].count()\n",
    "\n",
    "central_prop = df[df['Central_America'] == True]['success'].sum()/central_n\n",
    "non_central_prop = df[df['Central_America'] == False]['success'].sum()/non_central_n\n",
    "\n",
    "print(\"Success rate in Central America:\",central_prop)\n",
    "print(\"Success rate outside Central America:\", non_central_prop)\n",
    "\n",
    "successes = np.array([sum(df[df['Central_America'] == True].success), sum(df[df['Central_America'] == False].success)])\n",
    "n_obs = (central_n, non_central_n)\n",
    "z, p = proportions_ztest(successes, n_obs, alternative = 'larger')\n",
    "print(\"z:\", z,\"\\np-value:\", p)"
   ]
  },
  {
   "cell_type": "markdown",
   "metadata": {},
   "source": [
    "95.8% of attacks in Central America are successful, compared to 89.55% of attacks in the rest of the world. The p-value is extremely small, so we can safely reject the null hypothesis. \n",
    "\n",
    "South Asia has a success rate that is closer to the average. This region (which includes Afghanistan, Pakistan, and India) is populous and sees a high number of terrorist attacks. Since the rate is closer to average, I will use a two-sided test, and test the null hypothesis that attacks in South Asia have the same success rate as attacks elsewhere against the alternative hypothesis that the success rate in South Asia is different than the success rate elsewhere. "
   ]
  },
  {
   "cell_type": "code",
   "execution_count": 27,
   "metadata": {},
   "outputs": [
    {
     "name": "stdout",
     "output_type": "stream",
     "text": [
      "Success rate in South Asia: 0.909759700051\n",
      "Success rate outside South Asia: 0.907285144057\n",
      "z: 1.39074623543 \n",
      "p-value: 0.164302391814\n"
     ]
    }
   ],
   "source": [
    "df['S_Asia'] = df['region'] == 6\n",
    "sa_n = df[df['S_Asia'] == True]['success'].count()\n",
    "non_sa_n = df[df['S_Asia'] == False]['success'].count()\n",
    "\n",
    "sa_prop = df[df['S_Asia'] == True]['success'].sum()/sa_n\n",
    "non_sa_prop = df[df['S_Asia'] == False]['success'].sum()/non_sa_n\n",
    "\n",
    "print(\"Success rate in South Asia:\",sa_prop)\n",
    "print(\"Success rate outside South Asia:\", non_sa_prop)\n",
    "\n",
    "successes = np.array([sum(df[df['S_Asia'] == True].success), sum(df[df['S_Asia'] == False].success)])\n",
    "n_obs = (sa_n, non_sa_n)\n",
    "z, p = proportions_ztest(successes, n_obs)\n",
    "print(\"z:\", z,\"\\np-value:\", p)"
   ]
  },
  {
   "cell_type": "markdown",
   "metadata": {},
   "source": [
    "This p-value is fairly small, but since I have tested multiple hypotheses with the same data set, it may be advisable to use a Bonferroni correction. If we use a 5% significance level, then across the 7 hypotheses in this analysis, the p-value threshold for each test would be 0.0071. This would mean that I fail the reject the null hypothesis that attacks in South Asia have the same success rate as other attacks.  \n",
    "\n",
    "I will now turn to the relationship between attack type and success rate. As before, a chi-square test for independence is appropriate for testing the null hypothesis that success rate is independent of attack type against the alternative hypothesis that attack type affects the success rate."
   ]
  },
  {
   "cell_type": "code",
   "execution_count": 28,
   "metadata": {},
   "outputs": [
    {
     "name": "stdout",
     "output_type": "stream",
     "text": [
      "Chi-squared: 5672.2686479 \n",
      "p: 0.0\n"
     ]
    }
   ],
   "source": [
    "#collect observed success and failures for each attack type\n",
    "type_obs = []\n",
    "\n",
    "for i in range(1,9):\n",
    "    success_count = df[df['attacktype1'] == i]['success'].sum()\n",
    "    failure_count = df[df['attacktype1'] == i]['success'].count() - success_count\n",
    "    counts = [success_count, failure_count]\n",
    "    type_obs.append(counts)\n",
    "    \n",
    "chi2, p, dof, expected = stats.chi2_contingency(type_obs)\n",
    "print(\"Chi-squared:\", chi2, \"\\np:\", p)"
   ]
  },
  {
   "cell_type": "markdown",
   "metadata": {},
   "source": [
    "This p-value is very small, so we can reject the null hypothesis that success rate is independent of attack type, making this another feature of interest in our analysis.\n",
    "\n",
    "Because assassinations have the lowest success rate, and because they are one of the most salient and consequential types of attacks, I will now test the null hypothesis that assassination has the same success rate as other types of attacks, compared with the alternative hypothesis that assassinations have a lower success rate than other types of attacks:"
   ]
  },
  {
   "cell_type": "code",
   "execution_count": 29,
   "metadata": {},
   "outputs": [
    {
     "name": "stdout",
     "output_type": "stream",
     "text": [
      "Success rate for assassinations: 0.756698755288\n",
      "Success rate for non-assassinations: 0.927691604009\n",
      "z: -71.0138936023 \n",
      "p-value: 0.0\n"
     ]
    }
   ],
   "source": [
    "df['Assassination'] = df['attacktype1'] == 1\n",
    "assassin_n = df[df['Assassination'] == True]['success'].count()\n",
    "non_assassin_n = df[df['Assassination'] == False]['success'].count()\n",
    "\n",
    "assassin_prop = df[df['Assassination'] == True]['success'].sum()/assassin_n\n",
    "non_assassin_prop = df[df['Assassination'] == False]['success'].sum()/non_assassin_n\n",
    "\n",
    "print(\"Success rate for assassinations:\",assassin_prop)\n",
    "print(\"Success rate for non-assassinations:\", non_assassin_prop)\n",
    "\n",
    "successes = np.array([sum(df[df['Assassination'] == True].success), sum(df[df['Assassination'] == False].success)])\n",
    "n_obs = (assassin_n, non_assassin_n)\n",
    "z, p = proportions_ztest(successes, n_obs, alternative = 'smaller')\n",
    "print(\"z:\", z,\"\\np-value:\", p)"
   ]
  },
  {
   "cell_type": "markdown",
   "metadata": {},
   "source": [
    "This p-value is extremely small, so we can reject the null hypothesis. Hijackings appear to have a success rate that is lower than average, but that is closer to the average than assassinations. Hijackings are also a type of attack that are of high interest to the public and to safety officials. I will next evaluate the null hypothesis that hijackings have the same success rate as other attacks, compared with the alternative hypothesis that hijackings have a different success rate from non-hijacking attacks. "
   ]
  },
  {
   "cell_type": "code",
   "execution_count": 30,
   "metadata": {},
   "outputs": [
    {
     "name": "stdout",
     "output_type": "stream",
     "text": [
      "Success rate for hijackings : 0.870229007634\n",
      "Success rate for non-hijackings: 0.908008681111\n",
      "z: -2.58646320421 \n",
      "p-value: 0.00969665229582\n"
     ]
    }
   ],
   "source": [
    "df['Hijack'] = df['attacktype1'] == 4\n",
    "hijack_n =  df[df['Hijack'] == True]['success'].count()\n",
    "non_hijack_n = df[df['Hijack'] == False]['success'].count()\n",
    "\n",
    "hijack_prop = df[df['Hijack'] == True]['success'].sum()/hijack_n\n",
    "non_hijack_prop = df[df['Hijack'] == False]['success'].sum()/non_hijack_n\n",
    "\n",
    "print(\"Success rate for hijackings :\", hijack_prop)\n",
    "print(\"Success rate for non-hijackings:\", non_hijack_prop)\n",
    "\n",
    "successes = np.array([sum(df[df['Hijack'] == True].success), sum(df[df['Hijack'] == False].success)])\n",
    "n_obs = (hijack_n, non_hijack_n)\n",
    "z, p = proportions_ztest(successes, n_obs)\n",
    "print(\"z:\", z,\"\\np-value:\", p)"
   ]
  },
  {
   "cell_type": "markdown",
   "metadata": {},
   "source": [
    "Again, this p-value is fairly small, but after applying the Bonferroni correction, I fail the reject the null hypothesis that hijackings have the same success rate as other attacks.  "
   ]
  },
  {
   "cell_type": "markdown",
   "metadata": {},
   "source": [
    "## Classification"
   ]
  },
  {
   "cell_type": "markdown",
   "metadata": {},
   "source": [
    "First, I import some the necessary packages and define a function that computes the average score of a model after cross-validation."
   ]
  },
  {
   "cell_type": "code",
   "execution_count": 31,
   "metadata": {
    "collapsed": true
   },
   "outputs": [],
   "source": [
    "from sklearn.linear_model import LogisticRegression\n",
    "from sklearn.ensemble import RandomForestClassifier\n",
    "from sklearn.svm import SVC\n",
    "from sklearn.model_selection import train_test_split\n",
    "from sklearn.model_selection import KFold\n",
    "from sklearn.model_selection import GridSearchCV\n",
    "from sklearn.metrics import confusion_matrix\n",
    "from sklearn.metrics import classification_report\n",
    "from sklearn.metrics import accuracy_score\n",
    "from sklearn.metrics import make_scorer\n",
    "from sklearn.metrics import f1_score\n",
    "\n",
    "#does cross-validation and computes average score for the 5 folds\n",
    "def cv_score(clf, x, y, score_func=accuracy_score):\n",
    "    result = 0\n",
    "    nfold = 5\n",
    "    for train, test in KFold(nfold, random_state = 42).split(x): # split data into train/test groups, 5 times\n",
    "        clf.fit(x[train], y.iloc[train]) # fit\n",
    "        result += score_func(clf.predict(x[test]), y.iloc[test]) # evaluate score function on held-out data\n",
    "    return result / nfold # average"
   ]
  },
  {
   "cell_type": "markdown",
   "metadata": {},
   "source": [
    "Next, I select the explanatory variables that I will use to build the models."
   ]
  },
  {
   "cell_type": "code",
   "execution_count": 32,
   "metadata": {
    "scrolled": true
   },
   "outputs": [
    {
     "name": "stdout",
     "output_type": "stream",
     "text": [
      "0 Unnamed: 0\n",
      "1 iyear\n",
      "2 imonth\n",
      "3 region\n",
      "4 latitude\n",
      "5 longitude\n",
      "6 crit1\n",
      "7 crit2\n",
      "8 crit3\n",
      "9 success\n",
      "10 suicide\n",
      "11 attacktype1\n",
      "12 attacktype2\n",
      "13 attacktype3\n",
      "14 targtype1\n",
      "15 targtype2\n",
      "16 targtype3\n",
      "17 individual\n",
      "18 weaptype1\n",
      "19 weaptype2\n",
      "20 weaptype3\n",
      "21 weaptype4\n",
      "22 nkill\n",
      "23 nwound\n",
      "24 property\n",
      "25 propextent\n",
      "26 North America\n",
      "27 Central America\n",
      "28 South America\n",
      "29 East Asia\n",
      "30 SE Asia\n",
      "31 South Asia\n",
      "32 Central Asia\n",
      "33 West Europe\n",
      "34 East Europe\n",
      "35 ME and North Africa\n",
      "36 Sub-Saharan Africa\n",
      "37 Assassination\n",
      "38 Armed Assault\n",
      "39 Bombing\n",
      "40 Hijacking\n",
      "41 Hostage (Barricade)\n",
      "42 Kidnapping\n",
      "43 Infrastructure\n",
      "44 Biological\n",
      "45 Chemical\n",
      "46 Radiological\n",
      "47 Nuclear\n",
      "48 Firearms\n",
      "49 Explosives\n",
      "50 Fake Weapon\n",
      "51 Incendiary\n",
      "52 Melee\n",
      "53 Vehicle\n",
      "54 Sabotage Equipment\n",
      "55 Business\n",
      "56 Government\n",
      "57 Police\n",
      "58 Military\n",
      "59 Abortion\n",
      "60 Aviation\n",
      "61 Diplomatic\n",
      "62 Education\n",
      "63 FoodWater\n",
      "64 Media\n",
      "65 Maritime\n",
      "66 NGO\n",
      "67 Private\n",
      "68 Religious\n",
      "69 Telecommunication\n",
      "70 Terrorists\n",
      "71 Tourists\n",
      "72 Transportation\n",
      "73 Utilities\n",
      "74 Violent Parties\n",
      "75 region_name\n",
      "76 weapname1\n",
      "77 typename1\n",
      "78 fatal\n",
      "79 Central_America\n",
      "80 S_Asia\n",
      "81 Hijack\n"
     ]
    }
   ],
   "source": [
    "cols = list(df.columns.values)\n",
    "for i in range(len(cols)):\n",
    "    print(i, cols[i])"
   ]
  },
  {
   "cell_type": "code",
   "execution_count": 33,
   "metadata": {},
   "outputs": [
    {
     "name": "stdout",
     "output_type": "stream",
     "text": [
      "['latitude', 'longitude', 'crit1', 'crit2', 'crit3', 'suicide', 'individual', 'North America', 'Central America', 'South America', 'East Asia', 'SE Asia', 'South Asia', 'Central Asia', 'West Europe', 'East Europe', 'ME and North Africa', 'Sub-Saharan Africa', 'Assassination', 'Armed Assault', 'Bombing', 'Hijacking', 'Hostage (Barricade)', 'Kidnapping', 'Infrastructure', 'Biological', 'Chemical', 'Radiological', 'Nuclear', 'Firearms', 'Explosives', 'Fake Weapon', 'Incendiary', 'Melee', 'Vehicle', 'Sabotage Equipment', 'Business', 'Government', 'Police', 'Military', 'Abortion', 'Aviation', 'Diplomatic', 'Education', 'FoodWater', 'Media', 'Maritime', 'NGO', 'Private', 'Religious', 'Telecommunication', 'Terrorists', 'Tourists', 'Transportation', 'Utilities', 'Violent Parties']\n"
     ]
    }
   ],
   "source": [
    "explanatory_vars = cols[4:9] + [cols[10]] + [cols[17]] + cols[26:75]\n",
    "\n",
    "print(explanatory_vars)"
   ]
  },
  {
   "cell_type": "markdown",
   "metadata": {},
   "source": [
    "I also define the 'fatal' column, and print the proportion of attacks that are successful, and that lead to fatalities, to help benchmark the performance of my models."
   ]
  },
  {
   "cell_type": "code",
   "execution_count": 34,
   "metadata": {},
   "outputs": [
    {
     "name": "stdout",
     "output_type": "stream",
     "text": [
      "0.907903326521\n",
      "0.488235127157\n"
     ]
    }
   ],
   "source": [
    "df['fatal'] = df['nkill'] > 0\n",
    "\n",
    "print(df['success'].sum()/df['success'].count())\n",
    "\n",
    "print(df['fatal'].sum()/df['fatal'].count())"
   ]
  },
  {
   "cell_type": "markdown",
   "metadata": {},
   "source": [
    "90.7% of attacks in this dataset are successful, and 48.8% lead to fatalities.\n",
    "\n",
    "Now I split the data into training and test data. I will also split the training data further into \"holdout\" data and non-holdout training. Training the model on the non-holdout training data, and evaluating the data on the holdout data serves a similar function to cross-validation, but allows me to print a single confusion matrix per model."
   ]
  },
  {
   "cell_type": "code",
   "execution_count": 35,
   "metadata": {
    "collapsed": true
   },
   "outputs": [],
   "source": [
    "Xtrain, Xtest, ytrain, ytest = train_test_split(df[explanatory_vars].values, df['success'], random_state = 42, test_size = 0.2)\n",
    "\n",
    "Xtraining, Xholdout, ytraining, yholdout = train_test_split(Xtrain, ytrain, random_state = 42, test_size = 0.2)"
   ]
  },
  {
   "cell_type": "markdown",
   "metadata": {},
   "source": [
    "Now I will instantiate a logistic regression model and evaluate it using the cv_score function (cv_score fits the model inside the function)."
   ]
  },
  {
   "cell_type": "code",
   "execution_count": 36,
   "metadata": {},
   "outputs": [
    {
     "name": "stdout",
     "output_type": "stream",
     "text": [
      "0.91186957223\n"
     ]
    }
   ],
   "source": [
    "Log_clf = LogisticRegression()\n",
    "\n",
    "print(cv_score(Log_clf, Xtrain, ytrain))"
   ]
  },
  {
   "cell_type": "markdown",
   "metadata": {},
   "source": [
    "The logistic regression classifier shows high accuracy, but because around 90% of attacks were successful to begin with, this does not necessarily mean the classifier is useful. Let's see the classification report for this classifier on the training data:"
   ]
  },
  {
   "cell_type": "code",
   "execution_count": 37,
   "metadata": {},
   "outputs": [
    {
     "name": "stdout",
     "output_type": "stream",
     "text": [
      "             precision    recall  f1-score   support\n",
      "\n",
      "          0       0.64      0.12      0.20      2121\n",
      "          1       0.92      0.99      0.95     20428\n",
      "\n",
      "avg / total       0.89      0.91      0.88     22549\n",
      "\n"
     ]
    }
   ],
   "source": [
    "Log_clf = LogisticRegression()\n",
    "Log_clf.fit(Xtrain, ytrain)\n",
    "print(classification_report(yholdout, Log_clf.predict(Xholdout)))"
   ]
  },
  {
   "cell_type": "markdown",
   "metadata": {},
   "source": [
    "This shows that the classifier has very low recall (0.12) for attacks that are not successful. This means that, out of the attacks that were not successful, the model correctly classifies only 12% of those attacks. I will now see if tuning the regularization parameter will help alleviate this problem."
   ]
  },
  {
   "cell_type": "code",
   "execution_count": 38,
   "metadata": {},
   "outputs": [
    {
     "name": "stdout",
     "output_type": "stream",
     "text": [
      "c: 0.001\n"
     ]
    },
    {
     "name": "stderr",
     "output_type": "stream",
     "text": [
      "C:\\Users\\joshy\\Anaconda3\\lib\\site-packages\\sklearn\\metrics\\classification.py:1135: UndefinedMetricWarning: Precision and F-score are ill-defined and being set to 0.0 in labels with no predicted samples.\n",
      "  'precision', 'predicted', average, warn_for)\n"
     ]
    },
    {
     "name": "stdout",
     "output_type": "stream",
     "text": [
      "             precision    recall  f1-score   support\n",
      "\n",
      "          0       0.00      0.00      0.00      2121\n",
      "          1       0.91      1.00      0.95     20428\n",
      "\n",
      "avg / total       0.82      0.91      0.86     22549\n",
      "\n",
      "c: 0.1\n",
      "             precision    recall  f1-score   support\n",
      "\n",
      "          0       0.64      0.12      0.20      2121\n",
      "          1       0.92      0.99      0.95     20428\n",
      "\n",
      "avg / total       0.89      0.91      0.88     22549\n",
      "\n",
      "c: 1\n",
      "             precision    recall  f1-score   support\n",
      "\n",
      "          0       0.64      0.12      0.20      2121\n",
      "          1       0.92      0.99      0.95     20428\n",
      "\n",
      "avg / total       0.89      0.91      0.88     22549\n",
      "\n",
      "c: 10\n",
      "             precision    recall  f1-score   support\n",
      "\n",
      "          0       0.64      0.12      0.20      2121\n",
      "          1       0.92      0.99      0.95     20428\n",
      "\n",
      "avg / total       0.89      0.91      0.88     22549\n",
      "\n",
      "c: 100\n",
      "             precision    recall  f1-score   support\n",
      "\n",
      "          0       0.64      0.12      0.20      2121\n",
      "          1       0.92      0.99      0.95     20428\n",
      "\n",
      "avg / total       0.89      0.91      0.88     22549\n",
      "\n"
     ]
    }
   ],
   "source": [
    "Cs = [0.001, 0.1, 1, 10, 100]\n",
    "\n",
    "for c in Cs:\n",
    "    reg_clf = LogisticRegression(C = c)\n",
    "    reg_clf.fit(Xtraining, ytraining)\n",
    "    print(\"c:\", c)\n",
    "    print(classification_report(yholdout, reg_clf.predict(Xholdout)))"
   ]
  },
  {
   "cell_type": "markdown",
   "metadata": {},
   "source": [
    "Regularization does not improve matters here. Next, I will try random forests:"
   ]
  },
  {
   "cell_type": "code",
   "execution_count": 39,
   "metadata": {},
   "outputs": [
    {
     "name": "stdout",
     "output_type": "stream",
     "text": [
      "0.897562567564\n",
      "             precision    recall  f1-score   support\n",
      "\n",
      "          0       0.45      0.29      0.35      2121\n",
      "          1       0.93      0.96      0.95     20428\n",
      "\n",
      "avg / total       0.88      0.90      0.89     22549\n",
      "\n"
     ]
    }
   ],
   "source": [
    "#print cross-validated score for training and holdout data combined\n",
    "Rf_clf = RandomForestClassifier(random_state = 42)\n",
    "print(cv_score(Rf_clf, Xtrain, ytrain))\n",
    "\n",
    "#print classification report for just the holdout data\n",
    "Rf_clf = RandomForestClassifier(random_state = 42)\n",
    "Rf_clf.fit(Xtraining, ytraining)\n",
    "\n",
    "print(classification_report(yholdout, Rf_clf.predict(Xholdout)))"
   ]
  },
  {
   "cell_type": "markdown",
   "metadata": {},
   "source": [
    "Random forests performs somewhat better, with 29% recall for unsuccessful attacks, while maintaining high precision and recall for successful attacks.\n",
    "\n",
    "Next, I will move on to predicting whether an attack will lead to fatalities. First, I create new training and test sets:"
   ]
  },
  {
   "cell_type": "code",
   "execution_count": 40,
   "metadata": {
    "collapsed": true
   },
   "outputs": [],
   "source": [
    "Xtrain_f, Xtest_f, ytrain_f, ytest_f = train_test_split(df[explanatory_vars].values, df['fatal'], random_state = 42, test_size = 0.2)"
   ]
  },
  {
   "cell_type": "code",
   "execution_count": 41,
   "metadata": {},
   "outputs": [
    {
     "name": "stdout",
     "output_type": "stream",
     "text": [
      "0.756718875361\n"
     ]
    }
   ],
   "source": [
    "Log_clf_f = LogisticRegression()\n",
    "\n",
    "print(cv_score(Log_clf_f, Xtrain_f, ytrain_f))"
   ]
  },
  {
   "cell_type": "code",
   "execution_count": 42,
   "metadata": {},
   "outputs": [
    {
     "name": "stdout",
     "output_type": "stream",
     "text": [
      "{'C': 100}\n"
     ]
    }
   ],
   "source": [
    "param_grid = {'C': [0.01, 0.1, 1, 10, 100]}\n",
    "Log_clf = LogisticRegression()\n",
    "Log_clf_cv = GridSearchCV(Log_clf, param_grid, cv = 5)\n",
    "Log_clf_cv.fit(Xtrain_f, ytrain_f)\n",
    "\n",
    "print(Log_clf_cv.best_params_)"
   ]
  },
  {
   "cell_type": "code",
   "execution_count": 43,
   "metadata": {},
   "outputs": [
    {
     "name": "stdout",
     "output_type": "stream",
     "text": [
      "0.756816445384\n"
     ]
    }
   ],
   "source": [
    "Log_clf_tuned = LogisticRegression(C = 100)\n",
    "\n",
    "print(cv_score(Log_clf_tuned, Xtrain_f, ytrain_f))"
   ]
  },
  {
   "cell_type": "markdown",
   "metadata": {},
   "source": [
    "Next, I will use random forests to predict fatalities:"
   ]
  },
  {
   "cell_type": "code",
   "execution_count": 44,
   "metadata": {},
   "outputs": [
    {
     "name": "stdout",
     "output_type": "stream",
     "text": [
      "0.775877635548\n"
     ]
    }
   ],
   "source": [
    "Rf_clf_f = RandomForestClassifier(random_state = 42)\n",
    "\n",
    "print(cv_score(Rf_clf_f, Xtrain_f, ytrain_f))"
   ]
  },
  {
   "cell_type": "code",
   "execution_count": 45,
   "metadata": {},
   "outputs": [
    {
     "name": "stdout",
     "output_type": "stream",
     "text": [
      "0.933192599031\n"
     ]
    }
   ],
   "source": [
    "Rf_clf_f = RandomForestClassifier(random_state = 42)\n",
    "Rf_clf_f.fit(Xtrain_f, ytrain_f)\n",
    "print(accuracy_score(ytrain_f, Rf_clf_f.predict(Xtrain_f)))"
   ]
  },
  {
   "cell_type": "markdown",
   "metadata": {},
   "source": [
    "The random forest classifier has 93.3% accuracy on the training data, and 77.6% accuracy after cross-validation, indicating that the model is overfitted. Now I will try tuning the model:"
   ]
  },
  {
   "cell_type": "code",
   "execution_count": 46,
   "metadata": {},
   "outputs": [
    {
     "name": "stdout",
     "output_type": "stream",
     "text": [
      "{'max_depth': 20, 'min_impurity_decrease': 1e-07}\n"
     ]
    }
   ],
   "source": [
    "param_grid = {'max_depth':[10,20,100,500], 'min_impurity_decrease':[1e-8, 1e-7,1e-6,1e-5, 1e-4, 1e-3, 1e-2]}\n",
    "Rf_clf_f = RandomForestClassifier()\n",
    "Rf_clf_fcv = GridSearchCV(Rf_clf_f, param_grid, cv = 5)\n",
    "Rf_clf_fcv.fit(Xtrain_f, ytrain_f)\n",
    "\n",
    "print(Rf_clf_fcv.best_params_)"
   ]
  },
  {
   "cell_type": "code",
   "execution_count": 47,
   "metadata": {},
   "outputs": [
    {
     "name": "stdout",
     "output_type": "stream",
     "text": [
      "{'max_depth': 20, 'min_impurity_decrease': 1e-09}\n"
     ]
    }
   ],
   "source": [
    "param_grid = {'max_depth':[15,20,40,60,80], 'min_impurity_decrease':[1e-9,5e-8,1e-8,5e-7,1e-7]}\n",
    "Rf_clf_f = RandomForestClassifier()\n",
    "Rf_clf_fcv = GridSearchCV(Rf_clf_f, param_grid, cv = 5)\n",
    "Rf_clf_fcv.fit(Xtrain_f, ytrain_f)\n",
    "\n",
    "print(Rf_clf_fcv.best_params_)"
   ]
  },
  {
   "cell_type": "markdown",
   "metadata": {},
   "source": [
    "The best parameters after two rounds of grid search are max depth = 20, min impurity decrease = $1^{-9}$"
   ]
  },
  {
   "cell_type": "code",
   "execution_count": 48,
   "metadata": {},
   "outputs": [
    {
     "name": "stdout",
     "output_type": "stream",
     "text": [
      "0.793076232705\n"
     ]
    }
   ],
   "source": [
    "Rf_clf_f_tuned = RandomForestClassifier(max_depth = 20, min_impurity_decrease = 1e-09)\n",
    "print(cv_score(Rf_clf_f_tuned, Xtrain_f, ytrain_f))"
   ]
  },
  {
   "cell_type": "markdown",
   "metadata": {},
   "source": [
    "I get 79.37% accuracy in cross-validation using the tuned random forest model, which is an improvement of around 2 percentage points from the untuned model."
   ]
  },
  {
   "cell_type": "code",
   "execution_count": 49,
   "metadata": {},
   "outputs": [
    {
     "name": "stdout",
     "output_type": "stream",
     "text": [
      "0.798942737529\n",
      "             precision    recall  f1-score   support\n",
      "\n",
      "      False       0.81      0.79      0.80     14426\n",
      "       True       0.78      0.81      0.80     13760\n",
      "\n",
      "avg / total       0.80      0.80      0.80     28186\n",
      "\n"
     ]
    }
   ],
   "source": [
    "Rf_clf_f_tuned = RandomForestClassifier(max_depth = 20, min_impurity_decrease = 1e-09)\n",
    "Rf_clf_f_tuned.fit(Xtrain_f, ytrain_f)\n",
    "print(accuracy_score(ytest_f, Rf_clf_f_tuned.predict(Xtest_f)))\n",
    "print(classification_report(ytest_f, Rf_clf_f_tuned.predict(Xtest_f)))"
   ]
  },
  {
   "cell_type": "markdown",
   "metadata": {},
   "source": [
    "On the test data, I get 79.86% accuracy. The classification report shows similar recall and precision for both classes. I also show the test data results for logistic regression:"
   ]
  },
  {
   "cell_type": "markdown",
   "metadata": {},
   "source": [
    "**Interpretation**"
   ]
  },
  {
   "cell_type": "markdown",
   "metadata": {},
   "source": [
    "Scikit-learn provides tools for interpreting both random forest and logistic regression models. For random forests, the model has an attribute caled feature_importances, which lists the importance of each feature. Feature importance measure how much a given feature reduces the error of the model compared to if that feature was not there - higher values indicate higher importance."
   ]
  },
  {
   "cell_type": "code",
   "execution_count": 50,
   "metadata": {},
   "outputs": [],
   "source": [
    "feature_importances = list(Rf_clf_f_tuned.feature_importances_)\n",
    "\n",
    "with_index = []\n",
    "for i in range(len(feature_importances)):\n",
    "    with_index.append((i, feature_importances[i]))\n",
    "\n",
    "with_index_sorted = sorted(with_index, key = lambda x: x[1], reverse = True)\n",
    "sorted_indices = [index for index, importance in with_index_sorted]"
   ]
  },
  {
   "cell_type": "code",
   "execution_count": 51,
   "metadata": {},
   "outputs": [
    {
     "name": "stdout",
     "output_type": "stream",
     "text": [
      "1: ('longitude', 0.16768033050604564)\n",
      "2: ('latitude', 0.15080243328875254)\n",
      "3: ('Firearms', 0.10370863118224923)\n",
      "4: ('Armed Assault', 0.10218115340790215)\n",
      "5: ('suicide', 0.07362376434450732)\n",
      "6: ('Assassination', 0.048022902258343728)\n",
      "7: ('Incendiary', 0.042557764982068966)\n",
      "8: ('Private', 0.03682039133140385)\n",
      "9: ('Bombing', 0.036545864653674667)\n",
      "10: ('Explosives', 0.031064310050692701)\n",
      "11: ('ME and North Africa', 0.021876272824113217)\n",
      "12: ('Infrastructure', 0.019558389939081898)\n",
      "13: ('West Europe', 0.014722704029724903)\n",
      "14: ('Police', 0.012657054439616438)\n",
      "15: ('Military', 0.011678243443458525)\n",
      "16: ('Utilities', 0.011501035665960016)\n",
      "17: ('Sub-Saharan Africa', 0.0093964994843656544)\n",
      "18: ('Kidnapping', 0.0089978320351527495)\n",
      "19: ('crit3', 0.008873894185206458)\n",
      "20: ('Melee', 0.0075634866185830037)\n"
     ]
    }
   ],
   "source": [
    "features_sorted = [(explanatory_vars[i], importance) for i, importance in with_index_sorted]\n",
    "\n",
    "for i in range(20):\n",
    "    print(str(i + 1) + \":\", features_sorted[i])"
   ]
  },
  {
   "cell_type": "markdown",
   "metadata": {},
   "source": [
    "The most important features are latitude and longitude, suggesting that the location of the attack has the greatest importance in determining whether it will lead to deaths. Several weapon and attack types are also very important, such as Firearms (weapon type), Armed Assault (an attack type), and whether the attack is a suicide attack.\n",
    "\n",
    "While logistic regression had a lower accuracy than random forests, logistic regression coefficients are useful because they provide information on the direction of a feature's predictive power (whether a feature's value is associated with a greater or lower likelihood of fatalities).\n",
    "\n",
    "Here I train a new logistic regression with L1 regularization, which leads to sparser coefficients (i.e. causes the less predictive coefficients to have a value of 0)."
   ]
  },
  {
   "cell_type": "code",
   "execution_count": 53,
   "metadata": {},
   "outputs": [
    {
     "name": "stdout",
     "output_type": "stream",
     "text": [
      "{'C': 10}\n"
     ]
    }
   ],
   "source": [
    "param_grid = {'C': [0.01, 0.1, 1, 10, 100]}\n",
    "Log_clf = LogisticRegression(penalty = 'l1')\n",
    "Log_clf_cv = GridSearchCV(Log_clf, param_grid, cv = 5)\n",
    "Log_clf_cv.fit(Xtrain_f, ytrain_f)\n",
    "\n",
    "print(Log_clf_cv.best_params_)"
   ]
  },
  {
   "cell_type": "code",
   "execution_count": 54,
   "metadata": {},
   "outputs": [
    {
     "name": "stdout",
     "output_type": "stream",
     "text": [
      "0.753037921562\n",
      "0.756825316137\n"
     ]
    }
   ],
   "source": [
    "Log_clf_tuned = LogisticRegression(penalty = 'l1', C = 0.01)\n",
    "print(cv_score(Log_clf_tuned, Xtrain_f, ytrain_f))\n",
    "Log_clf_tuned = LogisticRegression(penalty = 'l1', C = 10)\n",
    "print(cv_score(Log_clf_tuned, Xtrain_f, ytrain_f))"
   ]
  },
  {
   "cell_type": "markdown",
   "metadata": {},
   "source": [
    "A lower regularization parameter (C) indicates stronger regularization. I confirmed that stronger regularization does not harm accuracy by very much."
   ]
  },
  {
   "cell_type": "code",
   "execution_count": 55,
   "metadata": {},
   "outputs": [
    {
     "data": {
      "text/plain": [
       "LogisticRegression(C=0.01, class_weight=None, dual=False, fit_intercept=True,\n",
       "          intercept_scaling=1, max_iter=100, multi_class='ovr', n_jobs=1,\n",
       "          penalty='l1', random_state=None, solver='liblinear', tol=0.0001,\n",
       "          verbose=0, warm_start=False)"
      ]
     },
     "execution_count": 55,
     "metadata": {},
     "output_type": "execute_result"
    }
   ],
   "source": [
    "Log_clf_tuned = LogisticRegression(penalty = 'l1', C = 0.01)\n",
    "Log_clf_tuned.fit(Xtrain_f, ytrain_f)"
   ]
  },
  {
   "cell_type": "code",
   "execution_count": 56,
   "metadata": {},
   "outputs": [],
   "source": [
    "coefficients = list(Log_clf_tuned.coef_[0])\n",
    "\n",
    "coef_with_index = []\n",
    "\n",
    "for i in range(len(coefficients)):\n",
    "    coef_with_index.append((i, coefficients[i]))"
   ]
  },
  {
   "cell_type": "code",
   "execution_count": 57,
   "metadata": {},
   "outputs": [
    {
     "name": "stdout",
     "output_type": "stream",
     "text": [
      "1: ('suicide', 3.0213458205203239)\n",
      "2: ('Assassination', 2.016834843375956)\n",
      "3: ('Utilities', -1.3726656725329718)\n",
      "4: ('Bombing', 1.1736991486671537)\n",
      "5: ('Armed Assault', 1.0935978196358054)\n",
      "6: ('West Europe', -1.0888653258315837)\n",
      "7: ('Firearms', 1.0610168016587411)\n",
      "8: ('Incendiary', -0.99936114010553978)\n",
      "9: ('Sub-Saharan Africa', 0.86498810035013007)\n",
      "10: ('Private', 0.82521010612328349)\n",
      "11: ('Explosives', -0.78830915800003554)\n",
      "12: ('Terrorists', 0.76783482688930815)\n",
      "13: ('North America', -0.73435826417999772)\n",
      "14: ('East Europe', -0.66294058038591441)\n",
      "15: ('Diplomatic', -0.64522009593268215)\n",
      "16: ('ME and North Africa', 0.43658414221862041)\n",
      "17: ('Police', 0.4029393779987997)\n",
      "18: ('Media', -0.37174302673366888)\n",
      "19: ('Melee', 0.36950300532127023)\n",
      "20: ('crit2', -0.32414370636593465)\n",
      "21: ('Military', 0.32233559215248081)\n",
      "22: ('crit3', -0.27710300889933615)\n",
      "23: ('Education', -0.23607871410845474)\n",
      "24: ('South Asia', 0.20794125029178565)\n",
      "25: ('Infrastructure', -0.19430931760737868)\n",
      "26: ('Government', -0.16305932093938039)\n",
      "27: ('Religious', 0.11704170738379295)\n",
      "28: ('South America', 0.088595545824458027)\n",
      "29: ('latitude', 0.013550001838052219)\n",
      "30: ('Transportation', 0.011274177657975525)\n",
      "31: ('longitude', 0.001104685038329375)\n"
     ]
    }
   ],
   "source": [
    "coef_features = []\n",
    "for index, coef in coef_with_index:\n",
    "    if coef != 0:\n",
    "        coef_features.append((explanatory_vars[index], coef))\n",
    "\n",
    "coef_features = sorted(coef_features, key = lambda x: abs(x[1]), reverse = True)\n",
    "for i in range(len(coef_features)):\n",
    "    print(str(i + 1) + \":\", coef_features[i])"
   ]
  },
  {
   "cell_type": "markdown",
   "metadata": {},
   "source": [
    "Here is the list of coefficients for the regularized logistic regression model. Every predictive variable except for latitude and longitude is a binary variable, so we can interpret the relative importance of these variables by how high the absolute value of the coefficient is. When an attack is a suicide attack or an assassination attempt, that makes the attack more likely to be deadly. Attacks on utilities targets, and those using incendiary weapons, are less likely to be deadly. Geographically, attacks in Europe and North America are less likely to be deadly, and attacks in Sub-Saharan Africa and the Middle East and North Africa are more likely to be deadly. "
   ]
  }
 ],
 "metadata": {
  "kernelspec": {
   "display_name": "Python 3",
   "language": "python",
   "name": "python3"
  },
  "language_info": {
   "codemirror_mode": {
    "name": "ipython",
    "version": 3
   },
   "file_extension": ".py",
   "mimetype": "text/x-python",
   "name": "python",
   "nbconvert_exporter": "python",
   "pygments_lexer": "ipython3",
   "version": "3.6.3"
  }
 },
 "nbformat": 4,
 "nbformat_minor": 2
}
