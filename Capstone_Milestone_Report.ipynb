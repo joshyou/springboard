{
 "cells": [
  {
   "cell_type": "markdown",
   "metadata": {},
   "source": [
    "**Capstone Project 1 Milestone Report**\n",
    "\n",
    "Josh You\n",
    "\n",
    "**Problem**\n",
    "\n",
    "Terrorism is a major social problem because of the direct damage caused by terrorist attacks and because of its broader negative side-effects to society, such as widespread fear and political instability. This project seeks to analyze what factors predict whether a given terrorist attack, or attempted terrorist attack, will be successful.\n",
    "\n",
    "**Client**\n",
    "\n",
    "The client for this project would be government agencies and security officials that are seeking to prevent acts of terrorism. The results of this analysis may help them make better decisions about which sources of potential terrorist attacks to focus on (for example, whether to focus on individuals or organizations), and which types and means of attack are most likely to succeed. The analysis may be relevant for both broad regulatory responses to terrorism (such as weapons control), and how governments should respond to specific threats of suspected terrorist plots."
   ]
  },
  {
   "cell_type": "markdown",
   "metadata": {},
   "source": [
    "**Data**\n",
    "\n",
    "The data for this project will come from the Global Terrorism Dataset compiled by the\n",
    "National Consortium for the Study of Terrorism and Responses to Terrorism (START),\n",
    "which is a research center based at the University of Maryland. The dataset contains\n",
    "information on 170,000 terrorist attacks between 1970 and 2016. The dataset is publicly\n",
    "available [here](https://www.kaggle.com/START-UMD/gtd).\n",
    "\n",
    "The dataset contains over 100 variables describing various characteristics of each\n",
    "attack. The main outcome of interest is success, which is a binary categorical variable, indicating whether the attack achieved a tangible outcome. For example, a bombing attack is successful if a bomb detonates, though the bombing may not necessarily lead to fatalities or achieve the perpetrators' intended long-run goals.\n",
    "The dataset also contains information on the number of people killed and injured in the\n",
    "attack, and the extent of property damage. Other variables of interest include the\n",
    "region where the attack occurred, attack type (which includes categories such as assassination, armed assault, bombing, hijacking, and others),\n",
    "weapon type, and characteristics of the target.\n",
    "\n",
    "There are several other organizations who compile data on terrorist attacks, and these datasets would be potential alternatives to the dataset I use. The [Chicago Project on Security and Terrorism (CPOST)](http://cpostdata.uchicago.edu/search_new.php) has compiled a database of all suicide attacks from 1974 through June 2016. While this data is restricted to suicide attacks, it contains additional biographical information on the individuals who carried out the attacks. The [RAND Corporation](https://www.rand.org/nsrd/projects/terrorism-incidents.html) maintains a dataset of terrorist attacks from 1968 through 2009."
   ]
  },
  {
   "cell_type": "markdown",
   "metadata": {},
   "source": [
    "**Data Cleaning**\n",
    "\n",
    "The first step I took in cleaning my dataset was identifying which columns were relevant to my project. I narrowed down the variables I am interested in to year, month, region, attack type, target type, weapon type, success (whether the attack was successful), number killed, number wounded, and whether there was property damage.\n",
    "\n",
    "Next, I dealt with missing values. The dataset I used encodes missing values in two ways: blank fields, and specific codes indicating that the value for a column is unknown. I removed data points with missing values, though I had to be careful in which columns I used to filter. In this dataset, attack type, target type, and weapon type are represented by several columns because some events fall under multiple types of attack, target, and weapon. However, most rows have only one type for each of these sets of columns, so I only filtered based on whether the first column had a missing value (if the first column has a missing value, the second and third will have missing values too).\n",
    "\n",
    "Cleaning the dataset to remove missing values brought the number of data points down to 122376, compared to the original 170,350. "
   ]
  },
  {
   "cell_type": "markdown",
   "metadata": {},
   "source": [
    "**Initial Findings**\n",
    "\n",
    "*Exploratory Data Analysis*\n",
    "\n",
    "I conducted exploratory data analysis on the cleaned dataset, and found a few interesting patterns. Here is a stacked area chart showing the number of attacks per year in the seven regions with the highest number of attacks.  "
   ]
  },
  {
   "cell_type": "markdown",
   "metadata": {},
   "source": [
    "<img src=\"files/yearregion.png\">"
   ]
  },
  {
   "cell_type": "markdown",
   "metadata": {},
   "source": [
    "As this plot shows, there is a spike in terrorist attacks in the late 1980s and early 1990s in this dataset, and a larger spike occurring after 2010. There are clear differences in the distribution of attacks by region over time. South Asia and the Middle East and North Africa appear to be the main contributors to the recent spike in attacks. South America and Western Europe have seen large declines in both the absolute number of attacks, and their share in the world total, over time. \n",
    "\n",
    "In addition, I found that terrorist attacks carried out by individuals had a lower success rate in this dataset, as shown in this graph:"
   ]
  },
  {
   "cell_type": "markdown",
   "metadata": {},
   "source": [
    "<img src=\"files/groupsuccess.png\">"
   ]
  },
  {
   "cell_type": "markdown",
   "metadata": {},
   "source": [
    "There were also large differences in success rates based on the type of weapon used. Radiological attacks rarely succeed, while attacks with sabotage equipment, incendiary weapons, and firearms usually succeed. \n",
    "\n"
   ]
  },
  {
   "cell_type": "markdown",
   "metadata": {},
   "source": [
    "<img src=\"files/weaponsuccess.png\">"
   ]
  },
  {
   "cell_type": "markdown",
   "metadata": {},
   "source": [
    "Success rates do not differ as much between attack types. However, assassinations are less successful than other types of attacks, while kidnappings and hostage attacks are usually successful. \n",
    "\n",
    "<img src=\"files/typesuccess.png\">"
   ]
  },
  {
   "cell_type": "markdown",
   "metadata": {},
   "source": [
    "*Inferential Statistics*\n",
    "\n",
    "Finally, I conducted several hypothesis tests based on the patterns found in the exploratory data analysis. \n",
    "\n",
    "First, I tested the null hypothesis that the success rate of attacks attempted by unaffiliated individualsis the same as the success rate of attacks attemped by groups, against the alternative hypothesis is that the success rate for attacks attempt by unaffiliated individuals is smaller than the success rate for group attacks. I used a z-test for the difference in proportions, resulting in a p-value of 2.004\\*10$^{-12}$. Thus, I reject the null hypothesis and conclude that group attacks have a higher success rate. In addition, I found that the 95% confidence interval for the difference in success rates was [0.067, 0.148], i.e. 6.7 percentage points to 14.8 percentage points.\n",
    "\n",
    "Next, I used a chi-square test for independence to test the null hypothesis that the success rate does not differ by region, compared with the alternative hypothesis that success rates do differ by region. This resulted in a p-value of 4.96\\*10$^{-277}$, meaning that I reject the null hypothesis and conclude that attack success rates do vary by region.\n",
    "\n",
    "I also used a chi-square test for independence to test the null hypothesis that success rate does not change based on attack type against the alternative hypothesis that success rate does vary by attack type. The p-value was small enough to be reported as 0.0 by the software package I used, so I reject the null hypothesis and conclude that success rates do vary by attack type."
   ]
  }
 ],
 "metadata": {
  "kernelspec": {
   "display_name": "Python 3",
   "language": "python",
   "name": "python3"
  },
  "language_info": {
   "codemirror_mode": {
    "name": "ipython",
    "version": 3
   },
   "file_extension": ".py",
   "mimetype": "text/x-python",
   "name": "python",
   "nbconvert_exporter": "python",
   "pygments_lexer": "ipython3",
   "version": "3.6.3"
  }
 },
 "nbformat": 4,
 "nbformat_minor": 2
}
