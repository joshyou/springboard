{
 "cells": [
  {
   "cell_type": "markdown",
   "metadata": {
    "collapsed": true
   },
   "source": [
    "<b>Data Storytelling</b>"
   ]
  },
  {
   "cell_type": "code",
   "execution_count": 1,
   "metadata": {},
   "outputs": [],
   "source": [
    "import numpy as np\n",
    "import pandas as pd\n",
    "import matplotlib.pyplot as plt"
   ]
  },
  {
   "cell_type": "code",
   "execution_count": 2,
   "metadata": {
    "collapsed": true
   },
   "outputs": [],
   "source": [
    "df = pd.read_csv('cleaned.csv')"
   ]
  },
  {
   "cell_type": "code",
   "execution_count": 3,
   "metadata": {},
   "outputs": [
    {
     "data": {
      "text/html": [
       "<div>\n",
       "<style>\n",
       "    .dataframe thead tr:only-child th {\n",
       "        text-align: right;\n",
       "    }\n",
       "\n",
       "    .dataframe thead th {\n",
       "        text-align: left;\n",
       "    }\n",
       "\n",
       "    .dataframe tbody tr th {\n",
       "        vertical-align: top;\n",
       "    }\n",
       "</style>\n",
       "<table border=\"1\" class=\"dataframe\">\n",
       "  <thead>\n",
       "    <tr style=\"text-align: right;\">\n",
       "      <th></th>\n",
       "      <th>Unnamed: 0</th>\n",
       "      <th>iyear</th>\n",
       "      <th>imonth</th>\n",
       "      <th>region</th>\n",
       "      <th>crit1</th>\n",
       "      <th>crit2</th>\n",
       "      <th>crit3</th>\n",
       "      <th>success</th>\n",
       "      <th>suicide</th>\n",
       "      <th>attacktype1</th>\n",
       "      <th>...</th>\n",
       "      <th>targtype3</th>\n",
       "      <th>individual</th>\n",
       "      <th>weaptype1</th>\n",
       "      <th>weaptype2</th>\n",
       "      <th>weaptype3</th>\n",
       "      <th>weaptype4</th>\n",
       "      <th>nkill</th>\n",
       "      <th>nwound</th>\n",
       "      <th>property</th>\n",
       "      <th>propextent</th>\n",
       "    </tr>\n",
       "  </thead>\n",
       "  <tbody>\n",
       "    <tr>\n",
       "      <th>count</th>\n",
       "      <td>122376.000000</td>\n",
       "      <td>122376.000000</td>\n",
       "      <td>122376.000000</td>\n",
       "      <td>122376.000000</td>\n",
       "      <td>122376.000000</td>\n",
       "      <td>122376.000000</td>\n",
       "      <td>122376.000000</td>\n",
       "      <td>122376.000000</td>\n",
       "      <td>122376.000000</td>\n",
       "      <td>122376.000000</td>\n",
       "      <td>...</td>\n",
       "      <td>703.000000</td>\n",
       "      <td>122376.000000</td>\n",
       "      <td>122376.000000</td>\n",
       "      <td>8547.000000</td>\n",
       "      <td>1127.000000</td>\n",
       "      <td>63.000000</td>\n",
       "      <td>122376.000000</td>\n",
       "      <td>122376.000000</td>\n",
       "      <td>122376.000000</td>\n",
       "      <td>37549.000000</td>\n",
       "    </tr>\n",
       "    <tr>\n",
       "      <th>mean</th>\n",
       "      <td>61187.500000</td>\n",
       "      <td>2001.048792</td>\n",
       "      <td>6.483575</td>\n",
       "      <td>6.917876</td>\n",
       "      <td>0.986942</td>\n",
       "      <td>0.993561</td>\n",
       "      <td>0.884994</td>\n",
       "      <td>0.899114</td>\n",
       "      <td>0.030888</td>\n",
       "      <td>2.917819</td>\n",
       "      <td>...</td>\n",
       "      <td>9.853485</td>\n",
       "      <td>0.003105</td>\n",
       "      <td>5.870792</td>\n",
       "      <td>6.722008</td>\n",
       "      <td>6.815439</td>\n",
       "      <td>6.238095</td>\n",
       "      <td>2.068273</td>\n",
       "      <td>3.164714</td>\n",
       "      <td>0.629584</td>\n",
       "      <td>2.977842</td>\n",
       "    </tr>\n",
       "    <tr>\n",
       "      <th>std</th>\n",
       "      <td>35327.052608</td>\n",
       "      <td>12.858189</td>\n",
       "      <td>3.382071</td>\n",
       "      <td>2.939605</td>\n",
       "      <td>0.113524</td>\n",
       "      <td>0.079986</td>\n",
       "      <td>0.319031</td>\n",
       "      <td>0.301179</td>\n",
       "      <td>0.173016</td>\n",
       "      <td>1.512188</td>\n",
       "      <td>...</td>\n",
       "      <td>5.786553</td>\n",
       "      <td>0.055638</td>\n",
       "      <td>0.987989</td>\n",
       "      <td>2.127503</td>\n",
       "      <td>2.175189</td>\n",
       "      <td>1.455959</td>\n",
       "      <td>10.195089</td>\n",
       "      <td>38.632697</td>\n",
       "      <td>0.482918</td>\n",
       "      <td>0.148280</td>\n",
       "    </tr>\n",
       "    <tr>\n",
       "      <th>min</th>\n",
       "      <td>0.000000</td>\n",
       "      <td>1970.000000</td>\n",
       "      <td>0.000000</td>\n",
       "      <td>1.000000</td>\n",
       "      <td>0.000000</td>\n",
       "      <td>0.000000</td>\n",
       "      <td>0.000000</td>\n",
       "      <td>0.000000</td>\n",
       "      <td>0.000000</td>\n",
       "      <td>1.000000</td>\n",
       "      <td>...</td>\n",
       "      <td>1.000000</td>\n",
       "      <td>0.000000</td>\n",
       "      <td>1.000000</td>\n",
       "      <td>2.000000</td>\n",
       "      <td>2.000000</td>\n",
       "      <td>5.000000</td>\n",
       "      <td>0.000000</td>\n",
       "      <td>0.000000</td>\n",
       "      <td>0.000000</td>\n",
       "      <td>1.000000</td>\n",
       "    </tr>\n",
       "    <tr>\n",
       "      <th>25%</th>\n",
       "      <td>30593.750000</td>\n",
       "      <td>1990.000000</td>\n",
       "      <td>4.000000</td>\n",
       "      <td>5.000000</td>\n",
       "      <td>1.000000</td>\n",
       "      <td>1.000000</td>\n",
       "      <td>1.000000</td>\n",
       "      <td>1.000000</td>\n",
       "      <td>0.000000</td>\n",
       "      <td>2.000000</td>\n",
       "      <td>...</td>\n",
       "      <td>3.000000</td>\n",
       "      <td>0.000000</td>\n",
       "      <td>5.000000</td>\n",
       "      <td>5.000000</td>\n",
       "      <td>5.000000</td>\n",
       "      <td>5.000000</td>\n",
       "      <td>0.000000</td>\n",
       "      <td>0.000000</td>\n",
       "      <td>0.000000</td>\n",
       "      <td>3.000000</td>\n",
       "    </tr>\n",
       "    <tr>\n",
       "      <th>50%</th>\n",
       "      <td>61187.500000</td>\n",
       "      <td>2006.000000</td>\n",
       "      <td>7.000000</td>\n",
       "      <td>6.000000</td>\n",
       "      <td>1.000000</td>\n",
       "      <td>1.000000</td>\n",
       "      <td>1.000000</td>\n",
       "      <td>1.000000</td>\n",
       "      <td>0.000000</td>\n",
       "      <td>3.000000</td>\n",
       "      <td>...</td>\n",
       "      <td>14.000000</td>\n",
       "      <td>0.000000</td>\n",
       "      <td>6.000000</td>\n",
       "      <td>6.000000</td>\n",
       "      <td>6.000000</td>\n",
       "      <td>6.000000</td>\n",
       "      <td>0.000000</td>\n",
       "      <td>0.000000</td>\n",
       "      <td>1.000000</td>\n",
       "      <td>3.000000</td>\n",
       "    </tr>\n",
       "    <tr>\n",
       "      <th>75%</th>\n",
       "      <td>91781.250000</td>\n",
       "      <td>2013.000000</td>\n",
       "      <td>9.000000</td>\n",
       "      <td>10.000000</td>\n",
       "      <td>1.000000</td>\n",
       "      <td>1.000000</td>\n",
       "      <td>1.000000</td>\n",
       "      <td>1.000000</td>\n",
       "      <td>0.000000</td>\n",
       "      <td>3.000000</td>\n",
       "      <td>...</td>\n",
       "      <td>14.000000</td>\n",
       "      <td>0.000000</td>\n",
       "      <td>6.000000</td>\n",
       "      <td>8.000000</td>\n",
       "      <td>8.000000</td>\n",
       "      <td>6.000000</td>\n",
       "      <td>1.000000</td>\n",
       "      <td>2.000000</td>\n",
       "      <td>1.000000</td>\n",
       "      <td>3.000000</td>\n",
       "    </tr>\n",
       "    <tr>\n",
       "      <th>max</th>\n",
       "      <td>122375.000000</td>\n",
       "      <td>2016.000000</td>\n",
       "      <td>12.000000</td>\n",
       "      <td>12.000000</td>\n",
       "      <td>1.000000</td>\n",
       "      <td>1.000000</td>\n",
       "      <td>1.000000</td>\n",
       "      <td>1.000000</td>\n",
       "      <td>1.000000</td>\n",
       "      <td>8.000000</td>\n",
       "      <td>...</td>\n",
       "      <td>22.000000</td>\n",
       "      <td>1.000000</td>\n",
       "      <td>12.000000</td>\n",
       "      <td>13.000000</td>\n",
       "      <td>13.000000</td>\n",
       "      <td>12.000000</td>\n",
       "      <td>1383.000000</td>\n",
       "      <td>7366.000000</td>\n",
       "      <td>1.000000</td>\n",
       "      <td>3.000000</td>\n",
       "    </tr>\n",
       "  </tbody>\n",
       "</table>\n",
       "<p>8 rows × 24 columns</p>\n",
       "</div>"
      ],
      "text/plain": [
       "          Unnamed: 0          iyear         imonth         region  \\\n",
       "count  122376.000000  122376.000000  122376.000000  122376.000000   \n",
       "mean    61187.500000    2001.048792       6.483575       6.917876   \n",
       "std     35327.052608      12.858189       3.382071       2.939605   \n",
       "min         0.000000    1970.000000       0.000000       1.000000   \n",
       "25%     30593.750000    1990.000000       4.000000       5.000000   \n",
       "50%     61187.500000    2006.000000       7.000000       6.000000   \n",
       "75%     91781.250000    2013.000000       9.000000      10.000000   \n",
       "max    122375.000000    2016.000000      12.000000      12.000000   \n",
       "\n",
       "               crit1          crit2          crit3        success  \\\n",
       "count  122376.000000  122376.000000  122376.000000  122376.000000   \n",
       "mean        0.986942       0.993561       0.884994       0.899114   \n",
       "std         0.113524       0.079986       0.319031       0.301179   \n",
       "min         0.000000       0.000000       0.000000       0.000000   \n",
       "25%         1.000000       1.000000       1.000000       1.000000   \n",
       "50%         1.000000       1.000000       1.000000       1.000000   \n",
       "75%         1.000000       1.000000       1.000000       1.000000   \n",
       "max         1.000000       1.000000       1.000000       1.000000   \n",
       "\n",
       "             suicide    attacktype1      ...        targtype3     individual  \\\n",
       "count  122376.000000  122376.000000      ...       703.000000  122376.000000   \n",
       "mean        0.030888       2.917819      ...         9.853485       0.003105   \n",
       "std         0.173016       1.512188      ...         5.786553       0.055638   \n",
       "min         0.000000       1.000000      ...         1.000000       0.000000   \n",
       "25%         0.000000       2.000000      ...         3.000000       0.000000   \n",
       "50%         0.000000       3.000000      ...        14.000000       0.000000   \n",
       "75%         0.000000       3.000000      ...        14.000000       0.000000   \n",
       "max         1.000000       8.000000      ...        22.000000       1.000000   \n",
       "\n",
       "           weaptype1    weaptype2    weaptype3  weaptype4          nkill  \\\n",
       "count  122376.000000  8547.000000  1127.000000  63.000000  122376.000000   \n",
       "mean        5.870792     6.722008     6.815439   6.238095       2.068273   \n",
       "std         0.987989     2.127503     2.175189   1.455959      10.195089   \n",
       "min         1.000000     2.000000     2.000000   5.000000       0.000000   \n",
       "25%         5.000000     5.000000     5.000000   5.000000       0.000000   \n",
       "50%         6.000000     6.000000     6.000000   6.000000       0.000000   \n",
       "75%         6.000000     8.000000     8.000000   6.000000       1.000000   \n",
       "max        12.000000    13.000000    13.000000  12.000000    1383.000000   \n",
       "\n",
       "              nwound       property    propextent  \n",
       "count  122376.000000  122376.000000  37549.000000  \n",
       "mean        3.164714       0.629584      2.977842  \n",
       "std        38.632697       0.482918      0.148280  \n",
       "min         0.000000       0.000000      1.000000  \n",
       "25%         0.000000       0.000000      3.000000  \n",
       "50%         0.000000       1.000000      3.000000  \n",
       "75%         2.000000       1.000000      3.000000  \n",
       "max      7366.000000       1.000000      3.000000  \n",
       "\n",
       "[8 rows x 24 columns]"
      ]
     },
     "execution_count": 3,
     "metadata": {},
     "output_type": "execute_result"
    }
   ],
   "source": [
    "df.describe()"
   ]
  },
  {
   "cell_type": "code",
   "execution_count": 4,
   "metadata": {
    "collapsed": true
   },
   "outputs": [],
   "source": [
    "def ecdf(data):\n",
    "    \"\"\"Compute ECDF for a one-dimensional array of measurements.\"\"\"\n",
    "\n",
    "    # Number of data points: n\n",
    "    n = len(data)\n",
    "\n",
    "    # x-data for the ECDF: x\n",
    "    x = np.sort(data)\n",
    "\n",
    "    # y-data for the ECDF: y\n",
    "    y = np.arange(1, n+1) / n\n",
    "\n",
    "    return x, y"
   ]
  },
  {
   "cell_type": "code",
   "execution_count": 5,
   "metadata": {},
   "outputs": [
    {
     "data": {
      "image/png": "[encoded data removed]",
      "text/plain": [
       "<matplotlib.figure.Figure at 0x296e17b6358>"
      ]
     },
     "metadata": {},
     "output_type": "display_data"
    }
   ],
   "source": [
    "x, y = ecdf(df['nkill'])\n",
    "\n",
    "_ = plt.plot(x,y, linestyle = 'none', marker = '.')\n",
    "_ = plt.xlabel('Number killed in terrorist attack')\n",
    "_ = plt.ylabel('Empirical cumulative distribution function')\n",
    "plt.show()"
   ]
  },
  {
   "cell_type": "code",
   "execution_count": 6,
   "metadata": {},
   "outputs": [
    {
     "data": {
      "text/plain": [
       "0         1\n",
       "1         0\n",
       "2         1\n",
       "3         1\n",
       "4         1\n",
       "5         0\n",
       "6         1\n",
       "7         1\n",
       "8         1\n",
       "9         1\n",
       "10        1\n",
       "11        1\n",
       "12        1\n",
       "13        1\n",
       "14        1\n",
       "15        0\n",
       "16        1\n",
       "17        1\n",
       "18        1\n",
       "19        1\n",
       "20        1\n",
       "21        1\n",
       "22        1\n",
       "23        1\n",
       "24        1\n",
       "25        1\n",
       "26        1\n",
       "27        1\n",
       "28        1\n",
       "29        1\n",
       "         ..\n",
       "122346    0\n",
       "122347    1\n",
       "122348    1\n",
       "122349    1\n",
       "122350    0\n",
       "122351    1\n",
       "122352    1\n",
       "122353    0\n",
       "122354    0\n",
       "122355    1\n",
       "122356    1\n",
       "122357    1\n",
       "122358    1\n",
       "122359    0\n",
       "122360    1\n",
       "122361    1\n",
       "122362    1\n",
       "122363    1\n",
       "122364    1\n",
       "122365    0\n",
       "122366    1\n",
       "122367    1\n",
       "122368    1\n",
       "122369    1\n",
       "122370    1\n",
       "122371    1\n",
       "122372    1\n",
       "122373    1\n",
       "122374    0\n",
       "122375    0\n",
       "Name: success, Length: 122376, dtype: int64"
      ]
     },
     "execution_count": 6,
     "metadata": {},
     "output_type": "execute_result"
    }
   ],
   "source": [
    "df['success']\n",
    "\n",
    "#df['success'].plot(kind='bar') \n",
    "#this doesn't work"
   ]
  },
  {
   "cell_type": "code",
   "execution_count": 31,
   "metadata": {
    "collapsed": true
   },
   "outputs": [],
   "source": [
    "region_dict = {1: 'North America', 2: 'Central America', 3: 'South America', 4: 'East Asia', 5: 'SE Asia', 6: 'South Asia', \n",
    "7: 'Central Asia', 8: 'West Europe',9: 'East Europe',10: 'ME and North Africa', \n",
    "11: 'Sub-Saharan Africa', 12: 'Oceania'}\n",
    "\n",
    "df['region_name'] = df['region'].replace(region_dict)"
   ]
  },
  {
   "cell_type": "code",
   "execution_count": 32,
   "metadata": {},
   "outputs": [],
   "source": [
    "region_success_counts = df.groupby(['region_name'])['success'].sum()\n",
    "\n",
    "region_counts = df.groupby(['region_name'])['success'].count()"
   ]
  },
  {
   "cell_type": "code",
   "execution_count": 33,
   "metadata": {},
   "outputs": [
    {
     "name": "stdout",
     "output_type": "stream",
     "text": [
      "region_name\n",
      "Central America         7024\n",
      "Central Asia             460\n",
      "East Asia                668\n",
      "East Europe             3496\n",
      "ME and North Africa    30959\n",
      "North America           2988\n",
      "Oceania                  223\n",
      "SE Asia                 8978\n",
      "South America          14745\n",
      "South Asia             30567\n",
      "Sub-Saharan Africa      9751\n",
      "West Europe            12517\n",
      "Name: success, dtype: int64\n",
      "region_name\n",
      "Central America         6732\n",
      "Central Asia             412\n",
      "East Asia                555\n",
      "East Europe             2958\n",
      "ME and North Africa    27804\n",
      "North America           2459\n",
      "Oceania                  198\n",
      "SE Asia                 8096\n",
      "South America          13640\n",
      "South Asia             27580\n",
      "Sub-Saharan Africa      9086\n",
      "West Europe            10510\n",
      "Name: success, dtype: int64\n"
     ]
    }
   ],
   "source": [
    "print(region_counts)\n",
    "print(region_success_counts)"
   ]
  },
  {
   "cell_type": "code",
   "execution_count": 34,
   "metadata": {},
   "outputs": [
    {
     "name": "stdout",
     "output_type": "stream",
     "text": [
      "region_name\n",
      "Central America        0.958428\n",
      "Central Asia           0.895652\n",
      "East Asia              0.830838\n",
      "East Europe            0.846110\n",
      "ME and North Africa    0.898091\n",
      "North America          0.822959\n",
      "Oceania                0.887892\n",
      "SE Asia                0.901760\n",
      "South America          0.925059\n",
      "South Asia             0.902280\n",
      "Sub-Saharan Africa     0.931802\n",
      "West Europe            0.839658\n",
      "Name: success, dtype: float64\n"
     ]
    }
   ],
   "source": [
    "region_success_ratio = region_success_counts.divide(region_counts)\n",
    "\n",
    "print(region_success_ratio)"
   ]
  },
  {
   "cell_type": "code",
   "execution_count": 45,
   "metadata": {},
   "outputs": [
    {
     "data": {
      "image/png": "[encoded data removed]",
      "text/plain": [
       "<matplotlib.figure.Figure at 0x296e0bd3160>"
      ]
     },
     "metadata": {},
     "output_type": "display_data"
    }
   ],
   "source": [
    "_ = region_success_ratio.plot(kind='bar', rot = 70)\n",
    "_ = plt.xlabel('Region')\n",
    "_ = plt.ylabel('Attack Success Rate')\n",
    "plt.margins(0.04)\n",
    "plt.show()"
   ]
  },
  {
   "cell_type": "code",
   "execution_count": 15,
   "metadata": {},
   "outputs": [],
   "source": [
    "df['fatal'] = df['nkill'] > 0\n",
    "\n",
    "#df['nkill'] > 0"
   ]
  },
  {
   "cell_type": "code",
   "execution_count": 19,
   "metadata": {},
   "outputs": [
    {
     "data": {
      "text/plain": [
       "0         False\n",
       "1         False\n",
       "2         False\n",
       "3         False\n",
       "4         False\n",
       "5         False\n",
       "6         False\n",
       "7         False\n",
       "8         False\n",
       "9         False\n",
       "10        False\n",
       "11        False\n",
       "12        False\n",
       "13        False\n",
       "14        False\n",
       "15        False\n",
       "16        False\n",
       "17        False\n",
       "18        False\n",
       "19        False\n",
       "20        False\n",
       "21        False\n",
       "22        False\n",
       "23        False\n",
       "24        False\n",
       "25        False\n",
       "26        False\n",
       "27        False\n",
       "28        False\n",
       "29        False\n",
       "          ...  \n",
       "122346    False\n",
       "122347    False\n",
       "122348     True\n",
       "122349     True\n",
       "122350    False\n",
       "122351     True\n",
       "122352    False\n",
       "122353    False\n",
       "122354    False\n",
       "122355     True\n",
       "122356    False\n",
       "122357     True\n",
       "122358    False\n",
       "122359    False\n",
       "122360     True\n",
       "122361    False\n",
       "122362     True\n",
       "122363    False\n",
       "122364     True\n",
       "122365    False\n",
       "122366    False\n",
       "122367     True\n",
       "122368     True\n",
       "122369     True\n",
       "122370     True\n",
       "122371     True\n",
       "122372     True\n",
       "122373     True\n",
       "122374    False\n",
       "122375    False\n",
       "Name: fatal, Length: 122376, dtype: bool"
      ]
     },
     "execution_count": 19,
     "metadata": {},
     "output_type": "execute_result"
    }
   ],
   "source": [
    "df['fatal']"
   ]
  },
  {
   "cell_type": "code",
   "execution_count": 46,
   "metadata": {},
   "outputs": [
    {
     "name": "stdout",
     "output_type": "stream",
     "text": [
      "region_name\n",
      "Central America         3166.0\n",
      "Central Asia             235.0\n",
      "East Asia                121.0\n",
      "East Europe             1175.0\n",
      "ME and North Africa    17168.0\n",
      "North America            439.0\n",
      "Oceania                   45.0\n",
      "SE Asia                 4051.0\n",
      "South America           5126.0\n",
      "South Asia             16276.0\n",
      "Sub-Saharan Africa      5690.0\n",
      "West Europe             1950.0\n",
      "Name: fatal, dtype: float64\n"
     ]
    }
   ],
   "source": [
    "region_fatal_counts = df.groupby(['region_name'])['fatal'].sum()\n",
    "\n",
    "print(region_fatal_counts)"
   ]
  },
  {
   "cell_type": "code",
   "execution_count": 51,
   "metadata": {},
   "outputs": [
    {
     "name": "stdout",
     "output_type": "stream",
     "text": [
      "region_name\n",
      "Central America        0.450740\n",
      "Central Asia           0.510870\n",
      "East Asia              0.181138\n",
      "East Europe            0.336098\n",
      "ME and North Africa    0.554540\n",
      "North America          0.146921\n",
      "Oceania                0.201794\n",
      "SE Asia                0.451214\n",
      "South America          0.347643\n",
      "South Asia             0.532470\n",
      "Sub-Saharan Africa     0.583530\n",
      "West Europe            0.155788\n",
      "dtype: float64\n"
     ]
    }
   ],
   "source": [
    "region_fatal_ratio = region_fatal_counts.divide(region_counts)\n",
    "\n",
    "print(region_fatal_ratio)"
   ]
  },
  {
   "cell_type": "code",
   "execution_count": 49,
   "metadata": {},
   "outputs": [
    {
     "data": {
      "image/png": "[encoded data removed]",
      "text/plain": [
       "<matplotlib.figure.Figure at 0x296e173c240>"
      ]
     },
     "metadata": {},
     "output_type": "display_data"
    }
   ],
   "source": [
    "_ = region_fatal_ratio.plot(kind='bar', rot = 75)\n",
    "_ = plt.xlabel('Region')\n",
    "_ = plt.ylabel('Attack Fatality Rate')\n",
    "plt.show()"
   ]
  },
  {
   "cell_type": "code",
   "execution_count": 53,
   "metadata": {},
   "outputs": [
    {
     "name": "stdout",
     "output_type": "stream",
     "text": [
      "region_name\n",
      "North America          0.146921\n",
      "West Europe            0.155788\n",
      "East Asia              0.181138\n",
      "Oceania                0.201794\n",
      "East Europe            0.336098\n",
      "South America          0.347643\n",
      "Central America        0.450740\n",
      "SE Asia                0.451214\n",
      "Central Asia           0.510870\n",
      "South Asia             0.532470\n",
      "ME and North Africa    0.554540\n",
      "Sub-Saharan Africa     0.583530\n",
      "dtype: float64\n"
     ]
    }
   ],
   "source": [
    "region_fatal_ratio = region_fatal_ratio.sort_values()\n",
    "\n",
    "print(region_fatal_ratio)"
   ]
  },
  {
   "cell_type": "code",
   "execution_count": 54,
   "metadata": {},
   "outputs": [
    {
     "data": {
      "image/png": "[encoded data removed]",
      "text/plain": [
       "<matplotlib.figure.Figure at 0x296e07b0cf8>"
      ]
     },
     "metadata": {},
     "output_type": "display_data"
    }
   ],
   "source": [
    "_ = region_fatal_ratio.plot(kind='bar', rot = 75)\n",
    "_ = plt.xlabel('Region')\n",
    "_ = plt.ylabel('Attack Fatality Rate')\n",
    "plt.show()"
   ]
  },
  {
   "cell_type": "code",
   "execution_count": null,
   "metadata": {
    "collapsed": true
   },
   "outputs": [],
   "source": []
  }
 ],
 "metadata": {
  "kernelspec": {
   "display_name": "Python 3",
   "language": "python",
   "name": "python3"
  },
  "language_info": {
   "codemirror_mode": {
    "name": "ipython",
    "version": 3
   },
   "file_extension": ".py",
   "mimetype": "text/x-python",
   "name": "python",
   "nbconvert_exporter": "python",
   "pygments_lexer": "ipython3",
   "version": "3.6.3"
  }
 },
 "nbformat": 4,
 "nbformat_minor": 2
}
